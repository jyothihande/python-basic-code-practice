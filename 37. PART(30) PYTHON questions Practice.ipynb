{
 "cells": [
  {
   "cell_type": "markdown",
   "id": "62c5d83a",
   "metadata": {},
   "source": [
    "# PYTHON INTERVIEW QUESTION PRACTICE :"
   ]
  },
  {
   "cell_type": "markdown",
   "id": "2853a86b",
   "metadata": {},
   "source": [
    "# Q1.Write python function which takes a variable number of arguments."
   ]
  },
  {
   "cell_type": "code",
   "execution_count": 1,
   "id": "9fa3a8f1",
   "metadata": {},
   "outputs": [
    {
     "name": "stdout",
     "output_type": "stream",
     "text": [
      "1\n"
     ]
    }
   ],
   "source": [
    "def func(*var):\n",
    "    for i in var:\n",
    "        print(i)\n",
    "func(1)"
   ]
  },
  {
   "cell_type": "code",
   "execution_count": 2,
   "id": "d5b7b44b",
   "metadata": {},
   "outputs": [
    {
     "name": "stdout",
     "output_type": "stream",
     "text": [
      "20\n",
      "1\n",
      "6\n"
     ]
    }
   ],
   "source": [
    "func(20,1,6)"
   ]
  },
  {
   "cell_type": "code",
   "execution_count": 3,
   "id": "a78f496c",
   "metadata": {},
   "outputs": [],
   "source": [
    "def var(*a):\n",
    "    return(a)"
   ]
  },
  {
   "cell_type": "code",
   "execution_count": 4,
   "id": "46368881",
   "metadata": {},
   "outputs": [
    {
     "data": {
      "text/plain": [
       "(8, 2.4, 10)"
      ]
     },
     "execution_count": 4,
     "metadata": {},
     "output_type": "execute_result"
    }
   ],
   "source": [
    "var(8,2.4,10)"
   ]
  },
  {
   "cell_type": "markdown",
   "id": "f24798fa",
   "metadata": {},
   "source": [
    "# Q2.WAP (Write a program) which takes a sequence of numbers and check if all numbers are unique."
   ]
  },
  {
   "cell_type": "code",
   "execution_count": 25,
   "id": "8a93f661",
   "metadata": {},
   "outputs": [
    {
     "data": {
      "text/plain": [
       "[1, 2, 3, 4, 5, 6, 7]"
      ]
     },
     "execution_count": 25,
     "metadata": {},
     "output_type": "execute_result"
    }
   ],
   "source": [
    "data_list=[1,2,3,4,5,6,7,1,2,3] \n",
    "set(data_list)  #converting list to set\n",
    "list(set(data_list))  # list of all unique elements"
   ]
  },
  {
   "cell_type": "code",
   "execution_count": 12,
   "id": "f03a3a2a",
   "metadata": {},
   "outputs": [
    {
     "name": "stdout",
     "output_type": "stream",
     "text": [
      "True\n",
      "False\n"
     ]
    }
   ],
   "source": [
    "def check_distinct(data_list):\n",
    "    if len(data_list) == len(set(data_list)):\n",
    "        return True\n",
    "    else:\n",
    "        return False;\n",
    "print(check_distinct([1,6,5,8]))     #Prints True\n",
    "print(check_distinct([2,2,5,5,7,8])) #Print false"
   ]
  },
  {
   "cell_type": "code",
   "execution_count": 15,
   "id": "d1d9c69a",
   "metadata": {},
   "outputs": [
    {
     "data": {
      "text/plain": [
       "[1, 1, 2, 2, 3, 3, 4, 5, 6, 7]"
      ]
     },
     "execution_count": 15,
     "metadata": {},
     "output_type": "execute_result"
    }
   ],
   "source": [
    "data_list=[1,2,3,4,5,6,7,1,2,3] \n",
    "sorted(data_list)"
   ]
  },
  {
   "cell_type": "markdown",
   "id": "7824f321",
   "metadata": {},
   "source": [
    "# Q3.Python code Shift last element to first position in list."
   ]
  },
  {
   "cell_type": "code",
   "execution_count": 16,
   "id": "efbb72ae",
   "metadata": {},
   "outputs": [
    {
     "name": "stdout",
     "output_type": "stream",
     "text": [
      "The original list is :  [1, 4, 5, 6, 7, 8, 9, 12]\n",
      "The list after shift is : [12, 1, 4, 5, 6, 7, 8, 9]\n"
     ]
    }
   ],
   "source": [
    "test_list = [1, 4, 5, 6, 7, 8, 9, 12]\n",
    "print (\"The original list is : \",test_list)\n",
    "test_list = test_list[-1:] + test_list[:-1]\n",
    "print (\"The list after shift is : \" + str(test_list))"
   ]
  },
  {
   "cell_type": "code",
   "execution_count": null,
   "id": "8328e620",
   "metadata": {},
   "outputs": [],
   "source": []
  }
 ],
 "metadata": {
  "kernelspec": {
   "display_name": "Python 3 (ipykernel)",
   "language": "python",
   "name": "python3"
  },
  "language_info": {
   "codemirror_mode": {
    "name": "ipython",
    "version": 3
   },
   "file_extension": ".py",
   "mimetype": "text/x-python",
   "name": "python",
   "nbconvert_exporter": "python",
   "pygments_lexer": "ipython3",
   "version": "3.9.12"
  }
 },
 "nbformat": 4,
 "nbformat_minor": 5
}
