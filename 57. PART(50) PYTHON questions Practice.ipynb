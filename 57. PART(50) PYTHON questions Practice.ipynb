{
 "cells": [
  {
   "cell_type": "markdown",
   "id": "992c2618",
   "metadata": {},
   "source": [
    "# Q1.Python Program to Find the Smallest Divisor of an Integer."
   ]
  },
  {
   "cell_type": "code",
   "execution_count": null,
   "id": "4d0b170e",
   "metadata": {},
   "outputs": [],
   "source": [
    "example:\n",
    "Enter an integer:64\n",
    "Smallest divisor is: 2"
   ]
  },
  {
   "cell_type": "code",
   "execution_count": 1,
   "id": "03781a4f",
   "metadata": {},
   "outputs": [
    {
     "name": "stdout",
     "output_type": "stream",
     "text": [
      "Enter an integer:55\n",
      "Smallest divisor is: 5\n"
     ]
    }
   ],
   "source": [
    "n=int(input(\"Enter an integer:\"))\n",
    "a=[]\n",
    "for i in range(2,n+1):\n",
    "    if(n%i==0):\n",
    "        a.append(i)\n",
    "a.sort()\n",
    "print(\"Smallest divisor is:\",a[0])"
   ]
  },
  {
   "cell_type": "markdown",
   "id": "1f030d5c",
   "metadata": {},
   "source": [
    "# Q2.Python Program to Print All Integers that Aren’t Divisible by Either 2 or 3."
   ]
  },
  {
   "cell_type": "code",
   "execution_count": 20,
   "id": "148f4925",
   "metadata": {},
   "outputs": [
    {
     "name": "stdout",
     "output_type": "stream",
     "text": [
      "1 5 7 11 13 17 19 23 25 29 31 35 37 41 43 47 49 "
     ]
    }
   ],
   "source": [
    "for i in range(0,51):\n",
    "    if (i%2!=0) & (i%3!=0):\n",
    "        print(i,end=\" \")"
   ]
  },
  {
   "cell_type": "markdown",
   "id": "749b0d95",
   "metadata": {},
   "source": [
    "# Q3.Python Program to Print All Odd Numbers in a Range."
   ]
  },
  {
   "cell_type": "code",
   "execution_count": 35,
   "id": "1be8cba9",
   "metadata": {},
   "outputs": [
    {
     "name": "stdout",
     "output_type": "stream",
     "text": [
      "Enter the lower limit for the range:100\n",
      "Enter the upper limit for the range:150\n",
      "101 103 105 107 109 111 113 115 117 119 121 123 125 127 129 131 133 135 137 139 141 143 145 147 149 "
     ]
    }
   ],
   "source": [
    "lower=int(input(\"Enter the lower limit for the range:\"))\n",
    "upper=int(input(\"Enter the upper limit for the range:\"))\n",
    "for i in range(lower,upper+1):\n",
    "    if(i%2!=0):\n",
    "        print(i,end=\" \")"
   ]
  },
  {
   "cell_type": "markdown",
   "id": "bbfae146",
   "metadata": {},
   "source": [
    "# Q4.Sum of Digits Program in Python."
   ]
  },
  {
   "cell_type": "code",
   "execution_count": 37,
   "id": "f04db482",
   "metadata": {},
   "outputs": [
    {
     "name": "stdout",
     "output_type": "stream",
     "text": [
      "Enter a number:12345\n",
      "The total sum of digits is: 15\n"
     ]
    }
   ],
   "source": [
    "n=int(input(\"Enter a number:\"))\n",
    "tot=0\n",
    "while(n>0):\n",
    "    dig=n%10\n",
    "    tot=tot+dig\n",
    "    n=n//10\n",
    "print(\"The total sum of digits is:\",tot)"
   ]
  },
  {
   "cell_type": "code",
   "execution_count": null,
   "id": "9641ec5b",
   "metadata": {},
   "outputs": [],
   "source": []
  }
 ],
 "metadata": {
  "kernelspec": {
   "display_name": "Python 3 (ipykernel)",
   "language": "python",
   "name": "python3"
  },
  "language_info": {
   "codemirror_mode": {
    "name": "ipython",
    "version": 3
   },
   "file_extension": ".py",
   "mimetype": "text/x-python",
   "name": "python",
   "nbconvert_exporter": "python",
   "pygments_lexer": "ipython3",
   "version": "3.9.12"
  }
 },
 "nbformat": 4,
 "nbformat_minor": 5
}
