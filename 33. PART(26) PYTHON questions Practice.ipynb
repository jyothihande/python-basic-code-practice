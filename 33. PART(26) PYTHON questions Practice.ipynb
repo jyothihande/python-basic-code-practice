{
 "cells": [
  {
   "cell_type": "markdown",
   "id": "884cf5df",
   "metadata": {},
   "source": [
    "# Q1.Python program to check whether the string is Symmetrical or Palindrome."
   ]
  },
  {
   "cell_type": "code",
   "execution_count": null,
   "id": "da009525",
   "metadata": {},
   "outputs": [],
   "source": [
    "Input: khokho\n",
    "Output: \n",
    "The entered string is symmetrical\n",
    "The entered string is not palindrome\n",
    "\n",
    "Input:amaama\n",
    "Output:\n",
    "The entered string is symmetrical\n",
    "The entered string is palindrome"
   ]
  },
  {
   "cell_type": "code",
   "execution_count": 1,
   "id": "71342bd5",
   "metadata": {},
   "outputs": [
    {
     "name": "stdout",
     "output_type": "stream",
     "text": [
      "amaama string is symmetrical\n",
      "amaama string is palindrome\n"
     ]
    }
   ],
   "source": [
    "string = 'amaama'\n",
    "half = int(len(string) / 2)\n",
    "\n",
    "\n",
    "first_str = string[:half]\n",
    "second_str = string[half:]\n",
    "\n",
    "\n",
    "# symmetric\n",
    "if first_str == second_str:\n",
    "    print(string, 'string is symmetrical')\n",
    "else:\n",
    "    print(string, 'string is not symmetrical')\n",
    "\n",
    "# palindrome\n",
    "if first_str == second_str[::-1]: # ''.join(reversed(second_str)) [slower]\n",
    "    print(string, 'string is palindrome')\n",
    "else:\n",
    "    print(string, 'string is not palindrome')\n"
   ]
  },
  {
   "cell_type": "markdown",
   "id": "79c8fe1f",
   "metadata": {},
   "source": [
    "# Q2.Python Program to Check if a String is Palindrome or Not."
   ]
  },
  {
   "cell_type": "code",
   "execution_count": 2,
   "id": "bc3200e1",
   "metadata": {},
   "outputs": [
    {
     "name": "stdout",
     "output_type": "stream",
     "text": [
      "Yes\n"
     ]
    }
   ],
   "source": [
    "# function which return reverse of a string\n",
    "\n",
    "def isPalindrome(s):\n",
    "    return s == s[::-1]\n",
    "\n",
    "\n",
    "# Driver code\n",
    "s = \"malayalam\"\n",
    "ans = isPalindrome(s)\n",
    "\n",
    "if ans:\n",
    "    print(\"Yes\")\n",
    "else:\n",
    "    print(\"No\")\n"
   ]
  },
  {
   "cell_type": "code",
   "execution_count": 3,
   "id": "e0da5e1f",
   "metadata": {},
   "outputs": [
    {
     "name": "stdout",
     "output_type": "stream",
     "text": [
      "Yes\n"
     ]
    }
   ],
   "source": [
    "# Python program to check\n",
    "# if a string is palindrome\n",
    "# or not\n",
    "\n",
    "x = \"malayalam\"\n",
    "\n",
    "w = \"\"\n",
    "for i in x:\n",
    "    w = i + w\n",
    "\n",
    "if (x == w):\n",
    "    print(\"Yes\")\n",
    "else:\n",
    "    print(\"No\")\n"
   ]
  },
  {
   "cell_type": "markdown",
   "id": "24b2fde8",
   "metadata": {},
   "source": [
    "# Q3.Remove all duplicates from a given string in Python."
   ]
  },
  {
   "cell_type": "code",
   "execution_count": null,
   "id": "c70005ef",
   "metadata": {},
   "outputs": [],
   "source": [
    "Input : hello coders\n",
    "Output : helocdrs"
   ]
  },
  {
   "cell_type": "code",
   "execution_count": 15,
   "id": "ba721e29",
   "metadata": {},
   "outputs": [
    {
     "name": "stdout",
     "output_type": "stream",
     "text": [
      "taceDnSi\n"
     ]
    }
   ],
   "source": [
    "def MyFunction(str):\n",
    "    MySet=set(str)\n",
    "    NewString = \"\".join(MySet)\n",
    "    return NewString\n",
    "\n",
    "MyString = \"DataScience\"\n",
    "print(MyFunction(MyString))"
   ]
  },
  {
   "cell_type": "code",
   "execution_count": null,
   "id": "9a118f07",
   "metadata": {},
   "outputs": [],
   "source": []
  }
 ],
 "metadata": {
  "kernelspec": {
   "display_name": "Python 3 (ipykernel)",
   "language": "python",
   "name": "python3"
  },
  "language_info": {
   "codemirror_mode": {
    "name": "ipython",
    "version": 3
   },
   "file_extension": ".py",
   "mimetype": "text/x-python",
   "name": "python",
   "nbconvert_exporter": "python",
   "pygments_lexer": "ipython3",
   "version": "3.9.12"
  }
 },
 "nbformat": 4,
 "nbformat_minor": 5
}
