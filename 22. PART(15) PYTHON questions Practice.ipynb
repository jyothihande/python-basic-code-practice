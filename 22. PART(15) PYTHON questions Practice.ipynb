{
 "cells": [
  {
   "cell_type": "markdown",
   "id": "4a62e38c",
   "metadata": {},
   "source": [
    "# Q1. Python Program to Check Alphabet or Not."
   ]
  },
  {
   "cell_type": "code",
   "execution_count": 1,
   "id": "4752b29e",
   "metadata": {},
   "outputs": [
    {
     "name": "stdout",
     "output_type": "stream",
     "text": [
      "Enter a character : k\n",
      "k is a Alphabet\n"
     ]
    }
   ],
   "source": [
    "char=input(\"Enter a character : \")\n",
    "if len(char)==1 or char.isalpha() == True:\n",
    "    print(char,\"is a Alphabet\")\n",
    "else:\n",
    "    print(char,\"is not Alphabhet\")   "
   ]
  },
  {
   "cell_type": "markdown",
   "id": "529765a6",
   "metadata": {},
   "source": [
    "# Q2.Python Program to Check Vowel or Consonant."
   ]
  },
  {
   "cell_type": "code",
   "execution_count": 2,
   "id": "fef77528",
   "metadata": {},
   "outputs": [
    {
     "name": "stdout",
     "output_type": "stream",
     "text": [
      "Enter the Character: i\n",
      "\n",
      "It is a Vowel\n"
     ]
    }
   ],
   "source": [
    "c = input(\"Enter the Character: \")\n",
    "if len(c)==1 and (c=='a' or c=='e' or c=='i' or c=='o' or c=='u'):\n",
    "    print(\"\\nIt is a Vowel\")\n",
    "elif c=='A' or c=='E' or c=='I' or c=='O' or c=='U':\n",
    "    print(\"\\nIt is a Vowel\")\n",
    "else:\n",
    "    print(\"\\nIt is a Consonant\")"
   ]
  },
  {
   "cell_type": "markdown",
   "id": "7c538983",
   "metadata": {},
   "source": [
    "# Q3.Python Program to Check Vowel or Consonant in a string."
   ]
  },
  {
   "cell_type": "code",
   "execution_count": 3,
   "id": "1c4205ae",
   "metadata": {},
   "outputs": [
    {
     "name": "stdout",
     "output_type": "stream",
     "text": [
      "Enter a string : HELLO coders\n",
      "['E', 'O', 'o', 'e'] LIST of all vowels\n",
      "['H', 'L', 'L', ' ', 'c', 'd', 'r', 's'] LIST of all consonants\n"
     ]
    }
   ],
   "source": [
    "string=input(\"Enter a string : \")\n",
    "list1=[]\n",
    "list2=[]\n",
    "for i in string:\n",
    "    if i=='a' or i=='e' or i=='i' or i=='o' or i=='u':\n",
    "        #print(i,\" is a Vowel\")\n",
    "        list1.append(i)\n",
    "    elif i=='A' or i=='E' or i=='I' or i=='O' or i=='U':\n",
    "        #print(i,\"is a Vowel\")\n",
    "        list1.append(i)\n",
    "    else:\n",
    "        list2.append(i)\n",
    "        #print(i,\" is a Consonant\")\n",
    "print(list1,\"LIST of all vowels\")\n",
    "print(list2,\"LIST of all consonants\")"
   ]
  },
  {
   "cell_type": "markdown",
   "id": "997bb3dd",
   "metadata": {},
   "source": [
    "# Q4.Python Program to Check Palindrome Number."
   ]
  },
  {
   "cell_type": "code",
   "execution_count": 4,
   "id": "cf763f65",
   "metadata": {},
   "outputs": [
    {
     "name": "stdout",
     "output_type": "stream",
     "text": [
      "Enter a number:1221\n",
      "Yes its a palindrome\n"
     ]
    }
   ],
   "source": [
    "num = input(\"Enter a number:\")\n",
    "if num == num[::-1]:\n",
    "    print(\"Yes its a palindrome\")\n",
    "else:\n",
    "    print(\"No, its not a palindrome\")\n"
   ]
  },
  {
   "cell_type": "code",
   "execution_count": 5,
   "id": "41bd6053",
   "metadata": {},
   "outputs": [
    {
     "name": "stdout",
     "output_type": "stream",
     "text": [
      "Enter a string:MADAM\n",
      "Yes its a palindrome\n"
     ]
    }
   ],
   "source": [
    "string = input(\"Enter a string:\")\n",
    "if string == string[::-1]:\n",
    "    print(\"Yes its a palindrome\")\n",
    "else:\n",
    "    print(\"No, its not a palindrome\")\n"
   ]
  },
  {
   "cell_type": "code",
   "execution_count": 6,
   "id": "d8130de4",
   "metadata": {},
   "outputs": [
    {
     "name": "stdout",
     "output_type": "stream",
     "text": [
      "Enter a string:2451\n",
      "No, its not a palindrome\n"
     ]
    }
   ],
   "source": [
    "string = input(\"Enter a string:\")\n",
    "if string == string[::-1]:\n",
    "    print(\"Yes its a palindrome\")\n",
    "else:\n",
    "    print(\"No, its not a palindrome\")"
   ]
  },
  {
   "cell_type": "markdown",
   "id": "ba792c41",
   "metadata": {},
   "source": [
    "# CODE USING FUNCTION:"
   ]
  },
  {
   "cell_type": "code",
   "execution_count": 7,
   "id": "43e2a797",
   "metadata": {},
   "outputs": [
    {
     "name": "stdout",
     "output_type": "stream",
     "text": [
      "Yes its a palindrome\n"
     ]
    }
   ],
   "source": [
    "def is_palindrome(string):\n",
    "    if string == string[::-1]:\n",
    "        print(\"Yes its a palindrome\")\n",
    "    else:\n",
    "        print(\"No, its not a palindrome\")\n",
    "is_palindrome(\"MADAM\")    "
   ]
  },
  {
   "cell_type": "code",
   "execution_count": 8,
   "id": "9e851997",
   "metadata": {},
   "outputs": [
    {
     "name": "stdout",
     "output_type": "stream",
     "text": [
      "Yes its a palindrome\n"
     ]
    }
   ],
   "source": [
    "is_palindrome(\"1221\")"
   ]
  },
  {
   "cell_type": "markdown",
   "id": "f05fe242",
   "metadata": {},
   "source": [
    "# Q5.Python Program to Check Perfect Number."
   ]
  },
  {
   "cell_type": "code",
   "execution_count": null,
   "id": "ed65247b",
   "metadata": {},
   "outputs": [],
   "source": [
    "What is a Perfect Number ?\n",
    "A perfect number is a number that is equal to the sum of its positive divisors, \n",
    "excluding the number itself. \n",
    "That is, the number 6 has divisors 1, 2, and 3 (excluding 6 itself). \n",
    "And 1+2+3 is equal to 6. Therefore 6 is a perfect number."
   ]
  },
  {
   "cell_type": "code",
   "execution_count": 9,
   "id": "f6167682",
   "metadata": {},
   "outputs": [
    {
     "name": "stdout",
     "output_type": "stream",
     "text": [
      "Enter the Number:6\n",
      "It is a Perfect Number\n"
     ]
    }
   ],
   "source": [
    "num = int(input(\"Enter the Number:\"))\n",
    "add = 0\n",
    "for i in range(1, num):\n",
    "    if num%i==0:\n",
    "        add=add+i\n",
    "if num==add:\n",
    "    print(\"It is a Perfect Number\")\n",
    "else:\n",
    "    print(\"It is not a Perfect Number\")"
   ]
  },
  {
   "cell_type": "code",
   "execution_count": 10,
   "id": "7927c353",
   "metadata": {},
   "outputs": [
    {
     "name": "stdout",
     "output_type": "stream",
     "text": [
      "The number is not a Perfect number\n"
     ]
    }
   ],
   "source": [
    "n = 20\n",
    "sum = 0\n",
    "\n",
    "for i in range(1, n):\n",
    "    if n % i == 0:\n",
    "        sum = sum + i\n",
    "\n",
    "if sum == n:\n",
    "    print(\"The number is a Perfect number\")\n",
    "else:\n",
    "    print(\"The number is not a Perfect number\")"
   ]
  },
  {
   "cell_type": "code",
   "execution_count": null,
   "id": "b58f0d0e",
   "metadata": {},
   "outputs": [],
   "source": []
  }
 ],
 "metadata": {
  "kernelspec": {
   "display_name": "Python 3 (ipykernel)",
   "language": "python",
   "name": "python3"
  },
  "language_info": {
   "codemirror_mode": {
    "name": "ipython",
    "version": 3
   },
   "file_extension": ".py",
   "mimetype": "text/x-python",
   "name": "python",
   "nbconvert_exporter": "python",
   "pygments_lexer": "ipython3",
   "version": "3.9.12"
  }
 },
 "nbformat": 4,
 "nbformat_minor": 5
}
