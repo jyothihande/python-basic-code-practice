{
 "cells": [
  {
   "cell_type": "markdown",
   "id": "7302cf4d",
   "metadata": {},
   "source": [
    "# Q1.Python Math: Randomly select an item from a list."
   ]
  },
  {
   "cell_type": "code",
   "execution_count": 1,
   "id": "2a2d7751",
   "metadata": {},
   "outputs": [
    {
     "name": "stdout",
     "output_type": "stream",
     "text": [
      "Black\n"
     ]
    }
   ],
   "source": [
    "import random\n",
    "color = ['Red', 'Green', 'Black', 'Orange', 'Black']\n",
    "print(random.choice(color))"
   ]
  },
  {
   "cell_type": "markdown",
   "id": "f03b517b",
   "metadata": {},
   "source": [
    "# Q2.Python Program for Simple Interest."
   ]
  },
  {
   "cell_type": "code",
   "execution_count": 2,
   "id": "46bf9bbe",
   "metadata": {},
   "outputs": [
    {
     "name": "stdout",
     "output_type": "stream",
     "text": [
      "The principal is 8\n",
      "The time period is 6\n",
      "The rate of interest is 8\n",
      "The Simple Interest is 3.84\n"
     ]
    },
    {
     "data": {
      "text/plain": [
       "3.84"
      ]
     },
     "execution_count": 2,
     "metadata": {},
     "output_type": "execute_result"
    }
   ],
   "source": [
    "# Python3 program to find simple interest for given principal amount, time and  rate of interest.\n",
    "\n",
    "\n",
    "def simple_interest(p,t,r):\n",
    "    print('The principal is', p)\n",
    "    print('The time period is', t)\n",
    "    print('The rate of interest is',r)\n",
    "    \n",
    "    si = (p * t * r)/100\n",
    "    print('The Simple Interest is', si)\n",
    "    return si\n",
    "# Driver code\n",
    "simple_interest(8, 6, 8)\n"
   ]
  },
  {
   "cell_type": "markdown",
   "id": "c534be84",
   "metadata": {},
   "source": [
    "# Q3.Python Program for Compound Interest."
   ]
  },
  {
   "cell_type": "code",
   "execution_count": 3,
   "id": "acfbb649",
   "metadata": {},
   "outputs": [
    {
     "name": "stdout",
     "output_type": "stream",
     "text": [
      "Compound interest is 6288.946267774416\n"
     ]
    }
   ],
   "source": [
    "# Python3 program to find compound interest for given values.\n",
    "\n",
    "\n",
    "def compound_interest(principal, rate, time):\n",
    "    Amount = principal * (pow((1 + rate / 100), time))# Calculates compound interest\n",
    "    CI = Amount - principal\n",
    "    print(\"Compound interest is\", CI)\n",
    "\n",
    "\n",
    "# Driver Code\n",
    "compound_interest(10000, 10.25, 5)\n"
   ]
  },
  {
   "cell_type": "code",
   "execution_count": 4,
   "id": "cbbe4c23",
   "metadata": {},
   "outputs": [
    {
     "name": "stdout",
     "output_type": "stream",
     "text": [
      "133.0992000000001\n"
     ]
    }
   ],
   "source": [
    "# Python code  To find compound interest\n",
    "\n",
    "# inputs\n",
    "p= 1200    # principal amount\n",
    "t= 2       # time\n",
    "r= 5.4     # rate\n",
    "            # calculates the compound interest\n",
    "a=p*(1+(r/100))**t # formula for calculating amount\n",
    "ci=a-p # compound interest = amount - principal amount\n",
    "# printing compound interest value\n",
    "print(ci)"
   ]
  },
  {
   "cell_type": "code",
   "execution_count": null,
   "id": "72a2b538",
   "metadata": {},
   "outputs": [],
   "source": []
  }
 ],
 "metadata": {
  "kernelspec": {
   "display_name": "Python 3 (ipykernel)",
   "language": "python",
   "name": "python3"
  },
  "language_info": {
   "codemirror_mode": {
    "name": "ipython",
    "version": 3
   },
   "file_extension": ".py",
   "mimetype": "text/x-python",
   "name": "python",
   "nbconvert_exporter": "python",
   "pygments_lexer": "ipython3",
   "version": "3.9.12"
  }
 },
 "nbformat": 4,
 "nbformat_minor": 5
}
