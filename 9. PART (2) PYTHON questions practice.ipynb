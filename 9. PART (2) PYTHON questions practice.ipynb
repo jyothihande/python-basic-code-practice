{
 "cells": [
  {
   "cell_type": "markdown",
   "id": "f52b4396",
   "metadata": {},
   "source": [
    "# 7.  Create a list of all the first letters of words in a given sentence."
   ]
  },
  {
   "cell_type": "code",
   "execution_count": 1,
   "id": "e10ad037",
   "metadata": {},
   "outputs": [],
   "source": [
    "sentence = \" Lets start learning Data Science. \""
   ]
  },
  {
   "cell_type": "code",
   "execution_count": 2,
   "id": "877d4270",
   "metadata": {},
   "outputs": [],
   "source": [
    "l= sentence.split()\n",
    "l1=[]"
   ]
  },
  {
   "cell_type": "code",
   "execution_count": 3,
   "id": "285abdb4",
   "metadata": {},
   "outputs": [
    {
     "data": {
      "text/plain": [
       "['Lets', 'start', 'learning', 'Data', 'Science.']"
      ]
     },
     "execution_count": 3,
     "metadata": {},
     "output_type": "execute_result"
    }
   ],
   "source": [
    "l"
   ]
  },
  {
   "cell_type": "code",
   "execution_count": 4,
   "id": "f84a48ca",
   "metadata": {},
   "outputs": [
    {
     "name": "stdout",
     "output_type": "stream",
     "text": [
      "['L', 's', 'l', 'D', 'S']\n"
     ]
    }
   ],
   "source": [
    "for i in l:\n",
    "    l1.append(i[0])\n",
    "print(l1)"
   ]
  },
  {
   "cell_type": "code",
   "execution_count": 5,
   "id": "40b7fed6",
   "metadata": {},
   "outputs": [
    {
     "data": {
      "text/plain": [
       "['L', 's', 'l', 'D', 'S']"
      ]
     },
     "execution_count": 5,
     "metadata": {},
     "output_type": "execute_result"
    }
   ],
   "source": [
    "l1  # first letter of each words of a sentence"
   ]
  },
  {
   "cell_type": "markdown",
   "id": "d209b1c7",
   "metadata": {},
   "source": [
    "# 8. Create a list of all the unique words from a given sentence"
   ]
  },
  {
   "cell_type": "code",
   "execution_count": 6,
   "id": "6e3379e2",
   "metadata": {},
   "outputs": [],
   "source": [
    "sentence = \"learn and practice data science. \""
   ]
  },
  {
   "cell_type": "code",
   "execution_count": 7,
   "id": "4f73102e",
   "metadata": {},
   "outputs": [],
   "source": [
    "l= sentence.split()"
   ]
  },
  {
   "cell_type": "code",
   "execution_count": 8,
   "id": "066dfa66",
   "metadata": {},
   "outputs": [
    {
     "data": {
      "text/plain": [
       "['learn', 'and', 'practice', 'data', 'science.']"
      ]
     },
     "execution_count": 8,
     "metadata": {},
     "output_type": "execute_result"
    }
   ],
   "source": [
    "l"
   ]
  },
  {
   "cell_type": "code",
   "execution_count": 9,
   "id": "e6dcb5db",
   "metadata": {},
   "outputs": [
    {
     "data": {
      "text/plain": [
       "{'and', 'data', 'learn', 'practice', 'science.'}"
      ]
     },
     "execution_count": 9,
     "metadata": {},
     "output_type": "execute_result"
    }
   ],
   "source": [
    "set(l)  # all unique words."
   ]
  },
  {
   "cell_type": "markdown",
   "id": "76c5c11e",
   "metadata": {},
   "source": [
    "# 9. Create a list of all the permutations of a given string using list comprehension."
   ]
  },
  {
   "cell_type": "code",
   "execution_count": null,
   "id": "ffcddf1b",
   "metadata": {},
   "outputs": [],
   "source": [
    "List comprehension offers a shorter syntax when you want to create a new list \n",
    "based on the values of an existing list."
   ]
  },
  {
   "cell_type": "code",
   "execution_count": 10,
   "id": "bac4795d",
   "metadata": {},
   "outputs": [
    {
     "name": "stdout",
     "output_type": "stream",
     "text": [
      "[0, 2, 4, 6, 8, 10]\n"
     ]
    }
   ],
   "source": [
    "list = [i for i in range(11) if i % 2 == 0]\n",
    "print(list)"
   ]
  },
  {
   "cell_type": "code",
   "execution_count": 11,
   "id": "4cfe8cf7",
   "metadata": {},
   "outputs": [
    {
     "name": "stdout",
     "output_type": "stream",
     "text": [
      "['apple', 'banana', 'mango']\n"
     ]
    }
   ],
   "source": [
    "fruits = [\"apple\", \"banana\", \"cherry\", \"kiwi\", \"mango\"]\n",
    "newlist = [x for x in fruits if \"a\" in x]\n",
    "\n",
    "print(newlist)"
   ]
  },
  {
   "cell_type": "markdown",
   "id": "8517807a",
   "metadata": {},
   "source": [
    "# 10.   Convert a given string to lowercase."
   ]
  },
  {
   "cell_type": "code",
   "execution_count": 12,
   "id": "fdd0ff3a",
   "metadata": {},
   "outputs": [
    {
     "data": {
      "text/plain": [
       "'data science'"
      ]
     },
     "execution_count": 12,
     "metadata": {},
     "output_type": "execute_result"
    }
   ],
   "source": [
    "string=\"DATA SCIENCE\"\n",
    "s=string.lower()\n",
    "s"
   ]
  },
  {
   "cell_type": "markdown",
   "id": "26038cf8",
   "metadata": {},
   "source": [
    "# 11.   Reverse a given string"
   ]
  },
  {
   "cell_type": "code",
   "execution_count": 13,
   "id": "f1305827",
   "metadata": {},
   "outputs": [
    {
     "data": {
      "text/plain": [
       "'DATA SCIENCE'"
      ]
     },
     "execution_count": 13,
     "metadata": {},
     "output_type": "execute_result"
    }
   ],
   "source": [
    "string"
   ]
  },
  {
   "cell_type": "code",
   "execution_count": 14,
   "id": "9c7de4bd",
   "metadata": {},
   "outputs": [
    {
     "data": {
      "text/plain": [
       "'ECNEICS ATAD'"
      ]
     },
     "execution_count": 14,
     "metadata": {},
     "output_type": "execute_result"
    }
   ],
   "source": [
    "string[::-1]  # reverse of DATA SCIENCE"
   ]
  },
  {
   "cell_type": "markdown",
   "id": "6a761f16",
   "metadata": {},
   "source": [
    "# 12. Remove all the vowels from a given string."
   ]
  },
  {
   "cell_type": "code",
   "execution_count": 15,
   "id": "6fd7d600",
   "metadata": {},
   "outputs": [],
   "source": [
    "#string=\"education\"\n",
    "string=\"EDUCATION And Wisdom\"\n",
    "s1=[]"
   ]
  },
  {
   "cell_type": "code",
   "execution_count": 16,
   "id": "1d852704",
   "metadata": {},
   "outputs": [
    {
     "name": "stdout",
     "output_type": "stream",
     "text": [
      "['d', 'c', 't', 'n', ' ', 'n', 'd', ' ', 'w', 's', 'd', 'm']\n"
     ]
    }
   ],
   "source": [
    "string=string.lower()\n",
    "for i in string:\n",
    "    if i!=\"a\" and i!=\"i\" and i!= \"o\" and i!=\"e\" and i!=\"u\":\n",
    "        s1.append(i)\n",
    "print(s1)    # all vowels in the string is removed"
   ]
  },
  {
   "cell_type": "markdown",
   "id": "90eb1324",
   "metadata": {},
   "source": [
    "# 13.Find all the digits in a given string"
   ]
  },
  {
   "cell_type": "code",
   "execution_count": 17,
   "id": "1f90197a",
   "metadata": {},
   "outputs": [
    {
     "data": {
      "text/plain": [
       "['hello', '1', '23', '45', '6', 'and', 'good', 'bye']"
      ]
     },
     "execution_count": 17,
     "metadata": {},
     "output_type": "execute_result"
    }
   ],
   "source": [
    "string=\"hello 1 23 45 6 and good bye\"\n",
    "s1 = string.split()\n",
    "s1"
   ]
  },
  {
   "cell_type": "code",
   "execution_count": 18,
   "id": "48b9d318",
   "metadata": {},
   "outputs": [
    {
     "name": "stdout",
     "output_type": "stream",
     "text": [
      "1\n",
      "2\n",
      "3\n",
      "4\n",
      "5\n",
      "6\n"
     ]
    }
   ],
   "source": [
    "for i in string:\n",
    "    if i.isdigit():\n",
    "        print(i)"
   ]
  },
  {
   "cell_type": "code",
   "execution_count": null,
   "id": "bde60f68",
   "metadata": {},
   "outputs": [],
   "source": []
  }
 ],
 "metadata": {
  "kernelspec": {
   "display_name": "Python 3 (ipykernel)",
   "language": "python",
   "name": "python3"
  },
  "language_info": {
   "codemirror_mode": {
    "name": "ipython",
    "version": 3
   },
   "file_extension": ".py",
   "mimetype": "text/x-python",
   "name": "python",
   "nbconvert_exporter": "python",
   "pygments_lexer": "ipython3",
   "version": "3.9.12"
  }
 },
 "nbformat": 4,
 "nbformat_minor": 5
}
