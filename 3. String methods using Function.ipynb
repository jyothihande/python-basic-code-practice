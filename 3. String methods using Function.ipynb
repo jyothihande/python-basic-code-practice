{
 "cells": [
  {
   "cell_type": "code",
   "execution_count": null,
   "id": "d7466822",
   "metadata": {},
   "outputs": [],
   "source": [
    "1.Length using function:"
   ]
  },
  {
   "cell_type": "code",
   "execution_count": 1,
   "id": "6079124f",
   "metadata": {},
   "outputs": [
    {
     "name": "stdout",
     "output_type": "stream",
     "text": [
      "9\n"
     ]
    }
   ],
   "source": [
    "def length_of_variable(string):\n",
    "    \"This function will return length of the variable\"\n",
    "    try:\n",
    "        print(len(string))\n",
    "    except Exception as e:\n",
    "        print(e)\n",
    "length_of_variable(\"jxdklnskf\")"
   ]
  },
  {
   "cell_type": "code",
   "execution_count": 2,
   "id": "a4e85ac2",
   "metadata": {},
   "outputs": [
    {
     "name": "stdout",
     "output_type": "stream",
     "text": [
      "15\n"
     ]
    }
   ],
   "source": [
    "length_of_variable(\"hello coders...\")"
   ]
  },
  {
   "cell_type": "code",
   "execution_count": null,
   "id": "c1ad2f23",
   "metadata": {},
   "outputs": [],
   "source": [
    "2.This function will return TYPE of the variable:"
   ]
  },
  {
   "cell_type": "code",
   "execution_count": 3,
   "id": "951954a6",
   "metadata": {},
   "outputs": [
    {
     "name": "stdout",
     "output_type": "stream",
     "text": [
      "<class 'str'>\n"
     ]
    }
   ],
   "source": [
    "def type_of_variable(data_type):\n",
    "    \"This function will return type of the variable\"\n",
    "    try:\n",
    "        print(type(data_type))\n",
    "    except Exception as e:\n",
    "        print(e)\n",
    "type_of_variable(\"jyothi\")"
   ]
  },
  {
   "cell_type": "code",
   "execution_count": 4,
   "id": "ea2dd89e",
   "metadata": {},
   "outputs": [
    {
     "name": "stdout",
     "output_type": "stream",
     "text": [
      "<class 'float'>\n"
     ]
    }
   ],
   "source": [
    "type_of_variable(52.3)"
   ]
  },
  {
   "cell_type": "code",
   "execution_count": 5,
   "id": "ad6d96f3",
   "metadata": {},
   "outputs": [
    {
     "name": "stdout",
     "output_type": "stream",
     "text": [
      "<class 'int'>\n"
     ]
    }
   ],
   "source": [
    "type_of_variable(26)"
   ]
  },
  {
   "cell_type": "code",
   "execution_count": 6,
   "id": "864cb27f",
   "metadata": {},
   "outputs": [
    {
     "name": "stdout",
     "output_type": "stream",
     "text": [
      "<class 'bool'>\n"
     ]
    }
   ],
   "source": [
    "type_of_variable(True)"
   ]
  },
  {
   "cell_type": "code",
   "execution_count": 7,
   "id": "78ec088a",
   "metadata": {},
   "outputs": [
    {
     "name": "stdout",
     "output_type": "stream",
     "text": [
      "<class 'complex'>\n"
     ]
    }
   ],
   "source": [
    "type_of_variable(3+6j)"
   ]
  },
  {
   "cell_type": "code",
   "execution_count": 8,
   "id": "f76d0544",
   "metadata": {},
   "outputs": [
    {
     "name": "stdout",
     "output_type": "stream",
     "text": [
      "<class 'list'>\n"
     ]
    }
   ],
   "source": [
    "type_of_variable([1,5,7])"
   ]
  },
  {
   "cell_type": "code",
   "execution_count": null,
   "id": "bac6780d",
   "metadata": {},
   "outputs": [],
   "source": [
    "3. This function will return capitalize of string"
   ]
  },
  {
   "cell_type": "code",
   "execution_count": 9,
   "id": "596fcdf2",
   "metadata": {},
   "outputs": [],
   "source": [
    "x=\"Python is EASY\""
   ]
  },
  {
   "cell_type": "code",
   "execution_count": 10,
   "id": "c02c1e57",
   "metadata": {},
   "outputs": [
    {
     "data": {
      "text/plain": [
       "'Python is easy'"
      ]
     },
     "execution_count": 10,
     "metadata": {},
     "output_type": "execute_result"
    }
   ],
   "source": [
    "x.capitalize()"
   ]
  },
  {
   "cell_type": "code",
   "execution_count": 11,
   "id": "5a9dea4b",
   "metadata": {},
   "outputs": [
    {
     "name": "stdout",
     "output_type": "stream",
     "text": [
      "Well come home\n"
     ]
    }
   ],
   "source": [
    "def capitalize_title(name):\n",
    "    \"This function will return capitalize of string\"\n",
    "    try:\n",
    "        print(name.capitalize())\n",
    "    except Exception as e:\n",
    "        print(e)\n",
    "capitalize_title(\"WELL COME HOME\")"
   ]
  },
  {
   "cell_type": "code",
   "execution_count": 12,
   "id": "97be565a",
   "metadata": {},
   "outputs": [
    {
     "name": "stdout",
     "output_type": "stream",
     "text": [
      "Bye bye...\n"
     ]
    }
   ],
   "source": [
    "capitalize_title(\"BYE BYE...\")"
   ]
  },
  {
   "cell_type": "code",
   "execution_count": null,
   "id": "4077464a",
   "metadata": {},
   "outputs": [],
   "source": [
    "4.CENTER OF THE STRING using function:"
   ]
  },
  {
   "cell_type": "code",
   "execution_count": 13,
   "id": "67e50533",
   "metadata": {},
   "outputs": [],
   "source": [
    "x=\"python\""
   ]
  },
  {
   "cell_type": "code",
   "execution_count": 14,
   "id": "16d2c594",
   "metadata": {},
   "outputs": [
    {
     "data": {
      "text/plain": [
       "'***python***'"
      ]
     },
     "execution_count": 14,
     "metadata": {},
     "output_type": "execute_result"
    }
   ],
   "source": [
    "x.center(12,\"*\")"
   ]
  },
  {
   "cell_type": "code",
   "execution_count": 15,
   "id": "bfdcf109",
   "metadata": {},
   "outputs": [
    {
     "name": "stdout",
     "output_type": "stream",
     "text": [
      "*****Hello*****\n"
     ]
    }
   ],
   "source": [
    "def center_string(string,num):\n",
    "    \"This function will return center of string\"\n",
    "    try:\n",
    "        print(string.center(num,\"*\"))\n",
    "    except Exception as e:\n",
    "        print(e)\n",
    "center_string(\"Hello\",int(15))"
   ]
  },
  {
   "cell_type": "code",
   "execution_count": 16,
   "id": "e186845f",
   "metadata": {},
   "outputs": [
    {
     "name": "stdout",
     "output_type": "stream",
     "text": [
      "***well come****\n"
     ]
    }
   ],
   "source": [
    "center_string(\"well come\",int(16))"
   ]
  },
  {
   "cell_type": "code",
   "execution_count": null,
   "id": "41e8630f",
   "metadata": {},
   "outputs": [],
   "source": [
    "5. String Concatenation using function:"
   ]
  },
  {
   "cell_type": "code",
   "execution_count": 17,
   "id": "e69dbcce",
   "metadata": {},
   "outputs": [
    {
     "data": {
      "text/plain": [
       "'python'"
      ]
     },
     "execution_count": 17,
     "metadata": {},
     "output_type": "execute_result"
    }
   ],
   "source": [
    "x"
   ]
  },
  {
   "cell_type": "code",
   "execution_count": 18,
   "id": "12f26b9e",
   "metadata": {},
   "outputs": [
    {
     "data": {
      "text/plain": [
       "'python is EASY'"
      ]
     },
     "execution_count": 18,
     "metadata": {},
     "output_type": "execute_result"
    }
   ],
   "source": [
    "y=\" is EASY\"\n",
    "x+y"
   ]
  },
  {
   "cell_type": "code",
   "execution_count": 19,
   "id": "f9e1eb47",
   "metadata": {},
   "outputs": [
    {
     "name": "stdout",
     "output_type": "stream",
     "text": [
      "Hello coders ...\n"
     ]
    }
   ],
   "source": [
    "def string_concatenation(string1,string2,*string):\n",
    "    \"This function will return string concatenation\"\n",
    "    try:\n",
    "        print(string1+string2,*string)\n",
    "    except Exception as e:\n",
    "        print(e)\n",
    "string_concatenation(\"Hello\",\" coders\",\"...\")"
   ]
  },
  {
   "cell_type": "code",
   "execution_count": 21,
   "id": "8c9f176c",
   "metadata": {},
   "outputs": [
    {
     "name": "stdout",
     "output_type": "stream",
     "text": [
      "Myself XYZ\n"
     ]
    }
   ],
   "source": [
    "string_concatenation(\"Myself\",\" XYZ\")"
   ]
  },
  {
   "cell_type": "code",
   "execution_count": null,
   "id": "c1821238",
   "metadata": {},
   "outputs": [],
   "source": [
    "6.COUNT method using function: "
   ]
  },
  {
   "cell_type": "code",
   "execution_count": 55,
   "id": "927c3024",
   "metadata": {},
   "outputs": [],
   "source": [
    "x=\"OXFORD UNIVERSITY EXAMINATION\""
   ]
  },
  {
   "cell_type": "code",
   "execution_count": 56,
   "id": "c5c46a57",
   "metadata": {},
   "outputs": [
    {
     "data": {
      "text/plain": [
       "4"
      ]
     },
     "execution_count": 56,
     "metadata": {},
     "output_type": "execute_result"
    }
   ],
   "source": [
    "x.count('I')"
   ]
  },
  {
   "cell_type": "code",
   "execution_count": 60,
   "id": "2c52ffbe",
   "metadata": {},
   "outputs": [],
   "source": [
    "def string_count(string,alpha):\n",
    "    \"This function will return string count\"\n",
    "    try:\n",
    "        for i in string:\n",
    "            count = string.count(alpha)\n",
    "            print(count)\n",
    "            break\n",
    "    except Exception as e:\n",
    "        print(e)"
   ]
  },
  {
   "cell_type": "code",
   "execution_count": 61,
   "id": "82f05d1e",
   "metadata": {},
   "outputs": [
    {
     "name": "stdout",
     "output_type": "stream",
     "text": [
      "4\n"
     ]
    }
   ],
   "source": [
    "string_count(\"OXFORD UNIVERSITY EXAMINATION\",\"I\")"
   ]
  },
  {
   "cell_type": "code",
   "execution_count": null,
   "id": "8b7c0db7",
   "metadata": {},
   "outputs": [],
   "source": [
    "7.STRIP METHOD USING function:"
   ]
  },
  {
   "cell_type": "code",
   "execution_count": 62,
   "id": "38b4b6b6",
   "metadata": {},
   "outputs": [],
   "source": [
    "x=\"    hello coders...     \""
   ]
  },
  {
   "cell_type": "code",
   "execution_count": 63,
   "id": "9d105d9b",
   "metadata": {},
   "outputs": [
    {
     "data": {
      "text/plain": [
       "'hello coders...'"
      ]
     },
     "execution_count": 63,
     "metadata": {},
     "output_type": "execute_result"
    }
   ],
   "source": [
    "x.strip()"
   ]
  },
  {
   "cell_type": "code",
   "execution_count": 64,
   "id": "36d377a6",
   "metadata": {},
   "outputs": [
    {
     "name": "stdout",
     "output_type": "stream",
     "text": [
      "Python\n"
     ]
    }
   ],
   "source": [
    "def string_strip(string):\n",
    "    \"This function will remove space from both the sides.\"\n",
    "    try:\n",
    "        print(string.strip())\n",
    "    except Exception as e:\n",
    "        print(e)\n",
    "string_strip(\"    Python   \")"
   ]
  },
  {
   "cell_type": "code",
   "execution_count": 65,
   "id": "2afa84cb",
   "metadata": {},
   "outputs": [
    {
     "name": "stdout",
     "output_type": "stream",
     "text": [
      "BYE BYE\n"
     ]
    }
   ],
   "source": [
    "string_strip(\"  BYE BYE    \")"
   ]
  },
  {
   "cell_type": "code",
   "execution_count": null,
   "id": "6bb468d1",
   "metadata": {},
   "outputs": [],
   "source": [
    "8.LOWER AND UPPER CASE IN STRINGS USING FUNCTION METHOD"
   ]
  },
  {
   "cell_type": "code",
   "execution_count": 66,
   "id": "58414ec7",
   "metadata": {},
   "outputs": [],
   "source": [
    "x=\" A  B c  d \""
   ]
  },
  {
   "cell_type": "code",
   "execution_count": 67,
   "id": "be7001e2",
   "metadata": {},
   "outputs": [
    {
     "data": {
      "text/plain": [
       "' a  b c  d '"
      ]
     },
     "execution_count": 67,
     "metadata": {},
     "output_type": "execute_result"
    }
   ],
   "source": [
    "x.lower()"
   ]
  },
  {
   "cell_type": "code",
   "execution_count": 68,
   "id": "c35832e5",
   "metadata": {},
   "outputs": [
    {
     "data": {
      "text/plain": [
       "' A  B C  D '"
      ]
     },
     "execution_count": 68,
     "metadata": {},
     "output_type": "execute_result"
    }
   ],
   "source": [
    "x.upper()"
   ]
  },
  {
   "cell_type": "code",
   "execution_count": 69,
   "id": "af9869bf",
   "metadata": {},
   "outputs": [
    {
     "name": "stdout",
     "output_type": "stream",
     "text": [
      "wellcome coders\n",
      "WELLCOME CODERS\n"
     ]
    }
   ],
   "source": [
    "def string_lower_upper(string):\n",
    "    \"This function will make string in lower/upper case.\"\n",
    "    try:\n",
    "        print(string.lower())\n",
    "        print(string.upper())\n",
    "    except Exception as e:\n",
    "        print(e)\n",
    "string_lower_upper(\"WEllcOMe CoDERS\")"
   ]
  },
  {
   "cell_type": "code",
   "execution_count": 70,
   "id": "4b62afe5",
   "metadata": {},
   "outputs": [
    {
     "name": "stdout",
     "output_type": "stream",
     "text": [
      "kv school\n",
      "KV SCHOOL\n"
     ]
    }
   ],
   "source": [
    "string_lower_upper(\"KV School\")"
   ]
  },
  {
   "cell_type": "code",
   "execution_count": null,
   "id": "d1cc6e44",
   "metadata": {},
   "outputs": [],
   "source": [
    "9. Swapcase in string using function method:"
   ]
  },
  {
   "cell_type": "code",
   "execution_count": 71,
   "id": "4cd11074",
   "metadata": {},
   "outputs": [],
   "source": [
    "x=\"A  B c  d \""
   ]
  },
  {
   "cell_type": "code",
   "execution_count": 72,
   "id": "1e6d7c8b",
   "metadata": {},
   "outputs": [
    {
     "data": {
      "text/plain": [
       "'a  b C  D '"
      ]
     },
     "execution_count": 72,
     "metadata": {},
     "output_type": "execute_result"
    }
   ],
   "source": [
    "x.swapcase()"
   ]
  },
  {
   "cell_type": "code",
   "execution_count": 73,
   "id": "5777cadc",
   "metadata": {},
   "outputs": [
    {
     "name": "stdout",
     "output_type": "stream",
     "text": [
      "hElLO cOdERS\n",
      "This function will make string in lower/upper case as per original string.\n"
     ]
    }
   ],
   "source": [
    "def string_swapcase(string):\n",
    "    \"This function will make string in lower/upper case.\"\n",
    "    try:\n",
    "        print(string.swapcase())\n",
    "        print(\"This function will make string in lower/upper case as per original string.\")\n",
    "    except Exception as e:\n",
    "        print(e)\n",
    "string_swapcase(\"HeLlo CoDers\")"
   ]
  },
  {
   "cell_type": "code",
   "execution_count": 74,
   "id": "4f6959c5",
   "metadata": {},
   "outputs": [
    {
     "name": "stdout",
     "output_type": "stream",
     "text": [
      "hELLo\n",
      "This function will make string in lower/upper case as per original string.\n"
     ]
    }
   ],
   "source": [
    "string_swapcase(\"HellO\")"
   ]
  },
  {
   "cell_type": "code",
   "execution_count": null,
   "id": "4ac5923f",
   "metadata": {},
   "outputs": [],
   "source": [
    "10.Join function using function method:"
   ]
  },
  {
   "cell_type": "code",
   "execution_count": 75,
   "id": "1b0af4a5",
   "metadata": {},
   "outputs": [],
   "source": [
    "x=\"HELLO\""
   ]
  },
  {
   "cell_type": "code",
   "execution_count": 76,
   "id": "d0101622",
   "metadata": {},
   "outputs": [],
   "source": [
    "x=\"*\".join(x)"
   ]
  },
  {
   "cell_type": "code",
   "execution_count": 77,
   "id": "30dd9e9f",
   "metadata": {},
   "outputs": [
    {
     "data": {
      "text/plain": [
       "'H*E*L*L*O'"
      ]
     },
     "execution_count": 77,
     "metadata": {},
     "output_type": "execute_result"
    }
   ],
   "source": [
    "x"
   ]
  },
  {
   "cell_type": "code",
   "execution_count": 78,
   "id": "faec0a97",
   "metadata": {},
   "outputs": [
    {
     "name": "stdout",
     "output_type": "stream",
     "text": [
      "H * E * L * L * O B * Y * E * E\n",
      "This function will join string with  space/*/any alphabet .\n"
     ]
    }
   ],
   "source": [
    "def string_join(string,*a):\n",
    "    \"This function will join string with  space/*/any alphabet .\"\n",
    "    try:\n",
    "        print(\" * \".join(string), \" * \".join(*a))\n",
    "        print(\"This function will join string with  space/*/any alphabet .\")\n",
    "    except Exception as e:\n",
    "        print(e)\n",
    "string_join(\"HELLO\",\"BYEE\")"
   ]
  },
  {
   "cell_type": "code",
   "execution_count": 79,
   "id": "4f3edbe7",
   "metadata": {},
   "outputs": [
    {
     "name": "stdout",
     "output_type": "stream",
     "text": [
      "a * b * c x * y * z\n",
      "This function will join string with  space/*/any alphabet .\n"
     ]
    }
   ],
   "source": [
    "string_join(\"abc\",\"xyz\")"
   ]
  },
  {
   "cell_type": "code",
   "execution_count": null,
   "id": "9d8a154b",
   "metadata": {},
   "outputs": [],
   "source": [
    "11.to verify string input by user\n",
    "output is T or F"
   ]
  },
  {
   "cell_type": "code",
   "execution_count": 87,
   "id": "8048e195",
   "metadata": {},
   "outputs": [],
   "source": [
    "y=\"Hello123\""
   ]
  },
  {
   "cell_type": "code",
   "execution_count": 88,
   "id": "4544e72b",
   "metadata": {},
   "outputs": [
    {
     "data": {
      "text/plain": [
       "False"
      ]
     },
     "execution_count": 88,
     "metadata": {},
     "output_type": "execute_result"
    }
   ],
   "source": [
    "y.isnumeric()"
   ]
  },
  {
   "cell_type": "code",
   "execution_count": 89,
   "id": "41dd1312",
   "metadata": {},
   "outputs": [
    {
     "data": {
      "text/plain": [
       "True"
      ]
     },
     "execution_count": 89,
     "metadata": {},
     "output_type": "execute_result"
    }
   ],
   "source": [
    "y.isalnum()  #???????"
   ]
  },
  {
   "cell_type": "code",
   "execution_count": 90,
   "id": "c71cca83",
   "metadata": {},
   "outputs": [
    {
     "data": {
      "text/plain": [
       "False"
      ]
     },
     "execution_count": 90,
     "metadata": {},
     "output_type": "execute_result"
    }
   ],
   "source": [
    "y.isupper()"
   ]
  },
  {
   "cell_type": "code",
   "execution_count": 91,
   "id": "880e56e9",
   "metadata": {},
   "outputs": [
    {
     "data": {
      "text/plain": [
       "True"
      ]
     },
     "execution_count": 91,
     "metadata": {},
     "output_type": "execute_result"
    }
   ],
   "source": [
    "y.isascii()"
   ]
  },
  {
   "cell_type": "code",
   "execution_count": 92,
   "id": "ccaea640",
   "metadata": {},
   "outputs": [
    {
     "data": {
      "text/plain": [
       "False"
      ]
     },
     "execution_count": 92,
     "metadata": {},
     "output_type": "execute_result"
    }
   ],
   "source": [
    "y.isdecimal()"
   ]
  },
  {
   "cell_type": "code",
   "execution_count": 93,
   "id": "0f4b3f3d",
   "metadata": {},
   "outputs": [
    {
     "data": {
      "text/plain": [
       "False"
      ]
     },
     "execution_count": 93,
     "metadata": {},
     "output_type": "execute_result"
    }
   ],
   "source": [
    "y.isdigit()"
   ]
  },
  {
   "cell_type": "code",
   "execution_count": 94,
   "id": "7469949e",
   "metadata": {},
   "outputs": [
    {
     "data": {
      "text/plain": [
       "True"
      ]
     },
     "execution_count": 94,
     "metadata": {},
     "output_type": "execute_result"
    }
   ],
   "source": [
    "y.isidentifier()"
   ]
  },
  {
   "cell_type": "code",
   "execution_count": 95,
   "id": "955fe68e",
   "metadata": {},
   "outputs": [
    {
     "data": {
      "text/plain": [
       "False"
      ]
     },
     "execution_count": 95,
     "metadata": {},
     "output_type": "execute_result"
    }
   ],
   "source": [
    "y.islower()"
   ]
  },
  {
   "cell_type": "code",
   "execution_count": 96,
   "id": "aa04e031",
   "metadata": {},
   "outputs": [
    {
     "data": {
      "text/plain": [
       "True"
      ]
     },
     "execution_count": 96,
     "metadata": {},
     "output_type": "execute_result"
    }
   ],
   "source": [
    "y.isprintable()"
   ]
  },
  {
   "cell_type": "code",
   "execution_count": 97,
   "id": "15c2b041",
   "metadata": {},
   "outputs": [
    {
     "data": {
      "text/plain": [
       "False"
      ]
     },
     "execution_count": 97,
     "metadata": {},
     "output_type": "execute_result"
    }
   ],
   "source": [
    "y.isspace()"
   ]
  },
  {
   "cell_type": "code",
   "execution_count": 98,
   "id": "8d1df220",
   "metadata": {},
   "outputs": [
    {
     "data": {
      "text/plain": [
       "True"
      ]
     },
     "execution_count": 98,
     "metadata": {},
     "output_type": "execute_result"
    }
   ],
   "source": [
    "y.istitle()"
   ]
  },
  {
   "cell_type": "code",
   "execution_count": 99,
   "id": "510bf827",
   "metadata": {},
   "outputs": [
    {
     "name": "stdout",
     "output_type": "stream",
     "text": [
      "CODERS..123..\n",
      "False y string is not in lower case.\n",
      "True\n",
      "False\n",
      "False\n",
      "True\n",
      "False\n",
      "False\n",
      "False\n",
      "True\n",
      "OUTPUT IS T OR F.\n"
     ]
    }
   ],
   "source": [
    "def is_string(string):\n",
    "    \"This function is used to verify string input by user.\"\n",
    "    try:\n",
    "        print(string)\n",
    "        print(string.islower(),\"y string is not in lower case.\")\n",
    "        print(string.isupper())\n",
    "        print(string.istitle())\n",
    "        print(string.isspace())\n",
    "        print(string.isprintable())\n",
    "        print(string.isidentifier())\n",
    "        print(string.isdigit())\n",
    "        print(string.isdecimal())\n",
    "        print(string.isascii())\n",
    "        print(\"OUTPUT IS T OR F.\")\n",
    "    except Exception as e:\n",
    "        print(e)\n",
    "is_string(\"CODERS..123..\")"
   ]
  },
  {
   "cell_type": "code",
   "execution_count": 100,
   "id": "186d2ae1",
   "metadata": {},
   "outputs": [
    {
     "name": "stdout",
     "output_type": "stream",
     "text": [
      "1234\n",
      "False y string is not in lower case.\n",
      "False\n",
      "False\n",
      "False\n",
      "True\n",
      "False\n",
      "True\n",
      "True\n",
      "True\n",
      "OUTPUT IS T OR F.\n"
     ]
    }
   ],
   "source": [
    "is_string(\"1234\")"
   ]
  },
  {
   "cell_type": "code",
   "execution_count": 101,
   "id": "0d091522",
   "metadata": {},
   "outputs": [
    {
     "name": "stdout",
     "output_type": "stream",
     "text": [
      "women\n",
      "True y string is not in lower case.\n",
      "False\n",
      "False\n",
      "False\n",
      "True\n",
      "True\n",
      "False\n",
      "False\n",
      "True\n",
      "OUTPUT IS T OR F.\n"
     ]
    }
   ],
   "source": [
    "is_string(\"women\")"
   ]
  },
  {
   "cell_type": "code",
   "execution_count": null,
   "id": "f97b0504",
   "metadata": {},
   "outputs": [],
   "source": [
    "12.Startswith and Endswith function in string: # NO OUTPUT"
   ]
  },
  {
   "cell_type": "code",
   "execution_count": 102,
   "id": "18ad50a5",
   "metadata": {},
   "outputs": [],
   "source": [
    "x=\"Learning Python is easy.\""
   ]
  },
  {
   "cell_type": "code",
   "execution_count": 103,
   "id": "4e90c4bc",
   "metadata": {},
   "outputs": [
    {
     "data": {
      "text/plain": [
       "False"
      ]
     },
     "execution_count": 103,
     "metadata": {},
     "output_type": "execute_result"
    }
   ],
   "source": [
    "x.startswith(\"Python\")"
   ]
  },
  {
   "cell_type": "code",
   "execution_count": 104,
   "id": "b402ff6f",
   "metadata": {},
   "outputs": [
    {
     "data": {
      "text/plain": [
       "True"
      ]
     },
     "execution_count": 104,
     "metadata": {},
     "output_type": "execute_result"
    }
   ],
   "source": [
    "x.startswith(\"Learning\")"
   ]
  },
  {
   "cell_type": "code",
   "execution_count": 105,
   "id": "e6dbc03b",
   "metadata": {},
   "outputs": [
    {
     "data": {
      "text/plain": [
       "True"
      ]
     },
     "execution_count": 105,
     "metadata": {},
     "output_type": "execute_result"
    }
   ],
   "source": [
    "x.endswith(\"easy.\")"
   ]
  },
  {
   "cell_type": "code",
   "execution_count": 106,
   "id": "15871dee",
   "metadata": {},
   "outputs": [
    {
     "name": "stdout",
     "output_type": "stream",
     "text": [
      "False\n",
      "True\n",
      "OUTPUT IS True OR False.\n"
     ]
    }
   ],
   "source": [
    "def startswith_endswith(name,x,y): \n",
    "    \"This function will return value in True and False.\"\n",
    "    try:\n",
    "        print(name.startswith(x))\n",
    "        print(name.endswith(y))\n",
    "        print(\"OUTPUT IS True OR False.\")\n",
    "\n",
    "    except Exception as e:\n",
    "        print(e)\n",
    "startswith_endswith(\"Hello whats up?\",\"HELLO\",\"up?\")"
   ]
  },
  {
   "cell_type": "code",
   "execution_count": 107,
   "id": "72fd97a0",
   "metadata": {},
   "outputs": [
    {
     "name": "stdout",
     "output_type": "stream",
     "text": [
      "True\n",
      "False\n",
      "OUTPUT IS True OR False.\n"
     ]
    }
   ],
   "source": [
    "startswith_endswith(\"BYE bye\",\"BYE\",\"d\") "
   ]
  },
  {
   "cell_type": "code",
   "execution_count": null,
   "id": "9b337af3",
   "metadata": {},
   "outputs": [],
   "source": [
    "13.Split/splitlines method of string using function method\n",
    "-- remember output of this split function is in list"
   ]
  },
  {
   "cell_type": "code",
   "execution_count": 108,
   "id": "f3aca8be",
   "metadata": {},
   "outputs": [
    {
     "data": {
      "text/plain": [
       "'Learning Python is easy.'"
      ]
     },
     "execution_count": 108,
     "metadata": {},
     "output_type": "execute_result"
    }
   ],
   "source": [
    "x"
   ]
  },
  {
   "cell_type": "code",
   "execution_count": 109,
   "id": "cdfa8495",
   "metadata": {},
   "outputs": [
    {
     "data": {
      "text/plain": [
       "['Learning', 'Python', 'is', 'easy.']"
      ]
     },
     "execution_count": 109,
     "metadata": {},
     "output_type": "execute_result"
    }
   ],
   "source": [
    "x.split()"
   ]
  },
  {
   "cell_type": "code",
   "execution_count": 110,
   "id": "a921472f",
   "metadata": {},
   "outputs": [
    {
     "data": {
      "text/plain": [
       "['Learning Python is easy.']"
      ]
     },
     "execution_count": 110,
     "metadata": {},
     "output_type": "execute_result"
    }
   ],
   "source": [
    "x.splitlines()"
   ]
  },
  {
   "cell_type": "code",
   "execution_count": 111,
   "id": "1b3bf5c9",
   "metadata": {},
   "outputs": [
    {
     "name": "stdout",
     "output_type": "stream",
     "text": [
      "['MERRY', 'CHRISTMAS']\n",
      "['MERRY CHRISTMAS']\n",
      "Remember output of this split function is in list\n"
     ]
    }
   ],
   "source": [
    "def split_spiltnes(string):\n",
    "    \"This function split string into list.\"\n",
    "    try:\n",
    "        print(string.split())\n",
    "        print(string.splitlines())\n",
    "        print(\"Remember output of this split function is in list\")\n",
    "\n",
    "    except Exception as e:\n",
    "        print(e)\n",
    "split_spiltnes(\"MERRY CHRISTMAS\")"
   ]
  },
  {
   "cell_type": "code",
   "execution_count": 112,
   "id": "4072ed23",
   "metadata": {},
   "outputs": [
    {
     "name": "stdout",
     "output_type": "stream",
     "text": [
      "['JJHF', 'HJHF', 'DBJK', 'FDJFD']\n",
      "['JJHF HJHF DBJK  FDJFD']\n",
      "Remember output of this split function is in list\n"
     ]
    }
   ],
   "source": [
    "split_spiltnes(\"JJHF HJHF DBJK  FDJFD\")"
   ]
  },
  {
   "cell_type": "code",
   "execution_count": null,
   "id": "cd534847",
   "metadata": {},
   "outputs": [],
   "source": [
    "14.Replace Function in string using function method:"
   ]
  },
  {
   "cell_type": "code",
   "execution_count": 113,
   "id": "d39be5af",
   "metadata": {},
   "outputs": [
    {
     "data": {
      "text/plain": [
       "'Learning Python is easy.'"
      ]
     },
     "execution_count": 113,
     "metadata": {},
     "output_type": "execute_result"
    }
   ],
   "source": [
    "x"
   ]
  },
  {
   "cell_type": "code",
   "execution_count": 114,
   "id": "65bb75f5",
   "metadata": {},
   "outputs": [
    {
     "data": {
      "text/plain": [
       "'Learning Python is hard.'"
      ]
     },
     "execution_count": 114,
     "metadata": {},
     "output_type": "execute_result"
    }
   ],
   "source": [
    "x.replace('easy','hard')"
   ]
  },
  {
   "cell_type": "code",
   "execution_count": 115,
   "id": "7e376b98",
   "metadata": {},
   "outputs": [
    {
     "name": "stdout",
     "output_type": "stream",
     "text": [
      "Learning Python is hard.\n"
     ]
    }
   ],
   "source": [
    "def replace_func(string,nam,nam1):\n",
    "    \"This function will replace an element with new element.\"\n",
    "    try:\n",
    "        print(string.replace(nam,nam1))\n",
    "    except Exception as e:\n",
    "        print(e)\n",
    "replace_func('Learning Python is easy.','easy','hard')"
   ]
  },
  {
   "cell_type": "code",
   "execution_count": 116,
   "id": "03079542",
   "metadata": {},
   "outputs": [
    {
     "name": "stdout",
     "output_type": "stream",
     "text": [
      "a b fr gy\n"
     ]
    }
   ],
   "source": [
    "replace_func(\"a b c gy\",'c','fr')"
   ]
  },
  {
   "cell_type": "code",
   "execution_count": 117,
   "id": "0c375863",
   "metadata": {},
   "outputs": [
    {
     "name": "stdout",
     "output_type": "stream",
     "text": [
      "south pole\n"
     ]
    }
   ],
   "source": [
    "replace_func(\"north pole\",\"north\",\"south\")"
   ]
  },
  {
   "cell_type": "code",
   "execution_count": null,
   "id": "acee6ed2",
   "metadata": {},
   "outputs": [],
   "source": [
    "15.Find method of string using function."
   ]
  },
  {
   "cell_type": "code",
   "execution_count": 118,
   "id": "ad59aa97",
   "metadata": {},
   "outputs": [
    {
     "data": {
      "text/plain": [
       "'Learning Python is easy.'"
      ]
     },
     "execution_count": 118,
     "metadata": {},
     "output_type": "execute_result"
    }
   ],
   "source": [
    "x"
   ]
  },
  {
   "cell_type": "code",
   "execution_count": 119,
   "id": "83b4baa1",
   "metadata": {},
   "outputs": [
    {
     "data": {
      "text/plain": [
       "16"
      ]
     },
     "execution_count": 119,
     "metadata": {},
     "output_type": "execute_result"
    }
   ],
   "source": [
    "x.find(\"is\")"
   ]
  },
  {
   "cell_type": "code",
   "execution_count": 120,
   "id": "8e2fbcff",
   "metadata": {},
   "outputs": [
    {
     "data": {
      "text/plain": [
       "2"
      ]
     },
     "execution_count": 120,
     "metadata": {},
     "output_type": "execute_result"
    }
   ],
   "source": [
    "x.find('a')"
   ]
  },
  {
   "cell_type": "code",
   "execution_count": 121,
   "id": "d25750f2",
   "metadata": {},
   "outputs": [
    {
     "name": "stdout",
     "output_type": "stream",
     "text": [
      "5\n",
      "This function will find an element and gives its first index number as output.\n"
     ]
    }
   ],
   "source": [
    "def find_funct(string,name):\n",
    "    \"This function will find an element and gives its first index number as output.\"\n",
    "    try:\n",
    "        print(string.find(name))\n",
    "        print(\"This function will find an element and gives its first index number as output.\")\n",
    "    except Exception as e:\n",
    "        print(e)\n",
    "find_funct(\"WEL COME HOME\",'O')"
   ]
  }
 ],
 "metadata": {
  "kernelspec": {
   "display_name": "Python 3 (ipykernel)",
   "language": "python",
   "name": "python3"
  },
  "language_info": {
   "codemirror_mode": {
    "name": "ipython",
    "version": 3
   },
   "file_extension": ".py",
   "mimetype": "text/x-python",
   "name": "python",
   "nbconvert_exporter": "python",
   "pygments_lexer": "ipython3",
   "version": "3.9.12"
  }
 },
 "nbformat": 4,
 "nbformat_minor": 5
}
