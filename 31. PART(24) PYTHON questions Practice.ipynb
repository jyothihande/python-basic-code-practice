{
 "cells": [
  {
   "cell_type": "markdown",
   "id": "2e9aec79",
   "metadata": {},
   "source": [
    "# Q1. Python Program to Find Largest Number in a List."
   ]
  },
  {
   "cell_type": "code",
   "execution_count": 1,
   "id": "879f4bae",
   "metadata": {},
   "outputs": [
    {
     "name": "stdout",
     "output_type": "stream",
     "text": [
      "Largest element is: 99\n"
     ]
    }
   ],
   "source": [
    "# list of numbers\n",
    "list1 = [10, 20, 4, 45, 99]\n",
    " \n",
    "# sorting the list\n",
    "list1.sort()\n",
    " \n",
    "# printing the last element\n",
    "print(\"Largest element is:\", list1[-1])"
   ]
  },
  {
   "cell_type": "code",
   "execution_count": 2,
   "id": "c36c62b5",
   "metadata": {},
   "outputs": [
    {
     "name": "stdout",
     "output_type": "stream",
     "text": [
      "Largest element is: 99\n"
     ]
    }
   ],
   "source": [
    "# List of numbers\n",
    "list1 = [10, 20, 4, 45, 99]\n",
    " \n",
    "# Printing the maximum element\n",
    "print(\"Largest element is:\", max(list1))"
   ]
  },
  {
   "cell_type": "code",
   "execution_count": 4,
   "id": "830940c0",
   "metadata": {},
   "outputs": [
    {
     "name": "stdout",
     "output_type": "stream",
     "text": [
      "100\n"
     ]
    }
   ],
   "source": [
    "list1 = [20, 10, 20, 4, 100]\n",
    "print(max(list1, key=lambda value: int(value)) )"
   ]
  },
  {
   "cell_type": "markdown",
   "id": "eb4e09f6",
   "metadata": {},
   "source": [
    "# Q2.Python Program to Find Second Largest Number in List."
   ]
  },
  {
   "cell_type": "code",
   "execution_count": 16,
   "id": "72d16afb",
   "metadata": {},
   "outputs": [
    {
     "name": "stdout",
     "output_type": "stream",
     "text": [
      "The second largest element of the list is:  32\n"
     ]
    }
   ],
   "source": [
    "# Method 2: Removing the max element\n",
    "list1 = [12, 32, 45, 21, 22, 11]\n",
    "\n",
    "def method2(list1):\n",
    "    list1.remove(max(list1))\n",
    "    print(\"The second largest element of the list is: \", max(list1))\n",
    "method2(list1)"
   ]
  },
  {
   "cell_type": "code",
   "execution_count": 17,
   "id": "d7bc1261",
   "metadata": {},
   "outputs": [
    {
     "name": "stdout",
     "output_type": "stream",
     "text": [
      "Second largest element is: 45\n"
     ]
    }
   ],
   "source": [
    "# List of numbers\n",
    "list1 = [10, 20, 20, 4, 45, 45, 45, 99, 99]\n",
    " \n",
    "# Removing duplicates from the list\n",
    "list2 = list(set(list1))\n",
    " \n",
    "# Sorting the  list\n",
    "list2.sort()\n",
    " \n",
    "# Printing the second last element\n",
    "print(\"Second largest element is:\", list2[-2])"
   ]
  },
  {
   "cell_type": "markdown",
   "id": "88d68ecd",
   "metadata": {},
   "source": [
    "# Q3.Python Program to Find Smallest Number in a List."
   ]
  },
  {
   "cell_type": "code",
   "execution_count": 21,
   "id": "848194bd",
   "metadata": {},
   "outputs": [
    {
     "name": "stdout",
     "output_type": "stream",
     "text": [
      "Smallest element is: 1\n"
     ]
    }
   ],
   "source": [
    "# list of numbers\n",
    "list1 = [10, 20, 1, 45, 99]\n",
    "\n",
    "# sorting the list\n",
    "list1.sort()\n",
    "\n",
    "# printing the first element\n",
    "print(\"Smallest element is:\", list1[0])"
   ]
  },
  {
   "cell_type": "code",
   "execution_count": 22,
   "id": "759ff547",
   "metadata": {},
   "outputs": [
    {
     "name": "stdout",
     "output_type": "stream",
     "text": [
      "Smallest element is: 1\n"
     ]
    }
   ],
   "source": [
    "# list of numbers\n",
    "list1 = [10, 20, 1, 45, 99]\n",
    "# printing the minimum element\n",
    "print(\"Smallest element is:\", min(list1))"
   ]
  },
  {
   "cell_type": "markdown",
   "id": "0e08d6e2",
   "metadata": {},
   "source": [
    "# Q4. Python Program to Find Second Smallest Number in List."
   ]
  },
  {
   "cell_type": "code",
   "execution_count": 23,
   "id": "632c8469",
   "metadata": {},
   "outputs": [
    {
     "name": "stdout",
     "output_type": "stream",
     "text": [
      "Largest element is: 45\n",
      "Smallest element is: 2\n",
      "Second Largest element is: 41\n",
      "Second Smallest element is: 4\n"
     ]
    }
   ],
   "source": [
    "def find_len(list1):\n",
    "    length = len(list1)\n",
    "    list1.sort()\n",
    "    print(\"Largest element is:\", list1[length-1])\n",
    "    print(\"Smallest element is:\", list1[0])\n",
    "    print(\"Second Largest element is:\", list1[length-2])\n",
    "    print(\"Second Smallest element is:\", list1[1])\n",
    "\n",
    "#Driver Code\n",
    "list1=[12, 45, 2, 41, 31, 10, 8, 6, 4]\n",
    "Largest = find_len(list1)"
   ]
  },
  {
   "cell_type": "code",
   "execution_count": 25,
   "id": "762b415a",
   "metadata": {},
   "outputs": [
    {
     "name": "stdout",
     "output_type": "stream",
     "text": [
      "(2, 45, 4, 41)\n"
     ]
    }
   ],
   "source": [
    "def find_elements(list1):\n",
    "    smallest = min(list1)\n",
    "    largest = max(list1)\n",
    "    list1.remove(smallest)\n",
    "    list1.remove(largest)\n",
    "    second_smallest = min(list1)\n",
    "    second_largest = max(list1)\n",
    "    return smallest, largest, second_smallest, second_largest\n",
    "list1=[12, 45, 2, 41, 31, 10, 8, 6, 4]\n",
    "print(find_elements(list1))"
   ]
  },
  {
   "cell_type": "code",
   "execution_count": null,
   "id": "a5bd441b",
   "metadata": {},
   "outputs": [],
   "source": []
  }
 ],
 "metadata": {
  "kernelspec": {
   "display_name": "Python 3 (ipykernel)",
   "language": "python",
   "name": "python3"
  },
  "language_info": {
   "codemirror_mode": {
    "name": "ipython",
    "version": 3
   },
   "file_extension": ".py",
   "mimetype": "text/x-python",
   "name": "python",
   "nbconvert_exporter": "python",
   "pygments_lexer": "ipython3",
   "version": "3.9.12"
  }
 },
 "nbformat": 4,
 "nbformat_minor": 5
}
