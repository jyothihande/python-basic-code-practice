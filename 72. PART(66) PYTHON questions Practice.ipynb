{
 "cells": [
  {
   "cell_type": "markdown",
   "id": "4a1aee12",
   "metadata": {},
   "source": [
    "# Q1.Python Program to Count the Number of Words and Characters in a String."
   ]
  },
  {
   "cell_type": "code",
   "execution_count": 5,
   "id": "1dbce24b",
   "metadata": {},
   "outputs": [
    {
     "name": "stdout",
     "output_type": "stream",
     "text": [
      "Enter string:Learn Data science \n",
      "Number of words in the string:\n",
      "4\n",
      "Number of characters in the string:\n",
      "19\n"
     ]
    }
   ],
   "source": [
    "string=input(\"Enter string:\")\n",
    "char=0\n",
    "word=1\n",
    "for i in string:Q\n",
    "    char=char+1\n",
    "    if(i==' '):\n",
    "        word=word+1\n",
    "print(\"Number of words in the string:\")\n",
    "print(word)\n",
    "print(\"Number of characters in the string:\")\n",
    "print(char)"
   ]
  },
  {
   "cell_type": "markdown",
   "id": "9cd7a0e4",
   "metadata": {},
   "source": [
    "# Q2.Python Program to Print All Letters Present in Both Strings."
   ]
  },
  {
   "cell_type": "code",
   "execution_count": 7,
   "id": "d30fa3b8",
   "metadata": {},
   "outputs": [
    {
     "name": "stdout",
     "output_type": "stream",
     "text": [
      "Enter first string:Hello\n",
      "Enter second string:Byee\n",
      "The letters are:\n",
      "e\n",
      "H\n",
      "B\n",
      "y\n",
      "l\n",
      "o\n"
     ]
    }
   ],
   "source": [
    "s1=input(\"Enter first string:\")\n",
    "s2=input(\"Enter second string:\")\n",
    "a=list(set(s1)|set(s2))\n",
    "print(\"The letters are:\")\n",
    "for i in a:\n",
    "    print(i)"
   ]
  },
  {
   "cell_type": "markdown",
   "id": "803d4af6",
   "metadata": {},
   "source": [
    "# Q3.Python Program to Check if the Substring is Present in the Given String."
   ]
  },
  {
   "cell_type": "code",
   "execution_count": 9,
   "id": "55d40018",
   "metadata": {},
   "outputs": [
    {
     "name": "stdout",
     "output_type": "stream",
     "text": [
      "Enter string:hii whats up?\n",
      "Enter word:hii\n",
      "Substring in string!\n"
     ]
    }
   ],
   "source": [
    "string=input(\"Enter string:\")\n",
    "sub_str=input(\"Enter word:\")\n",
    "if(string.find(sub_str)==-1):\n",
    "      print(\"Substring not found in string!\")\n",
    "else:\n",
    "      print(\"Substring in string!\")"
   ]
  },
  {
   "cell_type": "markdown",
   "id": "f86e9574",
   "metadata": {},
   "source": [
    "# Q4.Python Program to Find the Larger String without using Built-in Functions."
   ]
  },
  {
   "cell_type": "code",
   "execution_count": 10,
   "id": "59234595",
   "metadata": {},
   "outputs": [
    {
     "name": "stdout",
     "output_type": "stream",
     "text": [
      "Enter first string:Data\n",
      "Enter second string:Science\n",
      "Larger string is:\n",
      "Science\n"
     ]
    }
   ],
   "source": [
    "string1=input(\"Enter first string:\")\n",
    "string2=input(\"Enter second string:\")\n",
    "count1=0\n",
    "count2=0\n",
    "for i in string1:\n",
    "    count1=count1+1\n",
    "for j in string2:\n",
    "    count2=count2+1\n",
    "if(count1<count2):\n",
    "    print(\"Larger string is:\")\n",
    "    print(string2)\n",
    "elif(count1==count2):\n",
    "    print(\"Both strings are equal.\")\n",
    "else:\n",
    "    print(\"Larger string is:\")\n",
    "    print(string1)"
   ]
  },
  {
   "cell_type": "code",
   "execution_count": null,
   "id": "37e21f0d",
   "metadata": {},
   "outputs": [],
   "source": []
  }
 ],
 "metadata": {
  "kernelspec": {
   "display_name": "Python 3 (ipykernel)",
   "language": "python",
   "name": "python3"
  },
  "language_info": {
   "codemirror_mode": {
    "name": "ipython",
    "version": 3
   },
   "file_extension": ".py",
   "mimetype": "text/x-python",
   "name": "python",
   "nbconvert_exporter": "python",
   "pygments_lexer": "ipython3",
   "version": "3.9.12"
  }
 },
 "nbformat": 4,
 "nbformat_minor": 5
}
