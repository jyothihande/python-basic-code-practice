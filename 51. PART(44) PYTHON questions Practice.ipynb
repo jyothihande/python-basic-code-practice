{
 "cells": [
  {
   "cell_type": "markdown",
   "id": "f64a7d3c",
   "metadata": {},
   "source": [
    "# Q1.Python Program to Convert Two Lists Into a Dictionary."
   ]
  },
  {
   "cell_type": "code",
   "execution_count": 1,
   "id": "734f9513",
   "metadata": {},
   "outputs": [
    {
     "name": "stdout",
     "output_type": "stream",
     "text": [
      "{1: 'python', 2: 'c', 3: 'c++'}\n"
     ]
    }
   ],
   "source": [
    "index = [1, 2, 3]\n",
    "languages = ['python', 'c', 'c++']\n",
    "\n",
    "dictionary = dict(zip(index, languages))\n",
    "print(dictionary)"
   ]
  },
  {
   "cell_type": "code",
   "execution_count": 2,
   "id": "ffebc5b3",
   "metadata": {},
   "outputs": [
    {
     "name": "stdout",
     "output_type": "stream",
     "text": [
      "{1: 'python', 2: 'c', 3: 'c++'}\n"
     ]
    }
   ],
   "source": [
    "index = [1, 2, 3]\n",
    "languages = ['python', 'c', 'c++']\n",
    "\n",
    "dictionary = {k: v for k, v in zip(index, languages)}\n",
    "print(dictionary)"
   ]
  },
  {
   "cell_type": "markdown",
   "id": "66041215",
   "metadata": {},
   "source": [
    "# Q2.Python Program to Create a Long Multiline String."
   ]
  },
  {
   "cell_type": "code",
   "execution_count": 3,
   "id": "610387b1",
   "metadata": {},
   "outputs": [
    {
     "name": "stdout",
     "output_type": "stream",
     "text": [
      "The only way to\n",
      "learn to program is\n",
      "by writing code.\n"
     ]
    }
   ],
   "source": [
    "my_string = '''The only way to\n",
    "learn to program is\n",
    "by writing code.'''\n",
    "\n",
    "print(my_string)"
   ]
  },
  {
   "cell_type": "code",
   "execution_count": 4,
   "id": "b61e9a7c",
   "metadata": {},
   "outputs": [
    {
     "name": "stdout",
     "output_type": "stream",
     "text": [
      "The only way to \n",
      "learn to program is \n",
      "by writing code.\n"
     ]
    }
   ],
   "source": [
    "my_string = (\"The only way to \\n\"\n",
    "        \"learn to program is \\n\"\n",
    "        \"by writing code.\")\n",
    "\n",
    "print(my_string)"
   ]
  },
  {
   "cell_type": "markdown",
   "id": "40d794c0",
   "metadata": {},
   "source": [
    "# Q3.Python Program to Delete an Element From a Dictionary."
   ]
  },
  {
   "cell_type": "code",
   "execution_count": 5,
   "id": "e3c050f8",
   "metadata": {},
   "outputs": [
    {
     "name": "stdout",
     "output_type": "stream",
     "text": [
      "{21: 'b', 14: 'c'}\n"
     ]
    }
   ],
   "source": [
    "my_dict = {31: 'a', 21: 'b', 14: 'c'}\n",
    "\n",
    "del my_dict[31]\n",
    "\n",
    "print(my_dict)"
   ]
  },
  {
   "cell_type": "code",
   "execution_count": 6,
   "id": "a3156c21",
   "metadata": {},
   "outputs": [
    {
     "name": "stdout",
     "output_type": "stream",
     "text": [
      "a\n",
      "{21: 'b', 14: 'c'}\n"
     ]
    }
   ],
   "source": [
    "my_dict = {31: 'a', 21: 'b', 14: 'c'}\n",
    "\n",
    "print(my_dict.pop(31))\n",
    "\n",
    "print(my_dict)"
   ]
  },
  {
   "cell_type": "markdown",
   "id": "be2ff800",
   "metadata": {},
   "source": [
    "# Q4.Python Program to Count the Occurrence of an Item in a List."
   ]
  },
  {
   "cell_type": "code",
   "execution_count": 7,
   "id": "b74bea82",
   "metadata": {},
   "outputs": [
    {
     "name": "stdout",
     "output_type": "stream",
     "text": [
      "3\n"
     ]
    }
   ],
   "source": [
    "freq = ['a', 1, 'a', 4, 3, 2, 'a'].count('a')\n",
    "print(freq)"
   ]
  },
  {
   "cell_type": "markdown",
   "id": "3f4a713b",
   "metadata": {},
   "source": [
    "# Q5.Python Program to Check If a String Is a Number (Float)."
   ]
  },
  {
   "cell_type": "code",
   "execution_count": 8,
   "id": "a39b8142",
   "metadata": {},
   "outputs": [
    {
     "name": "stdout",
     "output_type": "stream",
     "text": [
      "False\n",
      "True\n"
     ]
    }
   ],
   "source": [
    "def isfloat(num):\n",
    "    try:\n",
    "        float(num)\n",
    "        return True\n",
    "    except ValueError:\n",
    "        return False\n",
    "\n",
    "print(isfloat('s12'))\n",
    "print(isfloat('1.123'))"
   ]
  },
  {
   "cell_type": "code",
   "execution_count": null,
   "id": "1373cc48",
   "metadata": {},
   "outputs": [],
   "source": []
  }
 ],
 "metadata": {
  "kernelspec": {
   "display_name": "Python 3 (ipykernel)",
   "language": "python",
   "name": "python3"
  },
  "language_info": {
   "codemirror_mode": {
    "name": "ipython",
    "version": 3
   },
   "file_extension": ".py",
   "mimetype": "text/x-python",
   "name": "python",
   "nbconvert_exporter": "python",
   "pygments_lexer": "ipython3",
   "version": "3.9.12"
  }
 },
 "nbformat": 4,
 "nbformat_minor": 5
}
