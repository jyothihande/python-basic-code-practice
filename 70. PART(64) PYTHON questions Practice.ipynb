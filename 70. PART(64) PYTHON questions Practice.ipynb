{
 "cells": [
  {
   "cell_type": "markdown",
   "id": "3ccedf53",
   "metadata": {},
   "source": [
    "# Q1.Python Program to Remove Odd Indexed Characters in a string."
   ]
  },
  {
   "cell_type": "code",
   "execution_count": 2,
   "id": "ccbd2dc5",
   "metadata": {},
   "outputs": [
    {
     "name": "stdout",
     "output_type": "stream",
     "text": [
      "Enter string:Data science\n",
      "Modified string is:\n",
      "Dt cec\n"
     ]
    }
   ],
   "source": [
    "def modify(string):\n",
    "    final = \"\"\n",
    "    for i in range(len(string)):\n",
    "        if i % 2 == 0:\n",
    "            final = final + string[i]  \n",
    "    return final\n",
    "string=input(\"Enter string:\")\n",
    "print(\"Modified string is:\")\n",
    "print(modify(string))"
   ]
  },
  {
   "cell_type": "markdown",
   "id": "1355c1d8",
   "metadata": {},
   "source": [
    "# Q2.Python Program to Check if a String is a Pangram or Not."
   ]
  },
  {
   "cell_type": "code",
   "execution_count": 4,
   "id": "77323b13",
   "metadata": {},
   "outputs": [
    {
     "name": "stdout",
     "output_type": "stream",
     "text": [
      "Enter string:The five boxing wizards jump quickly\n",
      "The string is a pangram\n"
     ]
    }
   ],
   "source": [
    "from string import ascii_lowercase as asc_lower\n",
    "def check(s):\n",
    "    return set(asc_lower) - set(s.lower()) == set([])\n",
    "strng=input(\"Enter string:\")\n",
    "if(check(strng)==True):\n",
    "      print(\"The string is a pangram\")\n",
    "else:\n",
    "      print(\"The string isn't a pangram\")"
   ]
  },
  {
   "cell_type": "markdown",
   "id": "c1773902",
   "metadata": {},
   "source": [
    "# A pangram is a sentence or expression that uses all the letters of the alphabet. "
   ]
  },
  {
   "cell_type": "markdown",
   "id": "76350a3f",
   "metadata": {},
   "source": [
    "# Q3.Python Program to Remove the nth Index Character from a Non-Empty String."
   ]
  },
  {
   "cell_type": "code",
   "execution_count": 5,
   "id": "36c5ae82",
   "metadata": {},
   "outputs": [
    {
     "name": "stdout",
     "output_type": "stream",
     "text": [
      "Enter the sring:\"Hello...\",he said.\n",
      "Enter the index of the character to remove:5\n",
      "Modified string:\n",
      "\"Hell...\",he said.\n"
     ]
    }
   ],
   "source": [
    "def remove(string, n):\n",
    "    first = string[:n]\n",
    "    last = string[n+1:]  \n",
    "    return first + last\n",
    "string=input(\"Enter the sring:\")\n",
    "n=int(input(\"Enter the index of the character to remove:\"))\n",
    "print(\"Modified string:\")\n",
    "print(remove(string, n))"
   ]
  },
  {
   "cell_type": "code",
   "execution_count": null,
   "id": "389e8715",
   "metadata": {},
   "outputs": [],
   "source": []
  }
 ],
 "metadata": {
  "kernelspec": {
   "display_name": "Python 3 (ipykernel)",
   "language": "python",
   "name": "python3"
  },
  "language_info": {
   "codemirror_mode": {
    "name": "ipython",
    "version": 3
   },
   "file_extension": ".py",
   "mimetype": "text/x-python",
   "name": "python",
   "nbconvert_exporter": "python",
   "pygments_lexer": "ipython3",
   "version": "3.9.12"
  }
 },
 "nbformat": 4,
 "nbformat_minor": 5
}
