{
 "cells": [
  {
   "cell_type": "code",
   "execution_count": 1,
   "id": "4e610e90",
   "metadata": {},
   "outputs": [],
   "source": [
    "l=[1,2,3,4]*2"
   ]
  },
  {
   "cell_type": "code",
   "execution_count": 2,
   "id": "2392e59f",
   "metadata": {},
   "outputs": [
    {
     "data": {
      "text/plain": [
       "[1, 2, 3, 4, 1, 2, 3, 4]"
      ]
     },
     "execution_count": 2,
     "metadata": {},
     "output_type": "execute_result"
    }
   ],
   "source": [
    "l"
   ]
  },
  {
   "cell_type": "code",
   "execution_count": 3,
   "id": "98a57635",
   "metadata": {},
   "outputs": [
    {
     "name": "stdout",
     "output_type": "stream",
     "text": [
      "2\n",
      "4\n",
      "6\n",
      "8\n",
      "2\n",
      "4\n",
      "6\n",
      "8\n"
     ]
    }
   ],
   "source": [
    "for i in l:\n",
    "    print(2*i)"
   ]
  },
  {
   "cell_type": "code",
   "execution_count": null,
   "id": "019b25fb",
   "metadata": {},
   "outputs": [],
   "source": [
    "what is array?only single data type can be stored, store whole content at one place ,\n",
    "used for store bigger data example storing images.to simplyfy mathematical operations.\n",
    "and list? store at diffrent place in backend,used for storing small data\n",
    "NUMPY is library which have array-- why do we use numpy.used when large amount of data is stored and\n",
    "need to retrive them when needed becomes easy..all kind of data can be stored.\n",
    "to store one type of data at one place that makes operation easy and sorted.\n",
    "list with only one type of data.. string,int,float,blooean.\n"
   ]
  },
  {
   "cell_type": "code",
   "execution_count": 4,
   "id": "1b9c510f",
   "metadata": {},
   "outputs": [
    {
     "name": "stdout",
     "output_type": "stream",
     "text": [
      "Requirement already satisfied: numpy in c:\\users\\comp\\anaconda3\\lib\\site-packages (1.21.5)\n"
     ]
    }
   ],
   "source": [
    "!pip install numpy"
   ]
  },
  {
   "cell_type": "code",
   "execution_count": 5,
   "id": "d3c4f191",
   "metadata": {},
   "outputs": [],
   "source": [
    "import numpy as np # np is short name for numpy lib"
   ]
  },
  {
   "cell_type": "code",
   "execution_count": null,
   "id": "1f33b9e2",
   "metadata": {},
   "outputs": [],
   "source": [
    "--  Methods in Numpy"
   ]
  },
  {
   "cell_type": "code",
   "execution_count": 6,
   "id": "3e2b1d77",
   "metadata": {},
   "outputs": [
    {
     "data": {
      "text/plain": [
       "[1, 2, 3, 4, 1, 2, 3, 4]"
      ]
     },
     "execution_count": 6,
     "metadata": {},
     "output_type": "execute_result"
    }
   ],
   "source": [
    "l"
   ]
  },
  {
   "cell_type": "code",
   "execution_count": 7,
   "id": "a7c1c549",
   "metadata": {},
   "outputs": [
    {
     "data": {
      "text/plain": [
       "list"
      ]
     },
     "execution_count": 7,
     "metadata": {},
     "output_type": "execute_result"
    }
   ],
   "source": [
    "type(l)"
   ]
  },
  {
   "cell_type": "markdown",
   "id": "7cd053dc",
   "metadata": {},
   "source": [
    "#creating an array"
   ]
  },
  {
   "cell_type": "code",
   "execution_count": 8,
   "id": "53670370",
   "metadata": {},
   "outputs": [],
   "source": [
    "l1=np.array(l) "
   ]
  },
  {
   "cell_type": "code",
   "execution_count": 9,
   "id": "4ccd257f",
   "metadata": {},
   "outputs": [
    {
     "data": {
      "text/plain": [
       "array([1, 2, 3, 4, 1, 2, 3, 4])"
      ]
     },
     "execution_count": 9,
     "metadata": {},
     "output_type": "execute_result"
    }
   ],
   "source": [
    "l1"
   ]
  },
  {
   "cell_type": "markdown",
   "id": "3da6ff55",
   "metadata": {},
   "source": [
    "#nd is n dimensional array"
   ]
  },
  {
   "cell_type": "code",
   "execution_count": 10,
   "id": "ec098494",
   "metadata": {},
   "outputs": [
    {
     "data": {
      "text/plain": [
       "numpy.ndarray"
      ]
     },
     "execution_count": 10,
     "metadata": {},
     "output_type": "execute_result"
    }
   ],
   "source": [
    "type(l1) "
   ]
  },
  {
   "cell_type": "code",
   "execution_count": null,
   "id": "7e8cd60c",
   "metadata": {},
   "outputs": [],
   "source": [
    "ndim checks size of the array"
   ]
  },
  {
   "cell_type": "code",
   "execution_count": 11,
   "id": "72407519",
   "metadata": {},
   "outputs": [
    {
     "data": {
      "text/plain": [
       "1"
      ]
     },
     "execution_count": 11,
     "metadata": {},
     "output_type": "execute_result"
    }
   ],
   "source": [
    "l1.ndim "
   ]
  },
  {
   "cell_type": "markdown",
   "id": "de6edbf3",
   "metadata": {},
   "source": [
    "shape/dimension in tuple format , coma in output-- singles dimensional"
   ]
  },
  {
   "cell_type": "code",
   "execution_count": 12,
   "id": "d9eae3bd",
   "metadata": {},
   "outputs": [
    {
     "data": {
      "text/plain": [
       "(8,)"
      ]
     },
     "execution_count": 12,
     "metadata": {},
     "output_type": "execute_result"
    }
   ],
   "source": [
    "l1.shape "
   ]
  },
  {
   "cell_type": "markdown",
   "id": "931d257b",
   "metadata": {},
   "source": [
    "# creating an array"
   ]
  },
  {
   "cell_type": "code",
   "execution_count": 13,
   "id": "2d01dae6",
   "metadata": {},
   "outputs": [],
   "source": [
    "a=np.array([[1,10,100],[2,20,200]]) "
   ]
  },
  {
   "cell_type": "code",
   "execution_count": 14,
   "id": "8eae6d7f",
   "metadata": {},
   "outputs": [
    {
     "data": {
      "text/plain": [
       "array([[  1,  10, 100],\n",
       "       [  2,  20, 200]])"
      ]
     },
     "execution_count": 14,
     "metadata": {},
     "output_type": "execute_result"
    }
   ],
   "source": [
    "a"
   ]
  },
  {
   "cell_type": "code",
   "execution_count": 15,
   "id": "bb0c25d3",
   "metadata": {},
   "outputs": [
    {
     "data": {
      "text/plain": [
       "numpy.ndarray"
      ]
     },
     "execution_count": 15,
     "metadata": {},
     "output_type": "execute_result"
    }
   ],
   "source": [
    "type(a)"
   ]
  },
  {
   "cell_type": "code",
   "execution_count": 16,
   "id": "04eb09d0",
   "metadata": {},
   "outputs": [
    {
     "data": {
      "text/plain": [
       "2"
      ]
     },
     "execution_count": 16,
     "metadata": {},
     "output_type": "execute_result"
    }
   ],
   "source": [
    "a.ndim # gives output 2 dimen array"
   ]
  },
  {
   "cell_type": "code",
   "execution_count": 17,
   "id": "308a62ba",
   "metadata": {},
   "outputs": [
    {
     "data": {
      "text/plain": [
       "(2, 3)"
      ]
     },
     "execution_count": 17,
     "metadata": {},
     "output_type": "execute_result"
    }
   ],
   "source": [
    "a.shape # tuple as output 2 rows and 3 columns"
   ]
  },
  {
   "cell_type": "code",
   "execution_count": 18,
   "id": "9dd9b81e",
   "metadata": {},
   "outputs": [
    {
     "data": {
      "text/plain": [
       "dtype('int32')"
      ]
     },
     "execution_count": 18,
     "metadata": {},
     "output_type": "execute_result"
    }
   ],
   "source": [
    "a.dtype # shows type of sample in any array"
   ]
  },
  {
   "cell_type": "code",
   "execution_count": 19,
   "id": "27edb786",
   "metadata": {},
   "outputs": [],
   "source": [
    "b=np.array([['X','Y','Z'],['x','y','z']]) # string array"
   ]
  },
  {
   "cell_type": "code",
   "execution_count": null,
   "id": "5504a810",
   "metadata": {},
   "outputs": [],
   "source": [
    "1.single dimentional [1,10,100]\n",
    "2.two dimensional ['X','Y','Z'],['x','y','z']]\n",
    "3.three dimensional"
   ]
  },
  {
   "cell_type": "code",
   "execution_count": null,
   "id": "73b3be6a",
   "metadata": {},
   "outputs": [],
   "source": [
    "-- create blank array 2x2,3x3, "
   ]
  },
  {
   "cell_type": "code",
   "execution_count": 20,
   "id": "de4fb1c8",
   "metadata": {},
   "outputs": [
    {
     "data": {
      "text/plain": [
       "array([1., 1., 1.])"
      ]
     },
     "execution_count": 20,
     "metadata": {},
     "output_type": "execute_result"
    }
   ],
   "source": [
    "a=np.ones(3) # default output data type will be float only\n",
    "a            # 1D output"
   ]
  },
  {
   "cell_type": "code",
   "execution_count": 21,
   "id": "04638620",
   "metadata": {},
   "outputs": [
    {
     "data": {
      "text/plain": [
       "array([[0., 0., 0.],\n",
       "       [0., 0., 0.]])"
      ]
     },
     "execution_count": 21,
     "metadata": {},
     "output_type": "execute_result"
    }
   ],
   "source": [
    "b=np.zeros((2,3))\n",
    "b            # output is 2D"
   ]
  },
  {
   "cell_type": "code",
   "execution_count": 22,
   "id": "e0f0afd9",
   "metadata": {},
   "outputs": [
    {
     "data": {
      "text/plain": [
       "array([[1., 1.],\n",
       "       [1., 1.]])"
      ]
     },
     "execution_count": 22,
     "metadata": {},
     "output_type": "execute_result"
    }
   ],
   "source": [
    "a=np.ones((2,2))\n",
    "a            # output 2D"
   ]
  },
  {
   "cell_type": "code",
   "execution_count": 23,
   "id": "5c26eabe",
   "metadata": {},
   "outputs": [
    {
     "data": {
      "text/plain": [
       "array([[[0., 0., 0.],\n",
       "        [0., 0., 0.],\n",
       "        [0., 0., 0.]],\n",
       "\n",
       "       [[0., 0., 0.],\n",
       "        [0., 0., 0.],\n",
       "        [0., 0., 0.]]])"
      ]
     },
     "execution_count": 23,
     "metadata": {},
     "output_type": "execute_result"
    }
   ],
   "source": [
    "c=np.zeros((2,3,3)) # gives 2 array with 3 rows and 3 columns\n",
    "c                   # output is 3D"
   ]
  },
  {
   "cell_type": "code",
   "execution_count": null,
   "id": "b18671f3",
   "metadata": {},
   "outputs": [],
   "source": [
    "if you want output as in int type then"
   ]
  },
  {
   "cell_type": "code",
   "execution_count": 24,
   "id": "007c8491",
   "metadata": {},
   "outputs": [],
   "source": [
    "a=np.ones(3,dtype = int)"
   ]
  },
  {
   "cell_type": "code",
   "execution_count": 25,
   "id": "b3f5dab9",
   "metadata": {},
   "outputs": [
    {
     "data": {
      "text/plain": [
       "array([1, 1, 1])"
      ]
     },
     "execution_count": 25,
     "metadata": {},
     "output_type": "execute_result"
    }
   ],
   "source": [
    "a # check diffrence in output"
   ]
  },
  {
   "cell_type": "code",
   "execution_count": 26,
   "id": "5d30d227",
   "metadata": {},
   "outputs": [
    {
     "data": {
      "text/plain": [
       "array([1., 1., 1.])"
      ]
     },
     "execution_count": 26,
     "metadata": {},
     "output_type": "execute_result"
    }
   ],
   "source": [
    "a=np.ones(3)\n",
    "a"
   ]
  },
  {
   "cell_type": "code",
   "execution_count": 27,
   "id": "a14311a6",
   "metadata": {},
   "outputs": [
    {
     "data": {
      "text/plain": [
       "array(['1', '1', '1'], dtype='<U1')"
      ]
     },
     "execution_count": 27,
     "metadata": {},
     "output_type": "execute_result"
    }
   ],
   "source": [
    "a=np.ones(3,dtype = str)\n",
    "a"
   ]
  },
  {
   "cell_type": "code",
   "execution_count": 28,
   "id": "b2f8162b",
   "metadata": {},
   "outputs": [
    {
     "data": {
      "text/plain": [
       "array([ True,  True,  True])"
      ]
     },
     "execution_count": 28,
     "metadata": {},
     "output_type": "execute_result"
    }
   ],
   "source": [
    "a=np.ones(3,dtype = bool)\n",
    "a"
   ]
  },
  {
   "cell_type": "code",
   "execution_count": null,
   "id": "89d3b3e9",
   "metadata": {},
   "outputs": [],
   "source": [
    "-- Range in array gives 1 dimensional as output always"
   ]
  },
  {
   "cell_type": "code",
   "execution_count": 29,
   "id": "9c117e43",
   "metadata": {},
   "outputs": [
    {
     "data": {
      "text/plain": [
       "array([11, 22, 33, 44, 55])"
      ]
     },
     "execution_count": 29,
     "metadata": {},
     "output_type": "execute_result"
    }
   ],
   "source": [
    "x=np.array([11,22,33,44,55])\n",
    "x"
   ]
  },
  {
   "cell_type": "code",
   "execution_count": 30,
   "id": "f4d338c6",
   "metadata": {},
   "outputs": [
    {
     "data": {
      "text/plain": [
       "array([ 1,  2,  3,  4,  5,  6,  7,  8,  9, 10])"
      ]
     },
     "execution_count": 30,
     "metadata": {},
     "output_type": "execute_result"
    }
   ],
   "source": [
    "x=np.arange(1,11)\n",
    "x"
   ]
  },
  {
   "cell_type": "code",
   "execution_count": 31,
   "id": "3f5e944d",
   "metadata": {},
   "outputs": [
    {
     "data": {
      "text/plain": [
       "array([1, 3, 5, 7, 9])"
      ]
     },
     "execution_count": 31,
     "metadata": {},
     "output_type": "execute_result"
    }
   ],
   "source": [
    "x=np.arange(1,11,2)\n",
    "x"
   ]
  },
  {
   "cell_type": "code",
   "execution_count": 32,
   "id": "1c09cfcd",
   "metadata": {},
   "outputs": [
    {
     "data": {
      "text/plain": [
       "array([ 5,  6,  7,  8,  9, 10])"
      ]
     },
     "execution_count": 32,
     "metadata": {},
     "output_type": "execute_result"
    }
   ],
   "source": [
    "x=np.arange(5,11) #start from 5 till 10\n",
    "x"
   ]
  },
  {
   "cell_type": "code",
   "execution_count": 33,
   "id": "2746c69e",
   "metadata": {},
   "outputs": [
    {
     "data": {
      "text/plain": [
       "array([ 5,  6,  7,  8,  9, 10])"
      ]
     },
     "execution_count": 33,
     "metadata": {},
     "output_type": "execute_result"
    }
   ],
   "source": [
    "x=np.arange(5,11)\n",
    "x"
   ]
  },
  {
   "cell_type": "code",
   "execution_count": null,
   "id": "7cfda37e",
   "metadata": {},
   "outputs": [],
   "source": [
    "start-end-step "
   ]
  },
  {
   "cell_type": "code",
   "execution_count": 34,
   "id": "d58c0bca",
   "metadata": {},
   "outputs": [
    {
     "data": {
      "text/plain": [
       "array([ 1,  6, 11, 16, 21, 26, 31, 36, 41, 46])"
      ]
     },
     "execution_count": 34,
     "metadata": {},
     "output_type": "execute_result"
    }
   ],
   "source": [
    "x=np.arange(1,50,5)  \n",
    "x"
   ]
  },
  {
   "cell_type": "code",
   "execution_count": null,
   "id": "044621bc",
   "metadata": {},
   "outputs": [],
   "source": [
    "-- linspace"
   ]
  },
  {
   "cell_type": "code",
   "execution_count": 35,
   "id": "3119d0c1",
   "metadata": {},
   "outputs": [
    {
     "data": {
      "text/plain": [
       "array([1.        , 1.44444444, 1.88888889, 2.33333333, 2.77777778,\n",
       "       3.22222222, 3.66666667, 4.11111111, 4.55555556, 5.        ])"
      ]
     },
     "execution_count": 35,
     "metadata": {},
     "output_type": "execute_result"
    }
   ],
   "source": [
    "x=np.linspace(1,5,10) # 10 element betw 1 and 5 with same diffrence \n",
    "x # difference bwt two elements are same"
   ]
  },
  {
   "cell_type": "code",
   "execution_count": null,
   "id": "49f79f95",
   "metadata": {},
   "outputs": [],
   "source": [
    "--Reshape in array:"
   ]
  },
  {
   "cell_type": "code",
   "execution_count": 36,
   "id": "320a08e6",
   "metadata": {},
   "outputs": [
    {
     "data": {
      "text/plain": [
       "array([1, 2, 3, 4, 5, 6, 7, 8])"
      ]
     },
     "execution_count": 36,
     "metadata": {},
     "output_type": "execute_result"
    }
   ],
   "source": [
    "a=np.arange(1,9)\n",
    "a"
   ]
  },
  {
   "cell_type": "code",
   "execution_count": 37,
   "id": "740b5491",
   "metadata": {},
   "outputs": [
    {
     "data": {
      "text/plain": [
       "numpy.ndarray"
      ]
     },
     "execution_count": 37,
     "metadata": {},
     "output_type": "execute_result"
    }
   ],
   "source": [
    "type(a)"
   ]
  },
  {
   "cell_type": "code",
   "execution_count": 38,
   "id": "2ccc89a3",
   "metadata": {},
   "outputs": [
    {
     "data": {
      "text/plain": [
       "array([[1, 2, 3, 4],\n",
       "       [5, 6, 7, 8]])"
      ]
     },
     "execution_count": 38,
     "metadata": {},
     "output_type": "execute_result"
    }
   ],
   "source": [
    "a.reshape(2,4) # two dimensional "
   ]
  },
  {
   "cell_type": "code",
   "execution_count": 39,
   "id": "29fda268",
   "metadata": {},
   "outputs": [
    {
     "data": {
      "text/plain": [
       "array([[1, 2, 3, 4, 5, 6, 7, 8]])"
      ]
     },
     "execution_count": 39,
     "metadata": {},
     "output_type": "execute_result"
    }
   ],
   "source": [
    "a.reshape(1,8) # n colummns"
   ]
  },
  {
   "cell_type": "code",
   "execution_count": 40,
   "id": "8093dc52",
   "metadata": {},
   "outputs": [
    {
     "data": {
      "text/plain": [
       "array([[1, 2],\n",
       "       [3, 4],\n",
       "       [5, 6],\n",
       "       [7, 8]])"
      ]
     },
     "execution_count": 40,
     "metadata": {},
     "output_type": "execute_result"
    }
   ],
   "source": [
    "a.reshape(4,2)"
   ]
  },
  {
   "cell_type": "code",
   "execution_count": 41,
   "id": "4ee42351",
   "metadata": {},
   "outputs": [],
   "source": [
    "x=np.arange(1,26)"
   ]
  },
  {
   "cell_type": "code",
   "execution_count": 42,
   "id": "1686bcb2",
   "metadata": {},
   "outputs": [
    {
     "data": {
      "text/plain": [
       "array([ 1,  2,  3,  4,  5,  6,  7,  8,  9, 10, 11, 12, 13, 14, 15, 16, 17,\n",
       "       18, 19, 20, 21, 22, 23, 24, 25])"
      ]
     },
     "execution_count": 42,
     "metadata": {},
     "output_type": "execute_result"
    }
   ],
   "source": [
    "x"
   ]
  },
  {
   "cell_type": "code",
   "execution_count": 43,
   "id": "f6124093",
   "metadata": {},
   "outputs": [
    {
     "data": {
      "text/plain": [
       "array([[ 1,  2,  3,  4,  5],\n",
       "       [ 6,  7,  8,  9, 10],\n",
       "       [11, 12, 13, 14, 15],\n",
       "       [16, 17, 18, 19, 20],\n",
       "       [21, 22, 23, 24, 25]])"
      ]
     },
     "execution_count": 43,
     "metadata": {},
     "output_type": "execute_result"
    }
   ],
   "source": [
    "x.reshape(5,5) # 3D output"
   ]
  },
  {
   "cell_type": "code",
   "execution_count": 44,
   "id": "e4ebcda7",
   "metadata": {},
   "outputs": [
    {
     "ename": "ValueError",
     "evalue": "cannot reshape array of size 25 into shape (2,4,3)",
     "output_type": "error",
     "traceback": [
      "\u001b[1;31m---------------------------------------------------------------------------\u001b[0m",
      "\u001b[1;31mValueError\u001b[0m                                Traceback (most recent call last)",
      "Input \u001b[1;32mIn [44]\u001b[0m, in \u001b[0;36m<cell line: 1>\u001b[1;34m()\u001b[0m\n\u001b[1;32m----> 1\u001b[0m \u001b[43mx\u001b[49m\u001b[38;5;241;43m.\u001b[39;49m\u001b[43mreshape\u001b[49m\u001b[43m(\u001b[49m\u001b[38;5;241;43m2\u001b[39;49m\u001b[43m,\u001b[49m\u001b[38;5;241;43m4\u001b[39;49m\u001b[43m,\u001b[49m\u001b[38;5;241;43m3\u001b[39;49m\u001b[43m)\u001b[49m\n",
      "\u001b[1;31mValueError\u001b[0m: cannot reshape array of size 25 into shape (2,4,3)"
     ]
    }
   ],
   "source": [
    "x.reshape(2,4,3)"
   ]
  },
  {
   "cell_type": "code",
   "execution_count": 45,
   "id": "9f2434de",
   "metadata": {},
   "outputs": [
    {
     "data": {
      "text/plain": [
       "array([[ 1,  2],\n",
       "       [ 3,  4],\n",
       "       [ 5,  6],\n",
       "       [ 7,  8],\n",
       "       [ 9, 10],\n",
       "       [11, 12]])"
      ]
     },
     "execution_count": 45,
     "metadata": {},
     "output_type": "execute_result"
    }
   ],
   "source": [
    "x=np.arange(1,13).reshape(6,2)\n",
    "x"
   ]
  },
  {
   "cell_type": "code",
   "execution_count": 46,
   "id": "caa02675",
   "metadata": {},
   "outputs": [
    {
     "data": {
      "text/plain": [
       "array([[ 1,  2,  3],\n",
       "       [ 4,  5,  6],\n",
       "       [ 7,  8,  9],\n",
       "       [10, 11, 12]])"
      ]
     },
     "execution_count": 46,
     "metadata": {},
     "output_type": "execute_result"
    }
   ],
   "source": [
    "x=np.arange(1,13).reshape(4,3)\n",
    "x"
   ]
  },
  {
   "cell_type": "code",
   "execution_count": 47,
   "id": "03c5947a",
   "metadata": {},
   "outputs": [
    {
     "data": {
      "text/plain": [
       "array([[ 1,  2,  3],\n",
       "       [ 4,  5,  6],\n",
       "       [ 7,  8,  9],\n",
       "       [10, 11, 12]])"
      ]
     },
     "execution_count": 47,
     "metadata": {},
     "output_type": "execute_result"
    }
   ],
   "source": [
    "x"
   ]
  },
  {
   "cell_type": "code",
   "execution_count": 48,
   "id": "ee3f13eb",
   "metadata": {},
   "outputs": [
    {
     "data": {
      "text/plain": [
       "array([ 1,  2,  3,  4,  5,  6,  7,  8,  9, 10, 11, 12, 13, 14, 15, 16, 17,\n",
       "       18, 19, 20, 21, 22, 23, 24])"
      ]
     },
     "execution_count": 48,
     "metadata": {},
     "output_type": "execute_result"
    }
   ],
   "source": [
    "k=np.arange(1,25)\n",
    "k"
   ]
  },
  {
   "cell_type": "code",
   "execution_count": 49,
   "id": "80188b36",
   "metadata": {
    "scrolled": true
   },
   "outputs": [
    {
     "data": {
      "text/plain": [
       "array([[[ 1,  2,  3],\n",
       "        [ 4,  5,  6],\n",
       "        [ 7,  8,  9],\n",
       "        [10, 11, 12]],\n",
       "\n",
       "       [[13, 14, 15],\n",
       "        [16, 17, 18],\n",
       "        [19, 20, 21],\n",
       "        [22, 23, 24]]])"
      ]
     },
     "execution_count": 49,
     "metadata": {},
     "output_type": "execute_result"
    }
   ],
   "source": [
    "k.reshape(2,4,3)  # output is 2 arrays with 4 R and 3 C"
   ]
  },
  {
   "cell_type": "code",
   "execution_count": 50,
   "id": "84b4ab94",
   "metadata": {},
   "outputs": [
    {
     "data": {
      "text/plain": [
       "array([[[ 1,  2,  3,  4,  5,  6,  7,  8,  9, 10, 11, 12]],\n",
       "\n",
       "       [[13, 14, 15, 16, 17, 18, 19, 20, 21, 22, 23, 24]]])"
      ]
     },
     "execution_count": 50,
     "metadata": {},
     "output_type": "execute_result"
    }
   ],
   "source": [
    "k=np.arange(1,25).reshape(2,1,12) # two arrays with 1 row and 12 columbs\n",
    "k"
   ]
  },
  {
   "cell_type": "code",
   "execution_count": null,
   "id": "dbf279be",
   "metadata": {},
   "outputs": [],
   "source": [
    "--a.ravel makes array into one dimensional"
   ]
  },
  {
   "cell_type": "code",
   "execution_count": 51,
   "id": "fee6be50",
   "metadata": {},
   "outputs": [
    {
     "data": {
      "text/plain": [
       "array([ 1,  2,  3,  4,  5,  6,  7,  8,  9, 10, 11, 12, 13, 14, 15, 16, 17,\n",
       "       18, 19, 20, 21, 22, 23, 24])"
      ]
     },
     "execution_count": 51,
     "metadata": {},
     "output_type": "execute_result"
    }
   ],
   "source": [
    "k.ravel() # mqke an array one dimension less 3D to 2D"
   ]
  },
  {
   "cell_type": "code",
   "execution_count": 52,
   "id": "4cb4dd5a",
   "metadata": {},
   "outputs": [
    {
     "data": {
      "text/plain": [
       "array([ 1,  2,  3,  4,  5,  6,  7,  8,  9, 10, 11, 12])"
      ]
     },
     "execution_count": 52,
     "metadata": {},
     "output_type": "execute_result"
    }
   ],
   "source": [
    "x.flatten() # make an array into one dimensionl"
   ]
  },
  {
   "cell_type": "code",
   "execution_count": 53,
   "id": "e78d4495",
   "metadata": {},
   "outputs": [
    {
     "data": {
      "text/plain": [
       "array([[ 1,  2,  3,  4,  5],\n",
       "       [ 6,  7,  8,  9, 10],\n",
       "       [11, 12, 13, 14, 15]])"
      ]
     },
     "execution_count": 53,
     "metadata": {},
     "output_type": "execute_result"
    }
   ],
   "source": [
    "b=np.arange(1,16).reshape(3,5)\n",
    "b"
   ]
  },
  {
   "cell_type": "code",
   "execution_count": null,
   "id": "c88a3934",
   "metadata": {},
   "outputs": [],
   "source": [
    "-- transpose convert C to R and R to C"
   ]
  },
  {
   "cell_type": "code",
   "execution_count": 54,
   "id": "1a98f126",
   "metadata": {},
   "outputs": [
    {
     "data": {
      "text/plain": [
       "array([[ 1,  6, 11],\n",
       "       [ 2,  7, 12],\n",
       "       [ 3,  8, 13],\n",
       "       [ 4,  9, 14],\n",
       "       [ 5, 10, 15]])"
      ]
     },
     "execution_count": 54,
     "metadata": {},
     "output_type": "execute_result"
    }
   ],
   "source": [
    "b.transpose() "
   ]
  },
  {
   "cell_type": "code",
   "execution_count": null,
   "id": "ef4dc7a5",
   "metadata": {},
   "outputs": [],
   "source": [
    "b.reshape(1,-1) this -1 of reshape an array to one lower dimenasiona,, like from 3D to 2D\n"
   ]
  },
  {
   "cell_type": "code",
   "execution_count": 55,
   "id": "8bf85363",
   "metadata": {},
   "outputs": [
    {
     "data": {
      "text/plain": [
       "array([[ 1,  2,  3,  4,  5],\n",
       "       [ 6,  7,  8,  9, 10],\n",
       "       [11, 12, 13, 14, 15]])"
      ]
     },
     "execution_count": 55,
     "metadata": {},
     "output_type": "execute_result"
    }
   ],
   "source": [
    "b.reshape(1,-1)\n",
    "b"
   ]
  },
  {
   "cell_type": "code",
   "execution_count": null,
   "id": "87698ef4",
   "metadata": {},
   "outputs": [],
   "source": [
    "-- Add, Multipy,subtract,divide in array numpy:"
   ]
  },
  {
   "cell_type": "code",
   "execution_count": 56,
   "id": "a73a0b8a",
   "metadata": {},
   "outputs": [
    {
     "data": {
      "text/plain": [
       "array([[1, 2, 3],\n",
       "       [4, 5, 6],\n",
       "       [7, 8, 9]])"
      ]
     },
     "execution_count": 56,
     "metadata": {},
     "output_type": "execute_result"
    }
   ],
   "source": [
    "x=np.arange(1,10).reshape(3,3)\n",
    "x"
   ]
  },
  {
   "cell_type": "code",
   "execution_count": 57,
   "id": "1bf5fe5d",
   "metadata": {},
   "outputs": [
    {
     "data": {
      "text/plain": [
       "array([[10, 11, 12],\n",
       "       [13, 14, 15],\n",
       "       [16, 17, 18]])"
      ]
     },
     "execution_count": 57,
     "metadata": {},
     "output_type": "execute_result"
    }
   ],
   "source": [
    "y=np.arange(10,19).reshape(3,3)\n",
    "y"
   ]
  },
  {
   "cell_type": "code",
   "execution_count": 58,
   "id": "14e3fdc0",
   "metadata": {},
   "outputs": [
    {
     "data": {
      "text/plain": [
       "array([[11, 13, 15],\n",
       "       [17, 19, 21],\n",
       "       [23, 25, 27]])"
      ]
     },
     "execution_count": 58,
     "metadata": {},
     "output_type": "execute_result"
    }
   ],
   "source": [
    "np.add(x,y)"
   ]
  },
  {
   "cell_type": "code",
   "execution_count": 59,
   "id": "9c8b5b24",
   "metadata": {},
   "outputs": [
    {
     "data": {
      "text/plain": [
       "array([[9, 9, 9],\n",
       "       [9, 9, 9],\n",
       "       [9, 9, 9]])"
      ]
     },
     "execution_count": 59,
     "metadata": {},
     "output_type": "execute_result"
    }
   ],
   "source": [
    "np.subtract(y,x)"
   ]
  },
  {
   "cell_type": "code",
   "execution_count": 60,
   "id": "d2859a0f",
   "metadata": {},
   "outputs": [
    {
     "data": {
      "text/plain": [
       "array([[-9, -9, -9],\n",
       "       [-9, -9, -9],\n",
       "       [-9, -9, -9]])"
      ]
     },
     "execution_count": 60,
     "metadata": {},
     "output_type": "execute_result"
    }
   ],
   "source": [
    "np.subtract(x,y)"
   ]
  },
  {
   "cell_type": "code",
   "execution_count": 61,
   "id": "d5402edd",
   "metadata": {},
   "outputs": [
    {
     "data": {
      "text/plain": [
       "array([[ 10,  22,  36],\n",
       "       [ 52,  70,  90],\n",
       "       [112, 136, 162]])"
      ]
     },
     "execution_count": 61,
     "metadata": {},
     "output_type": "execute_result"
    }
   ],
   "source": [
    "np.multiply(x,y)"
   ]
  },
  {
   "cell_type": "code",
   "execution_count": 62,
   "id": "a7c95545",
   "metadata": {},
   "outputs": [
    {
     "data": {
      "text/plain": [
       "array([[0.1       , 0.18181818, 0.25      ],\n",
       "       [0.30769231, 0.35714286, 0.4       ],\n",
       "       [0.4375    , 0.47058824, 0.5       ]])"
      ]
     },
     "execution_count": 62,
     "metadata": {},
     "output_type": "execute_result"
    }
   ],
   "source": [
    "np.divide(x,y)"
   ]
  },
  {
   "cell_type": "code",
   "execution_count": null,
   "id": "03399eed",
   "metadata": {},
   "outputs": [],
   "source": [
    "-- min max avg in array:"
   ]
  },
  {
   "cell_type": "code",
   "execution_count": 63,
   "id": "9233bdad",
   "metadata": {},
   "outputs": [
    {
     "data": {
      "text/plain": [
       "array([[10, 11, 12],\n",
       "       [13, 14, 15],\n",
       "       [16, 17, 18]])"
      ]
     },
     "execution_count": 63,
     "metadata": {},
     "output_type": "execute_result"
    }
   ],
   "source": [
    "y"
   ]
  },
  {
   "cell_type": "code",
   "execution_count": 64,
   "id": "04a54d57",
   "metadata": {},
   "outputs": [
    {
     "data": {
      "text/plain": [
       "10"
      ]
     },
     "execution_count": 64,
     "metadata": {},
     "output_type": "execute_result"
    }
   ],
   "source": [
    "y.min()"
   ]
  },
  {
   "cell_type": "code",
   "execution_count": 65,
   "id": "617e4b9f",
   "metadata": {},
   "outputs": [
    {
     "data": {
      "text/plain": [
       "1"
      ]
     },
     "execution_count": 65,
     "metadata": {},
     "output_type": "execute_result"
    }
   ],
   "source": [
    "x.min()"
   ]
  },
  {
   "cell_type": "code",
   "execution_count": 66,
   "id": "4e63d44d",
   "metadata": {},
   "outputs": [
    {
     "data": {
      "text/plain": [
       "18"
      ]
     },
     "execution_count": 66,
     "metadata": {},
     "output_type": "execute_result"
    }
   ],
   "source": [
    "y.max()"
   ]
  },
  {
   "cell_type": "code",
   "execution_count": null,
   "id": "9ffba168",
   "metadata": {},
   "outputs": [],
   "source": [
    "-- to check min and max row wise and column wise\n",
    "axis=0 for rows\n",
    "axis=1 for columns"
   ]
  },
  {
   "cell_type": "code",
   "execution_count": 67,
   "id": "7e2d1824",
   "metadata": {},
   "outputs": [
    {
     "data": {
      "text/plain": [
       "array([[10, 11, 12],\n",
       "       [13, 14, 15],\n",
       "       [16, 17, 18]])"
      ]
     },
     "execution_count": 67,
     "metadata": {},
     "output_type": "execute_result"
    }
   ],
   "source": [
    "y"
   ]
  },
  {
   "cell_type": "code",
   "execution_count": 68,
   "id": "df1376a3",
   "metadata": {},
   "outputs": [
    {
     "data": {
      "text/plain": [
       "array([10, 11, 12])"
      ]
     },
     "execution_count": 68,
     "metadata": {},
     "output_type": "execute_result"
    }
   ],
   "source": [
    "y.min(axis=0)"
   ]
  },
  {
   "cell_type": "code",
   "execution_count": 69,
   "id": "e27b32cc",
   "metadata": {},
   "outputs": [
    {
     "data": {
      "text/plain": [
       "array([10, 13, 16])"
      ]
     },
     "execution_count": 69,
     "metadata": {},
     "output_type": "execute_result"
    }
   ],
   "source": [
    "y.min(axis=1)"
   ]
  },
  {
   "cell_type": "code",
   "execution_count": 70,
   "id": "9b8241bd",
   "metadata": {},
   "outputs": [
    {
     "data": {
      "text/plain": [
       "array([12, 15, 18])"
      ]
     },
     "execution_count": 70,
     "metadata": {},
     "output_type": "execute_result"
    }
   ],
   "source": [
    "y.max(axis=1)"
   ]
  },
  {
   "cell_type": "code",
   "execution_count": 71,
   "id": "0b365a39",
   "metadata": {},
   "outputs": [
    {
     "data": {
      "text/plain": [
       "array([16, 17, 18])"
      ]
     },
     "execution_count": 71,
     "metadata": {},
     "output_type": "execute_result"
    }
   ],
   "source": [
    "y.max(axis=0)"
   ]
  },
  {
   "cell_type": "code",
   "execution_count": null,
   "id": "ccc0920c",
   "metadata": {},
   "outputs": [],
   "source": [
    "-- sum of complete one array itself\n",
    "diagonal addition"
   ]
  },
  {
   "cell_type": "code",
   "execution_count": 72,
   "id": "ae728bdb",
   "metadata": {},
   "outputs": [
    {
     "data": {
      "text/plain": [
       "126"
      ]
     },
     "execution_count": 72,
     "metadata": {},
     "output_type": "execute_result"
    }
   ],
   "source": [
    "np.sum(y)"
   ]
  },
  {
   "cell_type": "code",
   "execution_count": 73,
   "id": "ed83c311",
   "metadata": {},
   "outputs": [
    {
     "data": {
      "text/plain": [
       "array([39, 42, 45])"
      ]
     },
     "execution_count": 73,
     "metadata": {},
     "output_type": "execute_result"
    }
   ],
   "source": [
    "np.sum(y, axis=0)"
   ]
  },
  {
   "cell_type": "code",
   "execution_count": 74,
   "id": "1cf609ef",
   "metadata": {},
   "outputs": [
    {
     "data": {
      "text/plain": [
       "array([33, 42, 51])"
      ]
     },
     "execution_count": 74,
     "metadata": {},
     "output_type": "execute_result"
    }
   ],
   "source": [
    "np.sum(y,axis=1)"
   ]
  },
  {
   "cell_type": "code",
   "execution_count": null,
   "id": "57da698c",
   "metadata": {},
   "outputs": [],
   "source": [
    "-- argmin and argmax gives output as index number at which min or max is availble"
   ]
  },
  {
   "cell_type": "code",
   "execution_count": 75,
   "id": "9769140a",
   "metadata": {},
   "outputs": [
    {
     "data": {
      "text/plain": [
       "array([[10, 11, 12],\n",
       "       [13, 14, 15],\n",
       "       [16, 17, 18]])"
      ]
     },
     "execution_count": 75,
     "metadata": {},
     "output_type": "execute_result"
    }
   ],
   "source": [
    "y"
   ]
  },
  {
   "cell_type": "code",
   "execution_count": 76,
   "id": "deb27855",
   "metadata": {},
   "outputs": [
    {
     "data": {
      "text/plain": [
       "0"
      ]
     },
     "execution_count": 76,
     "metadata": {},
     "output_type": "execute_result"
    }
   ],
   "source": [
    "np.argmin(y)  # here 10 is min value of array y and its index value is 0"
   ]
  },
  {
   "cell_type": "code",
   "execution_count": 77,
   "id": "27444a58",
   "metadata": {},
   "outputs": [
    {
     "data": {
      "text/plain": [
       "8"
      ]
     },
     "execution_count": 77,
     "metadata": {},
     "output_type": "execute_result"
    }
   ],
   "source": [
    "np.argmax(y)"
   ]
  },
  {
   "cell_type": "code",
   "execution_count": 78,
   "id": "c891f849",
   "metadata": {},
   "outputs": [
    {
     "data": {
      "text/plain": [
       "array([0, 0, 0], dtype=int64)"
      ]
     },
     "execution_count": 78,
     "metadata": {},
     "output_type": "execute_result"
    }
   ],
   "source": [
    "np.argmin(y,axis=0)"
   ]
  },
  {
   "cell_type": "code",
   "execution_count": 79,
   "id": "9d813509",
   "metadata": {},
   "outputs": [
    {
     "data": {
      "text/plain": [
       "array([2, 2, 2], dtype=int64)"
      ]
     },
     "execution_count": 79,
     "metadata": {},
     "output_type": "execute_result"
    }
   ],
   "source": [
    "np.argmax(y,axis=1)"
   ]
  },
  {
   "cell_type": "code",
   "execution_count": 80,
   "id": "08f2f63f",
   "metadata": {},
   "outputs": [
    {
     "data": {
      "text/plain": [
       "array([[10, 11, 12],\n",
       "       [13, 14, 15],\n",
       "       [16, 17, 18]])"
      ]
     },
     "execution_count": 80,
     "metadata": {},
     "output_type": "execute_result"
    }
   ],
   "source": [
    "y"
   ]
  },
  {
   "cell_type": "code",
   "execution_count": null,
   "id": "8d5cccbb",
   "metadata": {},
   "outputs": [],
   "source": [
    "in numpy we only have mean and median and not mode.\n",
    "mode is availble in panda lib"
   ]
  },
  {
   "cell_type": "code",
   "execution_count": 81,
   "id": "56cd93aa",
   "metadata": {},
   "outputs": [
    {
     "data": {
      "text/plain": [
       "14.0"
      ]
     },
     "execution_count": 81,
     "metadata": {},
     "output_type": "execute_result"
    }
   ],
   "source": [
    "np.mean(y)"
   ]
  },
  {
   "cell_type": "code",
   "execution_count": 82,
   "id": "a24d0336",
   "metadata": {},
   "outputs": [
    {
     "data": {
      "text/plain": [
       "14.0"
      ]
     },
     "execution_count": 82,
     "metadata": {},
     "output_type": "execute_result"
    }
   ],
   "source": [
    "np.median(y)"
   ]
  },
  {
   "cell_type": "code",
   "execution_count": null,
   "id": "4527ddaa",
   "metadata": {},
   "outputs": [],
   "source": [
    "what is variance(range),standard deviation in array"
   ]
  },
  {
   "cell_type": "code",
   "execution_count": 83,
   "id": "fd992caa",
   "metadata": {},
   "outputs": [
    {
     "data": {
      "text/plain": [
       "2.581988897471611"
      ]
     },
     "execution_count": 83,
     "metadata": {},
     "output_type": "execute_result"
    }
   ],
   "source": [
    "np.std(y) # range betw both max values"
   ]
  },
  {
   "cell_type": "code",
   "execution_count": 84,
   "id": "db25dcd6",
   "metadata": {},
   "outputs": [
    {
     "data": {
      "text/plain": [
       "6.666666666666667"
      ]
     },
     "execution_count": 84,
     "metadata": {},
     "output_type": "execute_result"
    }
   ],
   "source": [
    "np.var(y) # complete range of a dataset."
   ]
  },
  {
   "cell_type": "code",
   "execution_count": 85,
   "id": "acdcf944",
   "metadata": {},
   "outputs": [
    {
     "data": {
      "text/plain": [
       "array([[3.16227766, 3.31662479, 3.46410162],\n",
       "       [3.60555128, 3.74165739, 3.87298335],\n",
       "       [4.        , 4.12310563, 4.24264069]])"
      ]
     },
     "execution_count": 85,
     "metadata": {},
     "output_type": "execute_result"
    }
   ],
   "source": [
    "np.sqrt(y)"
   ]
  },
  {
   "cell_type": "code",
   "execution_count": 86,
   "id": "7d24cd92",
   "metadata": {},
   "outputs": [
    {
     "data": {
      "text/plain": [
       "array([[2.30258509, 2.39789527, 2.48490665],\n",
       "       [2.56494936, 2.63905733, 2.7080502 ],\n",
       "       [2.77258872, 2.83321334, 2.89037176]])"
      ]
     },
     "execution_count": 86,
     "metadata": {},
     "output_type": "execute_result"
    }
   ],
   "source": [
    "np.log(y)"
   ]
  },
  {
   "cell_type": "code",
   "execution_count": null,
   "id": "3b254dbe",
   "metadata": {},
   "outputs": [],
   "source": [
    "-- slicing operation in array"
   ]
  },
  {
   "cell_type": "code",
   "execution_count": 87,
   "id": "4a54de88",
   "metadata": {},
   "outputs": [
    {
     "data": {
      "text/plain": [
       "array([[ 1,  2,  3,  4,  5,  6,  7,  8,  9, 10],\n",
       "       [11, 12, 13, 14, 15, 16, 17, 18, 19, 20],\n",
       "       [21, 22, 23, 24, 25, 26, 27, 28, 29, 30],\n",
       "       [31, 32, 33, 34, 35, 36, 37, 38, 39, 40],\n",
       "       [41, 42, 43, 44, 45, 46, 47, 48, 49, 50]])"
      ]
     },
     "execution_count": 87,
     "metadata": {},
     "output_type": "execute_result"
    }
   ],
   "source": [
    "a=np.arange(1,51).reshape(5,10)\n",
    "a"
   ]
  },
  {
   "cell_type": "code",
   "execution_count": 88,
   "id": "26c8bc38",
   "metadata": {},
   "outputs": [
    {
     "data": {
      "text/plain": [
       "array([31, 32, 33, 34, 35, 36, 37, 38, 39, 40])"
      ]
     },
     "execution_count": 88,
     "metadata": {},
     "output_type": "execute_result"
    }
   ],
   "source": [
    "a[3] # default gives row  "
   ]
  },
  {
   "cell_type": "code",
   "execution_count": 89,
   "id": "90b67a40",
   "metadata": {},
   "outputs": [
    {
     "data": {
      "text/plain": [
       "array([[31, 32, 33, 34, 35, 36, 37, 38, 39, 40],\n",
       "       [41, 42, 43, 44, 45, 46, 47, 48, 49, 50]])"
      ]
     },
     "execution_count": 89,
     "metadata": {},
     "output_type": "execute_result"
    }
   ],
   "source": [
    "a[3:6] # 3rd row and last 6 is minus one"
   ]
  },
  {
   "cell_type": "code",
   "execution_count": 90,
   "id": "3abcf3be",
   "metadata": {
    "scrolled": true
   },
   "outputs": [
    {
     "data": {
      "text/plain": [
       "array([ 6, 16, 26, 36])"
      ]
     },
     "execution_count": 90,
     "metadata": {},
     "output_type": "execute_result"
    }
   ],
   "source": [
    "a[0:4,5]"
   ]
  },
  {
   "cell_type": "code",
   "execution_count": 91,
   "id": "e8470ebf",
   "metadata": {},
   "outputs": [
    {
     "data": {
      "text/plain": [
       "array([[ 2,  3,  4],\n",
       "       [12, 13, 14],\n",
       "       [22, 23, 24],\n",
       "       [32, 33, 34]])"
      ]
     },
     "execution_count": 91,
     "metadata": {},
     "output_type": "execute_result"
    }
   ],
   "source": [
    "a[0:4,1:4]"
   ]
  },
  {
   "cell_type": "code",
   "execution_count": 92,
   "id": "c9b2d114",
   "metadata": {},
   "outputs": [
    {
     "data": {
      "text/plain": [
       "array([[ 2,  4,  6],\n",
       "       [12, 14, 16],\n",
       "       [22, 24, 26],\n",
       "       [32, 34, 36],\n",
       "       [42, 44, 46]])"
      ]
     },
     "execution_count": 92,
     "metadata": {},
     "output_type": "execute_result"
    }
   ],
   "source": [
    "a[:,1:6:2]"
   ]
  },
  {
   "cell_type": "code",
   "execution_count": 93,
   "id": "2eae3b8e",
   "metadata": {},
   "outputs": [
    {
     "data": {
      "text/plain": [
       "array([[41, 42, 43, 44, 45, 46, 47, 48, 49, 50],\n",
       "       [31, 32, 33, 34, 35, 36, 37, 38, 39, 40],\n",
       "       [21, 22, 23, 24, 25, 26, 27, 28, 29, 30]])"
      ]
     },
     "execution_count": 93,
     "metadata": {},
     "output_type": "execute_result"
    }
   ],
   "source": [
    "a[-1:-4:-1]"
   ]
  },
  {
   "cell_type": "code",
   "execution_count": null,
   "id": "06c49893",
   "metadata": {},
   "outputs": [],
   "source": [
    "--- Dot function"
   ]
  },
  {
   "cell_type": "code",
   "execution_count": 94,
   "id": "3cecf5f2",
   "metadata": {},
   "outputs": [
    {
     "data": {
      "text/plain": [
       "array([[1, 2, 3],\n",
       "       [4, 5, 6],\n",
       "       [7, 8, 9]])"
      ]
     },
     "execution_count": 94,
     "metadata": {},
     "output_type": "execute_result"
    }
   ],
   "source": [
    "x"
   ]
  },
  {
   "cell_type": "code",
   "execution_count": 95,
   "id": "cc1cfea2",
   "metadata": {},
   "outputs": [
    {
     "data": {
      "text/plain": [
       "array([[10, 11, 12],\n",
       "       [13, 14, 15],\n",
       "       [16, 17, 18]])"
      ]
     },
     "execution_count": 95,
     "metadata": {},
     "output_type": "execute_result"
    }
   ],
   "source": [
    "y"
   ]
  },
  {
   "cell_type": "code",
   "execution_count": 96,
   "id": "934de092",
   "metadata": {},
   "outputs": [
    {
     "data": {
      "text/plain": [
       "array([[ 84,  90,  96],\n",
       "       [201, 216, 231],\n",
       "       [318, 342, 366]])"
      ]
     },
     "execution_count": 96,
     "metadata": {},
     "output_type": "execute_result"
    }
   ],
   "source": [
    "np.dot(x,y)"
   ]
  },
  {
   "cell_type": "code",
   "execution_count": null,
   "id": "814a30e6",
   "metadata": {},
   "outputs": [],
   "source": [
    "-- concatenate add row wise by default."
   ]
  },
  {
   "cell_type": "code",
   "execution_count": 97,
   "id": "82ae35ed",
   "metadata": {},
   "outputs": [
    {
     "data": {
      "text/plain": [
       "array([[ 1,  2,  3],\n",
       "       [ 4,  5,  6],\n",
       "       [ 7,  8,  9],\n",
       "       [10, 11, 12],\n",
       "       [13, 14, 15],\n",
       "       [16, 17, 18]])"
      ]
     },
     "execution_count": 97,
     "metadata": {},
     "output_type": "execute_result"
    }
   ],
   "source": [
    "np.concatenate((x,y))  # check syntax and output"
   ]
  },
  {
   "cell_type": "code",
   "execution_count": 98,
   "id": "b54a205b",
   "metadata": {},
   "outputs": [
    {
     "data": {
      "text/plain": [
       "array([[ 1,  2,  3, 10, 11, 12],\n",
       "       [ 4,  5,  6, 13, 14, 15],\n",
       "       [ 7,  8,  9, 16, 17, 18]])"
      ]
     },
     "execution_count": 98,
     "metadata": {},
     "output_type": "execute_result"
    }
   ],
   "source": [
    "np.concatenate((x,y),axis = 1)"
   ]
  },
  {
   "cell_type": "code",
   "execution_count": 99,
   "id": "6256d5b1",
   "metadata": {},
   "outputs": [
    {
     "data": {
      "text/plain": [
       "array([[ 1,  2,  3],\n",
       "       [ 4,  5,  6],\n",
       "       [ 7,  8,  9],\n",
       "       [10, 11, 12],\n",
       "       [13, 14, 15],\n",
       "       [16, 17, 18]])"
      ]
     },
     "execution_count": 99,
     "metadata": {},
     "output_type": "execute_result"
    }
   ],
   "source": [
    "np.concatenate((x,y),axis =0) # default axis is row"
   ]
  },
  {
   "cell_type": "code",
   "execution_count": null,
   "id": "eb21639e",
   "metadata": {},
   "outputs": [],
   "source": [
    "-- hstact-- adds horizontally directly"
   ]
  },
  {
   "cell_type": "code",
   "execution_count": 100,
   "id": "45a76dfe",
   "metadata": {},
   "outputs": [
    {
     "data": {
      "text/plain": [
       "array([[ 1,  2,  3, 10, 11, 12],\n",
       "       [ 4,  5,  6, 13, 14, 15],\n",
       "       [ 7,  8,  9, 16, 17, 18]])"
      ]
     },
     "execution_count": 100,
     "metadata": {},
     "output_type": "execute_result"
    }
   ],
   "source": [
    "np.hstack((x,y))"
   ]
  },
  {
   "cell_type": "code",
   "execution_count": 101,
   "id": "a20abeea",
   "metadata": {},
   "outputs": [
    {
     "data": {
      "text/plain": [
       "array([[ 1,  2,  3],\n",
       "       [ 4,  5,  6],\n",
       "       [ 7,  8,  9],\n",
       "       [10, 11, 12],\n",
       "       [13, 14, 15],\n",
       "       [16, 17, 18]])"
      ]
     },
     "execution_count": 101,
     "metadata": {},
     "output_type": "execute_result"
    }
   ],
   "source": [
    "np.vstack((x,y)) # vertically added"
   ]
  },
  {
   "cell_type": "code",
   "execution_count": null,
   "id": "080c5b0e",
   "metadata": {},
   "outputs": [],
   "source": [
    "-- split function\n"
   ]
  },
  {
   "cell_type": "code",
   "execution_count": 102,
   "id": "d8188bfc",
   "metadata": {},
   "outputs": [
    {
     "data": {
      "text/plain": [
       "array([[ 1,  2,  3,  4,  5,  6,  7,  8,  9, 10],\n",
       "       [11, 12, 13, 14, 15, 16, 17, 18, 19, 20],\n",
       "       [21, 22, 23, 24, 25, 26, 27, 28, 29, 30],\n",
       "       [31, 32, 33, 34, 35, 36, 37, 38, 39, 40],\n",
       "       [41, 42, 43, 44, 45, 46, 47, 48, 49, 50]])"
      ]
     },
     "execution_count": 102,
     "metadata": {},
     "output_type": "execute_result"
    }
   ],
   "source": [
    "a"
   ]
  },
  {
   "cell_type": "code",
   "execution_count": 103,
   "id": "93ad5f87",
   "metadata": {},
   "outputs": [
    {
     "data": {
      "text/plain": [
       "[array([[ 1,  2,  3,  4,  5,  6,  7,  8,  9, 10],\n",
       "        [11, 12, 13, 14, 15, 16, 17, 18, 19, 20],\n",
       "        [21, 22, 23, 24, 25, 26, 27, 28, 29, 30]]),\n",
       " array([[31, 32, 33, 34, 35, 36, 37, 38, 39, 40],\n",
       "        [41, 42, 43, 44, 45, 46, 47, 48, 49, 50]])]"
      ]
     },
     "execution_count": 103,
     "metadata": {},
     "output_type": "execute_result"
    }
   ],
   "source": [
    "np.split(a,2.5) "
   ]
  },
  {
   "cell_type": "code",
   "execution_count": 104,
   "id": "d1e763c3",
   "metadata": {},
   "outputs": [
    {
     "data": {
      "text/plain": [
       "[array([[ 1,  2,  3,  4,  5,  6,  7,  8,  9, 10]]),\n",
       " array([[11, 12, 13, 14, 15, 16, 17, 18, 19, 20]]),\n",
       " array([[21, 22, 23, 24, 25, 26, 27, 28, 29, 30]]),\n",
       " array([[31, 32, 33, 34, 35, 36, 37, 38, 39, 40]]),\n",
       " array([[41, 42, 43, 44, 45, 46, 47, 48, 49, 50]])]"
      ]
     },
     "execution_count": 104,
     "metadata": {},
     "output_type": "execute_result"
    }
   ],
   "source": [
    "np.split(a,5) # split an array into 5 arrays"
   ]
  },
  {
   "cell_type": "code",
   "execution_count": 105,
   "id": "800d2b02",
   "metadata": {},
   "outputs": [
    {
     "data": {
      "text/plain": [
       "[array([[ 1,  2,  3,  4,  5],\n",
       "        [11, 12, 13, 14, 15],\n",
       "        [21, 22, 23, 24, 25],\n",
       "        [31, 32, 33, 34, 35],\n",
       "        [41, 42, 43, 44, 45]]),\n",
       " array([[ 6,  7,  8,  9, 10],\n",
       "        [16, 17, 18, 19, 20],\n",
       "        [26, 27, 28, 29, 30],\n",
       "        [36, 37, 38, 39, 40],\n",
       "        [46, 47, 48, 49, 50]])]"
      ]
     },
     "execution_count": 105,
     "metadata": {},
     "output_type": "execute_result"
    }
   ],
   "source": [
    "np.split(a,2,axis=1) # spilt array into 2 acc to columns wise and array in output gives like  array 1 \n",
    "# at index 0 and array 2 at index 1\n",
    "#output is in list format"
   ]
  },
  {
   "cell_type": "code",
   "execution_count": 106,
   "id": "13857771",
   "metadata": {},
   "outputs": [],
   "source": [
    "x=np.split(a,5,axis=1)# aeray splited into many indexes \n",
    "#output is in list format"
   ]
  },
  {
   "cell_type": "code",
   "execution_count": 107,
   "id": "afee480d",
   "metadata": {},
   "outputs": [
    {
     "data": {
      "text/plain": [
       "[array([[ 1,  2],\n",
       "        [11, 12],\n",
       "        [21, 22],\n",
       "        [31, 32],\n",
       "        [41, 42]]),\n",
       " array([[ 3,  4],\n",
       "        [13, 14],\n",
       "        [23, 24],\n",
       "        [33, 34],\n",
       "        [43, 44]]),\n",
       " array([[ 5,  6],\n",
       "        [15, 16],\n",
       "        [25, 26],\n",
       "        [35, 36],\n",
       "        [45, 46]]),\n",
       " array([[ 7,  8],\n",
       "        [17, 18],\n",
       "        [27, 28],\n",
       "        [37, 38],\n",
       "        [47, 48]]),\n",
       " array([[ 9, 10],\n",
       "        [19, 20],\n",
       "        [29, 30],\n",
       "        [39, 40],\n",
       "        [49, 50]])]"
      ]
     },
     "execution_count": 107,
     "metadata": {},
     "output_type": "execute_result"
    }
   ],
   "source": [
    "x"
   ]
  },
  {
   "cell_type": "code",
   "execution_count": 108,
   "id": "25b6d32d",
   "metadata": {},
   "outputs": [
    {
     "data": {
      "text/plain": [
       "list"
      ]
     },
     "execution_count": 108,
     "metadata": {},
     "output_type": "execute_result"
    }
   ],
   "source": [
    "type(x)  # output is list with index"
   ]
  },
  {
   "cell_type": "code",
   "execution_count": 109,
   "id": "e8c43aab",
   "metadata": {},
   "outputs": [
    {
     "data": {
      "text/plain": [
       "array([[ 5,  6],\n",
       "       [15, 16],\n",
       "       [25, 26],\n",
       "       [35, 36],\n",
       "       [45, 46]])"
      ]
     },
     "execution_count": 109,
     "metadata": {},
     "output_type": "execute_result"
    }
   ],
   "source": [
    "x[2]"
   ]
  },
  {
   "cell_type": "code",
   "execution_count": null,
   "id": "73184e89",
   "metadata": {},
   "outputs": [],
   "source": [
    "-- split function indexwise"
   ]
  },
  {
   "cell_type": "code",
   "execution_count": 110,
   "id": "ba3ad571",
   "metadata": {},
   "outputs": [
    {
     "data": {
      "text/plain": [
       "array([11, 22, 33, 44, 55, 66, 77])"
      ]
     },
     "execution_count": 110,
     "metadata": {},
     "output_type": "execute_result"
    }
   ],
   "source": [
    "s=np.array([11,22,33,44,55,66,77])\n",
    "s"
   ]
  },
  {
   "cell_type": "code",
   "execution_count": 111,
   "id": "13998262",
   "metadata": {},
   "outputs": [
    {
     "data": {
      "text/plain": [
       "numpy.ndarray"
      ]
     },
     "execution_count": 111,
     "metadata": {},
     "output_type": "execute_result"
    }
   ],
   "source": [
    "type(s)"
   ]
  },
  {
   "cell_type": "code",
   "execution_count": 112,
   "id": "88657551",
   "metadata": {},
   "outputs": [
    {
     "data": {
      "text/plain": [
       "[array([11, 22, 33]), array([44, 55, 66, 77])]"
      ]
     },
     "execution_count": 112,
     "metadata": {},
     "output_type": "execute_result"
    }
   ],
   "source": [
    "np.split(s,[3])  # output shows array s is splited till index 3"
   ]
  },
  {
   "cell_type": "code",
   "execution_count": 113,
   "id": "7a95e471",
   "metadata": {},
   "outputs": [
    {
     "data": {
      "text/plain": [
       "[array([11, 22, 33]), array([44, 55]), array([66, 77])]"
      ]
     },
     "execution_count": 113,
     "metadata": {},
     "output_type": "execute_result"
    }
   ],
   "source": [
    "np.split(s,[3,5])"
   ]
  },
  {
   "cell_type": "code",
   "execution_count": 114,
   "id": "392275d7",
   "metadata": {},
   "outputs": [
    {
     "data": {
      "text/plain": [
       "[array([11, 22, 33]), array([44, 55]), array([], dtype=int32), array([66, 77])]"
      ]
     },
     "execution_count": 114,
     "metadata": {},
     "output_type": "execute_result"
    }
   ],
   "source": [
    "np.split(s,[3,5,5]) # ouput when out of range"
   ]
  },
  {
   "cell_type": "code",
   "execution_count": null,
   "id": "b897c2b3",
   "metadata": {},
   "outputs": [],
   "source": [
    "-random()\n",
    "-randint()\n",
    "-randrange()\n",
    "-choice"
   ]
  },
  {
   "cell_type": "code",
   "execution_count": 115,
   "id": "e3cc7e61",
   "metadata": {},
   "outputs": [
    {
     "data": {
      "text/plain": [
       "array([0.43487191, 0.02158505, 0.84922255])"
      ]
     },
     "execution_count": 115,
     "metadata": {},
     "output_type": "execute_result"
    }
   ],
   "source": [
    "np.random.random(3)"
   ]
  },
  {
   "cell_type": "code",
   "execution_count": 116,
   "id": "5aa10da5",
   "metadata": {},
   "outputs": [
    {
     "data": {
      "text/plain": [
       "array([[0.47034367, 0.32506727, 0.36478709],\n",
       "       [0.23556569, 0.48280089, 0.45004222],\n",
       "       [0.9374834 , 0.80996454, 0.41912904]])"
      ]
     },
     "execution_count": 116,
     "metadata": {},
     "output_type": "execute_result"
    }
   ],
   "source": [
    "np.random.random((3,3))"
   ]
  },
  {
   "cell_type": "code",
   "execution_count": 117,
   "id": "e3baff19",
   "metadata": {},
   "outputs": [
    {
     "data": {
      "text/plain": [
       "array([[[0.22529319, 0.91800282, 0.36419626],\n",
       "        [0.75153879, 0.36390557, 0.13213263],\n",
       "        [0.03029056, 0.09282698, 0.97059395]],\n",
       "\n",
       "       [[0.2220976 , 0.62935706, 0.26325217],\n",
       "        [0.82642306, 0.16019807, 0.04080243],\n",
       "        [0.36439674, 0.43972995, 0.08715386]]])"
      ]
     },
     "execution_count": 117,
     "metadata": {},
     "output_type": "execute_result"
    }
   ],
   "source": [
    "np.random.random((2,3,3))  # 2 arrays of 3x3 "
   ]
  },
  {
   "cell_type": "code",
   "execution_count": 118,
   "id": "fb88ef5d",
   "metadata": {},
   "outputs": [
    {
     "data": {
      "text/plain": [
       "array([[13,  9,  8],\n",
       "       [ 6,  3,  6]])"
      ]
     },
     "execution_count": 118,
     "metadata": {},
     "output_type": "execute_result"
    }
   ],
   "source": [
    "np.random.randint(2,14,size=(2,3)) # random numbers between 2 and 14 in array size 2,3"
   ]
  },
  {
   "cell_type": "code",
   "execution_count": 119,
   "id": "745927ed",
   "metadata": {},
   "outputs": [
    {
     "data": {
      "text/plain": [
       "array([[[ 2, 10,  8],\n",
       "        [ 6, 11,  8],\n",
       "        [13,  2,  4],\n",
       "        [ 9,  3,  6]],\n",
       "\n",
       "       [[ 2, 13,  6],\n",
       "        [11,  5, 10],\n",
       "        [10, 12,  8],\n",
       "        [ 6,  5,  3]]])"
      ]
     },
     "execution_count": 119,
     "metadata": {},
     "output_type": "execute_result"
    }
   ],
   "source": [
    "np.random.randint(2,14,(2,4,3)) #without size 2D"
   ]
  },
  {
   "cell_type": "code",
   "execution_count": 120,
   "id": "52efcab5",
   "metadata": {},
   "outputs": [
    {
     "data": {
      "text/plain": [
       "array([[[13, 12],\n",
       "        [ 2, 12],\n",
       "        [ 6,  6]],\n",
       "\n",
       "       [[11,  6],\n",
       "        [ 2,  5],\n",
       "        [ 4, 12]],\n",
       "\n",
       "       [[11, 13],\n",
       "        [ 4,  3],\n",
       "        [ 6,  5]],\n",
       "\n",
       "       [[ 9,  8],\n",
       "        [ 8,  7],\n",
       "        [ 3,  4]]])"
      ]
     },
     "execution_count": 120,
     "metadata": {},
     "output_type": "execute_result"
    }
   ],
   "source": [
    "np.random.randint(2,14,size=(4,3,2)) #3D arrays"
   ]
  },
  {
   "cell_type": "code",
   "execution_count": 121,
   "id": "9e709748",
   "metadata": {},
   "outputs": [
    {
     "data": {
      "text/plain": [
       "array([[ 1,  2,  3,  4,  5,  6,  7,  8,  9, 10],\n",
       "       [11, 12, 13, 14, 15, 16, 17, 18, 19, 20],\n",
       "       [21, 22, 23, 24, 25, 26, 27, 28, 29, 30],\n",
       "       [31, 32, 33, 34, 35, 36, 37, 38, 39, 40],\n",
       "       [41, 42, 43, 44, 45, 46, 47, 48, 49, 50]])"
      ]
     },
     "execution_count": 121,
     "metadata": {},
     "output_type": "execute_result"
    }
   ],
   "source": [
    "a"
   ]
  },
  {
   "cell_type": "code",
   "execution_count": 122,
   "id": "87c2211c",
   "metadata": {},
   "outputs": [
    {
     "ename": "ValueError",
     "evalue": "a must be 1-dimensional",
     "output_type": "error",
     "traceback": [
      "\u001b[1;31m---------------------------------------------------------------------------\u001b[0m",
      "\u001b[1;31mValueError\u001b[0m                                Traceback (most recent call last)",
      "Input \u001b[1;32mIn [122]\u001b[0m, in \u001b[0;36m<cell line: 1>\u001b[1;34m()\u001b[0m\n\u001b[1;32m----> 1\u001b[0m \u001b[43mnp\u001b[49m\u001b[38;5;241;43m.\u001b[39;49m\u001b[43mrandom\u001b[49m\u001b[38;5;241;43m.\u001b[39;49m\u001b[43mchoice\u001b[49m\u001b[43m(\u001b[49m\u001b[43ma\u001b[49m\u001b[43m)\u001b[49m\n",
      "File \u001b[1;32mmtrand.pyx:911\u001b[0m, in \u001b[0;36mnumpy.random.mtrand.RandomState.choice\u001b[1;34m()\u001b[0m\n",
      "\u001b[1;31mValueError\u001b[0m: a must be 1-dimensional"
     ]
    }
   ],
   "source": [
    "np.random.choice(a)"
   ]
  },
  {
   "cell_type": "code",
   "execution_count": 124,
   "id": "e26307be",
   "metadata": {},
   "outputs": [
    {
     "data": {
      "text/plain": [
       "array([ 2,  3,  4,  5,  6,  7,  8,  9, 10, 11, 12, 13, 14])"
      ]
     },
     "execution_count": 124,
     "metadata": {},
     "output_type": "execute_result"
    }
   ],
   "source": [
    "a1=np.arange(2,15)\n",
    "a1"
   ]
  },
  {
   "cell_type": "code",
   "execution_count": 125,
   "id": "d1be62ac",
   "metadata": {},
   "outputs": [
    {
     "data": {
      "text/plain": [
       "9"
      ]
     },
     "execution_count": 125,
     "metadata": {},
     "output_type": "execute_result"
    }
   ],
   "source": [
    "np.random.choice(a1)"
   ]
  },
  {
   "cell_type": "code",
   "execution_count": 126,
   "id": "9765cf12",
   "metadata": {},
   "outputs": [
    {
     "data": {
      "text/plain": [
       "array([[11, 10],\n",
       "       [13,  6],\n",
       "       [14, 14],\n",
       "       [ 3,  4]])"
      ]
     },
     "execution_count": 126,
     "metadata": {},
     "output_type": "execute_result"
    }
   ],
   "source": [
    "np.random.choice(a1,(4,2))"
   ]
  },
  {
   "cell_type": "code",
   "execution_count": 127,
   "id": "c71ef30a",
   "metadata": {},
   "outputs": [
    {
     "data": {
      "text/plain": [
       "array([ 6,  4, 11, 10,  8,  3, 12,  5, 13,  9,  7, 14,  2])"
      ]
     },
     "execution_count": 127,
     "metadata": {},
     "output_type": "execute_result"
    }
   ],
   "source": [
    "np.random.permutation(a1) # suffle all elements"
   ]
  },
  {
   "cell_type": "code",
   "execution_count": 129,
   "id": "9351189e",
   "metadata": {},
   "outputs": [
    {
     "data": {
      "text/plain": [
       "array([[ 7,  9],\n",
       "       [14,  2],\n",
       "       [13,  6],\n",
       "       [ 7,  7]])"
      ]
     },
     "execution_count": 129,
     "metadata": {},
     "output_type": "execute_result"
    }
   ],
   "source": [
    "np.random.choice(a1,(4,2))"
   ]
  },
  {
   "cell_type": "code",
   "execution_count": null,
   "id": "c42ffaa5",
   "metadata": {},
   "outputs": [],
   "source": [
    "--normal distribution"
   ]
  },
  {
   "cell_type": "code",
   "execution_count": 148,
   "id": "f45e12b9",
   "metadata": {},
   "outputs": [
    {
     "data": {
      "text/plain": [
       "array([43.62790114, 94.84427676, 36.38899001, 91.5464246 , 22.38773932,\n",
       "       57.97842247,  9.88176406,  2.42280377, 92.17309568, 22.84936804,\n",
       "       12.25771876,  9.73006722, 21.61331736, 28.6936367 , 50.65391422,\n",
       "       38.48895916, 27.05187858, 47.92837582, 20.9880821 , 71.72441142,\n",
       "       56.92321953, 54.16679433, 68.56325376, 97.34483024, 52.04169255,\n",
       "       58.27413038, 34.48527366, 44.7163347 , 40.29517589,  4.49148797])"
      ]
     },
     "execution_count": 148,
     "metadata": {},
     "output_type": "execute_result"
    }
   ],
   "source": [
    "a=np.random.uniform(1,100,30)\n",
    "a# range between 1 to 50 of 20 samples"
   ]
  },
  {
   "cell_type": "code",
   "execution_count": 133,
   "id": "e59e1d2e",
   "metadata": {},
   "outputs": [
    {
     "data": {
      "text/plain": [
       "44.87803452204118"
      ]
     },
     "execution_count": 133,
     "metadata": {},
     "output_type": "execute_result"
    }
   ],
   "source": [
    "np.random.choice(a)"
   ]
  },
  {
   "cell_type": "code",
   "execution_count": 134,
   "id": "008a074e",
   "metadata": {},
   "outputs": [
    {
     "name": "stderr",
     "output_type": "stream",
     "text": [
      "Matplotlib is building the font cache; this may take a moment.\n"
     ]
    }
   ],
   "source": [
    "import matplotlib.pyplot as plt"
   ]
  },
  {
   "cell_type": "code",
   "execution_count": 149,
   "id": "5298dd48",
   "metadata": {},
   "outputs": [
    {
     "data": {
      "text/plain": [
       "(array([4., 2., 5., 4., 3., 6., 1., 1., 0., 4.]),\n",
       " array([ 2.42280377, 11.91500641, 21.40720906, 30.89941171, 40.39161435,\n",
       "        49.883817  , 59.37601965, 68.8682223 , 78.36042494, 87.85262759,\n",
       "        97.34483024]),\n",
       " <BarContainer object of 10 artists>)"
      ]
     },
     "execution_count": 149,
     "metadata": {},
     "output_type": "execute_result"
    },
    {
     "data": {
      "image/png": "[encoded data removed]",
      "text/plain": [
       "<Figure size 432x288 with 1 Axes>"
      ]
     },
     "metadata": {
      "needs_background": "light"
     },
     "output_type": "display_data"
    }
   ],
   "source": [
    "plt.hist(a)"
   ]
  },
  {
   "cell_type": "markdown",
   "id": "47dd4d06",
   "metadata": {},
   "source": [
    "np.random.normal()"
   ]
  },
  {
   "cell_type": "code",
   "execution_count": 163,
   "id": "403f6d2e",
   "metadata": {},
   "outputs": [
    {
     "data": {
      "text/plain": [
       "array([-408.20550987,  956.52754024, -354.79936179,  374.41822373,\n",
       "        472.9668334 , -501.14354065, -303.94331513,  854.20755151,\n",
       "        911.72564645,  -67.91496711,  366.40634654,  515.19590046,\n",
       "       -250.91524522,  -14.46998979,  743.79477955,  225.7241228 ,\n",
       "       -152.38981685,    2.72334385,  607.09415418,  671.70783731,\n",
       "        176.84976123,  -95.71430992,  -87.59790504,  214.35954002,\n",
       "       -381.31333571,  441.4860023 ,  260.26887628,  510.67179838,\n",
       "       -960.35403835,   83.75291215, -526.39524076,  418.46526122,\n",
       "        164.46197488, -133.41729215,  263.60655629,  283.36667746,\n",
       "         26.94371914, -101.7003992 ,  298.48074974,  134.67528013,\n",
       "         67.97360902, -213.67079067,  589.63297484, -256.19455217,\n",
       "       -351.32757468,  -19.78609468, -595.60807247,  101.0259218 ,\n",
       "       -217.85200439,   90.7442781 ])"
      ]
     },
     "execution_count": 163,
     "metadata": {},
     "output_type": "execute_result"
    }
   ],
   "source": [
    "b=np.random.normal(3,400,50)\n",
    "b"
   ]
  },
  {
   "cell_type": "code",
   "execution_count": 155,
   "id": "141eae55",
   "metadata": {},
   "outputs": [
    {
     "data": {
      "text/plain": [
       "(array([ 3.,  5.,  4.,  5., 12.,  8.,  4.,  5.,  3.,  1.]),\n",
       " array([-78.47018185, -61.41620394, -44.36222603, -27.30824812,\n",
       "        -10.25427021,   6.7997077 ,  23.85368561,  40.90766352,\n",
       "         57.96164143,  75.01561933,  92.06959724]),\n",
       " <BarContainer object of 10 artists>)"
      ]
     },
     "execution_count": 155,
     "metadata": {},
     "output_type": "execute_result"
    },
    {
     "data": {
      "image/png": "[encoded data removed]",
      "text/plain": [
       "<Figure size 432x288 with 1 Axes>"
      ]
     },
     "metadata": {
      "needs_background": "light"
     },
     "output_type": "display_data"
    }
   ],
   "source": [
    "plt.hist(b)"
   ]
  },
  {
   "cell_type": "code",
   "execution_count": 164,
   "id": "525ebb78",
   "metadata": {},
   "outputs": [
    {
     "data": {
      "text/plain": [
       "(array([1., 0., 0., 1., 2., 1., 4., 4., 3., 5., 5., 4., 5., 3., 3., 2., 2.,\n",
       "        2., 1., 2.]),\n",
       " array([-960.35403835, -864.50995942, -768.6658805 , -672.82180157,\n",
       "        -576.97772264, -481.13364371, -385.28956478, -289.44548585,\n",
       "        -193.60140692,  -97.75732799,   -1.91324906,   93.93082987,\n",
       "         189.7749088 ,  285.61898773,  381.46306666,  477.30714559,\n",
       "         573.15122452,  668.99530345,  764.83938238,  860.68346131,\n",
       "         956.52754024]),\n",
       " <BarContainer object of 20 artists>)"
      ]
     },
     "execution_count": 164,
     "metadata": {},
     "output_type": "execute_result"
    },
    {
     "data": {
      "image/png": "[encoded data removed]",
      "text/plain": [
       "<Figure size 432x288 with 1 Axes>"
      ]
     },
     "metadata": {
      "needs_background": "light"
     },
     "output_type": "display_data"
    }
   ],
   "source": [
    "plt.hist(b,bins=20)"
   ]
  }
 ],
 "metadata": {
  "kernelspec": {
   "display_name": "Python 3 (ipykernel)",
   "language": "python",
   "name": "python3"
  },
  "language_info": {
   "codemirror_mode": {
    "name": "ipython",
    "version": 3
   },
   "file_extension": ".py",
   "mimetype": "text/x-python",
   "name": "python",
   "nbconvert_exporter": "python",
   "pygments_lexer": "ipython3",
   "version": "3.9.12"
  }
 },
 "nbformat": 4,
 "nbformat_minor": 5
}
