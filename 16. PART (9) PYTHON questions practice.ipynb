{
 "cells": [
  {
   "cell_type": "markdown",
   "id": "15a56696",
   "metadata": {},
   "source": [
    "# Q10.   Create a string of all the characters in a given list of strings "
   ]
  },
  {
   "cell_type": "code",
   "execution_count": 1,
   "id": "497145b1",
   "metadata": {},
   "outputs": [],
   "source": [
    "list1=['hello','coder','lets','learn','python']"
   ]
  },
  {
   "cell_type": "code",
   "execution_count": 2,
   "id": "3bf461de",
   "metadata": {},
   "outputs": [
    {
     "data": {
      "text/plain": [
       "['hello', 'coder', 'lets', 'learn', 'python']"
      ]
     },
     "execution_count": 2,
     "metadata": {},
     "output_type": "execute_result"
    }
   ],
   "source": [
    "list1"
   ]
  },
  {
   "cell_type": "code",
   "execution_count": 3,
   "id": "68cfde24",
   "metadata": {},
   "outputs": [
    {
     "name": "stdout",
     "output_type": "stream",
     "text": [
      "hello coder lets learn python\n"
     ]
    }
   ],
   "source": [
    "for i in list1:\n",
    "    string=\" \".join(list1)\n",
    "print(string)"
   ]
  },
  {
   "cell_type": "code",
   "execution_count": 4,
   "id": "38b06ff5",
   "metadata": {},
   "outputs": [
    {
     "data": {
      "text/plain": [
       "'hello coder lets learn python'"
      ]
     },
     "execution_count": 4,
     "metadata": {},
     "output_type": "execute_result"
    }
   ],
   "source": [
    "string"
   ]
  },
  {
   "cell_type": "markdown",
   "id": "d6aeba1b",
   "metadata": {},
   "source": [
    "# Q11.   Remove all the punctuation characters from a given string."
   ]
  },
  {
   "cell_type": "code",
   "execution_count": 5,
   "id": "2f9202a4",
   "metadata": {},
   "outputs": [],
   "source": [
    "string = \"Hello@#%  Welcome!!!!\"\n",
    "new_string = \" \""
   ]
  },
  {
   "cell_type": "code",
   "execution_count": 6,
   "id": "110c2e66",
   "metadata": {},
   "outputs": [
    {
     "name": "stdout",
     "output_type": "stream",
     "text": [
      " Hello  Welcome\n"
     ]
    }
   ],
   "source": [
    "for i in string:\n",
    "    if i.isalnum() or i.isspace():\n",
    "        new_string+=i\n",
    "print(new_string)  # no punctuation marks"
   ]
  },
  {
   "cell_type": "markdown",
   "id": "10b85569",
   "metadata": {},
   "source": [
    "# Q12.  Count the number of times each character appears in a given string."
   ]
  },
  {
   "cell_type": "code",
   "execution_count": 11,
   "id": "22089d8c",
   "metadata": {},
   "outputs": [],
   "source": [
    "string =\" Hello welcome and lets learn DATA SCIENCE\"\n",
    "string=string.lower()\n",
    "list1=list(string)"
   ]
  },
  {
   "cell_type": "code",
   "execution_count": 20,
   "id": "ecde2756",
   "metadata": {},
   "outputs": [
    {
     "name": "stdout",
     "output_type": "stream",
     "text": [
      "  : 7\n",
      "h : 1\n",
      "e : 7\n",
      "l : 5\n",
      "l : 5\n",
      "o : 2\n",
      "  : 7\n",
      "w : 1\n",
      "e : 7\n",
      "l : 5\n",
      "c : 3\n",
      "o : 2\n",
      "m : 1\n",
      "e : 7\n",
      "  : 7\n",
      "a : 4\n",
      "n : 3\n",
      "d : 2\n",
      "  : 7\n",
      "l : 5\n",
      "e : 7\n",
      "t : 2\n",
      "s : 2\n",
      "  : 7\n",
      "l : 5\n",
      "e : 7\n",
      "a : 4\n",
      "r : 1\n",
      "n : 3\n",
      "  : 7\n",
      "d : 2\n",
      "a : 4\n",
      "t : 2\n",
      "a : 4\n",
      "  : 7\n",
      "s : 2\n",
      "c : 3\n",
      "i : 1\n",
      "e : 7\n",
      "n : 3\n",
      "c : 3\n",
      "e : 7\n"
     ]
    }
   ],
   "source": [
    "for i in list1:\n",
    "    print(i,\":\",list1.count(i))"
   ]
  },
  {
   "cell_type": "code",
   "execution_count": null,
   "id": "78ca5312",
   "metadata": {},
   "outputs": [],
   "source": []
  }
 ],
 "metadata": {
  "kernelspec": {
   "display_name": "Python 3 (ipykernel)",
   "language": "python",
   "name": "python3"
  },
  "language_info": {
   "codemirror_mode": {
    "name": "ipython",
    "version": 3
   },
   "file_extension": ".py",
   "mimetype": "text/x-python",
   "name": "python",
   "nbconvert_exporter": "python",
   "pygments_lexer": "ipython3",
   "version": "3.9.12"
  }
 },
 "nbformat": 4,
 "nbformat_minor": 5
}
