{
 "cells": [
  {
   "cell_type": "markdown",
   "id": "15a56696",
   "metadata": {},
   "source": [
    "# Q10.   Create a string of all the characters in a given list of strings "
   ]
  },
  {
   "cell_type": "code",
   "execution_count": 1,
   "id": "497145b1",
   "metadata": {},
   "outputs": [],
   "source": [
    "list1=['hello','coder','lets','learn','python']"
   ]
  },
  {
   "cell_type": "code",
   "execution_count": 2,
   "id": "3bf461de",
   "metadata": {},
   "outputs": [
    {
     "data": {
      "text/plain": [
       "['hello', 'coder', 'lets', 'learn', 'python']"
      ]
     },
     "execution_count": 2,
     "metadata": {},
     "output_type": "execute_result"
    }
   ],
   "source": [
    "list1"
   ]
  },
  {
   "cell_type": "code",
   "execution_count": 3,
   "id": "68cfde24",
   "metadata": {},
   "outputs": [
    {
     "name": "stdout",
     "output_type": "stream",
     "text": [
      "hello coder lets learn python\n"
     ]
    }
   ],
   "source": [
    "for i in list1:\n",
    "    string=\" \".join(list1)\n",
    "print(string)"
   ]
  },
  {
   "cell_type": "code",
   "execution_count": 4,
   "id": "38b06ff5",
   "metadata": {},
   "outputs": [
    {
     "data": {
      "text/plain": [
       "'hello coder lets learn python'"
      ]
     },
     "execution_count": 4,
     "metadata": {},
     "output_type": "execute_result"
    }
   ],
   "source": [
    "string"
   ]
  },
  {
   "cell_type": "markdown",
   "id": "d6aeba1b",
   "metadata": {},
   "source": [
    "# Q11.   Remove all the punctuation characters from a given string."
   ]
  },
  {
   "cell_type": "code",
   "execution_count": 5,
   "id": "2f9202a4",
   "metadata": {},
   "outputs": [],
   "source": [
    "string = \"Hello@#%  Welcome!!!!\"\n",
    "new_string = \" \""
   ]
  },
  {
   "cell_type": "code",
   "execution_count": 6,
   "id": "110c2e66",
   "metadata": {},
   "outputs": [
    {
     "name": "stdout",
     "output_type": "stream",
     "text": [
      " Hello  Welcome\n"
     ]
    }
   ],
   "source": [
    "for i in string:\n",
    "    if i.isalnum() or i.isspace():\n",
    "        new_string+=i\n",
    "print(new_string)  # no punctuation marks"
   ]
  },
  {
   "cell_type": "markdown",
   "id": "10b85569",
   "metadata": {},
   "source": [
    "# Q12.  Count the number of times each character appears in a given string."
   ]
  },
  {
   "cell_type": "code",
   "execution_count": 1,
   "id": "22089d8c",
   "metadata": {},
   "outputs": [],
   "source": [
    "string =\" Hello welcome and lets learn DATA SCIENCE\"\n",
    "string=string.lower()\n",
    "list1=list(string)"
   ]
  },
  {
   "cell_type": "code",
   "execution_count": 2,
   "id": "ecde2756",
   "metadata": {},
   "outputs": [
    {
     "name": "stdout",
     "output_type": "stream",
     "text": [
      "  : 7\n",
      "h : 1\n",
      "e : 7\n",
      "l : 5\n",
      "l : 5\n",
      "o : 2\n",
      "  : 7\n",
      "w : 1\n",
      "e : 7\n",
      "l : 5\n",
      "c : 3\n",
      "o : 2\n",
      "m : 1\n",
      "e : 7\n",
      "  : 7\n",
      "a : 4\n",
      "n : 3\n",
      "d : 2\n",
      "  : 7\n",
      "l : 5\n",
      "e : 7\n",
      "t : 2\n",
      "s : 2\n",
      "  : 7\n",
      "l : 5\n",
      "e : 7\n",
      "a : 4\n",
      "r : 1\n",
      "n : 3\n",
      "  : 7\n",
      "d : 2\n",
      "a : 4\n",
      "t : 2\n",
      "a : 4\n",
      "  : 7\n",
      "s : 2\n",
      "c : 3\n",
      "i : 1\n",
      "e : 7\n",
      "n : 3\n",
      "c : 3\n",
      "e : 7\n"
     ]
    }
   ],
   "source": [
    "for i in list1:\n",
    "    print(i,\":\",list1.count(i))"
   ]
  },
  {
   "cell_type": "markdown",
   "id": "d6ae8b3b",
   "metadata": {},
   "source": [
    "# Q 13. Capitalize the first letter of each word in a given string."
   ]
  },
  {
   "cell_type": "code",
   "execution_count": 3,
   "id": "e0f5a7d5",
   "metadata": {},
   "outputs": [
    {
     "data": {
      "text/plain": [
       "' Learn Data Science '"
      ]
     },
     "execution_count": 3,
     "metadata": {},
     "output_type": "execute_result"
    }
   ],
   "source": [
    "string = \" learn data science \"\n",
    "string=string.title()  # use title method of string\n",
    "string"
   ]
  },
  {
   "cell_type": "markdown",
   "id": "839f62e9",
   "metadata": {},
   "source": [
    "# Q14.Create a string of all the unique characters in a given string."
   ]
  },
  {
   "cell_type": "code",
   "execution_count": 4,
   "id": "5d1d4aec",
   "metadata": {},
   "outputs": [
    {
     "data": {
      "text/plain": [
       "{' ', 'D', 'a', 'c', 'e', 'i', 'n', 's', 't'}"
      ]
     },
     "execution_count": 4,
     "metadata": {},
     "output_type": "execute_result"
    }
   ],
   "source": [
    "string=\"Data science\"\n",
    "set(string)  # set isused to get all unique characters of string."
   ]
  },
  {
   "cell_type": "markdown",
   "id": "ed4ce266",
   "metadata": {},
   "source": [
    "# Q15.Find all the substrings of a given string. or all possible slices of a string."
   ]
  },
  {
   "cell_type": "code",
   "execution_count": 5,
   "id": "73d85444",
   "metadata": {},
   "outputs": [
    {
     "name": "stdout",
     "output_type": "stream",
     "text": [
      "['D', 'Da', 'Dat', 'Data', 'Datas', 'Datasc', 'Datasci', 'Datascie', 'Datascien', 'Datascienc', 'Datascience', 'Datascience.', 'a', 'at', 'ata', 'atas', 'atasc', 'atasci', 'atascie', 'atascien', 'atascienc', 'atascience', 'atascience.', 't', 'ta', 'tas', 'tasc', 'tasci', 'tascie', 'tascien', 'tascienc', 'tascience', 'tascience.', 'a', 'as', 'asc', 'asci', 'ascie', 'ascien', 'ascienc', 'ascience', 'ascience.', 's', 'sc', 'sci', 'scie', 'scien', 'scienc', 'science', 'science.', 'c', 'ci', 'cie', 'cien', 'cienc', 'cience', 'cience.', 'i', 'ie', 'ien', 'ienc', 'ience', 'ience.', 'e', 'en', 'enc', 'ence', 'ence.', 'n', 'nc', 'nce', 'nce.', 'c', 'ce', 'ce.', 'e', 'e.', '.']\n"
     ]
    }
   ],
   "source": [
    "string=\"Datascience.\"\n",
    "sub_string=[]\n",
    "for i in range(0,len(string)):\n",
    "    for j in range(i+1,len(string)+1):\n",
    "        sub_string.append(string[i:j])\n",
    "print(sub_string)  # all possible sub strings"
   ]
  },
  {
   "cell_type": "markdown",
   "id": "93f318ac",
   "metadata": {},
   "source": [
    "# Q16. Create a string of all the words in a given sentence in reverse order."
   ]
  },
  {
   "cell_type": "code",
   "execution_count": 6,
   "id": "d0ddd07f",
   "metadata": {},
   "outputs": [],
   "source": [
    "string=\" Hello coders learn data science\""
   ]
  },
  {
   "cell_type": "code",
   "execution_count": 7,
   "id": "516e25fa",
   "metadata": {},
   "outputs": [],
   "source": [
    "list1=string.split()"
   ]
  },
  {
   "cell_type": "code",
   "execution_count": 8,
   "id": "bc8a6c7d",
   "metadata": {},
   "outputs": [
    {
     "data": {
      "text/plain": [
       "['Hello', 'coders', 'learn', 'data', 'science']"
      ]
     },
     "execution_count": 8,
     "metadata": {},
     "output_type": "execute_result"
    }
   ],
   "source": [
    "list1"
   ]
  },
  {
   "cell_type": "code",
   "execution_count": 9,
   "id": "de0edd90",
   "metadata": {},
   "outputs": [],
   "source": [
    "list1=list1[-1::-1]"
   ]
  },
  {
   "cell_type": "code",
   "execution_count": 10,
   "id": "68c8c5b7",
   "metadata": {},
   "outputs": [
    {
     "data": {
      "text/plain": [
       "['science', 'data', 'learn', 'coders', 'Hello']"
      ]
     },
     "execution_count": 10,
     "metadata": {},
     "output_type": "execute_result"
    }
   ],
   "source": [
    "list1"
   ]
  },
  {
   "cell_type": "code",
   "execution_count": 11,
   "id": "add9a1fc",
   "metadata": {},
   "outputs": [],
   "source": [
    "string1=\" \".join(list1)"
   ]
  },
  {
   "cell_type": "code",
   "execution_count": 12,
   "id": "ae9d130b",
   "metadata": {},
   "outputs": [
    {
     "data": {
      "text/plain": [
       "'science data learn coders Hello'"
      ]
     },
     "execution_count": 12,
     "metadata": {},
     "output_type": "execute_result"
    }
   ],
   "source": [
    "string1"
   ]
  },
  {
   "cell_type": "code",
   "execution_count": 13,
   "id": "34dec3c8",
   "metadata": {},
   "outputs": [
    {
     "name": "stdout",
     "output_type": "stream",
     "text": [
      "enter a string : Lets learn data science\n",
      "science data learn Lets\n"
     ]
    }
   ],
   "source": [
    "string=input(\"enter a string : \")\n",
    "for i in string:\n",
    "    list1=string.split()\n",
    "    list1=list1[-1::-1]\n",
    "    string1=\" \".join(list1)\n",
    "print(string1)"
   ]
  },
  {
   "cell_type": "code",
   "execution_count": null,
   "id": "f4fae2b8",
   "metadata": {},
   "outputs": [],
   "source": []
  }
 ],
 "metadata": {
  "kernelspec": {
   "display_name": "Python 3 (ipykernel)",
   "language": "python",
   "name": "python3"
  },
  "language_info": {
   "codemirror_mode": {
    "name": "ipython",
    "version": 3
   },
   "file_extension": ".py",
   "mimetype": "text/x-python",
   "name": "python",
   "nbconvert_exporter": "python",
   "pygments_lexer": "ipython3",
   "version": "3.9.12"
  }
 },
 "nbformat": 4,
 "nbformat_minor": 5
}
