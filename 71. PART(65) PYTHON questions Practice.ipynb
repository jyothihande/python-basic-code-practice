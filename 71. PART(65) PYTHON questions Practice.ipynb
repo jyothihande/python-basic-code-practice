{
 "cells": [
  {
   "cell_type": "markdown",
   "id": "30c4f014",
   "metadata": {},
   "source": [
    "# Q1.Python Program to Calculate the Length of a String Without using Library Functions."
   ]
  },
  {
   "cell_type": "code",
   "execution_count": 1,
   "id": "43255579",
   "metadata": {},
   "outputs": [
    {
     "name": "stdout",
     "output_type": "stream",
     "text": [
      "Enter string:Learn Datascience\n",
      "Length of the string is:\n",
      "17\n"
     ]
    }
   ],
   "source": [
    "string=input(\"Enter string:\")\n",
    "count=0\n",
    "for i in string:\n",
    "      count=count+1\n",
    "print(\"Length of the string is:\")\n",
    "print(count)"
   ]
  },
  {
   "cell_type": "markdown",
   "id": "410df8e2",
   "metadata": {},
   "source": [
    "# Q2.Python Program to Count Number of Lowercase Characters in a String."
   ]
  },
  {
   "cell_type": "code",
   "execution_count": 2,
   "id": "a1424346",
   "metadata": {},
   "outputs": [
    {
     "name": "stdout",
     "output_type": "stream",
     "text": [
      "Enter string:Hello Coders\n",
      "The number of lowercase characters is:\n",
      "9\n"
     ]
    }
   ],
   "source": [
    "string=input(\"Enter string:\")\n",
    "count=0\n",
    "for i in string:\n",
    "      if(i.islower()):\n",
    "            count=count+1\n",
    "print(\"The number of lowercase characters is:\")\n",
    "print(count)"
   ]
  },
  {
   "cell_type": "markdown",
   "id": "dac789df",
   "metadata": {},
   "source": [
    "# Q3.Python Program to Count Number of Uppercase and Lowercase Letters in a String."
   ]
  },
  {
   "cell_type": "code",
   "execution_count": 3,
   "id": "82f561e1",
   "metadata": {},
   "outputs": [
    {
     "name": "stdout",
     "output_type": "stream",
     "text": [
      "Enter string:Hello Coders\n",
      "The number of lowercase characters is:\n",
      "9\n",
      "The number of uppercase characters is:\n",
      "2\n"
     ]
    }
   ],
   "source": [
    "string=input(\"Enter string:\")\n",
    "count1=0\n",
    "count2=0\n",
    "for i in string:\n",
    "    if(i.islower()):\n",
    "        count1=count1+1\n",
    "    elif(i.isupper()):\n",
    "        count2=count2+1\n",
    "print(\"The number of lowercase characters is:\")\n",
    "print(count1)\n",
    "print(\"The number of uppercase characters is:\")\n",
    "print(count2)"
   ]
  },
  {
   "cell_type": "markdown",
   "id": "2f20b40f",
   "metadata": {},
   "source": [
    "# Q4.Python Program to Count the Number of Digits and Letters in a String."
   ]
  },
  {
   "cell_type": "code",
   "execution_count": 6,
   "id": "921baf64",
   "metadata": {},
   "outputs": [
    {
     "name": "stdout",
     "output_type": "stream",
     "text": [
      "Enter string:ABC123456\n",
      "The number of digits is:\n",
      "6\n",
      "The number of characters is:\n",
      "3\n"
     ]
    }
   ],
   "source": [
    "string=input(\"Enter string:\")\n",
    "count1=0\n",
    "count2=0\n",
    "for i in string:\n",
    "    if(i.isdigit()):\n",
    "        count1=count1+1\n",
    "    else:\n",
    "        count2=count2+1\n",
    "print(\"The number of digits is:\")\n",
    "print(count1)\n",
    "print(\"The number of characters is:\")\n",
    "print(count2)"
   ]
  },
  {
   "cell_type": "code",
   "execution_count": null,
   "id": "044d07b3",
   "metadata": {},
   "outputs": [],
   "source": []
  }
 ],
 "metadata": {
  "kernelspec": {
   "display_name": "Python 3 (ipykernel)",
   "language": "python",
   "name": "python3"
  },
  "language_info": {
   "codemirror_mode": {
    "name": "ipython",
    "version": 3
   },
   "file_extension": ".py",
   "mimetype": "text/x-python",
   "name": "python",
   "nbconvert_exporter": "python",
   "pygments_lexer": "ipython3",
   "version": "3.9.12"
  }
 },
 "nbformat": 4,
 "nbformat_minor": 5
}
