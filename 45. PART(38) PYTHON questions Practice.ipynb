{
 "cells": [
  {
   "cell_type": "markdown",
   "id": "5d4ed584",
   "metadata": {},
   "source": [
    "# Q1.Python basic programming questions to calculate the square of a number."
   ]
  },
  {
   "cell_type": "code",
   "execution_count": 4,
   "id": "f633b443",
   "metadata": {},
   "outputs": [
    {
     "name": "stdout",
     "output_type": "stream",
     "text": [
      "Enter a number to calculate square : 5\n",
      "square of 5 is 25\n"
     ]
    }
   ],
   "source": [
    "num = int(input(\"Enter a number to calculate square : \"))\n",
    "print(\"square of\",num,\"is\",num*num)\n",
    "    "
   ]
  },
  {
   "cell_type": "code",
   "execution_count": 7,
   "id": "c62305b3",
   "metadata": {},
   "outputs": [
    {
     "name": "stdout",
     "output_type": "stream",
     "text": [
      "squre of a number is 25\n"
     ]
    }
   ],
   "source": [
    "def square(num):\n",
    "    print(\"squre of a number is\",num*num)\n",
    "square(5)    "
   ]
  },
  {
   "cell_type": "code",
   "execution_count": 8,
   "id": "781a9ae3",
   "metadata": {},
   "outputs": [],
   "source": [
    "import math"
   ]
  },
  {
   "cell_type": "code",
   "execution_count": 9,
   "id": "f279f616",
   "metadata": {},
   "outputs": [
    {
     "data": {
      "text/plain": [
       "5.0"
      ]
     },
     "execution_count": 9,
     "metadata": {},
     "output_type": "execute_result"
    }
   ],
   "source": [
    "math.sqrt(25)  # to find squre root."
   ]
  },
  {
   "cell_type": "markdown",
   "id": "aaa7fac6",
   "metadata": {},
   "source": [
    "# Q2.Python program to calculate the cube of a number."
   ]
  },
  {
   "cell_type": "code",
   "execution_count": 13,
   "id": "5e52a010",
   "metadata": {},
   "outputs": [
    {
     "name": "stdout",
     "output_type": "stream",
     "text": [
      "Enter a number to calculate cube : 5\n",
      "cube of 5 x 5 x 5 is 125\n"
     ]
    }
   ],
   "source": [
    "num = int(input(\"Enter a number to calculate cube : \"))\n",
    "print(\"cube of\",num,\"x\",num,\"x\",num,\"is\",num*num*num)"
   ]
  },
  {
   "cell_type": "markdown",
   "id": "8a4583f4",
   "metadata": {},
   "source": [
    "# Q3.Python program to count vowels and consonants in the string."
   ]
  },
  {
   "cell_type": "code",
   "execution_count": 18,
   "id": "457ea8a8",
   "metadata": {},
   "outputs": [
    {
     "name": "stdout",
     "output_type": "stream",
     "text": [
      "Enter a String : Hello Coders\n",
      "Vowels : 4 Consonants: 7\n"
     ]
    }
   ],
   "source": [
    "#taking input from the user\n",
    "string = input(\"Enter a String : \")\n",
    "vowels = 0  #variable to count number of vowels\n",
    "consonants = 0 #variable to count number of consonants\n",
    "for i in string:  #string iteration\n",
    "    if i in (\"a\", \"e\", \"i\", \"o\", \"u\",\"A\", \"E\", \"I\",\"O\",\"U\"):  #if character in string is vowel\n",
    "        vowels+=1 #if vowel increment variable ‘vowel’ with one\n",
    "    elif i.isalpha():  #checking if the character is alphabet\n",
    "        consonants+=1  #if consonant increment variable ‘consonants’ with one\n",
    "print(\"Vowels :\",vowels,\"Consonants:\",consonants)"
   ]
  },
  {
   "cell_type": "code",
   "execution_count": 22,
   "id": "a5f7cf56",
   "metadata": {},
   "outputs": [
    {
     "name": "stdout",
     "output_type": "stream",
     "text": [
      "Vowels : 4 Consonants: 7\n"
     ]
    }
   ],
   "source": [
    "def count_vowels_consonants(string):\n",
    "    string = input(\"Enter a String : \")\n",
    "    vowels = 0  #variable to count number of vowels\n",
    "    consonants = 0 #variable to count number of consonants\n",
    "    for i in string:  #string iteration\n",
    "        if i in (\"a\", \"e\", \"i\", \"o\", \"u\",\"A\", \"E\", \"I\",\"O\",\"U\"):  #if character in string is vowel\n",
    "            vowels+=1 #if vowel increment variable ‘vowel’ with one\n",
    "        elif i.isalpha():  #checking if the character is alphabet\n",
    "            consonants+=1  #if consonant increment variable ‘consonants’ with one\n",
    "print(\"Vowels :\",vowels,\"Consonants:\",consonants)    "
   ]
  },
  {
   "cell_type": "markdown",
   "id": "c1424402",
   "metadata": {},
   "source": [
    "# Q4.Python program to remove spaces from string without inbuilt function."
   ]
  },
  {
   "cell_type": "code",
   "execution_count": 23,
   "id": "1c73d313",
   "metadata": {},
   "outputs": [
    {
     "name": "stdout",
     "output_type": "stream",
     "text": [
      "Enter a String : Hello coders\n",
      "String after removing the spaces :  Hellocoders\n"
     ]
    }
   ],
   "source": [
    "string = input(\"Enter a String : \")\n",
    "result=\" \"\n",
    "#iterating the string\n",
    "for i in string:\n",
    "  #if the character is not a space\n",
    "  if i!=\" \":\n",
    "    result += i\n",
    "print(\"String after removing the spaces :\",result)"
   ]
  },
  {
   "cell_type": "code",
   "execution_count": null,
   "id": "eaf26b7d",
   "metadata": {},
   "outputs": [],
   "source": []
  }
 ],
 "metadata": {
  "kernelspec": {
   "display_name": "Python 3 (ipykernel)",
   "language": "python",
   "name": "python3"
  },
  "language_info": {
   "codemirror_mode": {
    "name": "ipython",
    "version": 3
   },
   "file_extension": ".py",
   "mimetype": "text/x-python",
   "name": "python",
   "nbconvert_exporter": "python",
   "pygments_lexer": "ipython3",
   "version": "3.9.12"
  }
 },
 "nbformat": 4,
 "nbformat_minor": 5
}
