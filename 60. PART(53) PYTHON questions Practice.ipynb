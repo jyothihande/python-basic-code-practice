{
 "cells": [
  {
   "cell_type": "markdown",
   "id": "2956213b",
   "metadata": {},
   "source": [
    "# Q1.Python code for Adding K to each element in a list of integers."
   ]
  },
  {
   "cell_type": "code",
   "execution_count": 1,
   "id": "f6305a4f",
   "metadata": {},
   "outputs": [
    {
     "name": "stdout",
     "output_type": "stream",
     "text": [
      "The original list is : [1, 2, 0, 3]\n",
      "The list after adding K to each element : [5, 6, 4, 7]\n"
     ]
    }
   ],
   "source": [
    "# initializing list\n",
    "test_list = [1,2,0,3]\n",
    "\n",
    "# printing original list\n",
    "print(\"The original list is : \" + str(test_list))\n",
    "\n",
    "# initializing K\n",
    "K = 4\n",
    "\n",
    "# using list comprehension\n",
    "# adding K to each element\n",
    "res = [x + K for x in test_list]\n",
    "\n",
    "# printing result\n",
    "print(\"The list after adding K to each element : \" + str(res))\n"
   ]
  },
  {
   "cell_type": "markdown",
   "id": "74be8b28",
   "metadata": {},
   "source": [
    "# Q2.Python code Adding two list elements."
   ]
  },
  {
   "cell_type": "code",
   "execution_count": 2,
   "id": "6adf19fa",
   "metadata": {},
   "outputs": [
    {
     "name": "stdout",
     "output_type": "stream",
     "text": [
      "Original list 1 : [1, 3, 4, 6, 8]\n",
      "Original list 2 : [4, 5, 6, 2, 10]\n",
      "Resultant list is : [5, 8, 10, 8, 18]\n"
     ]
    }
   ],
   "source": [
    "# Python code to demonstrate\n",
    "# addition of two list\n",
    "# list comprehension\n",
    "\n",
    "# initializing lists\n",
    "test_list1 = [1, 3, 4, 6, 8]\n",
    "test_list2 = [4, 5, 6, 2, 10]\n",
    "\n",
    "# printing original lists\n",
    "print (\"Original list 1 : \" + str(test_list1))\n",
    "print (\"Original list 2 : \" + str(test_list2))\n",
    "\n",
    "# using list comprehension to\n",
    "# add two list\n",
    "res_list = [test_list1[i] + test_list2[i] for i in range(len(test_list1))]\n",
    "\n",
    "# printing resultant list\n",
    "print (\"Resultant list is : \" + str(res_list))"
   ]
  },
  {
   "cell_type": "code",
   "execution_count": 3,
   "id": "fa18c363",
   "metadata": {},
   "outputs": [
    {
     "name": "stdout",
     "output_type": "stream",
     "text": [
      "Original list 1 : [1, 3, 4, 6, 8]\n",
      "Original list 2 : [4, 5, 6, 2, 10]\n",
      "Resultant list is : [5, 8, 10, 8, 18]\n"
     ]
    }
   ],
   "source": [
    "# Python code to demonstrate\n",
    "# addition of two list\n",
    "# map() + add()\n",
    "from operator import add\n",
    "\n",
    "# initializing lists\n",
    "test_list1 = [1, 3, 4, 6, 8]\n",
    "test_list2 = [4, 5, 6, 2, 10]\n",
    "\n",
    "# printing original lists\n",
    "print (\"Original list 1 : \" + str(test_list1))\n",
    "print (\"Original list 2 : \" + str(test_list2))\n",
    "\n",
    "# using map() + add() to\n",
    "# add two list\n",
    "res_list = list(map(add, test_list1, test_list2))\n",
    "\n",
    "# printing resultant list\n",
    "print (\"Resultant list is : \" + str(res_list))\n"
   ]
  },
  {
   "cell_type": "markdown",
   "id": "242b88d2",
   "metadata": {},
   "source": [
    "# Q3.Python | Print list after removing element at given index."
   ]
  },
  {
   "cell_type": "code",
   "execution_count": 4,
   "id": "80460369",
   "metadata": {},
   "outputs": [
    {
     "name": "stdout",
     "output_type": "stream",
     "text": [
      "10 20 40 50\n"
     ]
    }
   ],
   "source": [
    "# Python3 program to remove the index\n",
    "# element from the list\n",
    "# using pop()\n",
    "\n",
    "def remove(list1, pos):\n",
    "                                            # pop the element at index = pos\n",
    "    list1.pop(pos)\n",
    "    print(*list1)\n",
    "\n",
    "# driver code\n",
    "list1 = [10, 20, 30, 40, 50]\n",
    "pos = 2\n",
    "remove(list1, pos)\n"
   ]
  },
  {
   "cell_type": "code",
   "execution_count": 5,
   "id": "675bc4ef",
   "metadata": {},
   "outputs": [
    {
     "name": "stdout",
     "output_type": "stream",
     "text": [
      "10 20 40 50\n"
     ]
    }
   ],
   "source": [
    "# Python3 program to remove the index element\n",
    "# from the list using del\n",
    "\n",
    "def remove(list1, pos):\n",
    "\n",
    "# delete the element at index = pos\n",
    "    del list1[pos]\n",
    "    print(*list1)\n",
    "# driver code\n",
    "list1 = [10, 20, 30, 40, 50]\n",
    "pos = 2\n",
    "remove(list1, pos)\n"
   ]
  },
  {
   "cell_type": "code",
   "execution_count": null,
   "id": "69a891fc",
   "metadata": {},
   "outputs": [],
   "source": []
  }
 ],
 "metadata": {
  "kernelspec": {
   "display_name": "Python 3 (ipykernel)",
   "language": "python",
   "name": "python3"
  },
  "language_info": {
   "codemirror_mode": {
    "name": "ipython",
    "version": 3
   },
   "file_extension": ".py",
   "mimetype": "text/x-python",
   "name": "python",
   "nbconvert_exporter": "python",
   "pygments_lexer": "ipython3",
   "version": "3.9.12"
  }
 },
 "nbformat": 4,
 "nbformat_minor": 5
}
