{
 "cells": [
  {
   "cell_type": "markdown",
   "id": "7b9f94ff",
   "metadata": {},
   "source": [
    "# Q1.Python Program to Print the Natural Numbers Summation Pattern."
   ]
  },
  {
   "cell_type": "code",
   "execution_count": 1,
   "id": "c716329d",
   "metadata": {},
   "outputs": [
    {
     "name": "stdout",
     "output_type": "stream",
     "text": [
      "Enter a number: 5\n",
      "1 = 1\n",
      "1 + 2 = 3\n",
      "1 + 2 + 3 = 6\n",
      "1 + 2 + 3 + 4 = 10\n",
      "1 + 2 + 3 + 4 + 5 = 15\n",
      "\n"
     ]
    }
   ],
   "source": [
    "n=int(input(\"Enter a number: \"))\n",
    "for j in range(1,n+1):\n",
    "    a=[]\n",
    "    for i in range(1,j+1):\n",
    "        print(i,sep=\" \",end=\" \")\n",
    "        if(i<j):\n",
    "            print(\"+\",sep=\" \",end=\" \")\n",
    "        a.append(i)\n",
    "    print(\"=\",sum(a))\n",
    " \n",
    "print()"
   ]
  },
  {
   "cell_type": "markdown",
   "id": "244fd1f5",
   "metadata": {},
   "source": [
    "# Q2.Python Program to Print All Integers that Are Divisible by 2  and 5."
   ]
  },
  {
   "cell_type": "code",
   "execution_count": 11,
   "id": "cd951290",
   "metadata": {},
   "outputs": [
    {
     "name": "stdout",
     "output_type": "stream",
     "text": [
      "0 10 20 30 40 50 "
     ]
    }
   ],
   "source": [
    "for i in range(0,51):\n",
    "    if(i%2==0) & (i%5==0):\n",
    "        print(i,end=\" \")"
   ]
  },
  {
   "cell_type": "markdown",
   "id": "8beceed5",
   "metadata": {},
   "source": [
    "# Q3.Python Program to Calculate the Power using Recursion."
   ]
  },
  {
   "cell_type": "code",
   "execution_count": 12,
   "id": "aa1317ef",
   "metadata": {},
   "outputs": [
    {
     "name": "stdout",
     "output_type": "stream",
     "text": [
      "Enter base: 5\n",
      "Enter exponential value: 2\n",
      "Result: 25\n"
     ]
    }
   ],
   "source": [
    "def power(base,exp):\n",
    "    if(exp==1):\n",
    "        return(base)\n",
    "    if(exp!=1):\n",
    "        return(base*power(base,exp-1))\n",
    "base=int(input(\"Enter base: \"))\n",
    "exp=int(input(\"Enter exponential value: \"))\n",
    "print(\"Result:\",power(base,exp))"
   ]
  },
  {
   "cell_type": "code",
   "execution_count": 13,
   "id": "740167ff",
   "metadata": {},
   "outputs": [
    {
     "name": "stdout",
     "output_type": "stream",
     "text": [
      "Enter base: 3\n",
      "Enter exponential value: 3\n",
      "Result: 27\n"
     ]
    }
   ],
   "source": [
    "def power(base,exp):\n",
    "    if(exp==1):\n",
    "        return(base)\n",
    "    if(exp!=1):\n",
    "        return(base*power(base,exp-1))\n",
    "base=int(input(\"Enter base: \"))\n",
    "exp=int(input(\"Enter exponential value: \"))\n",
    "print(\"Result:\",power(base,exp))"
   ]
  },
  {
   "cell_type": "markdown",
   "id": "39d1b51c",
   "metadata": {},
   "source": [
    "# Q4.Reverse a Number in Python using Slice Operator."
   ]
  },
  {
   "cell_type": "code",
   "execution_count": 15,
   "id": "c473f939",
   "metadata": {},
   "outputs": [
    {
     "name": "stdout",
     "output_type": "stream",
     "text": [
      "Enter a number: 145\n",
      "Reversed number: 541\n"
     ]
    }
   ],
   "source": [
    "number = int(input(\"Enter a number: \"))\n",
    "reversed_number = int(str(number)[::-1])\n",
    "print(\"Reversed number:\", reversed_number)"
   ]
  },
  {
   "cell_type": "code",
   "execution_count": 16,
   "id": "ef3a5953",
   "metadata": {},
   "outputs": [
    {
     "name": "stdout",
     "output_type": "stream",
     "text": [
      "Enter number: 145\n",
      "Reverse of the number: 541\n"
     ]
    }
   ],
   "source": [
    "n=int(input(\"Enter number: \"))\n",
    "rev=0\n",
    "while(n>0):\n",
    "    dig=n%10\n",
    "    rev=rev*10+dig\n",
    "    n=n//10\n",
    "print(\"Reverse of the number:\",rev)"
   ]
  },
  {
   "cell_type": "code",
   "execution_count": null,
   "id": "cd3f9495",
   "metadata": {},
   "outputs": [],
   "source": []
  }
 ],
 "metadata": {
  "kernelspec": {
   "display_name": "Python 3 (ipykernel)",
   "language": "python",
   "name": "python3"
  },
  "language_info": {
   "codemirror_mode": {
    "name": "ipython",
    "version": 3
   },
   "file_extension": ".py",
   "mimetype": "text/x-python",
   "name": "python",
   "nbconvert_exporter": "python",
   "pygments_lexer": "ipython3",
   "version": "3.9.12"
  }
 },
 "nbformat": 4,
 "nbformat_minor": 5
}
