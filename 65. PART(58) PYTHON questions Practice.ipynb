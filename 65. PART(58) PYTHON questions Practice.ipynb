{
 "cells": [
  {
   "cell_type": "markdown",
   "id": "b3c8cd38",
   "metadata": {},
   "source": [
    "# Q1.Sum of Digit of a Number Without Recursion in Python."
   ]
  },
  {
   "cell_type": "code",
   "execution_count": 1,
   "id": "d7fe770e",
   "metadata": {},
   "outputs": [
    {
     "name": "stdout",
     "output_type": "stream",
     "text": [
      "Enter a number: 123456\n",
      "Sum is:\n",
      "21\n"
     ]
    }
   ],
   "source": [
    "l=[]\n",
    "b=int(input(\"Enter a number: \"))\n",
    "while(b>0):\n",
    "    dig=b%10\n",
    "    l.append(dig)\n",
    "    b=b//10\n",
    "print(\"Sum is:\")\n",
    "print(sum(l))"
   ]
  },
  {
   "cell_type": "markdown",
   "id": "3f463b51",
   "metadata": {},
   "source": [
    "# Q2.Sum of Digit of a Number using Recursion in Python."
   ]
  },
  {
   "cell_type": "code",
   "execution_count": 2,
   "id": "4612f85c",
   "metadata": {},
   "outputs": [
    {
     "name": "stdout",
     "output_type": "stream",
     "text": [
      "Enter a number: 521\n",
      "8\n"
     ]
    }
   ],
   "source": [
    "l=[]\n",
    "def sum_digits(b):\n",
    "    if(b==0):\n",
    "        return l\n",
    "    dig=b%10\n",
    "    l.append(dig)\n",
    "    sum_digits(b//10)\n",
    "n=int(input(\"Enter a number: \"))\n",
    "sum_digits(n)\n",
    "print(sum(l))"
   ]
  },
  {
   "cell_type": "markdown",
   "id": "f780181d",
   "metadata": {},
   "source": [
    "# Q3.Python Program to Find Numbers which are Divisible by 7 and Multiple of 5 in a Given Range."
   ]
  },
  {
   "cell_type": "code",
   "execution_count": 3,
   "id": "0864c7fc",
   "metadata": {},
   "outputs": [
    {
     "name": "stdout",
     "output_type": "stream",
     "text": [
      "Enter the lower range:0\n",
      "Enter the upper range:101\n",
      "0\n",
      "35\n",
      "70\n"
     ]
    }
   ],
   "source": [
    "lower=int(input(\"Enter the lower range:\"))\n",
    "upper=int(input(\"Enter the upper range:\"))\n",
    "for i in range (lower,upper+1):\n",
    "    if(i%7==0 and i%5==0):\n",
    "        print(i)"
   ]
  },
  {
   "cell_type": "markdown",
   "id": "d9c48e7e",
   "metadata": {},
   "source": [
    "# Q4.Python Program to Print Table of a Given Number."
   ]
  },
  {
   "cell_type": "code",
   "execution_count": 5,
   "id": "d441e850",
   "metadata": {},
   "outputs": [
    {
     "name": "stdout",
     "output_type": "stream",
     "text": [
      "Enter the number to print the tables for:8\n",
      "8 x 1 = 8\n",
      "8 x 2 = 16\n",
      "8 x 3 = 24\n",
      "8 x 4 = 32\n",
      "8 x 5 = 40\n",
      "8 x 6 = 48\n",
      "8 x 7 = 56\n",
      "8 x 8 = 64\n",
      "8 x 9 = 72\n",
      "8 x 10 = 80\n"
     ]
    }
   ],
   "source": [
    "n=int(input(\"Enter the number to print the tables for:\"))\n",
    "for i in range(1,11):\n",
    "    print(n,\"x\",i,\"=\",n*i)"
   ]
  },
  {
   "cell_type": "markdown",
   "id": "1c56f1c5",
   "metadata": {},
   "source": [
    "# Q5.Python Program to Count the Number of Digits in a Number."
   ]
  },
  {
   "cell_type": "code",
   "execution_count": 6,
   "id": "000ec989",
   "metadata": {},
   "outputs": [
    {
     "name": "stdout",
     "output_type": "stream",
     "text": [
      "Enter number:8512\n",
      "The number of digits in the number are: 4\n"
     ]
    }
   ],
   "source": [
    "n=int(input(\"Enter number:\"))\n",
    "count=0\n",
    "while(n>0):\n",
    "    count=count+1\n",
    "    n=n//10\n",
    "print(\"The number of digits in the number are:\",count)"
   ]
  },
  {
   "cell_type": "code",
   "execution_count": null,
   "id": "d5572405",
   "metadata": {},
   "outputs": [],
   "source": []
  }
 ],
 "metadata": {
  "kernelspec": {
   "display_name": "Python 3 (ipykernel)",
   "language": "python",
   "name": "python3"
  },
  "language_info": {
   "codemirror_mode": {
    "name": "ipython",
    "version": 3
   },
   "file_extension": ".py",
   "mimetype": "text/x-python",
   "name": "python",
   "nbconvert_exporter": "python",
   "pygments_lexer": "ipython3",
   "version": "3.9.12"
  }
 },
 "nbformat": 4,
 "nbformat_minor": 5
}
