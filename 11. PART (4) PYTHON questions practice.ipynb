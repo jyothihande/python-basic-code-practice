{
 "cells": [
  {
   "cell_type": "markdown",
   "id": "0e9de021",
   "metadata": {},
   "source": [
    "# 21.   Create an array of all the even numbers from a given array of integers."
   ]
  },
  {
   "cell_type": "code",
   "execution_count": 1,
   "id": "715d75d3",
   "metadata": {},
   "outputs": [],
   "source": [
    "import numpy as np"
   ]
  },
  {
   "cell_type": "code",
   "execution_count": 2,
   "id": "041ce32e",
   "metadata": {},
   "outputs": [],
   "source": [
    "y=np.arange(2,25,2).reshape(3,4) # array with numbers bet 2  and 25  and with step = 2"
   ]
  },
  {
   "cell_type": "code",
   "execution_count": 3,
   "id": "0eb623d7",
   "metadata": {},
   "outputs": [
    {
     "data": {
      "text/plain": [
       "numpy.ndarray"
      ]
     },
     "execution_count": 3,
     "metadata": {},
     "output_type": "execute_result"
    }
   ],
   "source": [
    "type(y)"
   ]
  },
  {
   "cell_type": "code",
   "execution_count": 4,
   "id": "76e542e5",
   "metadata": {},
   "outputs": [
    {
     "data": {
      "text/plain": [
       "array([[ 2,  4,  6,  8],\n",
       "       [10, 12, 14, 16],\n",
       "       [18, 20, 22, 24]])"
      ]
     },
     "execution_count": 4,
     "metadata": {},
     "output_type": "execute_result"
    }
   ],
   "source": [
    "y  # array of all even numbers"
   ]
  },
  {
   "cell_type": "markdown",
   "id": "3c95ae33",
   "metadata": {},
   "source": [
    "# 22.   Find the intersection of two given lists."
   ]
  },
  {
   "cell_type": "code",
   "execution_count": 37,
   "id": "2924e322",
   "metadata": {},
   "outputs": [],
   "source": [
    "list1= [ 5,8,3,66,41,75,909]\n",
    "list2= [41,909,32,48,63,7,20]"
   ]
  },
  {
   "cell_type": "code",
   "execution_count": 38,
   "id": "f477ddda",
   "metadata": {},
   "outputs": [
    {
     "name": "stdout",
     "output_type": "stream",
     "text": [
      "{41, 909}\n"
     ]
    }
   ],
   "source": [
    "def intersection_list(list1, list2):\n",
    "    return set(list1).intersection(list2)\n",
    "print(intersection_list(list1, list2))"
   ]
  },
  {
   "cell_type": "code",
   "execution_count": 40,
   "id": "4f6987ad",
   "metadata": {},
   "outputs": [
    {
     "name": "stdout",
     "output_type": "stream",
     "text": [
      "[4, 5]\n"
     ]
    }
   ],
   "source": [
    "list1 = [1, 2, 3, 4, 5]\n",
    "\n",
    "list2 = [4, 5, 6, 7, 8]\n",
    "\n",
    "intersected_list = []\n",
    "\n",
    "for element in list1:\n",
    "    if element in list2:\n",
    "        intersected_list.append(element)\n",
    "print(intersected_list)\n",
    " "
   ]
  }
 ],
 "metadata": {
  "kernelspec": {
   "display_name": "Python 3 (ipykernel)",
   "language": "python",
   "name": "python3"
  },
  "language_info": {
   "codemirror_mode": {
    "name": "ipython",
    "version": 3
   },
   "file_extension": ".py",
   "mimetype": "text/x-python",
   "name": "python",
   "nbconvert_exporter": "python",
   "pygments_lexer": "ipython3",
   "version": "3.9.12"
  }
 },
 "nbformat": 4,
 "nbformat_minor": 5
}
