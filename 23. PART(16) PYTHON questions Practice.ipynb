{
 "cells": [
  {
   "cell_type": "markdown",
   "id": "97133c7e",
   "metadata": {},
   "source": [
    "# Q1.Python Program to Count Digits in a Number."
   ]
  },
  {
   "cell_type": "code",
   "execution_count": 1,
   "id": "3c0b0d34",
   "metadata": {},
   "outputs": [
    {
     "name": "stdout",
     "output_type": "stream",
     "text": [
      "enter a number: 421\n"
     ]
    }
   ],
   "source": [
    "number=input(\"enter a number: \")"
   ]
  },
  {
   "cell_type": "code",
   "execution_count": 2,
   "id": "921940bf",
   "metadata": {},
   "outputs": [
    {
     "name": "stdout",
     "output_type": "stream",
     "text": [
      "7\n"
     ]
    }
   ],
   "source": [
    "for i in number:\n",
    "    sum=int(number[0])+int(number[1])+int(number[2])\n",
    "print(sum)"
   ]
  },
  {
   "cell_type": "code",
   "execution_count": 5,
   "id": "d013a8d6",
   "metadata": {},
   "outputs": [
    {
     "name": "stdout",
     "output_type": "stream",
     "text": [
      "3 length of a number\n",
      "421 sum of a number\n"
     ]
    }
   ],
   "source": [
    "for i in number:\n",
    "    sum=int(number[0:3])\n",
    "print(len(number),\"length of a number\")\n",
    "print(sum,\"sum of a number\")"
   ]
  },
  {
   "cell_type": "markdown",
   "id": "69311748",
   "metadata": {},
   "source": [
    "# Q2.Python Program to Find Sum of First and Last Digit."
   ]
  },
  {
   "cell_type": "code",
   "execution_count": 7,
   "id": "62e4ea04",
   "metadata": {},
   "outputs": [
    {
     "name": "stdout",
     "output_type": "stream",
     "text": [
      "enter a number: 100003\n",
      "4\n"
     ]
    }
   ],
   "source": [
    "number=input(\"enter a number: \")\n",
    "for i in number:\n",
    "    sum=int(number[0])+int(number[-1])\n",
    "print(sum)"
   ]
  },
  {
   "cell_type": "markdown",
   "id": "315021cd",
   "metadata": {},
   "source": [
    "# Q3.Python Program to Check Positive or Negative or Zero."
   ]
  },
  {
   "cell_type": "code",
   "execution_count": 13,
   "id": "7cd0a85c",
   "metadata": {},
   "outputs": [],
   "source": [
    "negative=[]\n",
    "positive=[]"
   ]
  },
  {
   "cell_type": "code",
   "execution_count": 16,
   "id": "bbee72cc",
   "metadata": {},
   "outputs": [
    {
     "name": "stdout",
     "output_type": "stream",
     "text": [
      "Enter the Number: 25\n",
      "\n",
      "Positive Number\n",
      "[-6]\n",
      "[9, 25]\n"
     ]
    }
   ],
   "source": [
    "num = int(input(\"Enter the Number: \"))\n",
    "if num<0:\n",
    "    print(\"\\nNegative Number\")\n",
    "    negative.append(num)\n",
    "elif num==0:\n",
    "    print(\"\\nZero\")\n",
    "else:\n",
    "    print(\"\\nPositive Number\")\n",
    "    positive.append(num)\n",
    "print(negative)\n",
    "print(positive)"
   ]
  },
  {
   "cell_type": "markdown",
   "id": "4dd7066d",
   "metadata": {},
   "source": [
    "# Q4. Python Program to Find Sum of Squares of Digits of a Number."
   ]
  },
  {
   "cell_type": "code",
   "execution_count": 35,
   "id": "2bb8b27a",
   "metadata": {},
   "outputs": [
    {
     "name": "stdout",
     "output_type": "stream",
     "text": [
      "Sum of square is: 506\n"
     ]
    }
   ],
   "source": [
    "def square(num) :\n",
    "    sum = 0\n",
    "    for i in range(1, num+1) :\n",
    "        sum= sum + (i * i)\n",
    "    return sum\n",
    "num =12\n",
    "print(\"Sum of square is:\",square(num))"
   ]
  },
  {
   "cell_type": "markdown",
   "id": "5b34c41e",
   "metadata": {},
   "source": [
    "# Q5.Python Program to Swap Two Variables."
   ]
  },
  {
   "cell_type": "code",
   "execution_count": 38,
   "id": "418f16cb",
   "metadata": {},
   "outputs": [
    {
     "name": "stdout",
     "output_type": "stream",
     "text": [
      "x = 10\n",
      "y = 5\n"
     ]
    }
   ],
   "source": [
    "x = 5\n",
    "y = 10\n",
    "\n",
    "x, y = y, x\n",
    "print(\"x =\", x)\n",
    "print(\"y =\", y)"
   ]
  },
  {
   "cell_type": "code",
   "execution_count": 39,
   "id": "051cfa3e",
   "metadata": {},
   "outputs": [
    {
     "name": "stdout",
     "output_type": "stream",
     "text": [
      "Value of x: 50\n",
      "Value of y: 10\n"
     ]
    }
   ],
   "source": [
    "# Python program to demonstrate\n",
    "# swapping of two variables\n",
    "\n",
    "x = 10\n",
    "y = 50\n",
    "\n",
    "# Swapping of two variables\n",
    "# Using third variable\n",
    "temp = x\n",
    "x = y\n",
    "y = temp\n",
    "\n",
    "print(\"Value of x:\", x)\n",
    "print(\"Value of y:\", y)\n"
   ]
  },
  {
   "cell_type": "code",
   "execution_count": null,
   "id": "f1b58db6",
   "metadata": {},
   "outputs": [],
   "source": []
  }
 ],
 "metadata": {
  "kernelspec": {
   "display_name": "Python 3 (ipykernel)",
   "language": "python",
   "name": "python3"
  },
  "language_info": {
   "codemirror_mode": {
    "name": "ipython",
    "version": 3
   },
   "file_extension": ".py",
   "mimetype": "text/x-python",
   "name": "python",
   "nbconvert_exporter": "python",
   "pygments_lexer": "ipython3",
   "version": "3.9.12"
  }
 },
 "nbformat": 4,
 "nbformat_minor": 5
}
