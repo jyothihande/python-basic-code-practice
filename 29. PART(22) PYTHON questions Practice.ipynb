{
 "cells": [
  {
   "cell_type": "markdown",
   "id": "a4b0205e",
   "metadata": {},
   "source": [
    "# Q1.Python Program to Count Even and Odd Numbers in a List."
   ]
  },
  {
   "cell_type": "code",
   "execution_count": 1,
   "id": "8ca284ff",
   "metadata": {},
   "outputs": [
    {
     "name": "stdout",
     "output_type": "stream",
     "text": [
      "List of all even numbers [0, 2, 4, 6, 8]\n",
      "List of all odd numbers [1, 3, 5, 7, 9]\n"
     ]
    }
   ],
   "source": [
    "even=[]\n",
    "odd=[]\n",
    "for i in range(10):\n",
    "    if i%2==0:\n",
    "        even.append(i)\n",
    "    else:\n",
    "        odd.append(i)\n",
    "print(\"List of all even numbers\",even)\n",
    "print(\"List of all odd numbers\",odd)"
   ]
  },
  {
   "cell_type": "code",
   "execution_count": 2,
   "id": "093bfea9",
   "metadata": {},
   "outputs": [
    {
     "name": "stdout",
     "output_type": "stream",
     "text": [
      "Even numbers in the list:  3\n",
      "Odd numbers in the list:  4\n"
     ]
    }
   ],
   "source": [
    "#list of numbers\n",
    "list1 = [10, 21, 4, 45, 66, 93, 1]\n",
    " \n",
    "even_count, odd_count = 0, 0\n",
    " \n",
    "# iterating each number in list\n",
    "for num in list1:\n",
    " \n",
    "    # checking condition\n",
    "    if num % 2 == 0:\n",
    "        even_count += 1\n",
    " \n",
    "    else:\n",
    "        odd_count += 1\n",
    "print(\"Even numbers in the list: \", even_count)\n",
    "print(\"Odd numbers in the list: \", odd_count)"
   ]
  },
  {
   "cell_type": "markdown",
   "id": "97321c35",
   "metadata": {},
   "source": [
    "# Q2.Python Program to Count Positive, Zero, Negative Numbers in List."
   ]
  },
  {
   "cell_type": "code",
   "execution_count": null,
   "id": "81198d88",
   "metadata": {},
   "outputs": [],
   "source": [
    "numbers=int(input(\"enter numbers :\"))\n",
    "positive=0\n",
    "zero=0\n",
    "negative=0"
   ]
  },
  {
   "cell_type": "code",
   "execution_count": 14,
   "id": "27286de6",
   "metadata": {},
   "outputs": [
    {
     "name": "stdout",
     "output_type": "stream",
     "text": [
      "Positive numbers in the list:  4\n",
      "Negative numbers in the list:  3\n"
     ]
    }
   ],
   "source": [
    "# Python program to count positive and negative numbers in a List\n",
    "\n",
    "# list of numbers\n",
    "list1 = [10, -21, 4, -45, 66, -93, 1]\n",
    "\n",
    "pos_count, neg_count = 0, 0\n",
    "\n",
    "# iterating each number in list\n",
    "for num in list1:\n",
    "    if num >= 0:\n",
    "        pos_count += 1\n",
    "    else:\n",
    "        neg_count += 1\n",
    "\n",
    "print(\"Positive numbers in the list: \", pos_count)\n",
    "print(\"Negative numbers in the list: \", neg_count)\n"
   ]
  },
  {
   "cell_type": "code",
   "execution_count": 3,
   "id": "d93cbb74",
   "metadata": {},
   "outputs": [
    {
     "name": "stdout",
     "output_type": "stream",
     "text": [
      "Positive numbers in the list:  5\n",
      "Negative numbers in the list:  3\n"
     ]
    }
   ],
   "source": [
    "list1 = [1,-2,-4,6,7,-23,45,-0]\n",
    "neg_count = len(list(filter(lambda x: (x < 0), list1)))\n",
    "pos_count = len(list(filter(lambda x: (x >= 0), list1)))\n",
    "print(\"Positive numbers in the list: \", pos_count)\n",
    "print(\"Negative numbers in the list: \", neg_count)"
   ]
  },
  {
   "cell_type": "code",
   "execution_count": 5,
   "id": "55f9888d",
   "metadata": {},
   "outputs": [
    {
     "name": "stdout",
     "output_type": "stream",
     "text": [
      "Enter a number: -5\n",
      "Negative number\n"
     ]
    }
   ],
   "source": [
    "num =int(input(\"Enter a number: \"))\n",
    "if num > 0:\n",
    "    print(\"Positive number\")\n",
    "elif num == 0:\n",
    "    print(\"Zero\")\n",
    "else:\n",
    "    print(\"Negative number\")"
   ]
  },
  {
   "cell_type": "code",
   "execution_count": 13,
   "id": "252526ad",
   "metadata": {},
   "outputs": [
    {
     "name": "stdout",
     "output_type": "stream",
     "text": [
      "0 is Zero\n"
     ]
    }
   ],
   "source": [
    "def positive_negative(a):\n",
    "    if a > 0:\n",
    "        print(a,\"is Positive number\")\n",
    "    elif a == 0:\n",
    "        print(a,\"is Zero\")\n",
    "    else:\n",
    "        print(a,\"is Negative number\")\n",
    "positive_negative(0) "
   ]
  },
  {
   "cell_type": "markdown",
   "id": "1a3553a1",
   "metadata": {},
   "source": [
    "# Q3.Python Program to Print Even Numbers in a List."
   ]
  },
  {
   "cell_type": "code",
   "execution_count": 19,
   "id": "b4b07533",
   "metadata": {},
   "outputs": [
    {
     "name": "stdout",
     "output_type": "stream",
     "text": [
      "[0, 2, 4, 6, 8, 10, 12, 14] list of even numbers\n",
      "[1, 3, 5, 7, 9, 11, 13] list of odd numbers\n"
     ]
    }
   ],
   "source": [
    "even=[]\n",
    "odd=[]\n",
    "for i in range(15):\n",
    "    if i%2==0:\n",
    "        even.append(i)\n",
    "    else:\n",
    "        odd.append(i) \n",
    "print(even,\"list of even numbers\")\n",
    "print(odd,\"list of odd numbers\")"
   ]
  },
  {
   "cell_type": "markdown",
   "id": "5cc71f7b",
   "metadata": {},
   "source": [
    "# Q4.Python Program to Find Sum of all Elements in a List."
   ]
  },
  {
   "cell_type": "code",
   "execution_count": 22,
   "id": "a6f11e8e",
   "metadata": {},
   "outputs": [
    {
     "name": "stdout",
     "output_type": "stream",
     "text": [
      "30\n"
     ]
    }
   ],
   "source": [
    "list1=[10,2,3,4,5,6]\n",
    "sum=0\n",
    "for i in list1:\n",
    "    sum=sum+i\n",
    "print(sum)"
   ]
  },
  {
   "cell_type": "code",
   "execution_count": null,
   "id": "a1bf1e4a",
   "metadata": {},
   "outputs": [],
   "source": []
  }
 ],
 "metadata": {
  "kernelspec": {
   "display_name": "Python 3 (ipykernel)",
   "language": "python",
   "name": "python3"
  },
  "language_info": {
   "codemirror_mode": {
    "name": "ipython",
    "version": 3
   },
   "file_extension": ".py",
   "mimetype": "text/x-python",
   "name": "python",
   "nbconvert_exporter": "python",
   "pygments_lexer": "ipython3",
   "version": "3.9.12"
  }
 },
 "nbformat": 4,
 "nbformat_minor": 5
}
