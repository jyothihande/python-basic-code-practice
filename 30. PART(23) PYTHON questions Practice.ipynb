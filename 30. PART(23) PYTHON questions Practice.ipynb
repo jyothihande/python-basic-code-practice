{
 "cells": [
  {
   "cell_type": "markdown",
   "id": "5f462bf4",
   "metadata": {},
   "source": [
    "# Q1.Python Program to Find Sum of Odd and Even Numbers in List."
   ]
  },
  {
   "cell_type": "code",
   "execution_count": null,
   "id": "74c69efa",
   "metadata": {},
   "outputs": [],
   "source": [
    "--Find Sum of Even/odd Numbers in a List."
   ]
  },
  {
   "cell_type": "code",
   "execution_count": 1,
   "id": "055e47ff",
   "metadata": {},
   "outputs": [
    {
     "name": "stdout",
     "output_type": "stream",
     "text": [
      "12 sum of even numbers.\n",
      "9 sum of odd numbers.\n"
     ]
    }
   ],
   "source": [
    "list1=[1,2,3,4,5,6]\n",
    "even_count=0\n",
    "odd_count=0\n",
    "for i in list1:\n",
    "    if i%2==0:\n",
    "        even_count=even_count+i\n",
    "    else:\n",
    "        odd_count=odd_count+i\n",
    "print(even_count,\"sum of even numbers.\")\n",
    "print(odd_count,\"sum of odd numbers.\")"
   ]
  },
  {
   "cell_type": "markdown",
   "id": "26f36337",
   "metadata": {},
   "source": [
    "# Q2.Python Program to Print Element at Even/Odd Position in List."
   ]
  },
  {
   "cell_type": "code",
   "execution_count": 2,
   "id": "5c102c16",
   "metadata": {},
   "outputs": [
    {
     "name": "stdout",
     "output_type": "stream",
     "text": [
      "[11, 13, 15] elements at even position.\n",
      "[12, 14, 16] elements at odd position.\n"
     ]
    }
   ],
   "source": [
    "list1=[11,12,13,14,15,16]\n",
    "even_position=[]\n",
    "odd_position=[]\n",
    "for i in range(0,len(list1)):\n",
    "    if i%2==0:\n",
    "        even_position.append(list1[i])\n",
    "    else:\n",
    "        odd_position.append(list1[i])\n",
    "print(even_position,\"elements at even position.\")\n",
    "print(odd_position,\"elements at odd position.\")"
   ]
  },
  {
   "cell_type": "markdown",
   "id": "6003c7e9",
   "metadata": {},
   "source": [
    "# Q3. Python Program to Search an Element in a List."
   ]
  },
  {
   "cell_type": "code",
   "execution_count": 3,
   "id": "804623ed",
   "metadata": {},
   "outputs": [
    {
     "name": "stdout",
     "output_type": "stream",
     "text": [
      "arun does exist\n"
     ]
    }
   ],
   "source": [
    "list1=[\"kiran\",\"arun\",\"varun\",\"kunnal\",\"tiya\",\"rhea\" ]\n",
    "i=\"arun\"\n",
    "if i in list1:\n",
    "    print(i,\"does exist\")\n",
    "else:\n",
    "    print(i,\"does not exist\")"
   ]
  },
  {
   "cell_type": "code",
   "execution_count": 4,
   "id": "a05488e1",
   "metadata": {},
   "outputs": [
    {
     "name": "stdout",
     "output_type": "stream",
     "text": [
      "enter an element to search in list1: varun\n",
      "varun does exist\n"
     ]
    }
   ],
   "source": [
    "i=input(\"enter an element to search in list1: \")\n",
    "list1=[\"kiran\",\"arun\",\"varun\",\"kunnal\",\"tiya\",\"rhea\" ]\n",
    "if i in list1:\n",
    "    print(i,\"does exist\")\n",
    "else:\n",
    "    print(i,\"does not exist\")"
   ]
  },
  {
   "cell_type": "code",
   "execution_count": null,
   "id": "c1e35da5",
   "metadata": {},
   "outputs": [],
   "source": []
  }
 ],
 "metadata": {
  "kernelspec": {
   "display_name": "Python 3 (ipykernel)",
   "language": "python",
   "name": "python3"
  },
  "language_info": {
   "codemirror_mode": {
    "name": "ipython",
    "version": 3
   },
   "file_extension": ".py",
   "mimetype": "text/x-python",
   "name": "python",
   "nbconvert_exporter": "python",
   "pygments_lexer": "ipython3",
   "version": "3.9.12"
  }
 },
 "nbformat": 4,
 "nbformat_minor": 5
}
