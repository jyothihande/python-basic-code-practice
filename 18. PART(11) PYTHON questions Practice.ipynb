{
 "cells": [
  {
   "cell_type": "markdown",
   "id": "f626b4c2",
   "metadata": {},
   "source": [
    "# Q1. Python program to interchange first and last elements in a list."
   ]
  },
  {
   "cell_type": "code",
   "execution_count": 35,
   "id": "f71e4e6d",
   "metadata": {},
   "outputs": [
    {
     "name": "stdout",
     "output_type": "stream",
     "text": [
      "[4, 2, 3, 1]\n"
     ]
    }
   ],
   "source": [
    "list1=[1,2,3,4]\n",
    "for i in list1:\n",
    "    list1[0],list1[-1]=list1[-1],list1[0]\n",
    "    print(list1)\n",
    "    break"
   ]
  },
  {
   "cell_type": "code",
   "execution_count": 7,
   "id": "d93c7a8c",
   "metadata": {},
   "outputs": [
    {
     "name": "stdout",
     "output_type": "stream",
     "text": [
      "[24, 35, 9, 56, 12]\n"
     ]
    }
   ],
   "source": [
    "# Python3 program to swap first\n",
    "# and last element of a list\n",
    "\n",
    "# Swap function\n",
    "def swapList(newList):\n",
    "    newList[0], newList[-1] = newList[-1], newList[0]\n",
    "    return newList\n",
    "\n",
    "# Driver code\n",
    "newList = [12, 35, 9, 56, 24]\n",
    "print(swapList(newList))\n"
   ]
  },
  {
   "cell_type": "markdown",
   "id": "49035b15",
   "metadata": {},
   "source": [
    "# Q2.python code for length of a list."
   ]
  },
  {
   "cell_type": "code",
   "execution_count": 8,
   "id": "9e2c233d",
   "metadata": {},
   "outputs": [
    {
     "name": "stdout",
     "output_type": "stream",
     "text": [
      "The length of list is:  3\n"
     ]
    }
   ],
   "source": [
    "# Python len()\n",
    "li = [10, 20, 30]\n",
    "n = len(li)\n",
    "print(\"The length of list is: \", n)\n"
   ]
  },
  {
   "cell_type": "code",
   "execution_count": 12,
   "id": "6de70567",
   "metadata": {},
   "outputs": [],
   "source": [
    "list1=[1,2,3,4,5,6]\n",
    "def length(list1):\n",
    "    return(len(list1))"
   ]
  },
  {
   "cell_type": "code",
   "execution_count": 13,
   "id": "97953c2c",
   "metadata": {},
   "outputs": [
    {
     "data": {
      "text/plain": [
       "6"
      ]
     },
     "execution_count": 13,
     "metadata": {},
     "output_type": "execute_result"
    }
   ],
   "source": [
    "length(list1)"
   ]
  },
  {
   "cell_type": "markdown",
   "id": "78ce3281",
   "metadata": {},
   "source": [
    "# Q3. Maximum of two numbers in Python."
   ]
  },
  {
   "cell_type": "code",
   "execution_count": 28,
   "id": "e6da4312",
   "metadata": {},
   "outputs": [
    {
     "name": "stdout",
     "output_type": "stream",
     "text": [
      "4\n"
     ]
    }
   ],
   "source": [
    "# Python program to find the\n",
    "# maximum of two numbers\n",
    "\n",
    "\n",
    "def maximum(a, b):\n",
    "    if a >= b:\n",
    "        return a\n",
    "    else:\n",
    "        return b\n",
    "\n",
    "# Driver code\n",
    "a = 2\n",
    "b = 4\n",
    "print(maximum(a, b))\n"
   ]
  },
  {
   "cell_type": "code",
   "execution_count": 29,
   "id": "fe57278a",
   "metadata": {},
   "outputs": [
    {
     "name": "stdout",
     "output_type": "stream",
     "text": [
      "4\n"
     ]
    }
   ],
   "source": [
    "a = 2\n",
    "b = 4\n",
    " \n",
    "maximum = max(a, b)\n",
    "print(maximum)"
   ]
  },
  {
   "cell_type": "code",
   "execution_count": 30,
   "id": "1e7d4b2a",
   "metadata": {},
   "outputs": [
    {
     "name": "stdout",
     "output_type": "stream",
     "text": [
      "4\n"
     ]
    }
   ],
   "source": [
    "print(a if a >= b else b)"
   ]
  },
  {
   "cell_type": "code",
   "execution_count": 31,
   "id": "dd86bb53",
   "metadata": {},
   "outputs": [
    {
     "name": "stdout",
     "output_type": "stream",
     "text": [
      "4 is a maximum number\n"
     ]
    }
   ],
   "source": [
    "a=2;b=4\n",
    "maximum = lambda a,b:a if a > b else b\n",
    "print(f'{maximum(a,b)} is a maximum number')"
   ]
  },
  {
   "cell_type": "code",
   "execution_count": 37,
   "id": "dd7ab160",
   "metadata": {},
   "outputs": [
    {
     "data": {
      "text/plain": [
       "1"
      ]
     },
     "execution_count": 37,
     "metadata": {},
     "output_type": "execute_result"
    }
   ],
   "source": [
    "min(list1)"
   ]
  },
  {
   "cell_type": "code",
   "execution_count": 38,
   "id": "ded70e47",
   "metadata": {},
   "outputs": [
    {
     "data": {
      "text/plain": [
       "4"
      ]
     },
     "execution_count": 38,
     "metadata": {},
     "output_type": "execute_result"
    }
   ],
   "source": [
    "max(list1)"
   ]
  },
  {
   "cell_type": "code",
   "execution_count": null,
   "id": "1b501092",
   "metadata": {},
   "outputs": [],
   "source": []
  }
 ],
 "metadata": {
  "kernelspec": {
   "display_name": "Python 3 (ipykernel)",
   "language": "python",
   "name": "python3"
  },
  "language_info": {
   "codemirror_mode": {
    "name": "ipython",
    "version": 3
   },
   "file_extension": ".py",
   "mimetype": "text/x-python",
   "name": "python",
   "nbconvert_exporter": "python",
   "pygments_lexer": "ipython3",
   "version": "3.9.12"
  }
 },
 "nbformat": 4,
 "nbformat_minor": 5
}
