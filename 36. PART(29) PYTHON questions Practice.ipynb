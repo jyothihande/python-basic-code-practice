{
 "cells": [
  {
   "cell_type": "markdown",
   "id": "8d135575",
   "metadata": {},
   "source": [
    "# Q1.Python Program to find the Quotient and Remainder of two numbers."
   ]
  },
  {
   "cell_type": "code",
   "execution_count": null,
   "id": "af94f364",
   "metadata": {},
   "outputs": [],
   "source": [
    "Input:\n",
    "n = 10\n",
    "m = 3\n",
    "Output:\n",
    "Quotient:  3\n",
    "Remainder 1"
   ]
  },
  {
   "cell_type": "code",
   "execution_count": 1,
   "id": "ff79ecdf",
   "metadata": {},
   "outputs": [
    {
     "data": {
      "text/plain": [
       "1"
      ]
     },
     "execution_count": 1,
     "metadata": {},
     "output_type": "execute_result"
    }
   ],
   "source": [
    "a=10\n",
    "b=3\n",
    "c=a%b\n",
    "c  # modulus"
   ]
  },
  {
   "cell_type": "code",
   "execution_count": 2,
   "id": "8fa4f4bc",
   "metadata": {},
   "outputs": [
    {
     "data": {
      "text/plain": [
       "3.3333333333333335"
      ]
     },
     "execution_count": 2,
     "metadata": {},
     "output_type": "execute_result"
    }
   ],
   "source": [
    "d=a/b\n",
    "d  #division"
   ]
  },
  {
   "cell_type": "code",
   "execution_count": 3,
   "id": "ae81c59d",
   "metadata": {},
   "outputs": [
    {
     "data": {
      "text/plain": [
       "2.0"
      ]
     },
     "execution_count": 3,
     "metadata": {},
     "output_type": "execute_result"
    }
   ],
   "source": [
    "e=a//d\n",
    "e  #floor division"
   ]
  },
  {
   "cell_type": "code",
   "execution_count": 6,
   "id": "949a9b70",
   "metadata": {},
   "outputs": [
    {
     "name": "stdout",
     "output_type": "stream",
     "text": [
      "Enter first number: 9\n",
      "Enter second number: 2\n",
      "1 modulus\n",
      "4.5 division\n",
      "2.0 floor division\n"
     ]
    }
   ],
   "source": [
    "a=int(input(\"Enter first number: \"))\n",
    "b=int(input(\"Enter second number: \"))\n",
    "print(a%b,\"modulus\")  # modulus\n",
    "print(a/b,\"division\")  #division\n",
    "print(a//d,\"floor division\")  #floor division"
   ]
  },
  {
   "cell_type": "code",
   "execution_count": 7,
   "id": "b24af960",
   "metadata": {},
   "outputs": [
    {
     "name": "stdout",
     "output_type": "stream",
     "text": [
      "Quotient:  3\n",
      "Remainder 1\n",
      "Quotient:  19\n",
      "Remainder 4\n"
     ]
    }
   ],
   "source": [
    "# Python program to find the\n",
    "# quotient and remainder\n",
    "\n",
    "def find(n, m):\n",
    "    q = n//m  # for quotient\n",
    "    print(\"Quotient: \", q)\n",
    "    r = n%m   # for remainder\n",
    "    print(\"Remainder\", r)\n",
    "\n",
    "# Driver Code\n",
    "find(10, 3)\n",
    "find(99, 5)\n"
   ]
  },
  {
   "cell_type": "code",
   "execution_count": 8,
   "id": "f38ca3d5",
   "metadata": {},
   "outputs": [
    {
     "name": "stdout",
     "output_type": "stream",
     "text": [
      "Quotient:  2\n",
      "Remainder:  0\n",
      "Quotient:  3\n",
      "Remainder:  3\n"
     ]
    }
   ],
   "source": [
    "# Python program to find the\n",
    "# quotient and remainder using\n",
    "# divmod() method\n",
    "\n",
    "\n",
    "q, r = divmod(10, 5)\n",
    "print(\"Quotient: \", q)\n",
    "print(\"Remainder: \", r)\n",
    "\n",
    "q, r = divmod(18, 5)\n",
    "print(\"Quotient: \", q)\n",
    "print(\"Remainder: \", r)\n"
   ]
  },
  {
   "cell_type": "markdown",
   "id": "ed467019",
   "metadata": {},
   "source": [
    "# Q2.Reversing a List in Python."
   ]
  },
  {
   "cell_type": "code",
   "execution_count": 9,
   "id": "b9342cd0",
   "metadata": {},
   "outputs": [
    {
     "data": {
      "text/plain": [
       "[6, 5, 4, 3, 2, 1]"
      ]
     },
     "execution_count": 9,
     "metadata": {},
     "output_type": "execute_result"
    }
   ],
   "source": [
    "list1=[1,2,3,4,5,6]\n",
    "list1[::-1]  # Slicing operation"
   ]
  },
  {
   "cell_type": "code",
   "execution_count": 10,
   "id": "0c8db0a3",
   "metadata": {},
   "outputs": [
    {
     "name": "stdout",
     "output_type": "stream",
     "text": [
      "[15, 14, 13, 12, 11, 10]\n"
     ]
    }
   ],
   "source": [
    "# Reversing a list using slicing technique\n",
    "def Reverse(lst):\n",
    "    new_lst = lst[::-1]\n",
    "    return new_lst\n",
    "\n",
    "\n",
    "lst = [10, 11, 12, 13, 14, 15]\n",
    "print(Reverse(lst))"
   ]
  },
  {
   "cell_type": "code",
   "execution_count": 11,
   "id": "138f1f48",
   "metadata": {},
   "outputs": [
    {
     "name": "stdout",
     "output_type": "stream",
     "text": [
      "Using reverse()  [15, 14, 13, 12, 11, 10]\n",
      "Using reversed()  [10, 11, 12, 13, 14, 15]\n"
     ]
    }
   ],
   "source": [
    "lst = [10, 11, 12, 13, 14, 15]\n",
    "lst.reverse()\n",
    "print(\"Using reverse() \", lst)\n",
    "\n",
    "print(\"Using reversed() \", list(reversed(lst)))\n"
   ]
  },
  {
   "cell_type": "markdown",
   "id": "14328d11",
   "metadata": {},
   "source": [
    "# Q3.Python | Sum of number digits in List."
   ]
  },
  {
   "cell_type": "code",
   "execution_count": 12,
   "id": "2f4652c1",
   "metadata": {},
   "outputs": [
    {
     "name": "stdout",
     "output_type": "stream",
     "text": [
      "21\n"
     ]
    }
   ],
   "source": [
    "list1=[1,2,3,4,5,6]\n",
    "sum=0\n",
    "for i in list1:\n",
    "    sum=sum+i\n",
    "print(sum)"
   ]
  },
  {
   "cell_type": "markdown",
   "id": "462eaa79",
   "metadata": {},
   "source": [
    "# Q4.Find sum and average of List in Python."
   ]
  },
  {
   "cell_type": "code",
   "execution_count": 13,
   "id": "8700abbe",
   "metadata": {},
   "outputs": [
    {
     "data": {
      "text/plain": [
       "[1, 2, 3, 4, 5, 6]"
      ]
     },
     "execution_count": 13,
     "metadata": {},
     "output_type": "execute_result"
    }
   ],
   "source": [
    "list1"
   ]
  },
  {
   "cell_type": "code",
   "execution_count": 14,
   "id": "054ae9ff",
   "metadata": {},
   "outputs": [
    {
     "name": "stdout",
     "output_type": "stream",
     "text": [
      "21 sum of elements of a list\n",
      "3.5 average of list\n"
     ]
    }
   ],
   "source": [
    "list1=[1,2,3,4,5,6]\n",
    "sum=0\n",
    "for i in list1:\n",
    "    sum=sum+i\n",
    "    avg=sum/len(list1)\n",
    "print(sum,\"sum of elements of a list\")\n",
    "print(avg,\"average of list\")"
   ]
  },
  {
   "cell_type": "code",
   "execution_count": null,
   "id": "eee08e3f",
   "metadata": {},
   "outputs": [],
   "source": []
  }
 ],
 "metadata": {
  "kernelspec": {
   "display_name": "Python 3 (ipykernel)",
   "language": "python",
   "name": "python3"
  },
  "language_info": {
   "codemirror_mode": {
    "name": "ipython",
    "version": 3
   },
   "file_extension": ".py",
   "mimetype": "text/x-python",
   "name": "python",
   "nbconvert_exporter": "python",
   "pygments_lexer": "ipython3",
   "version": "3.9.12"
  }
 },
 "nbformat": 4,
 "nbformat_minor": 5
}
