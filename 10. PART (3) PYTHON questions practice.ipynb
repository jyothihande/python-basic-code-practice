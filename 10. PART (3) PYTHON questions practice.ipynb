{
 "cells": [
  {
   "cell_type": "markdown",
   "id": "7174247a",
   "metadata": {},
   "source": [
    "# 14.Remove all the whitespace characters from a given string"
   ]
  },
  {
   "cell_type": "code",
   "execution_count": 1,
   "id": "d2d8a7c2",
   "metadata": {},
   "outputs": [],
   "source": [
    "string = \"Learn and Grow with Python\""
   ]
  },
  {
   "cell_type": "code",
   "execution_count": 2,
   "id": "61dba121",
   "metadata": {},
   "outputs": [
    {
     "data": {
      "text/plain": [
       "'Learn and Grow with Python'"
      ]
     },
     "execution_count": 2,
     "metadata": {},
     "output_type": "execute_result"
    }
   ],
   "source": [
    "string1 = string.strip()   # its important to remove all space first\n",
    "string1"
   ]
  },
  {
   "cell_type": "code",
   "execution_count": 3,
   "id": "f655926f",
   "metadata": {},
   "outputs": [
    {
     "data": {
      "text/plain": [
       "'LearnandGrowwithPython'"
      ]
     },
     "execution_count": 3,
     "metadata": {},
     "output_type": "execute_result"
    }
   ],
   "source": [
    "string1.replace(\" \",\"\")  # use replace "
   ]
  },
  {
   "cell_type": "markdown",
   "id": "9e930b3c",
   "metadata": {},
   "source": [
    "# 15.   Remove all the punctuation characters from a given string"
   ]
  },
  {
   "cell_type": "code",
   "execution_count": 6,
   "id": "e25351de",
   "metadata": {},
   "outputs": [
    {
     "name": "stdout",
     "output_type": "stream",
     "text": [
      "Hello he said and went\n"
     ]
    }
   ],
   "source": [
    "# define punctuation\n",
    "punctuations = '''!()-[]{};:'\"\\,<>./?@#$%^&*_~'''\n",
    "\n",
    "my_str = \"Hello!!!, he said ---and went.\"\n",
    "\n",
    "# To take input from the user\n",
    "# my_str = input(\"Enter a string: \")\n",
    "\n",
    "# remove punctuation from the string\n",
    "no_punct = \"\"\n",
    "for char in my_str:\n",
    "   if char not in punctuations:\n",
    "       no_punct = no_punct + char\n",
    "\n",
    "# display the unpunctuated string\n",
    "print(no_punct)\n"
   ]
  },
  {
   "cell_type": "markdown",
   "id": "d4ccb487",
   "metadata": {},
   "source": [
    "# 16.   Capitalize the first letter of each word in a given string"
   ]
  },
  {
   "cell_type": "code",
   "execution_count": 7,
   "id": "358cd43a",
   "metadata": {},
   "outputs": [],
   "source": [
    "string = \" Hello hello whats up whats going on?\""
   ]
  },
  {
   "cell_type": "code",
   "execution_count": 8,
   "id": "e8d2b176",
   "metadata": {},
   "outputs": [
    {
     "data": {
      "text/plain": [
       "' Hello Hello Whats Up Whats Going On?'"
      ]
     },
     "execution_count": 8,
     "metadata": {},
     "output_type": "execute_result"
    }
   ],
   "source": [
    "string = string.title()\n",
    "string"
   ]
  },
  {
   "cell_type": "markdown",
   "id": "476fe410",
   "metadata": {},
   "source": [
    "# 17.   Create an array of integers from a given list of integers..  "
   ]
  },
  {
   "cell_type": "code",
   "execution_count": 9,
   "id": "e11ef32f",
   "metadata": {},
   "outputs": [],
   "source": [
    "list1= [12,54,3,808]"
   ]
  },
  {
   "cell_type": "code",
   "execution_count": 10,
   "id": "3785fc14",
   "metadata": {},
   "outputs": [],
   "source": [
    "import numpy as np"
   ]
  },
  {
   "cell_type": "code",
   "execution_count": 11,
   "id": "4839f27e",
   "metadata": {},
   "outputs": [
    {
     "data": {
      "text/plain": [
       "array([ 12,  54,   3, 808])"
      ]
     },
     "execution_count": 11,
     "metadata": {},
     "output_type": "execute_result"
    }
   ],
   "source": [
    "l1=np.array(list1)\n",
    "l1"
   ]
  },
  {
   "cell_type": "code",
   "execution_count": 12,
   "id": "14177e28",
   "metadata": {},
   "outputs": [
    {
     "data": {
      "text/plain": [
       "numpy.ndarray"
      ]
     },
     "execution_count": 12,
     "metadata": {},
     "output_type": "execute_result"
    }
   ],
   "source": [
    "type(l1)"
   ]
  },
  {
   "cell_type": "markdown",
   "id": "01b54c77",
   "metadata": {},
   "source": [
    "# 18.   Find the sum of all the elements in a given array of integers.\n",
    "19.   Find the maximum element in a given array of integers.\n",
    "20.   Find the minimum element in a given array of integers."
   ]
  },
  {
   "cell_type": "code",
   "execution_count": 13,
   "id": "abddbae9",
   "metadata": {},
   "outputs": [
    {
     "data": {
      "text/plain": [
       "array([ 12,  54,   3, 808])"
      ]
     },
     "execution_count": 13,
     "metadata": {},
     "output_type": "execute_result"
    }
   ],
   "source": [
    "l1"
   ]
  },
  {
   "cell_type": "code",
   "execution_count": 14,
   "id": "1fe3550f",
   "metadata": {},
   "outputs": [
    {
     "data": {
      "text/plain": [
       "808"
      ]
     },
     "execution_count": 14,
     "metadata": {},
     "output_type": "execute_result"
    }
   ],
   "source": [
    "l1.max()  # max"
   ]
  },
  {
   "cell_type": "code",
   "execution_count": 15,
   "id": "d1f287ed",
   "metadata": {},
   "outputs": [
    {
     "data": {
      "text/plain": [
       "877"
      ]
     },
     "execution_count": 15,
     "metadata": {},
     "output_type": "execute_result"
    }
   ],
   "source": [
    "l1.sum()  # sum"
   ]
  },
  {
   "cell_type": "code",
   "execution_count": 16,
   "id": "86e17b6f",
   "metadata": {},
   "outputs": [
    {
     "data": {
      "text/plain": [
       "3"
      ]
     },
     "execution_count": 16,
     "metadata": {},
     "output_type": "execute_result"
    }
   ],
   "source": [
    "l1.min() # min"
   ]
  },
  {
   "cell_type": "code",
   "execution_count": null,
   "id": "693c1b29",
   "metadata": {},
   "outputs": [],
   "source": []
  }
 ],
 "metadata": {
  "kernelspec": {
   "display_name": "Python 3 (ipykernel)",
   "language": "python",
   "name": "python3"
  },
  "language_info": {
   "codemirror_mode": {
    "name": "ipython",
    "version": 3
   },
   "file_extension": ".py",
   "mimetype": "text/x-python",
   "name": "python",
   "nbconvert_exporter": "python",
   "pygments_lexer": "ipython3",
   "version": "3.9.12"
  }
 },
 "nbformat": 4,
 "nbformat_minor": 5
}
