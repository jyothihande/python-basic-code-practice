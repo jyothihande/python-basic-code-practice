{
 "cells": [
  {
   "cell_type": "markdown",
   "id": "5d8eefa5",
   "metadata": {},
   "source": [
    "# -- Python Mathematical Programs : "
   ]
  },
  {
   "cell_type": "markdown",
   "id": "9470d3cb",
   "metadata": {},
   "source": [
    "# Q1.Python Program to Find Square Root of a Number."
   ]
  },
  {
   "cell_type": "markdown",
   "id": "600e02aa",
   "metadata": {},
   "source": [
    "# Method 1 Find Square Root of a Number using **"
   ]
  },
  {
   "cell_type": "code",
   "execution_count": 2,
   "id": "5e1cd13d",
   "metadata": {},
   "outputs": [
    {
     "name": "stdout",
     "output_type": "stream",
     "text": [
      "Enter a Number: 4\n",
      "Square Root = 2.0\n"
     ]
    }
   ],
   "source": [
    "num = int(input(\"Enter a Number: \"))\n",
    "\n",
    "squareroot = num ** 0.5\n",
    "\n",
    "print(\"Square Root =\", squareroot)"
   ]
  },
  {
   "cell_type": "markdown",
   "id": "3ce16f7d",
   "metadata": {},
   "source": [
    "# Method 2 Find Square Root using math.sqrt() Inbuilt Function\n"
   ]
  },
  {
   "cell_type": "markdown",
   "id": "b7a4eb21",
   "metadata": {},
   "source": [
    "Note - The a ** b returns ab. So num ** 0.5 refers to num0.5 (that equals num1/2)."
   ]
  },
  {
   "cell_type": "code",
   "execution_count": 7,
   "id": "3abf548a",
   "metadata": {},
   "outputs": [
    {
     "name": "stdout",
     "output_type": "stream",
     "text": [
      "Enter a Number: 25\n",
      "Square Root of 25  =  5.0\n"
     ]
    }
   ],
   "source": [
    "import math\n",
    "\n",
    "try:\n",
    "    num = int(input(\"Enter a Number: \"))\n",
    "    res = math.sqrt(num)\n",
    "    print(\"Square Root of\",num,\" = \",res)\n",
    "except ValueError:\n",
    "    print(\"\\nInvalid Input!\")"
   ]
  },
  {
   "cell_type": "markdown",
   "id": "d19b817c",
   "metadata": {},
   "source": [
    "#                                               OR"
   ]
  },
  {
   "cell_type": "code",
   "execution_count": 10,
   "id": "14ae1158",
   "metadata": {},
   "outputs": [
    {
     "data": {
      "text/plain": [
       "5.0"
      ]
     },
     "execution_count": 10,
     "metadata": {},
     "output_type": "execute_result"
    }
   ],
   "source": [
    "math.sqrt(25)"
   ]
  },
  {
   "cell_type": "code",
   "execution_count": 14,
   "id": "8fe2d6e7",
   "metadata": {},
   "outputs": [
    {
     "data": {
      "text/plain": [
       "10.0"
      ]
     },
     "execution_count": 14,
     "metadata": {},
     "output_type": "execute_result"
    }
   ],
   "source": [
    "math.pow(100, 0.5)"
   ]
  },
  {
   "cell_type": "markdown",
   "id": "ab839019",
   "metadata": {},
   "source": [
    "# Q2.Python Program to Check Number is Divisible by Another Number."
   ]
  },
  {
   "cell_type": "code",
   "execution_count": 17,
   "id": "3382489f",
   "metadata": {},
   "outputs": [
    {
     "name": "stdout",
     "output_type": "stream",
     "text": [
      "Enter a Number (Numerator): 51\n",
      "Enter a Number (denominator): 2\n",
      "\n",
      " 51  is not divisible by  2\n"
     ]
    }
   ],
   "source": [
    "numN = int(input(\"Enter a Number (Numerator): \"))\n",
    "numD = int(input(\"Enter a Number (denominator): \"))\n",
    "\n",
    "if numN%numD==0:\n",
    "    print(\"\\n\",numN,\" is divisible by \",numD)\n",
    "else:\n",
    "    print(\"\\n\",numN,\" is not divisible by \",numD)"
   ]
  },
  {
   "cell_type": "code",
   "execution_count": null,
   "id": "6a9985c8",
   "metadata": {},
   "outputs": [],
   "source": []
  }
 ],
 "metadata": {
  "kernelspec": {
   "display_name": "Python 3 (ipykernel)",
   "language": "python",
   "name": "python3"
  },
  "language_info": {
   "codemirror_mode": {
    "name": "ipython",
    "version": 3
   },
   "file_extension": ".py",
   "mimetype": "text/x-python",
   "name": "python",
   "nbconvert_exporter": "python",
   "pygments_lexer": "ipython3",
   "version": "3.9.12"
  }
 },
 "nbformat": 4,
 "nbformat_minor": 5
}
