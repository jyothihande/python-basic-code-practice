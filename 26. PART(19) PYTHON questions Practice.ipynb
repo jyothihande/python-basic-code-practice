{
 "cells": [
  {
   "cell_type": "markdown",
   "id": "5d8eefa5",
   "metadata": {},
   "source": [
    "# -- Python Mathematical Programs : "
   ]
  },
  {
   "cell_type": "markdown",
   "id": "9470d3cb",
   "metadata": {},
   "source": [
    "# Q1. Python Program to Find Square Root of a Number."
   ]
  },
  {
   "cell_type": "markdown",
   "id": "600e02aa",
   "metadata": {},
   "source": [
    "# Method 1 Find Square Root of a Number using **"
   ]
  },
  {
   "cell_type": "code",
   "execution_count": 1,
   "id": "5e1cd13d",
   "metadata": {},
   "outputs": [
    {
     "name": "stdout",
     "output_type": "stream",
     "text": [
      "Enter a Number: 36\n",
      "Square Root = 6.0\n"
     ]
    }
   ],
   "source": [
    "num = int(input(\"Enter a Number: \"))\n",
    "\n",
    "squareroot = num ** 0.5\n",
    "\n",
    "print(\"Square Root =\", squareroot)"
   ]
  },
  {
   "cell_type": "markdown",
   "id": "3ce16f7d",
   "metadata": {},
   "source": [
    "# Method 2 Find Square Root using math.sqrt() Inbuilt Function\n"
   ]
  },
  {
   "cell_type": "markdown",
   "id": "b7a4eb21",
   "metadata": {},
   "source": [
    "Note - The a ** b returns ab. So num ** 0.5 refers to num0.5 (that equals num1/2)."
   ]
  },
  {
   "cell_type": "code",
   "execution_count": 2,
   "id": "3abf548a",
   "metadata": {},
   "outputs": [
    {
     "name": "stdout",
     "output_type": "stream",
     "text": [
      "Enter a Number: 16\n",
      "Square Root of 16  =  4.0\n"
     ]
    }
   ],
   "source": [
    "import math\n",
    "\n",
    "try:\n",
    "    num = int(input(\"Enter a Number: \"))\n",
    "    res = math.sqrt(num)\n",
    "    print(\"Square Root of\",num,\" = \",res)\n",
    "except ValueError:\n",
    "    print(\"\\nInvalid Input!\")"
   ]
  },
  {
   "cell_type": "markdown",
   "id": "d19b817c",
   "metadata": {},
   "source": [
    "#                                               OR"
   ]
  },
  {
   "cell_type": "code",
   "execution_count": 3,
   "id": "14ae1158",
   "metadata": {},
   "outputs": [
    {
     "data": {
      "text/plain": [
       "5.0"
      ]
     },
     "execution_count": 3,
     "metadata": {},
     "output_type": "execute_result"
    }
   ],
   "source": [
    "math.sqrt(25)"
   ]
  },
  {
   "cell_type": "code",
   "execution_count": 4,
   "id": "8fe2d6e7",
   "metadata": {},
   "outputs": [
    {
     "data": {
      "text/plain": [
       "10.0"
      ]
     },
     "execution_count": 4,
     "metadata": {},
     "output_type": "execute_result"
    }
   ],
   "source": [
    "math.pow(100, 0.5)"
   ]
  },
  {
   "cell_type": "markdown",
   "id": "ab839019",
   "metadata": {},
   "source": [
    "# Q2. Python Program to Check Number is Divisible by Another Number."
   ]
  },
  {
   "cell_type": "code",
   "execution_count": 5,
   "id": "3382489f",
   "metadata": {},
   "outputs": [
    {
     "name": "stdout",
     "output_type": "stream",
     "text": [
      "Enter a Number (Numerator): 51\n",
      "Enter a Number (denominator): 2\n",
      "\n",
      " 51  is not divisible by  2\n"
     ]
    }
   ],
   "source": [
    "numN = int(input(\"Enter a Number (Numerator): \"))\n",
    "numD = int(input(\"Enter a Number (denominator): \"))\n",
    "\n",
    "if numN%numD==0:\n",
    "    print(\"\\n\",numN,\" is divisible by \",numD)\n",
    "else:\n",
    "    print(\"\\n\",numN,\" is not divisible by \",numD)"
   ]
  },
  {
   "cell_type": "markdown",
   "id": "5d749848",
   "metadata": {},
   "source": [
    "# Q3. Python Program to Find Factors of a Number."
   ]
  },
  {
   "cell_type": "code",
   "execution_count": null,
   "id": "900ff07d",
   "metadata": {},
   "outputs": [],
   "source": [
    "Note - Factors of a number say n are numbers that divides the number (n) exactly. \n",
    "For example, factors of 12 are 1, 2, 3, 4, 6, 12. \n",
    "All these six numbers divides 12 without leaving any remainder."
   ]
  },
  {
   "cell_type": "code",
   "execution_count": 8,
   "id": "4c07da1c",
   "metadata": {},
   "outputs": [
    {
     "name": "stdout",
     "output_type": "stream",
     "text": [
      "The factors of 15 are:\n",
      "1\n",
      "3\n",
      "5\n",
      "15\n"
     ]
    }
   ],
   "source": [
    "# This function computes the factor of the argument passed\n",
    "def print_factors(num):\n",
    "    print(\"The factors of\",num,\"are:\")\n",
    "    for i in range(1, num + 1):\n",
    "        if num % i == 0:\n",
    "            print(i)\n",
    "\n",
    "num = 15\n",
    "\n",
    "print_factors(num)\n"
   ]
  },
  {
   "cell_type": "code",
   "execution_count": 10,
   "id": "294d4717",
   "metadata": {},
   "outputs": [
    {
     "name": "stdout",
     "output_type": "stream",
     "text": [
      "Enter the Number: 15\n",
      "\n",
      "Factors of 15\n",
      "1\n",
      "3\n",
      "5\n",
      "15\n"
     ]
    }
   ],
   "source": [
    "num = int(input(\"Enter the Number: \"))\n",
    "print(\"\\nFactors of\", num)\n",
    "i = 1\n",
    "while i<=num:\n",
    "    if num%i==0:\n",
    "        print(i)\n",
    "    i = i+1"
   ]
  },
  {
   "cell_type": "markdown",
   "id": "ec0cc65e",
   "metadata": {},
   "source": [
    "# Q4. Python Program to Find LCM and HCF (GCD) of Two Numbers."
   ]
  },
  {
   "cell_type": "code",
   "execution_count": null,
   "id": "f73170fb",
   "metadata": {},
   "outputs": [],
   "source": [
    "Note - LCM stands for Least Common Multiple. Whereas HCF stands for Highest Common Factor."
   ]
  },
  {
   "cell_type": "code",
   "execution_count": 1,
   "id": "6f775dae",
   "metadata": {},
   "outputs": [
    {
     "name": "stdout",
     "output_type": "stream",
     "text": [
      "The H.C.F. is 3\n"
     ]
    }
   ],
   "source": [
    "\n",
    "# define a function\n",
    "def compute_hcf(x, y):\n",
    "\n",
    "# choose the smaller number\n",
    "    if x > y:\n",
    "        smaller = y\n",
    "    else:\n",
    "        smaller = x\n",
    "    for i in range(1, smaller+1):\n",
    "        if((x % i == 0) and (y % i == 0)):\n",
    "            hcf = i \n",
    "    return hcf\n",
    "\n",
    "num1 = 12 \n",
    "num2 = 15\n",
    "\n",
    "print(\"The H.C.F. is\", compute_hcf(num1, num2))\n"
   ]
  },
  {
   "cell_type": "code",
   "execution_count": 2,
   "id": "409a254d",
   "metadata": {},
   "outputs": [
    {
     "name": "stdout",
     "output_type": "stream",
     "text": [
      "Enter the first number: 12\n",
      "Enter the second number: 18\n",
      "First Number is:  12\n",
      "Second Number is:  18\n",
      "HCF of the numbers is:  6\n"
     ]
    }
   ],
   "source": [
    "a = int(input(\"Enter the first number: \"))\n",
    "b = int(input(\"Enter the second number: \"))\n",
    " \n",
    "HCF = 1\n",
    " \n",
    "for i in range(2,a+1):\n",
    "    if(a%i==0 and b%i==0):\n",
    "        HCF = i\n",
    "print(\"HCF of the numbers is: \",HCF)\n"
   ]
  },
  {
   "cell_type": "code",
   "execution_count": 4,
   "id": "f1ee9c58",
   "metadata": {},
   "outputs": [
    {
     "name": "stdout",
     "output_type": "stream",
     "text": [
      "Enter the first number: 10\n",
      "Enter the second number: 8\n",
      "First Number is:  10\n",
      "Second Number is:  8\n",
      "HCF of the numbers is:  2\n",
      "LCM of the two numbers is:  40\n"
     ]
    }
   ],
   "source": [
    "a = int(input(\"Enter the first number: \"))\n",
    "b = int(input(\"Enter the second number: \"))\n",
    " \n",
    "HCF = 1\n",
    " \n",
    "for i in range(2,a+1):\n",
    "    if(a%i==0 and b%i==0):\n",
    "        HCF = i\n",
    "print(\"HCF of the numbers is: \",HCF) \n",
    "LCM = int((a*b)/(HCF))\n",
    "print(\"LCM of the two numbers is: \",LCM)"
   ]
  },
  {
   "cell_type": "markdown",
   "id": "fb671f63",
   "metadata": {},
   "source": [
    "# Q5.Python Program to Find Area of Square."
   ]
  },
  {
   "cell_type": "code",
   "execution_count": null,
   "id": "f92b3f25",
   "metadata": {},
   "outputs": [],
   "source": [
    "area of square = side x side\n",
    "               = side**2\n",
    "area of rectangle = length*breadth"
   ]
  },
  {
   "cell_type": "code",
   "execution_count": 9,
   "id": "2bb81b05",
   "metadata": {},
   "outputs": [
    {
     "name": "stdout",
     "output_type": "stream",
     "text": [
      "enter length of a side: 5\n",
      "Area of a square =  25\n",
      "Perimeter of a square=  20\n"
     ]
    }
   ],
   "source": [
    "side=int(input(\"enter length of a side: \"))\n",
    "print(\"Area of a square = \", side * side)\n",
    "print(\"Perimeter of a square= \",side+side+side+side)"
   ]
  },
  {
   "cell_type": "code",
   "execution_count": 19,
   "id": "906205d3",
   "metadata": {},
   "outputs": [
    {
     "data": {
      "text/plain": [
       "(25, 'Area of a square')"
      ]
     },
     "execution_count": 19,
     "metadata": {},
     "output_type": "execute_result"
    }
   ],
   "source": [
    "def Area(side):\n",
    "    return(side*side,\"Area of a square\")\n",
    "Area(5)"
   ]
  },
  {
   "cell_type": "code",
   "execution_count": 20,
   "id": "d6546e38",
   "metadata": {},
   "outputs": [
    {
     "data": {
      "text/plain": [
       "(20, 'Permiter of a square')"
      ]
     },
     "execution_count": 20,
     "metadata": {},
     "output_type": "execute_result"
    }
   ],
   "source": [
    "def Perimeter(side):\n",
    "    return(side+side+side+side,\"Permiter of a square\")\n",
    "Perimeter(5)"
   ]
  },
  {
   "cell_type": "markdown",
   "id": "8fb95910",
   "metadata": {},
   "source": [
    "# Q6.Python Program to Find Area of Rectangle."
   ]
  },
  {
   "cell_type": "code",
   "execution_count": 2,
   "id": "ded833ba",
   "metadata": {},
   "outputs": [
    {
     "name": "stdout",
     "output_type": "stream",
     "text": [
      "enter length of a side: 2\n",
      "enter breadth of a side: 4\n",
      "Area of a Rectangle: 8\n",
      "Perimeter of a Rectangle:  12\n"
     ]
    }
   ],
   "source": [
    "length=int(input(\"enter length of a side: \"))\n",
    "breadth=int(input(\"enter breadth of a side: \"))\n",
    "print(\"Area of a Rectangle:\",length*breadth)\n",
    "print(\"Perimeter of a Rectangle: \",int(2)*(length+breadth))"
   ]
  },
  {
   "cell_type": "code",
   "execution_count": null,
   "id": "e306083b",
   "metadata": {},
   "outputs": [],
   "source": []
  }
 ],
 "metadata": {
  "kernelspec": {
   "display_name": "Python 3 (ipykernel)",
   "language": "python",
   "name": "python3"
  },
  "language_info": {
   "codemirror_mode": {
    "name": "ipython",
    "version": 3
   },
   "file_extension": ".py",
   "mimetype": "text/x-python",
   "name": "python",
   "nbconvert_exporter": "python",
   "pygments_lexer": "ipython3",
   "version": "3.9.12"
  }
 },
 "nbformat": 4,
 "nbformat_minor": 5
}
