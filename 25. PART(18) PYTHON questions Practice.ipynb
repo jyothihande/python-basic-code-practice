{
 "cells": [
  {
   "cell_type": "markdown",
   "id": "0a99bd83",
   "metadata": {},
   "source": [
    "# -- Python Mathematical Programs : "
   ]
  },
  {
   "cell_type": "markdown",
   "id": "f7e90b18",
   "metadata": {},
   "source": [
    "# Q1.Python Program to Find Sum of n Natural Numbers."
   ]
  },
  {
   "cell_type": "markdown",
   "id": "9e6de637",
   "metadata": {},
   "source": [
    "# Method 1 : Using for Loop."
   ]
  },
  {
   "cell_type": "code",
   "execution_count": 1,
   "id": "b79a4ee2",
   "metadata": {},
   "outputs": [
    {
     "name": "stdout",
     "output_type": "stream",
     "text": [
      "15\n"
     ]
    }
   ],
   "source": [
    "num = 5\n",
    "sum = 0\n",
    "for i in range(num+1):\n",
    "    sum+=i\n",
    "print(sum)"
   ]
  },
  {
   "cell_type": "markdown",
   "id": "2521e7d3",
   "metadata": {},
   "source": [
    "# Method 2 : Using Formula for the Sum of Nth Term."
   ]
  },
  {
   "cell_type": "code",
   "execution_count": 2,
   "id": "11894d09",
   "metadata": {},
   "outputs": [
    {
     "name": "stdout",
     "output_type": "stream",
     "text": [
      "15\n"
     ]
    }
   ],
   "source": [
    "num = 5\n",
    "print(int(num*(num+1)/2))"
   ]
  },
  {
   "cell_type": "markdown",
   "id": "2cadd2e4",
   "metadata": {},
   "source": [
    "# Q2.Python Program to Find Average of n Numbers."
   ]
  },
  {
   "cell_type": "code",
   "execution_count": 5,
   "id": "9969d714",
   "metadata": {},
   "outputs": [
    {
     "name": "stdout",
     "output_type": "stream",
     "text": [
      "3.0\n"
     ]
    }
   ],
   "source": [
    "n=5\n",
    "sum=0\n",
    "for i in range(1,n+1):\n",
    "    sum=sum+i\n",
    "    average=sum/n\n",
    "print(average)"
   ]
  },
  {
   "cell_type": "code",
   "execution_count": 6,
   "id": "3da79628",
   "metadata": {},
   "outputs": [
    {
     "name": "stdout",
     "output_type": "stream",
     "text": [
      "3.0\n"
     ]
    }
   ],
   "source": [
    "def average(n):\n",
    "    sum=0\n",
    "    for i in range(1,n+1):\n",
    "        sum=sum+i\n",
    "        average=sum/n\n",
    "    print(average)\n",
    "average(5)    "
   ]
  },
  {
   "cell_type": "code",
   "execution_count": 7,
   "id": "689e68f6",
   "metadata": {},
   "outputs": [
    {
     "name": "stdout",
     "output_type": "stream",
     "text": [
      "5.5\n"
     ]
    }
   ],
   "source": [
    "average(10)"
   ]
  },
  {
   "cell_type": "code",
   "execution_count": 8,
   "id": "1a188cc4",
   "metadata": {},
   "outputs": [
    {
     "name": "stdout",
     "output_type": "stream",
     "text": [
      "50.5\n"
     ]
    }
   ],
   "source": [
    "average(100)"
   ]
  },
  {
   "cell_type": "markdown",
   "id": "d5db4ef1",
   "metadata": {},
   "source": [
    "# Q3.Python Program to Print Multiplication Table."
   ]
  },
  {
   "cell_type": "code",
   "execution_count": 15,
   "id": "abd35246",
   "metadata": {},
   "outputs": [
    {
     "name": "stdout",
     "output_type": "stream",
     "text": [
      "enter a number for table: 5\n",
      "5 x 1 = 5\n",
      "5 x 2 = 10\n",
      "5 x 3 = 15\n",
      "5 x 4 = 20\n",
      "5 x 5 = 25\n",
      "5 x 6 = 30\n",
      "5 x 7 = 35\n",
      "5 x 8 = 40\n",
      "5 x 9 = 45\n",
      "5 x 10 = 50\n"
     ]
    }
   ],
   "source": [
    "number=int(input(\"enter a number for table: \"))\n",
    "for i in range(1,11):\n",
    "    print(number,\"x\",i,\"=\",number*i)"
   ]
  },
  {
   "cell_type": "code",
   "execution_count": 16,
   "id": "fd1ceb7d",
   "metadata": {},
   "outputs": [
    {
     "name": "stdout",
     "output_type": "stream",
     "text": [
      "Enter a Number: 3\n",
      "\n",
      "Multiplication Table of 3\n",
      "3 * 1 = 3\n",
      "3 * 2 = 6\n",
      "3 * 3 = 9\n",
      "3 * 4 = 12\n",
      "3 * 5 = 15\n",
      "3 * 6 = 18\n",
      "3 * 7 = 21\n",
      "3 * 8 = 24\n",
      "3 * 9 = 27\n",
      "3 * 10 = 30\n"
     ]
    }
   ],
   "source": [
    "num = int(input(\"Enter a Number: \"))\n",
    "print(\"\\nMultiplication Table of \" +str(num))\n",
    "i = 1\n",
    "while i<11:\n",
    "  print(str(num)+ \" * \" +str(i)+ \" = \" +str(num*i))\n",
    "  i = i+1"
   ]
  },
  {
   "cell_type": "markdown",
   "id": "ec079c56",
   "metadata": {},
   "source": [
    "# Q4.Python Program to Calculate Average and Percentage Marks."
   ]
  },
  {
   "cell_type": "code",
   "execution_count": 18,
   "id": "61f14cd2",
   "metadata": {},
   "outputs": [
    {
     "name": "stdout",
     "output_type": "stream",
     "text": [
      "Enter marks of english: 66\n",
      "Enter marks of hindi: 58\n",
      "Enter marks of SST: 87\n",
      "Enter marks of science: 72\n",
      "Enter marks of maths: 70\n",
      "353 total scores of a student\n",
      "70.6 Average of a student\n",
      "70.6 percentage of a student\n"
     ]
    }
   ],
   "source": [
    "subj1=int(input(\"Enter marks of english: \"))\n",
    "subj2=int(input(\"Enter marks of hindi: \"))\n",
    "subj3=int(input(\"Enter marks of SST: \"))\n",
    "subj4=int(input(\"Enter marks of science: \"))\n",
    "subj5=int(input(\"Enter marks of maths: \"))\n",
    "sum=subj1+subj2+subj3+subj4+subj5\n",
    "Average=sum/5  # 5 is number of subjects\n",
    "percentage=(sum/500)*100\n",
    "print(sum,\"total scores of a student\")\n",
    "print(Average,\"Average of a student\")\n",
    "print(percentage,\"percentage of a student\")"
   ]
  },
  {
   "cell_type": "markdown",
   "id": "fae61a67",
   "metadata": {},
   "source": [
    "# Q5.Python Program to Calculate a Student's Grade."
   ]
  },
  {
   "cell_type": "code",
   "execution_count": 19,
   "id": "af0f4500",
   "metadata": {},
   "outputs": [
    {
     "name": "stdout",
     "output_type": "stream",
     "text": [
      "Enter Marks Obtained in 5 Subjects: \n",
      "57\n",
      "62\n",
      "50\n",
      "87\n",
      "70\n",
      "Your Grade is B2\n"
     ]
    }
   ],
   "source": [
    "print(\"Enter Marks Obtained in 5 Subjects: \")\n",
    "markOne = int(input())\n",
    "markTwo = int(input())\n",
    "markThree = int(input())\n",
    "markFour = int(input())\n",
    "markFive = int(input())\n",
    "\n",
    "tot = markOne+markTwo+markThree+markFour+markFive\n",
    "avg = tot/5\n",
    "\n",
    "if avg>=91 and avg<=100:\n",
    "    print(\"Your Grade is A1\")\n",
    "elif avg>=81 and avg<91:\n",
    "    print(\"Your Grade is A2\")\n",
    "elif avg>=71 and avg<81:\n",
    "    print(\"Your Grade is B1\")\n",
    "elif avg>=61 and avg<71:\n",
    "    print(\"Your Grade is B2\")\n",
    "elif avg>=51 and avg<61:\n",
    "    print(\"Your Grade is C1\")\n",
    "elif avg>=41 and avg<51:\n",
    "    print(\"Your Grade is C2\")\n",
    "elif avg>=33 and avg<41:\n",
    "    print(\"Your Grade is D\")\n",
    "elif avg>=21 and avg<33:\n",
    "    print(\"Your Grade is E1\")\n",
    "elif avg>=0 and avg<21:\n",
    "    print(\"Your Grade is E2\")\n",
    "else:\n",
    "    print(\"Invalid Input!\")"
   ]
  },
  {
   "cell_type": "code",
   "execution_count": null,
   "id": "495a2686",
   "metadata": {},
   "outputs": [],
   "source": []
  }
 ],
 "metadata": {
  "kernelspec": {
   "display_name": "Python 3 (ipykernel)",
   "language": "python",
   "name": "python3"
  },
  "language_info": {
   "codemirror_mode": {
    "name": "ipython",
    "version": 3
   },
   "file_extension": ".py",
   "mimetype": "text/x-python",
   "name": "python",
   "nbconvert_exporter": "python",
   "pygments_lexer": "ipython3",
   "version": "3.9.12"
  }
 },
 "nbformat": 4,
 "nbformat_minor": 5
}
