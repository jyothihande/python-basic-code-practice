{
 "cells": [
  {
   "cell_type": "markdown",
   "id": "11838956",
   "metadata": {},
   "source": [
    "# Q1.Python Program to Find Quotient and Remainder of Two Numbers."
   ]
  },
  {
   "cell_type": "code",
   "execution_count": 2,
   "id": "e329db70",
   "metadata": {},
   "outputs": [
    {
     "name": "stdout",
     "output_type": "stream",
     "text": [
      "Enter the first number: 122\n",
      "Enter the second number: 41\n",
      "Quotient is: 2\n",
      "Remainder is: 40\n"
     ]
    }
   ],
   "source": [
    "a=int(input(\"Enter the first number: \"))\n",
    "b=int(input(\"Enter the second number: \"))\n",
    "quotient=a//b\n",
    "remainder=a%b\n",
    "print(\"Quotient is:\",quotient)\n",
    "print(\"Remainder is:\",remainder)"
   ]
  },
  {
   "cell_type": "markdown",
   "id": "78331720",
   "metadata": {},
   "source": [
    "# Q2.Python Program to Check If Two Numbers are Amicable Numbers or Not."
   ]
  },
  {
   "cell_type": "code",
   "execution_count": 3,
   "id": "36546231",
   "metadata": {},
   "outputs": [
    {
     "name": "stdout",
     "output_type": "stream",
     "text": [
      "Enter number 1: 1234\n",
      "Enter number 2: 4231\n",
      "Not Amicable!\n"
     ]
    }
   ],
   "source": [
    "x=int(input('Enter number 1: '))\n",
    "y=int(input('Enter number 2: '))\n",
    "sum1=0\n",
    "sum2=0\n",
    "for i in range(1,x):\n",
    "    if x%i==0:\n",
    "        sum1+=i\n",
    "for j in range(1,y):\n",
    "    if y%j==0:\n",
    "        sum2+=j\n",
    "if(sum1==y and sum2==x):\n",
    "    print('Amicable!')\n",
    "else:\n",
    "    print('Not Amicable!')"
   ]
  },
  {
   "cell_type": "markdown",
   "id": "e88fbc08",
   "metadata": {},
   "source": [
    "# Q3.Python Program to Find the Fibonacci Series Without using Recursion."
   ]
  },
  {
   "cell_type": "code",
   "execution_count": 4,
   "id": "d2bf45fd",
   "metadata": {},
   "outputs": [
    {
     "name": "stdout",
     "output_type": "stream",
     "text": [
      "Enter the first number of the series 1\n",
      "Enter the second number of the series 2\n",
      "Enter the number of terms needed 3\n",
      "1 2 3 "
     ]
    }
   ],
   "source": [
    "a=int(input(\"Enter the first number of the series \"))\n",
    "b=int(input(\"Enter the second number of the series \"))\n",
    "n=int(input(\"Enter the number of terms needed \"))\n",
    "print(a,b,end=\" \")\n",
    "while(n-2):\n",
    "    c=a+b\n",
    "    a=b\n",
    "    b=c\n",
    "    print(c,end=\" \")\n",
    "    n=n-1"
   ]
  },
  {
   "cell_type": "markdown",
   "id": "c803b8a2",
   "metadata": {},
   "source": [
    "# Q4.Fibonacci Series Program in Python."
   ]
  },
  {
   "cell_type": "code",
   "execution_count": 6,
   "id": "64c7cbc8",
   "metadata": {},
   "outputs": [
    {
     "name": "stdout",
     "output_type": "stream",
     "text": [
      "Enter the first number of the series 1\n",
      "Enter the second number of the series 14\n",
      "Enter the number of terms needed 5\n",
      "1 14 15 29 44 "
     ]
    }
   ],
   "source": [
    "a=int(input(\"Enter the first number of the series \"))\n",
    "b=int(input(\"Enter the second number of the series \"))\n",
    "n=int(input(\"Enter the number of terms needed \"))\n",
    "print(a,b,end=\" \")\n",
    "while(n-2):\n",
    "    c=a+b\n",
    "    a=b\n",
    "    b=c\n",
    "    print(c,end=\" \")\n",
    "    n=n-1"
   ]
  },
  {
   "cell_type": "code",
   "execution_count": null,
   "id": "eaca2bc0",
   "metadata": {},
   "outputs": [],
   "source": []
  }
 ],
 "metadata": {
  "kernelspec": {
   "display_name": "Python 3 (ipykernel)",
   "language": "python",
   "name": "python3"
  },
  "language_info": {
   "codemirror_mode": {
    "name": "ipython",
    "version": 3
   },
   "file_extension": ".py",
   "mimetype": "text/x-python",
   "name": "python",
   "nbconvert_exporter": "python",
   "pygments_lexer": "ipython3",
   "version": "3.9.12"
  }
 },
 "nbformat": 4,
 "nbformat_minor": 5
}
