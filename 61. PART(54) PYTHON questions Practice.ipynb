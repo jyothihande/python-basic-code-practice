{
 "cells": [
  {
   "cell_type": "markdown",
   "id": "e2c21500",
   "metadata": {},
   "source": [
    "# Q1.Merge Two Lists in Python."
   ]
  },
  {
   "cell_type": "code",
   "execution_count": 2,
   "id": "cd093b9a",
   "metadata": {},
   "outputs": [
    {
     "name": "stdout",
     "output_type": "stream",
     "text": [
      "Concatenated list using naive method : [1, 4, 5, 7, 2, 5]\n"
     ]
    }
   ],
   "source": [
    "# Python3 code to demonstrate list concatenation using naive method\n",
    "\n",
    "# Initializing lists\n",
    "test_list1 = [1, 4, 5]\n",
    "test_list2 = [7, 2, 5]\n",
    "\n",
    "# using naive method to concat\n",
    "for i in test_list2 :\n",
    "    test_list1.append(i)\n",
    "\n",
    "# Printing concatenated list\n",
    "print (\"Concatenated list using naive method : \"+ str(test_list1))\n"
   ]
  },
  {
   "cell_type": "code",
   "execution_count": 4,
   "id": "c3c4590b",
   "metadata": {},
   "outputs": [
    {
     "name": "stdout",
     "output_type": "stream",
     "text": [
      "Concatenated list using + : [1, 4, 5, 7, 2, 5]\n"
     ]
    }
   ],
   "source": [
    "# Python 3 code to demonstrate list concatenation using + operator\n",
    "\n",
    "# Initializing lists\n",
    "test_list3 = [1, 4, 5]\n",
    "test_list4 = [7, 2, 5]\n",
    "\n",
    "# using + operator to concat\n",
    "test_list3 = test_list3 + test_list4\n",
    "\n",
    "# Printing concatenated list\n",
    "print (\"Concatenated list using + : \"+ str(test_list3))\n"
   ]
  },
  {
   "cell_type": "markdown",
   "id": "3b5ad148",
   "metadata": {},
   "source": [
    "# Q2.Python code Check if two lists are identical."
   ]
  },
  {
   "cell_type": "code",
   "execution_count": 6,
   "id": "ae766aec",
   "metadata": {},
   "outputs": [
    {
     "name": "stdout",
     "output_type": "stream",
     "text": [
      "The first list is : [1, 2, 4, 3, 5]\n",
      "The second list is : [1, 2, 3, 5]\n",
      "The lists are not identical\n"
     ]
    }
   ],
   "source": [
    "\n",
    "# using sort() + == operator\n",
    "\n",
    "# initializing lists\n",
    "test_list1 = [1, 2, 4, 3, 5]\n",
    "test_list2 = [1, 2,3, 5]\n",
    "\n",
    "# printing lists\n",
    "print(\"The first list is : \" + str(test_list1))\n",
    "print(\"The second list is : \" + str(test_list2))\n",
    "\n",
    "# sorting both the lists\n",
    "test_list1.sort()\n",
    "test_list2.sort()\n",
    "\n",
    "# using == to check if\n",
    "# lists are equal\n",
    "if test_list1 == test_list2:\n",
    "    print(\"The lists are identical\")\n",
    "else:\n",
    "    print(\"The lists are not identical\")\n"
   ]
  },
  {
   "cell_type": "markdown",
   "id": "e649cd1b",
   "metadata": {},
   "source": [
    "# Q3.Remove multiple elements from a list in Python."
   ]
  },
  {
   "cell_type": "code",
   "execution_count": 7,
   "id": "b34d60ee",
   "metadata": {},
   "outputs": [
    {
     "name": "stdout",
     "output_type": "stream",
     "text": [
      "11 50\n"
     ]
    }
   ],
   "source": [
    "# Python program to remove multiple elements from a list\n",
    "\n",
    "# creating a list\n",
    "list1 = [11, 5, 17, 18, 23, 50]\n",
    "\n",
    "# removes elements from index 1 to 4\n",
    "# i.e. 5, 17, 18, 23 will be deleted\n",
    "del list1[1:5]\n",
    "\n",
    "print(*list1)"
   ]
  },
  {
   "cell_type": "markdown",
   "id": "3753a838",
   "metadata": {},
   "source": [
    "# Q4.Python code Add the element in the list with help of indexing."
   ]
  },
  {
   "cell_type": "code",
   "execution_count": 11,
   "id": "7734bec8",
   "metadata": {},
   "outputs": [
    {
     "name": "stdout",
     "output_type": "stream",
     "text": [
      "10\n"
     ]
    }
   ],
   "source": [
    "list1 = [1,2,3,4]\n",
    "sum=0\n",
    "for i in list1:\n",
    "    sum=sum+i\n",
    "print(sum)"
   ]
  },
  {
   "cell_type": "code",
   "execution_count": null,
   "id": "4a93463c",
   "metadata": {},
   "outputs": [],
   "source": []
  }
 ],
 "metadata": {
  "kernelspec": {
   "display_name": "Python 3 (ipykernel)",
   "language": "python",
   "name": "python3"
  },
  "language_info": {
   "codemirror_mode": {
    "name": "ipython",
    "version": 3
   },
   "file_extension": ".py",
   "mimetype": "text/x-python",
   "name": "python",
   "nbconvert_exporter": "python",
   "pygments_lexer": "ipython3",
   "version": "3.9.12"
  }
 },
 "nbformat": 4,
 "nbformat_minor": 5
}
