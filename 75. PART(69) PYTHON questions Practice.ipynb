{
 "cells": [
  {
   "cell_type": "markdown",
   "id": "ae5c78f6",
   "metadata": {},
   "source": [
    "# Q1.Python Program to Find Largest and second Number in a List."
   ]
  },
  {
   "cell_type": "code",
   "execution_count": 2,
   "id": "0a5a1f94",
   "metadata": {},
   "outputs": [
    {
     "name": "stdout",
     "output_type": "stream",
     "text": [
      "Enter number of elements:5\n",
      "Enter element:41\n",
      "Enter element:21\n",
      "Enter element:78\n",
      "Enter element:63\n",
      "Enter element:42\n",
      "Largest element is: 78\n",
      "Second largest element is: 63\n"
     ]
    }
   ],
   "source": [
    "a=[]\n",
    "n=int(input(\"Enter number of elements:\"))\n",
    "for i in range(1,n+1):\n",
    "    b=int(input(\"Enter element:\"))\n",
    "    a.append(b)\n",
    "a.sort()\n",
    "print(\"Largest element is:\",a[n-1])\n",
    "print(\"Second largest element is:\",a[n-2])"
   ]
  },
  {
   "cell_type": "markdown",
   "id": "f05528a1",
   "metadata": {},
   "source": [
    "# Q2.Python Program to Print Largest Even and Largest Odd Number in a List."
   ]
  },
  {
   "cell_type": "code",
   "execution_count": 4,
   "id": "53486690",
   "metadata": {},
   "outputs": [
    {
     "name": "stdout",
     "output_type": "stream",
     "text": [
      "Enter the number of elements to be in the list:4\n",
      "Element: 11\n",
      "Element: 12\n",
      "Element: 13\n",
      "Element: 14\n",
      "[11, 12, 13, 14]\n",
      "Largest even number: 14\n",
      "Largest odd number 13\n"
     ]
    }
   ],
   "source": [
    "n=int(input(\"Enter the number of elements to be in the list:\"))\n",
    "b=[]\n",
    "for i in range(0,n):\n",
    "    a=int(input(\"Element: \"))\n",
    "    b.append(a)\n",
    "c=[]\n",
    "d=[]\n",
    "for i in b:\n",
    "    if(i%2==0):\n",
    "        c.append(i)\n",
    "    else:\n",
    "        d.append(i)\n",
    "c.sort()\n",
    "d.sort()\n",
    "count1=0\n",
    "count2=0\n",
    "for k in c:\n",
    "    count1=count1+1\n",
    "for j in d:\n",
    "    count2=count2+1\n",
    "print(b)\n",
    "print(\"Largest even number:\",c[count1-1])\n",
    "print(\"Largest odd number\",d[count2-1])"
   ]
  },
  {
   "cell_type": "markdown",
   "id": "6bd1c546",
   "metadata": {},
   "source": [
    "# Q3.Python Program to Find Average of a List."
   ]
  },
  {
   "cell_type": "code",
   "execution_count": 6,
   "id": "ed7da547",
   "metadata": {},
   "outputs": [
    {
     "name": "stdout",
     "output_type": "stream",
     "text": [
      "Enter the number of elements to be inserted: 5\n",
      "Enter element: 11\n",
      "Enter element: 12\n",
      "Enter element: 13\n",
      "Enter element: 14\n",
      "Enter element: 15\n",
      "Average of elements in the list 13.0\n"
     ]
    }
   ],
   "source": [
    "n=int(input(\"Enter the number of elements to be inserted: \"))\n",
    "a=[]\n",
    "for i in range(0,n):\n",
    "    elem=int(input(\"Enter element: \"))\n",
    "    a.append(elem)\n",
    "avg=sum(a)/n\n",
    "print(\"Average of elements in the list\",round(avg,2))"
   ]
  },
  {
   "cell_type": "markdown",
   "id": "c2f63a91",
   "metadata": {},
   "source": [
    "# Q4.Python Program to Print Sum of Negative Numbers, Positive Even Numbers and Positive Odd numbers in a List."
   ]
  },
  {
   "cell_type": "code",
   "execution_count": 8,
   "id": "bb8a5392",
   "metadata": {},
   "outputs": [
    {
     "name": "stdout",
     "output_type": "stream",
     "text": [
      "Enter the number of elements to be in the list:5\n",
      "Element: -1\n",
      "Element: -2\n",
      "Element: 6\n",
      "Element: 2\n",
      "Element: 12\n",
      "Sum of all positive even numbers: 20\n",
      "Sum of all positive odd numbers: 0\n",
      "Sum of all negative numbers: -3\n"
     ]
    }
   ],
   "source": [
    "n=int(input(\"Enter the number of elements to be in the list:\"))\n",
    "b=[]\n",
    "for i in range(0,n):\n",
    "    a=int(input(\"Element: \"))\n",
    "    b.append(a)\n",
    "sum1=0\n",
    "sum2=0\n",
    "sum3=0\n",
    "for j in b:\n",
    "    if(j>0):\n",
    "        if(j%2==0):\n",
    "            sum1=sum1+j\n",
    "        else:\n",
    "            sum2=sum2+j\n",
    "    else:\n",
    "        sum3=sum3+j\n",
    "print(\"Sum of all positive even numbers:\",sum1)\n",
    "print(\"Sum of all positive odd numbers:\",sum2)\n",
    "print(\"Sum of all negative numbers:\",sum3)"
   ]
  },
  {
   "cell_type": "code",
   "execution_count": null,
   "id": "782d8ad8",
   "metadata": {},
   "outputs": [],
   "source": []
  }
 ],
 "metadata": {
  "kernelspec": {
   "display_name": "Python 3 (ipykernel)",
   "language": "python",
   "name": "python3"
  },
  "language_info": {
   "codemirror_mode": {
    "name": "ipython",
    "version": 3
   },
   "file_extension": ".py",
   "mimetype": "text/x-python",
   "name": "python",
   "nbconvert_exporter": "python",
   "pygments_lexer": "ipython3",
   "version": "3.9.12"
  }
 },
 "nbformat": 4,
 "nbformat_minor": 5
}
