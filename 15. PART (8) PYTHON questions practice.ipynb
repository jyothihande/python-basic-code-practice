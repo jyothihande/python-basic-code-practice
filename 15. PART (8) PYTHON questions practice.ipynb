{
 "cells": [
  {
   "cell_type": "markdown",
   "id": "41832dcb",
   "metadata": {},
   "source": [
    "# Q1. Create a list of squared integers from a given list of integers."
   ]
  },
  {
   "cell_type": "code",
   "execution_count": 1,
   "id": "1e43450f",
   "metadata": {},
   "outputs": [],
   "source": [
    "l=[1,2,3,4,5]\n",
    "l1=[]"
   ]
  },
  {
   "cell_type": "code",
   "execution_count": 2,
   "id": "f8696190",
   "metadata": {},
   "outputs": [
    {
     "name": "stdout",
     "output_type": "stream",
     "text": [
      "[1, 4, 9, 16, 25]\n"
     ]
    }
   ],
   "source": [
    "for i in l:\n",
    "    i=i*i\n",
    "    l1.append(i)\n",
    "print(l1)"
   ]
  },
  {
   "cell_type": "markdown",
   "id": "504b321b",
   "metadata": {},
   "source": [
    "# or USE OF LIST COMPREHENSION"
   ]
  },
  {
   "cell_type": "code",
   "execution_count": 3,
   "id": "74206ef7",
   "metadata": {},
   "outputs": [
    {
     "name": "stdout",
     "output_type": "stream",
     "text": [
      "1 4 9 16 25 "
     ]
    }
   ],
   "source": [
    "l1=[print(i*i,end = \" \") for i in l]"
   ]
  },
  {
   "cell_type": "markdown",
   "id": "257842dc",
   "metadata": {},
   "source": [
    "# Q2. GET Multiplication table for given integer."
   ]
  },
  {
   "cell_type": "code",
   "execution_count": 4,
   "id": "f565ece3",
   "metadata": {},
   "outputs": [
    {
     "name": "stdout",
     "output_type": "stream",
     "text": [
      "ENTER number for multiplication TABLE : 8\n",
      "8 x 1 = 8\n",
      "8 x 2 = 16\n",
      "8 x 3 = 24\n",
      "8 x 4 = 32\n",
      "8 x 5 = 40\n",
      "8 x 6 = 48\n",
      "8 x 7 = 56\n",
      "8 x 8 = 64\n",
      "8 x 9 = 72\n",
      "8 x 10 = 80\n"
     ]
    }
   ],
   "source": [
    "a=int(input(\"ENTER number for multiplication TABLE : \"))\n",
    "for i in range(1,11):\n",
    "    print(a,\"x\",i,\"=\",a*i)"
   ]
  },
  {
   "cell_type": "markdown",
   "id": "d7846b58",
   "metadata": {},
   "source": [
    "# Q3. Create a list of even numbers from a given list of integers."
   ]
  },
  {
   "cell_type": "code",
   "execution_count": 5,
   "id": "9d95c5b5",
   "metadata": {},
   "outputs": [],
   "source": [
    "l=[4,5,2,9,7,3,10]\n",
    "even_list=[]\n",
    "odd_list=[]"
   ]
  },
  {
   "cell_type": "code",
   "execution_count": 6,
   "id": "3ee4aee9",
   "metadata": {},
   "outputs": [
    {
     "name": "stdout",
     "output_type": "stream",
     "text": [
      "[4, 2, 10] [5, 9, 7, 3]\n"
     ]
    }
   ],
   "source": [
    "for i in l:\n",
    "    if i%2==0:\n",
    "        even_list.append(i)\n",
    "    else:\n",
    "        odd_list.append(i)\n",
    "print(even_list,odd_list)"
   ]
  },
  {
   "cell_type": "code",
   "execution_count": 7,
   "id": "8b9aa514",
   "metadata": {},
   "outputs": [
    {
     "data": {
      "text/plain": [
       "[4, 2, 10]"
      ]
     },
     "execution_count": 7,
     "metadata": {},
     "output_type": "execute_result"
    }
   ],
   "source": [
    "even_list"
   ]
  },
  {
   "cell_type": "code",
   "execution_count": 8,
   "id": "e3a8e58c",
   "metadata": {},
   "outputs": [
    {
     "data": {
      "text/plain": [
       "[5, 9, 7, 3]"
      ]
     },
     "execution_count": 8,
     "metadata": {},
     "output_type": "execute_result"
    }
   ],
   "source": [
    "odd_list"
   ]
  },
  {
   "cell_type": "markdown",
   "id": "884f7fb2",
   "metadata": {},
   "source": [
    "# Q4. GET Vowels list"
   ]
  },
  {
   "cell_type": "code",
   "execution_count": 9,
   "id": "24217ecd",
   "metadata": {},
   "outputs": [
    {
     "name": "stdout",
     "output_type": "stream",
     "text": [
      "ENTER A STRING : Education\n",
      "['e', 'u', 'a', 'i', 'o'] are the vowels in a given string.\n"
     ]
    }
   ],
   "source": [
    "string =input(\"ENTER A STRING : \")\n",
    "s2=string.lower()\n",
    "s1=[]\n",
    "for i in s2:\n",
    "    if i=='a' or i=='e'or i=='i'or i=='o' or i=='u':\n",
    "        s1.append(i)\n",
    "print(s1,\"are the vowels in a given string.\")\n",
    "    "
   ]
  },
  {
   "cell_type": "markdown",
   "id": "8d83c56d",
   "metadata": {},
   "source": [
    "# Q5.Create a list of all the first letters of words in a given sentence."
   ]
  },
  {
   "cell_type": "code",
   "execution_count": 10,
   "id": "cf34e76b",
   "metadata": {},
   "outputs": [],
   "source": [
    "string = \"Learn Data Science Coders...\""
   ]
  },
  {
   "cell_type": "code",
   "execution_count": 11,
   "id": "e07faa57",
   "metadata": {},
   "outputs": [],
   "source": [
    "l1=string.split()\n",
    "l2=[]"
   ]
  },
  {
   "cell_type": "code",
   "execution_count": 12,
   "id": "a8d7313f",
   "metadata": {},
   "outputs": [
    {
     "data": {
      "text/plain": [
       "['Learn', 'Data', 'Science', 'Coders...']"
      ]
     },
     "execution_count": 12,
     "metadata": {},
     "output_type": "execute_result"
    }
   ],
   "source": [
    "l1"
   ]
  },
  {
   "cell_type": "code",
   "execution_count": 13,
   "id": "396f27be",
   "metadata": {},
   "outputs": [
    {
     "name": "stdout",
     "output_type": "stream",
     "text": [
      "['L', 'D', 'S', 'C'] are the first letters of a sentence\n"
     ]
    }
   ],
   "source": [
    "for i in l1:\n",
    "    l2.append(i[0])\n",
    "print(l2,\"are the first letters of a sentence\")\n",
    "    "
   ]
  },
  {
   "cell_type": "markdown",
   "id": "2ce88cf2",
   "metadata": {},
   "source": [
    "# Q6. Create a list of all the unique words from a given sentence."
   ]
  },
  {
   "cell_type": "code",
   "execution_count": 14,
   "id": "25c0166d",
   "metadata": {},
   "outputs": [],
   "source": [
    "sentence = \"Hello Hello 1 2 3 1 2 3\""
   ]
  },
  {
   "cell_type": "code",
   "execution_count": 15,
   "id": "2f547327",
   "metadata": {},
   "outputs": [],
   "source": [
    "l1=set(sentence)"
   ]
  },
  {
   "cell_type": "code",
   "execution_count": 16,
   "id": "a459b87c",
   "metadata": {},
   "outputs": [
    {
     "data": {
      "text/plain": [
       "{' ', '1', '2', '3', 'H', 'e', 'l', 'o'}"
      ]
     },
     "execution_count": 16,
     "metadata": {},
     "output_type": "execute_result"
    }
   ],
   "source": [
    "l1"
   ]
  },
  {
   "cell_type": "code",
   "execution_count": 17,
   "id": "ec76b0cd",
   "metadata": {},
   "outputs": [
    {
     "data": {
      "text/plain": [
       "['l', '2', 'H', 'o', '3', '1', ' ', 'e']"
      ]
     },
     "execution_count": 17,
     "metadata": {},
     "output_type": "execute_result"
    }
   ],
   "source": [
    "list(l1)"
   ]
  },
  {
   "cell_type": "markdown",
   "id": "d3bf6b08",
   "metadata": {},
   "source": [
    "# Q7.Create a list of all the anagrams of a given word from a list of words."
   ]
  },
  {
   "cell_type": "code",
   "execution_count": null,
   "id": "7be3c7c7",
   "metadata": {},
   "outputs": [],
   "source": [
    "Like : eat-ate-tea   and     tan-ant\n",
    "---ANAGRAM STRINGS\n",
    "To Check whether two strings are ANAGRAM strings\n",
    "1. Both Strings should be in EQUAL LENGTH\n",
    "2. Both Strings should have SAME CHARACTERS may be in DIFFERENT ORDER"
   ]
  },
  {
   "cell_type": "code",
   "execution_count": 18,
   "id": "4ced0707",
   "metadata": {},
   "outputs": [
    {
     "name": "stdout",
     "output_type": "stream",
     "text": [
      "Enter string1 :tea\n",
      "Enter string2 :ate\n",
      "String 1  and string 2 are anagrams\n"
     ]
    }
   ],
   "source": [
    "str1=input(\"Enter string1 :\")\n",
    "str2=input(\"Enter string2 :\")\n",
    "\n",
    "if len(str1)==len(str2) and sorted(str1)==sorted(str2):\n",
    "    print(\"String 1  and string 2 are anagrams\")\n",
    "else:\n",
    "    print(\"String1 and String2 are not Anagrams.\")\n",
    "    "
   ]
  },
  {
   "cell_type": "markdown",
   "id": "7ea46f0c",
   "metadata": {},
   "source": [
    "# Q8.Create a list of all the permutations of a given string using list comprehension"
   ]
  },
  {
   "cell_type": "code",
   "execution_count": 19,
   "id": "b0c6c7fe",
   "metadata": {},
   "outputs": [],
   "source": [
    "string=\"123\""
   ]
  },
  {
   "cell_type": "code",
   "execution_count": 20,
   "id": "6bd660d7",
   "metadata": {},
   "outputs": [],
   "source": [
    "B=[(x+y+z) for x in string for y in string for z in string]"
   ]
  },
  {
   "cell_type": "code",
   "execution_count": 21,
   "id": "d785c943",
   "metadata": {},
   "outputs": [
    {
     "data": {
      "text/plain": [
       "['111',\n",
       " '112',\n",
       " '113',\n",
       " '121',\n",
       " '122',\n",
       " '123',\n",
       " '131',\n",
       " '132',\n",
       " '133',\n",
       " '211',\n",
       " '212',\n",
       " '213',\n",
       " '221',\n",
       " '222',\n",
       " '223',\n",
       " '231',\n",
       " '232',\n",
       " '233',\n",
       " '311',\n",
       " '312',\n",
       " '313',\n",
       " '321',\n",
       " '322',\n",
       " '323',\n",
       " '331',\n",
       " '332',\n",
       " '333']"
      ]
     },
     "execution_count": 21,
     "metadata": {},
     "output_type": "execute_result"
    }
   ],
   "source": [
    "B"
   ]
  },
  {
   "cell_type": "markdown",
   "id": "ad1a8b83",
   "metadata": {},
   "source": [
    "# *OR*"
   ]
  },
  {
   "cell_type": "code",
   "execution_count": 22,
   "id": "93a2292c",
   "metadata": {},
   "outputs": [],
   "source": [
    "string=\"eat\""
   ]
  },
  {
   "cell_type": "code",
   "execution_count": 23,
   "id": "c7eaee22",
   "metadata": {},
   "outputs": [
    {
     "data": {
      "text/plain": [
       "['eee',\n",
       " 'eea',\n",
       " 'eet',\n",
       " 'eae',\n",
       " 'eaa',\n",
       " 'eat',\n",
       " 'ete',\n",
       " 'eta',\n",
       " 'ett',\n",
       " 'aee',\n",
       " 'aea',\n",
       " 'aet',\n",
       " 'aae',\n",
       " 'aaa',\n",
       " 'aat',\n",
       " 'ate',\n",
       " 'ata',\n",
       " 'att',\n",
       " 'tee',\n",
       " 'tea',\n",
       " 'tet',\n",
       " 'tae',\n",
       " 'taa',\n",
       " 'tat',\n",
       " 'tte',\n",
       " 'tta',\n",
       " 'ttt']"
      ]
     },
     "execution_count": 23,
     "metadata": {},
     "output_type": "execute_result"
    }
   ],
   "source": [
    "B=[(x+y+z) for x in string for y in string for z in string]\n",
    "B"
   ]
  },
  {
   "cell_type": "markdown",
   "id": "7d7514ac",
   "metadata": {},
   "source": [
    "# ***** OR *****"
   ]
  },
  {
   "cell_type": "code",
   "execution_count": 24,
   "id": "11867f10",
   "metadata": {},
   "outputs": [],
   "source": [
    "l1 = [\"1\",\"2\"]\n",
    "l2=['a','b']"
   ]
  },
  {
   "cell_type": "code",
   "execution_count": 25,
   "id": "83afe9de",
   "metadata": {},
   "outputs": [
    {
     "data": {
      "text/plain": [
       "[('1', '1'), ('1', '2'), ('2', '1'), ('2', '2')]"
      ]
     },
     "execution_count": 25,
     "metadata": {},
     "output_type": "execute_result"
    }
   ],
   "source": [
    "B=[(x,y) for x in l1 for y in l1]\n",
    "B"
   ]
  },
  {
   "cell_type": "markdown",
   "id": "8f11bc6c",
   "metadata": {},
   "source": [
    "# **OR**"
   ]
  },
  {
   "cell_type": "code",
   "execution_count": 26,
   "id": "a9630e72",
   "metadata": {},
   "outputs": [
    {
     "data": {
      "text/plain": [
       "[('1', 'a'), ('1', 'b'), ('2', 'a'), ('2', 'b')]"
      ]
     },
     "execution_count": 26,
     "metadata": {},
     "output_type": "execute_result"
    }
   ],
   "source": [
    "B=[(x,y) for x in l1 for y in l2]\n",
    "B"
   ]
  },
  {
   "cell_type": "markdown",
   "id": "df978b21",
   "metadata": {},
   "source": [
    "# Q10.Create a list of all the numbers that are divisible by 3 and 5 from a given list of integers using list comprehension."
   ]
  },
  {
   "cell_type": "code",
   "execution_count": 27,
   "id": "fb668f9f",
   "metadata": {},
   "outputs": [],
   "source": [
    "list1=[3,2,12,15,9,20,10,25,35,30,75,90,50]"
   ]
  },
  {
   "cell_type": "code",
   "execution_count": 28,
   "id": "c8753c54",
   "metadata": {},
   "outputs": [],
   "source": [
    "list2=[i for i in list1 if i%3==0 and i%5==0]"
   ]
  },
  {
   "cell_type": "code",
   "execution_count": 29,
   "id": "3e609827",
   "metadata": {},
   "outputs": [
    {
     "data": {
      "text/plain": [
       "[15, 30, 75, 90]"
      ]
     },
     "execution_count": 29,
     "metadata": {},
     "output_type": "execute_result"
    }
   ],
   "source": [
    "list2"
   ]
  },
  {
   "cell_type": "code",
   "execution_count": 30,
   "id": "3f5ba792",
   "metadata": {},
   "outputs": [],
   "source": [
    "l=[i for i in range(1,100) if i%5==0]"
   ]
  },
  {
   "cell_type": "code",
   "execution_count": 31,
   "id": "f0d1bcc0",
   "metadata": {},
   "outputs": [
    {
     "data": {
      "text/plain": [
       "[5, 10, 15, 20, 25, 30, 35, 40, 45, 50, 55, 60, 65, 70, 75, 80, 85, 90, 95]"
      ]
     },
     "execution_count": 31,
     "metadata": {},
     "output_type": "execute_result"
    }
   ],
   "source": [
    "l"
   ]
  },
  {
   "cell_type": "code",
   "execution_count": 32,
   "id": "012e158b",
   "metadata": {},
   "outputs": [],
   "source": [
    "l2=[i for i in range(1,100) if i%3==0]"
   ]
  },
  {
   "cell_type": "code",
   "execution_count": 33,
   "id": "d4c8cb04",
   "metadata": {},
   "outputs": [
    {
     "data": {
      "text/plain": [
       "[3,\n",
       " 6,\n",
       " 9,\n",
       " 12,\n",
       " 15,\n",
       " 18,\n",
       " 21,\n",
       " 24,\n",
       " 27,\n",
       " 30,\n",
       " 33,\n",
       " 36,\n",
       " 39,\n",
       " 42,\n",
       " 45,\n",
       " 48,\n",
       " 51,\n",
       " 54,\n",
       " 57,\n",
       " 60,\n",
       " 63,\n",
       " 66,\n",
       " 69,\n",
       " 72,\n",
       " 75,\n",
       " 78,\n",
       " 81,\n",
       " 84,\n",
       " 87,\n",
       " 90,\n",
       " 93,\n",
       " 96,\n",
       " 99]"
      ]
     },
     "execution_count": 33,
     "metadata": {},
     "output_type": "execute_result"
    }
   ],
   "source": [
    "l2"
   ]
  },
  {
   "cell_type": "code",
   "execution_count": null,
   "id": "a0159bbc",
   "metadata": {},
   "outputs": [],
   "source": []
  }
 ],
 "metadata": {
  "kernelspec": {
   "display_name": "Python 3 (ipykernel)",
   "language": "python",
   "name": "python3"
  },
  "language_info": {
   "codemirror_mode": {
    "name": "ipython",
    "version": 3
   },
   "file_extension": ".py",
   "mimetype": "text/x-python",
   "name": "python",
   "nbconvert_exporter": "python",
   "pygments_lexer": "ipython3",
   "version": "3.9.12"
  }
 },
 "nbformat": 4,
 "nbformat_minor": 5
}
