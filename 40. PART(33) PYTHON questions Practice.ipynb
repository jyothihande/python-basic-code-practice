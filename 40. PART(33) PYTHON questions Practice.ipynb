{
 "cells": [
  {
   "cell_type": "markdown",
   "id": "0820ef20",
   "metadata": {},
   "source": [
    "# Q1.Function to find cube of a number:"
   ]
  },
  {
   "cell_type": "code",
   "execution_count": 1,
   "id": "6f4e2f5a",
   "metadata": {},
   "outputs": [
    {
     "name": "stdout",
     "output_type": "stream",
     "text": [
      "343\n"
     ]
    }
   ],
   "source": [
    "# Python code to illustrate the cube of a number\n",
    "# using lambda function\n",
    "def cube(x):\n",
    "    return x*x*x\n",
    "\n",
    "print(cube(7))"
   ]
  },
  {
   "cell_type": "code",
   "execution_count": 2,
   "id": "aed5f915",
   "metadata": {
    "scrolled": true
   },
   "outputs": [
    {
     "data": {
      "text/plain": [
       "27"
      ]
     },
     "execution_count": 2,
     "metadata": {},
     "output_type": "execute_result"
    }
   ],
   "source": [
    "cube(3)"
   ]
  },
  {
   "cell_type": "code",
   "execution_count": 4,
   "id": "33d3a78a",
   "metadata": {},
   "outputs": [
    {
     "data": {
      "text/plain": [
       "-27"
      ]
     },
     "execution_count": 4,
     "metadata": {},
     "output_type": "execute_result"
    }
   ],
   "source": [
    "cube(-3)"
   ]
  },
  {
   "cell_type": "markdown",
   "id": "b1453262",
   "metadata": {},
   "source": [
    "# Q2.Function to find square of a number."
   ]
  },
  {
   "cell_type": "code",
   "execution_count": 3,
   "id": "b4091beb",
   "metadata": {},
   "outputs": [
    {
     "name": "stdout",
     "output_type": "stream",
     "text": [
      "4\n",
      "16\n"
     ]
    }
   ],
   "source": [
    "def square_value(num):\n",
    "    return num**2\n",
    "\"\"\"This function returns the square value of the entered number\"\"\"\n",
    "\n",
    "print(square_value(2))\n",
    "print(square_value(-4))"
   ]
  },
  {
   "cell_type": "markdown",
   "id": "cf9bac59",
   "metadata": {},
   "source": [
    "# Q3.Program to Find and Print Nth Fibonacci Numbers."
   ]
  },
  {
   "cell_type": "code",
   "execution_count": 5,
   "id": "ca15ddd8",
   "metadata": {},
   "outputs": [
    {
     "name": "stdout",
     "output_type": "stream",
     "text": [
      "34\n"
     ]
    }
   ],
   "source": [
    "# Function for nth fibonacci number - Space Optimisation\n",
    "# Taking 1st two fibonacci numbers as 0 and 1\n",
    "\n",
    "\n",
    "def fibonacci(n):\n",
    "    a = 0\n",
    "    b = 1\n",
    "    if n < 0:\n",
    "        print(\"Incorrect input\")\n",
    "    elif n == 0:\n",
    "        return a\n",
    "    elif n == 1:\n",
    "        return b\n",
    "    else:\n",
    "        for i in range(2, n+1):\n",
    "            c = a + b\n",
    "            a = b\n",
    "            b = c\n",
    "        return b\n",
    "\n",
    "# Driver Program\n",
    "\n",
    "\n",
    "print(fibonacci(9))"
   ]
  },
  {
   "cell_type": "markdown",
   "id": "062bddec",
   "metadata": {},
   "source": [
    "# Q4.Python code to find average."
   ]
  },
  {
   "cell_type": "code",
   "execution_count": 11,
   "id": "d6858dc5",
   "metadata": {},
   "outputs": [
    {
     "name": "stdout",
     "output_type": "stream",
     "text": [
      "10.5\n"
     ]
    }
   ],
   "source": [
    "# Python 3 Program to find the Average of first n natural numbers\n",
    "def avgOfFirstN(n) :\n",
    "    return (float)(1 + n) / 2;\n",
    "n = 20\n",
    "print(avgOfFirstN(n))"
   ]
  },
  {
   "cell_type": "code",
   "execution_count": null,
   "id": "491981f1",
   "metadata": {},
   "outputs": [],
   "source": []
  }
 ],
 "metadata": {
  "kernelspec": {
   "display_name": "Python 3 (ipykernel)",
   "language": "python",
   "name": "python3"
  },
  "language_info": {
   "codemirror_mode": {
    "name": "ipython",
    "version": 3
   },
   "file_extension": ".py",
   "mimetype": "text/x-python",
   "name": "python",
   "nbconvert_exporter": "python",
   "pygments_lexer": "ipython3",
   "version": "3.9.12"
  }
 },
 "nbformat": 4,
 "nbformat_minor": 5
}
