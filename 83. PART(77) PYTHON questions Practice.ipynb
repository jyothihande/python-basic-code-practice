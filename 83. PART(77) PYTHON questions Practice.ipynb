{
 "cells": [
  {
   "cell_type": "markdown",
   "id": "e074ea39",
   "metadata": {},
   "source": [
    "# Q1.Python Program to Find the Factorial of a Number."
   ]
  },
  {
   "cell_type": "code",
   "execution_count": null,
   "id": "b1569984",
   "metadata": {},
   "outputs": [],
   "source": [
    "--Factorial of a Number using Loop"
   ]
  },
  {
   "cell_type": "code",
   "execution_count": 1,
   "id": "768783eb",
   "metadata": {},
   "outputs": [
    {
     "name": "stdout",
     "output_type": "stream",
     "text": [
      "The factorial of 7 is 5040\n"
     ]
    }
   ],
   "source": [
    "# change the value for a different result\n",
    "num = 7\n",
    "\n",
    "# To take input from the user\n",
    "#num = int(input(\"Enter a number: \"))\n",
    "\n",
    "factorial = 1\n",
    "\n",
    "# check if the number is negative, positive or zero\n",
    "if num < 0:\n",
    "    print(\"Sorry, factorial does not exist for negative numbers\")\n",
    "elif num == 0:\n",
    "    print(\"The factorial of 0 is 1\")\n",
    "else:\n",
    "    for i in range(1,num + 1):\n",
    "        factorial = factorial*i\n",
    "    print(\"The factorial of\",num,\"is\",factorial)\n"
   ]
  },
  {
   "cell_type": "code",
   "execution_count": null,
   "id": "381a4bf2",
   "metadata": {},
   "outputs": [],
   "source": [
    "---Factorial of a Number using Recursion"
   ]
  },
  {
   "cell_type": "code",
   "execution_count": 3,
   "id": "f918ae8d",
   "metadata": {},
   "outputs": [
    {
     "name": "stdout",
     "output_type": "stream",
     "text": [
      "The factorial of 3 is 6\n"
     ]
    }
   ],
   "source": [
    "def factorial(x):\n",
    "    \"\"\"This is a recursive function\n",
    "    to find the factorial of an integer\"\"\"\n",
    "\n",
    "    if x == 1:\n",
    "        return 1\n",
    "    else:\n",
    "        return (x * factorial(x-1))\n",
    "\n",
    "\n",
    "num = 3\n",
    "print(\"The factorial of\", num, \"is\", factorial(num))"
   ]
  },
  {
   "cell_type": "markdown",
   "id": "f89ef36a",
   "metadata": {},
   "source": [
    "# Q2.Python Program to Check Prime Number."
   ]
  },
  {
   "cell_type": "code",
   "execution_count": null,
   "id": "ad6763a4",
   "metadata": {},
   "outputs": [],
   "source": [
    "Concept: Using a flag variable"
   ]
  },
  {
   "cell_type": "code",
   "execution_count": 4,
   "id": "401af874",
   "metadata": {},
   "outputs": [
    {
     "name": "stdout",
     "output_type": "stream",
     "text": [
      "29 is a prime number\n"
     ]
    }
   ],
   "source": [
    "# Program to check if a number is prime or not\n",
    "\n",
    "num = 29\n",
    "\n",
    "# To take input from the user\n",
    "#num = int(input(\"Enter a number: \"))\n",
    "\n",
    "# define a flag variable\n",
    "flag = False\n",
    "\n",
    "if num == 1:\n",
    "    print(num, \"is not a prime number\")\n",
    "elif num > 1:\n",
    "    # check for factors\n",
    "    for i in range(2, num):\n",
    "        if (num % i) == 0:\n",
    "            # if factor is found, set flag to True\n",
    "            flag = True\n",
    "            # break out of loop\n",
    "            break\n",
    "\n",
    "    # check if flag is True\n",
    "    if flag:\n",
    "        print(num, \"is not a prime number\")\n",
    "    else:\n",
    "        print(num, \"is a prime number\")"
   ]
  },
  {
   "cell_type": "code",
   "execution_count": null,
   "id": "61b169ad",
   "metadata": {},
   "outputs": [],
   "source": [
    "Concept : Using a for...else statement"
   ]
  },
  {
   "cell_type": "code",
   "execution_count": 29,
   "id": "960b4ee8",
   "metadata": {},
   "outputs": [
    {
     "name": "stdout",
     "output_type": "stream",
     "text": [
      "407 is a prime number\n",
      "407 is a prime number\n",
      "407 is a prime number\n",
      "407 is a prime number\n",
      "407 is a prime number\n",
      "407 is a prime number\n",
      "407 is a prime number\n",
      "407 is a prime number\n",
      "407 is a prime number\n",
      "407 is not a prime number\n",
      "11 times 37 is 407\n"
     ]
    }
   ],
   "source": [
    "num = 407\n",
    "\n",
    "# To take input from the user\n",
    "#num = int(input(\"Enter a number: \"))\n",
    "\n",
    "if num == 1:\n",
    "    print(num, \"is not a prime number\")\n",
    "elif num > 1:\n",
    "   # check for factors\n",
    "   for i in range(2,num):\n",
    "        if (num % i) == 0:\n",
    "            print(num,\"is not a prime number\")\n",
    "            print(i,\"times\",num//i,\"is\",num)\n",
    "            break\n",
    "        else:\n",
    "            print(num,\"is a prime number\")\n",
    "else:\n",
    "    print(num,\"is not a prime number\")\n",
    "       \n",
    " #if input number is less than or equal to 1, it is not prime\n"
   ]
  },
  {
   "cell_type": "markdown",
   "id": "79871014",
   "metadata": {},
   "source": [
    "# Q3.Python Program to Find the Factors of a Number."
   ]
  },
  {
   "cell_type": "code",
   "execution_count": 30,
   "id": "7bfa4429",
   "metadata": {},
   "outputs": [
    {
     "name": "stdout",
     "output_type": "stream",
     "text": [
      "The factors of 320 are:\n",
      "1\n",
      "2\n",
      "4\n",
      "5\n",
      "8\n",
      "10\n",
      "16\n",
      "20\n",
      "32\n",
      "40\n",
      "64\n",
      "80\n",
      "160\n",
      "320\n"
     ]
    }
   ],
   "source": [
    "# Python Program to find the factors of a number\n",
    "\n",
    "# This function computes the factor of the argument passed\n",
    "def print_factors(x):\n",
    "    print(\"The factors of\",x,\"are:\")\n",
    "    for i in range(1, x + 1):\n",
    "        if x % i == 0:\n",
    "            print(i)\n",
    "\n",
    "num = 320\n",
    "\n",
    "print_factors(num)\n"
   ]
  },
  {
   "cell_type": "code",
   "execution_count": null,
   "id": "7c2c96c6",
   "metadata": {},
   "outputs": [],
   "source": []
  }
 ],
 "metadata": {
  "kernelspec": {
   "display_name": "Python 3 (ipykernel)",
   "language": "python",
   "name": "python3"
  },
  "language_info": {
   "codemirror_mode": {
    "name": "ipython",
    "version": 3
   },
   "file_extension": ".py",
   "mimetype": "text/x-python",
   "name": "python",
   "nbconvert_exporter": "python",
   "pygments_lexer": "ipython3",
   "version": "3.9.12"
  }
 },
 "nbformat": 4,
 "nbformat_minor": 5
}
