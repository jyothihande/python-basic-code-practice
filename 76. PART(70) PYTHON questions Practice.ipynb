{
 "cells": [
  {
   "cell_type": "markdown",
   "id": "e5dff0b9",
   "metadata": {},
   "source": [
    "# Q1.Python Program to Merge Two Lists and Sort it."
   ]
  },
  {
   "cell_type": "code",
   "execution_count": 3,
   "id": "05cb9cbf",
   "metadata": {},
   "outputs": [
    {
     "name": "stdout",
     "output_type": "stream",
     "text": [
      "Enter number of elements:4\n",
      "Enter element:1\n",
      "Enter element:2\n",
      "Enter element:3\n",
      "Enter element:4\n",
      "Enter number of elements:4\n",
      "Enter element:5\n",
      "Enter element:6\n",
      "Enter element:7\n",
      "Enter element:8\n",
      "a list [1, 2, 3, 4]\n",
      "c list [5, 6, 7, 8]\n",
      "Sorted list is: [1, 2, 3, 4, 5, 6, 7, 8]\n"
     ]
    }
   ],
   "source": [
    "a=[]\n",
    "c=[]\n",
    "n1=int(input(\"Enter number of elements:\"))\n",
    "for i in range(1,n1+1):\n",
    "    b=int(input(\"Enter element:\"))\n",
    "    a.append(b)\n",
    "n2=int(input(\"Enter number of elements:\"))\n",
    "for i in range(1,n2+1):\n",
    "    d=int(input(\"Enter element:\"))\n",
    "    c.append(d)\n",
    "print(\"a list\",a)\n",
    "print(\"c list\",c)\n",
    "new=a+c\n",
    "new.sort()\n",
    "print(\"Sorted list is:\",new)"
   ]
  },
  {
   "cell_type": "markdown",
   "id": "f4979482",
   "metadata": {},
   "source": [
    "# Q2.Python Program to Find the Union of Two Lists."
   ]
  },
  {
   "cell_type": "code",
   "execution_count": 4,
   "id": "881423a6",
   "metadata": {},
   "outputs": [
    {
     "name": "stdout",
     "output_type": "stream",
     "text": [
      "Enter size of list 1: 4\n",
      "Enter any number:10\n",
      "Enter any number:20\n",
      "Enter any number:3\n",
      "Enter any number:0\n",
      "Enter size of list 2:4\n",
      "Enter any number:40\n",
      "Enter any number:50\n",
      "Enter any number:60\n",
      "Enter any number:70\n",
      "The Union of two lists is: [0, 3, 70, 40, 10, 50, 20, 60]\n"
     ]
    }
   ],
   "source": [
    "l1=[]\n",
    "num1 = int(input('Enter size of list 1: '))\n",
    "for n in range(num1):\n",
    "    numbers1 = int(input('Enter any number:'))\n",
    "    l1.append(numbers1)\n",
    " \n",
    "l2=[]\n",
    "num2 = int(input('Enter size of list 2:'))\n",
    "for n in range(num2):\n",
    "    numbers2 = int(input('Enter any number:'))\n",
    "    l2.append(numbers2)\n",
    " \n",
    "union = list(set().union(l1,l2))\n",
    " \n",
    "print('The Union of two lists is:',union)"
   ]
  },
  {
   "cell_type": "markdown",
   "id": "96917f0c",
   "metadata": {},
   "source": [
    "# Q3.Python Program to Generate Random Numbers from 1 to 20 and Append Them to the List."
   ]
  },
  {
   "cell_type": "code",
   "execution_count": 5,
   "id": "f03cea46",
   "metadata": {},
   "outputs": [
    {
     "name": "stdout",
     "output_type": "stream",
     "text": [
      "Enter number of elements:5\n",
      "Randomised list is:  [19, 12, 13, 2, 4]\n"
     ]
    }
   ],
   "source": [
    "import random\n",
    "a=[]\n",
    "n=int(input(\"Enter number of elements:\"))\n",
    "for j in range(n):\n",
    "    a.append(random.randint(1,20))\n",
    "print('Randomised list is: ',a)"
   ]
  },
  {
   "cell_type": "markdown",
   "id": "0d8af306",
   "metadata": {},
   "source": [
    "# Q4.Python Program to Flatten a Nested List using Recursion."
   ]
  },
  {
   "cell_type": "code",
   "execution_count": 7,
   "id": "6f141ebf",
   "metadata": {},
   "outputs": [
    {
     "name": "stdout",
     "output_type": "stream",
     "text": [
      "Flattened list is:  [1, 2, 21, 3, 4, 54]\n"
     ]
    }
   ],
   "source": [
    "def flatten(S):\n",
    "    if S == []:\n",
    "        return S\n",
    "    if isinstance(S[0], list):\n",
    "        return flatten(S[0]) + flatten(S[1:])\n",
    "    return S[:1] + flatten(S[1:])\n",
    "s=[[1,2,21],[3,4,54]]\n",
    "print(\"Flattened list is: \",flatten(s))"
   ]
  },
  {
   "cell_type": "code",
   "execution_count": null,
   "id": "151240e2",
   "metadata": {},
   "outputs": [],
   "source": []
  }
 ],
 "metadata": {
  "kernelspec": {
   "display_name": "Python 3 (ipykernel)",
   "language": "python",
   "name": "python3"
  },
  "language_info": {
   "codemirror_mode": {
    "name": "ipython",
    "version": 3
   },
   "file_extension": ".py",
   "mimetype": "text/x-python",
   "name": "python",
   "nbconvert_exporter": "python",
   "pygments_lexer": "ipython3",
   "version": "3.9.12"
  }
 },
 "nbformat": 4,
 "nbformat_minor": 5
}
