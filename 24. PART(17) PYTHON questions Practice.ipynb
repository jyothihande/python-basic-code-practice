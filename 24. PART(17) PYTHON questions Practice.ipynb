{
 "cells": [
  {
   "cell_type": "markdown",
   "id": "e2090327",
   "metadata": {},
   "source": [
    "# Q1.Python Program to Display Calendar."
   ]
  },
  {
   "cell_type": "code",
   "execution_count": 6,
   "id": "11485c9c",
   "metadata": {},
   "outputs": [
    {
     "name": "stdout",
     "output_type": "stream",
     "text": [
      "    August 1997\n",
      "Mo Tu We Th Fr Sa Su\n",
      "             1  2  3\n",
      " 4  5  6  7  8  9 10\n",
      "11 12 13 14 15 16 17\n",
      "18 19 20 21 22 23 24\n",
      "25 26 27 28 29 30 31\n",
      "\n"
     ]
    }
   ],
   "source": [
    "# Program to display calendar of the given month and year\n",
    "\n",
    "# importing calendar module\n",
    "import calendar\n",
    "# display the calendar\n",
    "yy=1997\n",
    "mm=8\n",
    "print(calendar.month(yy, mm))"
   ]
  },
  {
   "cell_type": "markdown",
   "id": "97d63a03",
   "metadata": {},
   "source": [
    "# Q2.Python Program to Find Largest of Three Numbers."
   ]
  },
  {
   "cell_type": "code",
   "execution_count": 1,
   "id": "3bc67a2e",
   "metadata": {},
   "outputs": [
    {
     "name": "stdout",
     "output_type": "stream",
     "text": [
      "enter a number: 5\n",
      "enter a number: 4\n",
      "enter a number: 3\n",
      "5 is greater than 4 3\n"
     ]
    }
   ],
   "source": [
    "int1=int(input(\"enter a number: \"))\n",
    "int2=int(input(\"enter a number: \"))\n",
    "int3=int(input(\"enter a number: \"))\n",
    "if int1>=int2 and int1>=int3:\n",
    "    print(int1,\"is greater than\",int2,int3)\n",
    "elif int2>=int1 and int2>=int3:\n",
    "    print(int2,\"is greater than\",int1,int3)\n",
    "else:\n",
    "    print(int3,\"is greater than\",int1,int2)"
   ]
  },
  {
   "cell_type": "code",
   "execution_count": 3,
   "id": "bd4adb57",
   "metadata": {},
   "outputs": [
    {
     "name": "stdout",
     "output_type": "stream",
     "text": [
      "3 is greater than 1 2\n"
     ]
    }
   ],
   "source": [
    "def greatest_of_three(int1,int2,int3):\n",
    "    if int1>=int2 and int1>=int3:\n",
    "        print(int1,\"is greater than\",int2,int3)\n",
    "    elif int2>=int1 and int2>=int3:\n",
    "        print(int2,\"is greater than\",int1,int3)\n",
    "    else:\n",
    "        print(int3,\"is greater than\",int1,int2)\n",
    "greatest_of_three(1,2,3)   "
   ]
  },
  {
   "cell_type": "code",
   "execution_count": 6,
   "id": "266d9edd",
   "metadata": {},
   "outputs": [
    {
     "name": "stdout",
     "output_type": "stream",
     "text": [
      "-1 is greater than -2 -3\n"
     ]
    }
   ],
   "source": [
    "def greatest_of_three(int1,int2,int3):\n",
    "    if int1>=int2 and int1>=int3:\n",
    "        print(int1,\"is greater than\",int2,int3)\n",
    "    elif int2>=int1 and int2>=int3:\n",
    "        print(int2,\"is greater than\",int1,int3)\n",
    "    else:\n",
    "        print(int3,\"is greater than\",int1,int2)\n",
    "greatest_of_three(-1,-2,-3) "
   ]
  },
  {
   "cell_type": "markdown",
   "id": "d41eeee2",
   "metadata": {},
   "source": [
    "# Q3.Python Program to Print Fibonacci Series."
   ]
  },
  {
   "cell_type": "code",
   "execution_count": 7,
   "id": "31e860f4",
   "metadata": {},
   "outputs": [
    {
     "name": "stdout",
     "output_type": "stream",
     "text": [
      "Fibonacci Series: 0 1 1 2 3 5 8 13 21 34 \n"
     ]
    }
   ],
   "source": [
    "# Write a program to print fibonacci series upto n terms in python\n",
    "num = 10\n",
    "n1, n2 = 0, 1\n",
    "print(\"Fibonacci Series:\", n1, n2, end=\" \")\n",
    "for i in range(2, num):\n",
    "    n3 = n1 + n2\n",
    "    n1 = n2\n",
    "    n2 = n3\n",
    "    print(n3, end=\" \")\n",
    "\n",
    "print()"
   ]
  },
  {
   "cell_type": "markdown",
   "id": "7e17e3a0",
   "metadata": {},
   "source": [
    "# Q4.Python Program to Make Calculator."
   ]
  },
  {
   "cell_type": "code",
   "execution_count": 12,
   "id": "f313cc84",
   "metadata": {},
   "outputs": [
    {
     "name": "stdout",
     "output_type": "stream",
     "text": [
      "Please select operation -\n",
      "1. Add\n",
      "2. Subtract\n",
      "3. Multiply\n",
      "4. Divide\n",
      "\n",
      "Select operations form 1, 2, 3, 4 :4\n",
      "Enter first number: 50\n",
      "Enter second number: 10\n",
      "50 / 10 = 5.0\n"
     ]
    }
   ],
   "source": [
    "# Python program for simple calculator\n",
    "\n",
    "# Function to add two numbers\n",
    "def add(num1, num2):\n",
    "    return num1 + num2\n",
    "\n",
    "# Function to subtract two numbers\n",
    "def subtract(num1, num2):\n",
    "    return num1 - num2\n",
    "\n",
    "# Function to multiply two numbers\n",
    "def multiply(num1, num2):\n",
    "    return num1 * num2\n",
    "\n",
    "# Function to divide two numbers\n",
    "def divide(num1, num2):\n",
    "    return num1 / num2\n",
    "\n",
    "print(\"Please select operation -\\n\" \"1. Add\\n\" \"2. Subtract\\n\" \"3. Multiply\\n\" \"4. Divide\\n\")\n",
    "\n",
    "\n",
    "# Take input from the user\n",
    "select = int(input(\"Select operations form 1, 2, 3, 4 :\"))\n",
    "\n",
    "number_1 = int(input(\"Enter first number: \"))\n",
    "number_2 = int(input(\"Enter second number: \"))\n",
    "\n",
    "if select == 1:\n",
    "    print(number_1, \"+\", number_2, \"=\",add(number_1, number_2))\n",
    "\n",
    "elif select == 2:\n",
    "    print(number_1, \"-\", number_2, \"=\",subtract(number_1, number_2))\n",
    "\n",
    "elif select == 3:\n",
    "    print(number_1, \"*\", number_2, \"=\",multiply(number_1, number_2))\n",
    "\n",
    "elif select == 4:\n",
    "    print(number_1, \"/\", number_2, \"=\",divide(number_1, number_2))\n",
    "else:\n",
    "    print(\"Invalid input\")\n"
   ]
  },
  {
   "cell_type": "code",
   "execution_count": null,
   "id": "909864a8",
   "metadata": {},
   "outputs": [],
   "source": []
  },
  {
   "cell_type": "code",
   "execution_count": null,
   "id": "85a8602a",
   "metadata": {},
   "outputs": [],
   "source": []
  }
 ],
 "metadata": {
  "kernelspec": {
   "display_name": "Python 3 (ipykernel)",
   "language": "python",
   "name": "python3"
  },
  "language_info": {
   "codemirror_mode": {
    "name": "ipython",
    "version": 3
   },
   "file_extension": ".py",
   "mimetype": "text/x-python",
   "name": "python",
   "nbconvert_exporter": "python",
   "pygments_lexer": "ipython3",
   "version": "3.9.12"
  }
 },
 "nbformat": 4,
 "nbformat_minor": 5
}
