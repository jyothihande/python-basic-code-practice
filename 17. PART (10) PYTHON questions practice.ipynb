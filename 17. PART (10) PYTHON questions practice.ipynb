{
 "cells": [
  {
   "cell_type": "markdown",
   "id": "1f30bbcc",
   "metadata": {},
   "source": [
    "# Q17. Create an array of all the even numbers from a given array of integers."
   ]
  },
  {
   "cell_type": "code",
   "execution_count": 1,
   "id": "a0e20aff",
   "metadata": {},
   "outputs": [],
   "source": [
    "import numpy as np"
   ]
  },
  {
   "cell_type": "code",
   "execution_count": 4,
   "id": "2d550be2",
   "metadata": {},
   "outputs": [],
   "source": [
    "array=np.arange(2,101,2).reshape(5,10)  # all even numbers till 100"
   ]
  },
  {
   "cell_type": "code",
   "execution_count": 5,
   "id": "e16d5790",
   "metadata": {},
   "outputs": [
    {
     "data": {
      "text/plain": [
       "array([[  2,   4,   6,   8,  10,  12,  14,  16,  18,  20],\n",
       "       [ 22,  24,  26,  28,  30,  32,  34,  36,  38,  40],\n",
       "       [ 42,  44,  46,  48,  50,  52,  54,  56,  58,  60],\n",
       "       [ 62,  64,  66,  68,  70,  72,  74,  76,  78,  80],\n",
       "       [ 82,  84,  86,  88,  90,  92,  94,  96,  98, 100]])"
      ]
     },
     "execution_count": 5,
     "metadata": {},
     "output_type": "execute_result"
    }
   ],
   "source": [
    "array"
   ]
  },
  {
   "cell_type": "markdown",
   "id": "017bb224",
   "metadata": {},
   "source": [
    "# Q18. Find the second largest element in a given array of integers."
   ]
  },
  {
   "cell_type": "markdown",
   "id": "434a41de",
   "metadata": {},
   "source": [
    "try with list to find first and second largest number."
   ]
  },
  {
   "cell_type": "code",
   "execution_count": 6,
   "id": "bbd65299",
   "metadata": {},
   "outputs": [],
   "source": [
    "list1=[52,41,87,66,30,21,7]"
   ]
  },
  {
   "cell_type": "code",
   "execution_count": 7,
   "id": "6dc260d0",
   "metadata": {},
   "outputs": [],
   "source": [
    "list1.sort()"
   ]
  },
  {
   "cell_type": "code",
   "execution_count": 8,
   "id": "18f0f2e9",
   "metadata": {},
   "outputs": [
    {
     "data": {
      "text/plain": [
       "[7, 21, 30, 41, 52, 66, 87]"
      ]
     },
     "execution_count": 8,
     "metadata": {},
     "output_type": "execute_result"
    }
   ],
   "source": [
    "list1"
   ]
  },
  {
   "cell_type": "code",
   "execution_count": 9,
   "id": "cc9bcd7a",
   "metadata": {},
   "outputs": [
    {
     "name": "stdout",
     "output_type": "stream",
     "text": [
      "first largest number :  87\n",
      "second largest numbe :  66\n"
     ]
    }
   ],
   "source": [
    "print(\"first largest number : \",list1[-1])\n",
    "print(\"second largest numbe : \",list1[-2])"
   ]
  },
  {
   "cell_type": "markdown",
   "id": "46b0067f",
   "metadata": {},
   "source": [
    "# Q19. Create a new array from two given arrays by alternating their elements."
   ]
  },
  {
   "cell_type": "code",
   "execution_count": 10,
   "id": "42a4d477",
   "metadata": {},
   "outputs": [
    {
     "name": "stdout",
     "output_type": "stream",
     "text": [
      "Enter the no. of elements : 5\n",
      "1\n",
      "4\n",
      "8\n",
      "5\n",
      "2\n",
      "Orginal array :  [1, 4, 8, 5, 2]\n",
      "New array with alternating elements :  [1, 8, 2]\n"
     ]
    }
   ],
   "source": [
    "A=[]\n",
    "n=int(input(\"Enter the no. of elements : \"))\n",
    "B=[]\n",
    "for i in range(n):\n",
    "    c=int(input())\n",
    "    A.append(c)\n",
    "print(\"Orginal array : \",A)\n",
    "for j in range(0,n,2):\n",
    "    B.append(A[j])\n",
    "print(\"New array with alternating elements : \",B)"
   ]
  },
  {
   "cell_type": "code",
   "execution_count": 1,
   "id": "7729c87f",
   "metadata": {},
   "outputs": [
    {
     "name": "stdout",
     "output_type": "stream",
     "text": [
      "Enter the no. of elements : 5\n",
      "1\n",
      "2\n",
      "3\n",
      "4\n",
      "5\n",
      "Orginal array A is :  [1, 2, 3, 4, 5]\n",
      "6\n",
      "7\n",
      "8\n",
      "9\n",
      "10\n",
      "Orginal array B is :  [6, 7, 8, 9, 10]\n",
      "new array with alternating elements :  [1, 6, 3, 8, 5, 10]\n"
     ]
    }
   ],
   "source": [
    "A=[]\n",
    "n=int(input(\"Enter the no. of elements : \"))\n",
    "B=[]\n",
    "C=[]\n",
    "for i in range(n):\n",
    "    c=int(input())\n",
    "    A.append(c)\n",
    "print(\"Orginal array A is : \",A)\n",
    "for k in range(n):\n",
    "    b=int(input())\n",
    "    B.append(b)\n",
    "print(\"Orginal array B is : \",B)\n",
    "for j in range(0,n,2):\n",
    "    C.append(A[j])\n",
    "    C.append(B[j])\n",
    "print(\"new array with alternating elements : \",C)"
   ]
  },
  {
   "cell_type": "markdown",
   "id": "ea1bba2a",
   "metadata": {},
   "source": [
    "# Q20. Create a new array from a given array by removing all the duplicates."
   ]
  },
  {
   "cell_type": "code",
   "execution_count": 11,
   "id": "ccc2f5dd",
   "metadata": {},
   "outputs": [
    {
     "name": "stdout",
     "output_type": "stream",
     "text": [
      "['Hello', 'HELLO', 5, 84, 31, 'Python']\n"
     ]
    }
   ],
   "source": [
    "array =[\"Hello\",\"HELLO\",5,84,5,31,\"Python\",\"Python\"]\n",
    "no_duplicates = []\n",
    "for i in array:\n",
    "    if i not in no_duplicates:\n",
    "        no_duplicates.append(i)\n",
    "print(no_duplicates)   "
   ]
  },
  {
   "cell_type": "markdown",
   "id": "b73183af",
   "metadata": {},
   "source": [
    "# Q 21 .Create a new array from a given array by reversing its elements."
   ]
  },
  {
   "cell_type": "code",
   "execution_count": 12,
   "id": "261cfd7b",
   "metadata": {},
   "outputs": [
    {
     "name": "stdout",
     "output_type": "stream",
     "text": [
      "[1, 2, 3, 4, 5, 6]\n",
      "Reversed list is\n",
      "[6, 5, 4, 3, 2, 1]\n"
     ]
    }
   ],
   "source": [
    "# Iterative python program to reverse an array\n",
    "\n",
    "# Function to reverse A[] from start to end\n",
    "def reverseList(A, start, end):\n",
    "    while start < end:\n",
    "        A[start], A[end] = A[end], A[start]\n",
    "        start += 1\n",
    "        end -= 1\n",
    "\n",
    "# Driver function to test above function\n",
    "A = [1, 2, 3, 4, 5, 6]\n",
    "print(A)\n",
    "reverseList(A, 0, 5)\n",
    "print(\"Reversed list is\")\n",
    "print(A)\n"
   ]
  },
  {
   "cell_type": "code",
   "execution_count": 13,
   "id": "6dad0bae",
   "metadata": {},
   "outputs": [
    {
     "name": "stdout",
     "output_type": "stream",
     "text": [
      "[1, 2, 3, 4, 5, 6]\n",
      "Reversed list is\n",
      "[6, 5, 4, 3, 2, 1]\n"
     ]
    }
   ],
   "source": [
    "def reverseList(A, start, end):\n",
    "    if start >= end:\n",
    "        return\n",
    "    A[start], A[end] = A[end], A[start]\n",
    "    reverseList(A, start+1, end-1)\n",
    "  \n",
    " #Driver function to test above function\n",
    "A = [1, 2, 3, 4, 5, 6]\n",
    "print(A)\n",
    "reverseList(A, 0, 5)\n",
    "print(\"Reversed list is\")\n",
    "print(A)"
   ]
  },
  {
   "cell_type": "markdown",
   "id": "c99c5a46",
   "metadata": {},
   "source": [
    "# Q22.Create a new array from a given array by shuffling its elements randomly."
   ]
  },
  {
   "cell_type": "code",
   "execution_count": 14,
   "id": "6a6bd5bf",
   "metadata": {},
   "outputs": [
    {
     "name": "stdout",
     "output_type": "stream",
     "text": [
      "Original array:  [1 2 3 4 5 6]\n",
      "Shuffled array:  [3 2 4 5 1 6]\n"
     ]
    }
   ],
   "source": [
    "\n",
    "# Import required module\n",
    "import numpy as np\n",
    "import random\n",
    "import array\n",
    " \n",
    "# Assign array\n",
    "arr = np.array([1, 2, 3, 4, 5, 6])\n",
    " \n",
    "# Display original array\n",
    "print(\"Original array: \", arr)\n",
    " \n",
    "# Shuffle array\n",
    "random.shuffle(arr)\n",
    " \n",
    "# Display shuffled array\n",
    "print(\"Shuffled array: \", arr)"
   ]
  },
  {
   "cell_type": "markdown",
   "id": "b361c62f",
   "metadata": {},
   "source": [
    "# Q23.Create a new array from a given array by selecting only the elements that are divisible by 3 and 5.\n"
   ]
  },
  {
   "cell_type": "code",
   "execution_count": 15,
   "id": "bdabf893",
   "metadata": {},
   "outputs": [
    {
     "name": "stdout",
     "output_type": "stream",
     "text": [
      "0 15 30 45 "
     ]
    }
   ],
   "source": [
    "# python code to print numbers that\n",
    "# are divisible by 3 and 5\n",
    "n=50\n",
    "for i in range(0,n):\n",
    "    if i%15==0:  # lcm of 3 and 5 is 15\n",
    "        print(i,end=\" \")\n"
   ]
  },
  {
   "cell_type": "code",
   "execution_count": 16,
   "id": "01867ea2",
   "metadata": {},
   "outputs": [
    {
     "name": "stdout",
     "output_type": "stream",
     "text": [
      "[0, 15, 30, 45]\n"
     ]
    }
   ],
   "source": [
    "# python code to print numbers that\n",
    "# are divisible by 3 and 5 using list comprehension\n",
    "n = 50\n",
    "result = [i for i in range(n) if i%3==0 and i%5==0]\n",
    "print(result)"
   ]
  },
  {
   "cell_type": "code",
   "execution_count": 17,
   "id": "b2f48fa1",
   "metadata": {},
   "outputs": [
    {
     "name": "stdout",
     "output_type": "stream",
     "text": [
      "0 15 30 45 60 75 90 "
     ]
    }
   ],
   "source": [
    "# Python program to print all the numbers\n",
    "# divisible by 3 and 5 for a given number\n",
    " \n",
    "# Result function with N\n",
    "def result(N):\n",
    "     \n",
    "    # iterate from 0 to N\n",
    "    for num in range(N):\n",
    "         \n",
    "            # Short-circuit operator is used\n",
    "            if num % 3 == 0 and num % 5 == 0:\n",
    "                print(str(num) + \" \", end = \"\")\n",
    "                 \n",
    "            else:\n",
    "                pass\n",
    "     \n",
    "    # Calling function\n",
    "result(100)"
   ]
  },
  {
   "cell_type": "markdown",
   "id": "6d972342",
   "metadata": {},
   "source": [
    "# Q24. Find the intersection of two given lists."
   ]
  },
  {
   "cell_type": "code",
   "execution_count": 18,
   "id": "d76c2af4",
   "metadata": {},
   "outputs": [
    {
     "name": "stdout",
     "output_type": "stream",
     "text": [
      "[9, 11, 26, 28]\n"
     ]
    }
   ],
   "source": [
    "# Python program to illustrate the intersection\n",
    "# of two lists in most simple way\n",
    "def intersection(lst1, lst2):\n",
    "    lst3 = [value for value in lst1 if value in lst2]\n",
    "    return lst3\n",
    "\n",
    "# Driver Code\n",
    "lst1 = [4, 9, 1, 17, 11, 26, 28, 54, 69]\n",
    "lst2 = [9, 9, 74, 21, 45, 11, 63, 28, 26]\n",
    "print(intersection(lst1, lst2))"
   ]
  },
  {
   "cell_type": "code",
   "execution_count": 19,
   "id": "b7dc453d",
   "metadata": {},
   "outputs": [
    {
     "name": "stdout",
     "output_type": "stream",
     "text": [
      "[9, 10, 4, 5]\n"
     ]
    }
   ],
   "source": [
    "# Python program to illustrate the intersection\n",
    "# of two lists using set() method\n",
    "def intersection(lst1, lst2):\n",
    "    return list(set(lst1) & set(lst2))\n",
    " \n",
    "# Driver Code\n",
    "lst1 = [15, 9, 10, 56, 23, 78, 5, 4, 9]\n",
    "lst2 = [9, 4, 5, 36, 47, 26, 10, 45, 87]\n",
    "print(intersection(lst1, lst2))"
   ]
  },
  {
   "cell_type": "code",
   "execution_count": null,
   "id": "398cbd66",
   "metadata": {},
   "outputs": [],
   "source": []
  }
 ],
 "metadata": {
  "kernelspec": {
   "display_name": "Python 3 (ipykernel)",
   "language": "python",
   "name": "python3"
  },
  "language_info": {
   "codemirror_mode": {
    "name": "ipython",
    "version": 3
   },
   "file_extension": ".py",
   "mimetype": "text/x-python",
   "name": "python",
   "nbconvert_exporter": "python",
   "pygments_lexer": "ipython3",
   "version": "3.9.12"
  }
 },
 "nbformat": 4,
 "nbformat_minor": 5
}
