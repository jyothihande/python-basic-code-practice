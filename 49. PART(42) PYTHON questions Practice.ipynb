{
 "cells": [
  {
   "cell_type": "markdown",
   "id": "2090252c",
   "metadata": {},
   "source": [
    "# Q1.Python Program to Remove Duplicate Element From a List."
   ]
  },
  {
   "cell_type": "code",
   "execution_count": 2,
   "id": "76e9fc92",
   "metadata": {},
   "outputs": [
    {
     "name": "stdout",
     "output_type": "stream",
     "text": [
      "[1, 2, 4, 6]\n"
     ]
    }
   ],
   "source": [
    "list1 = [1, 2, 1, 4, 6]\n",
    "\n",
    "print(list(set(list1)))  # all unique alphabets"
   ]
  },
  {
   "cell_type": "code",
   "execution_count": 3,
   "id": "764ea7d7",
   "metadata": {},
   "outputs": [
    {
     "name": "stdout",
     "output_type": "stream",
     "text": [
      "[4, 6, 7, 8]\n"
     ]
    }
   ],
   "source": [
    "list1 = [1, 2, 1, 4, 6]\n",
    "list2 = [7, 8, 2, 1]\n",
    "\n",
    "print(list(set(list1) ^ set(list2)))"
   ]
  },
  {
   "cell_type": "markdown",
   "id": "01fe4272",
   "metadata": {},
   "source": [
    "# Q2.Python Program to Count the Number of Occurrence of a Character in String."
   ]
  },
  {
   "cell_type": "code",
   "execution_count": 4,
   "id": "b69ec43b",
   "metadata": {},
   "outputs": [
    {
     "name": "stdout",
     "output_type": "stream",
     "text": [
      "2\n"
     ]
    }
   ],
   "source": [
    "count = 0\n",
    "\n",
    "my_string = \"Hello coders\"\n",
    "my_char = \"e\"\n",
    "\n",
    "for i in my_string:\n",
    "    if i == my_char:\n",
    "        count += 1\n",
    "\n",
    "print(count)"
   ]
  },
  {
   "cell_type": "markdown",
   "id": "13404bfc",
   "metadata": {},
   "source": [
    "# Q3.Python Program to Compute all the Permutation of the String."
   ]
  },
  {
   "cell_type": "code",
   "execution_count": 6,
   "id": "213f6bac",
   "metadata": {},
   "outputs": [
    {
     "name": "stdout",
     "output_type": "stream",
     "text": [
      "ABC\n",
      "ACB\n",
      "BAC\n",
      "BCA\n",
      "CBA\n",
      "CAB\n",
      "None\n"
     ]
    }
   ],
   "source": [
    "def get_permutation(string, i=0):\n",
    "\n",
    "    if i == len(string):   \t \n",
    "        print(\"\".join(string))\n",
    "\n",
    "    for j in range(i, len(string)):\n",
    "\n",
    "        words = [c for c in string]\n",
    "   \n",
    "        # swap\n",
    "        words[i], words[j] = words[j], words[i]\n",
    "   \t \n",
    "        get_permutation(words, i + 1)\n",
    "\n",
    "print(get_permutation('ABC'))"
   ]
  },
  {
   "cell_type": "code",
   "execution_count": 7,
   "id": "72424c8c",
   "metadata": {},
   "outputs": [
    {
     "name": "stdout",
     "output_type": "stream",
     "text": [
      "['123', '132', '213', '231', '312', '321']\n"
     ]
    }
   ],
   "source": [
    "from itertools import permutations\n",
    "\n",
    "words = [''.join(p) for p in permutations('123')]\n",
    "\n",
    "print(words)"
   ]
  },
  {
   "cell_type": "markdown",
   "id": "d75a5a73",
   "metadata": {},
   "source": [
    "# Q4.Python Program to Capitalize the First Character of a String."
   ]
  },
  {
   "cell_type": "code",
   "execution_count": 8,
   "id": "97ffabb9",
   "metadata": {},
   "outputs": [
    {
     "name": "stdout",
     "output_type": "stream",
     "text": [
      "Lets learn coding\n"
     ]
    }
   ],
   "source": [
    "my_string = \"lets learn coding\"\n",
    "\n",
    "print(my_string[0].upper() + my_string[1:])"
   ]
  },
  {
   "cell_type": "code",
   "execution_count": 9,
   "id": "d3285925",
   "metadata": {},
   "outputs": [
    {
     "name": "stdout",
     "output_type": "stream",
     "text": [
      "Lets learn coding\n"
     ]
    }
   ],
   "source": [
    "my_string = \"lets learn coding\"\n",
    "\n",
    "cap_string = my_string.capitalize()  # inbuilt function\n",
    "\n",
    "print(cap_string)"
   ]
  },
  {
   "cell_type": "code",
   "execution_count": null,
   "id": "1a0880ae",
   "metadata": {},
   "outputs": [],
   "source": []
  }
 ],
 "metadata": {
  "kernelspec": {
   "display_name": "Python 3 (ipykernel)",
   "language": "python",
   "name": "python3"
  },
  "language_info": {
   "codemirror_mode": {
    "name": "ipython",
    "version": 3
   },
   "file_extension": ".py",
   "mimetype": "text/x-python",
   "name": "python",
   "nbconvert_exporter": "python",
   "pygments_lexer": "ipython3",
   "version": "3.9.12"
  }
 },
 "nbformat": 4,
 "nbformat_minor": 5
}
