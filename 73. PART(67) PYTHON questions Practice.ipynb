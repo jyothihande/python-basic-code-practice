{
 "cells": [
  {
   "cell_type": "markdown",
   "id": "64808a5c",
   "metadata": {},
   "source": [
    "# Q1.Python Program to Remove Odd Indexed Characters in a string."
   ]
  },
  {
   "cell_type": "code",
   "execution_count": 1,
   "id": "9032909c",
   "metadata": {},
   "outputs": [
    {
     "name": "stdout",
     "output_type": "stream",
     "text": [
      "Enter string:Data science\n",
      "Modified string is:\n",
      "Dt cec\n"
     ]
    }
   ],
   "source": [
    "def modify(string):\n",
    "    final = \"\"\n",
    "    for i in range(len(string)):\n",
    "        if i % 2 == 0:\n",
    "            final = final + string[i]\n",
    "    return final\n",
    "string=input(\"Enter string:\")\n",
    "print(\"Modified string is:\")\n",
    "print(modify(string))"
   ]
  },
  {
   "cell_type": "markdown",
   "id": "b3534b7d",
   "metadata": {},
   "source": [
    "# Q2.Python Program that Displays Letters that are not Common in Two Strings."
   ]
  },
  {
   "cell_type": "code",
   "execution_count": 5,
   "id": "aeb8fd26",
   "metadata": {},
   "outputs": [
    {
     "name": "stdout",
     "output_type": "stream",
     "text": [
      "Enter first string:CODE\n",
      "Enter second string:CODING\n",
      "The letters are:\n",
      "G\n",
      "E\n",
      "I\n",
      "N\n"
     ]
    }
   ],
   "source": [
    "s1=input(\"Enter first string:\")\n",
    "s2=input(\"Enter second string:\")\n",
    "a=list(set(s1)^set(s2))\n",
    "print(\"The letters are:\")\n",
    "for i in a:\n",
    "    print(i)"
   ]
  },
  {
   "cell_type": "markdown",
   "id": "0f82621d",
   "metadata": {},
   "source": [
    "# Q3.Python Program to Find All the Divisors of an Integer."
   ]
  },
  {
   "cell_type": "code",
   "execution_count": 6,
   "id": "416abdbb",
   "metadata": {},
   "outputs": [
    {
     "name": "stdout",
     "output_type": "stream",
     "text": [
      "Enter an integer:50\n",
      "The divisors of the number are:\n",
      "1\n",
      "2\n",
      "5\n",
      "10\n",
      "25\n",
      "50\n"
     ]
    }
   ],
   "source": [
    "n=int(input(\"Enter an integer:\"))\n",
    "print(\"The divisors of the number are:\")\n",
    "for i in range(1,n+1):\n",
    "    if(n%i==0):\n",
    "        print(i)"
   ]
  },
  {
   "cell_type": "markdown",
   "id": "a0013344",
   "metadata": {},
   "source": [
    "# Q4.Python Program to Find the Smallest Divisor of an Integer."
   ]
  },
  {
   "cell_type": "code",
   "execution_count": 7,
   "id": "fe52b0b5",
   "metadata": {},
   "outputs": [
    {
     "name": "stdout",
     "output_type": "stream",
     "text": [
      "Enter an integer:58\n",
      "Smallest divisor is: 2\n"
     ]
    }
   ],
   "source": [
    "n=int(input(\"Enter an integer:\"))\n",
    "a=[]\n",
    "for i in range(2,n+1):\n",
    "    if(n%i==0):\n",
    "        a.append(i)\n",
    "a.sort()\n",
    "print(\"Smallest divisor is:\",a[0])"
   ]
  },
  {
   "cell_type": "code",
   "execution_count": 8,
   "id": "32f53896",
   "metadata": {},
   "outputs": [
    {
     "name": "stdout",
     "output_type": "stream",
     "text": [
      "Enter an integer:63\n",
      "Smallest divisor is: 3\n"
     ]
    }
   ],
   "source": [
    "n=int(input(\"Enter an integer:\"))\n",
    "a=[]\n",
    "for i in range(2,n+1):\n",
    "    if(n%i==0):\n",
    "        a.append(i)\n",
    "a.sort()\n",
    "print(\"Smallest divisor is:\",a[0])"
   ]
  },
  {
   "cell_type": "code",
   "execution_count": null,
   "id": "309e6177",
   "metadata": {},
   "outputs": [],
   "source": []
  }
 ],
 "metadata": {
  "kernelspec": {
   "display_name": "Python 3 (ipykernel)",
   "language": "python",
   "name": "python3"
  },
  "language_info": {
   "codemirror_mode": {
    "name": "ipython",
    "version": 3
   },
   "file_extension": ".py",
   "mimetype": "text/x-python",
   "name": "python",
   "nbconvert_exporter": "python",
   "pygments_lexer": "ipython3",
   "version": "3.9.12"
  }
 },
 "nbformat": 4,
 "nbformat_minor": 5
}
