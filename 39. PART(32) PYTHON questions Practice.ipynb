{
 "cells": [
  {
   "cell_type": "markdown",
   "id": "d606e892",
   "metadata": {},
   "source": [
    "# Python - Tuples"
   ]
  },
  {
   "cell_type": "markdown",
   "id": "1ec99285",
   "metadata": {},
   "source": [
    "# Q1.Slicing of Tuple."
   ]
  },
  {
   "cell_type": "code",
   "execution_count": 1,
   "id": "aa30eca5",
   "metadata": {},
   "outputs": [
    {
     "name": "stdout",
     "output_type": "stream",
     "text": [
      "Removal of First Element: \n",
      "('E', 'L', 'L', 'O', ' ', 'C', 'O', 'D', 'E', 'R', 'S')\n",
      "\n",
      "Tuple after sequence of Element is reversed: \n",
      "('S', 'R', 'E', 'D', 'O', 'C', ' ', 'O', 'L', 'L', 'E', 'H')\n",
      "\n",
      "Printing elements between Range 4-9: \n",
      "('O', ' ', 'C', 'O', 'D')\n"
     ]
    }
   ],
   "source": [
    "Tuple1 = tuple('HELLO CODERS')\n",
    " \n",
    "# Removing First element\n",
    "print(\"Removal of First Element: \")\n",
    "print(Tuple1[1:])\n",
    " \n",
    "# Reversing the Tuple\n",
    "print(\"\\nTuple after sequence of Element is reversed: \")\n",
    "print(Tuple1[::-1])\n",
    " \n",
    "# Printing elements of a Range\n",
    "print(\"\\nPrinting elements between Range 4-9: \")\n",
    "print(Tuple1[4:9])"
   ]
  },
  {
   "cell_type": "markdown",
   "id": "7f34b07b",
   "metadata": {},
   "source": [
    "# 2.Deleting a Tuple."
   ]
  },
  {
   "cell_type": "code",
   "execution_count": null,
   "id": "e85e0771",
   "metadata": {},
   "outputs": [],
   "source": [
    "Tuples are immutable and hence they do not allow deletion of a part of it. \n",
    "The entire tuple gets deleted by the use of del() method. "
   ]
  },
  {
   "cell_type": "code",
   "execution_count": 6,
   "id": "6d7e1221",
   "metadata": {},
   "outputs": [
    {
     "ename": "NameError",
     "evalue": "name 'Tuple1' is not defined",
     "output_type": "error",
     "traceback": [
      "\u001b[1;31m---------------------------------------------------------------------------\u001b[0m",
      "\u001b[1;31mNameError\u001b[0m                                 Traceback (most recent call last)",
      "Input \u001b[1;32mIn [6]\u001b[0m, in \u001b[0;36m<cell line: 4>\u001b[1;34m()\u001b[0m\n\u001b[0;32m      1\u001b[0m Tuple1\u001b[38;5;241m=\u001b[39m(\u001b[38;5;241m0\u001b[39m, \u001b[38;5;241m1\u001b[39m, \u001b[38;5;241m2\u001b[39m, \u001b[38;5;241m3\u001b[39m, \u001b[38;5;241m4\u001b[39m)\n\u001b[0;32m      2\u001b[0m \u001b[38;5;28;01mdel\u001b[39;00m Tuple1   \u001b[38;5;66;03m# Deleting a Tuple\u001b[39;00m\n\u001b[1;32m----> 4\u001b[0m \u001b[38;5;28mprint\u001b[39m(\u001b[43mTuple1\u001b[49m)\n",
      "\u001b[1;31mNameError\u001b[0m: name 'Tuple1' is not defined"
     ]
    }
   ],
   "source": [
    "Tuple1=(0, 1, 2, 3, 4)\n",
    "del Tuple1   # Deleting a Tuple\n",
    " \n",
    "print(Tuple1)"
   ]
  },
  {
   "cell_type": "markdown",
   "id": "8f84eb7a",
   "metadata": {},
   "source": [
    "# 3.Create a Dictionary."
   ]
  },
  {
   "cell_type": "code",
   "execution_count": 9,
   "id": "d4896d3d",
   "metadata": {},
   "outputs": [
    {
     "name": "stdout",
     "output_type": "stream",
     "text": [
      "\n",
      "Dictionary with the use of Integer Keys: \n",
      "{1: 'Hello', 2: 'coders', 3: 'python'}\n",
      "\n",
      "Dictionary with the use of Mixed Keys: \n",
      "{'Name': 'coders', 1: [1, 2, [3, 4]]}\n"
     ]
    }
   ],
   "source": [
    "# Creating a Dictionary\n",
    "# with Integer Keys\n",
    "Dict = {1:\"Hello\", 2: 'coders', 3: 'python'}\n",
    "print(\"\\nDictionary with the use of Integer Keys: \")\n",
    "print(Dict)\n",
    "\n",
    "# Creating a Dictionary\n",
    "# with Mixed keys\n",
    "Dict = {'Name': 'coders', 1: [1, 2, [3, 4]]}\n",
    "print(\"\\nDictionary with the use of Mixed Keys: \")\n",
    "print(Dict)\n"
   ]
  },
  {
   "cell_type": "code",
   "execution_count": null,
   "id": "221688b6",
   "metadata": {},
   "outputs": [],
   "source": []
  }
 ],
 "metadata": {
  "kernelspec": {
   "display_name": "Python 3 (ipykernel)",
   "language": "python",
   "name": "python3"
  },
  "language_info": {
   "codemirror_mode": {
    "name": "ipython",
    "version": 3
   },
   "file_extension": ".py",
   "mimetype": "text/x-python",
   "name": "python",
   "nbconvert_exporter": "python",
   "pygments_lexer": "ipython3",
   "version": "3.9.12"
  }
 },
 "nbformat": 4,
 "nbformat_minor": 5
}
