{
 "cells": [
  {
   "cell_type": "markdown",
   "id": "d07c9096",
   "metadata": {},
   "source": [
    "# Q1. Python code for list with str,int,float,boolean from main list."
   ]
  },
  {
   "cell_type": "code",
   "execution_count": 1,
   "id": "46b61e3c",
   "metadata": {},
   "outputs": [],
   "source": [
    "l=[True,52,3,6.65,\"string\",\"python\",False,8,2.6,\"data science\"]\n",
    "l1=[]\n",
    "l2=[]\n",
    "l3=[]\n",
    "l4=[]"
   ]
  },
  {
   "cell_type": "code",
   "execution_count": 2,
   "id": "35add5e4",
   "metadata": {},
   "outputs": [
    {
     "name": "stdout",
     "output_type": "stream",
     "text": [
      "list of all string  ['string', 'python', 'data science']\n",
      "list of all int  [52, 3, 8]\n",
      "list of all float  [6.65, 2.6]\n",
      "list of all Boolean values  [True, False]\n"
     ]
    }
   ],
   "source": [
    "for i in l:\n",
    "    if type(i)==str:\n",
    "        l1.append(i)\n",
    "    elif type(i)==int:\n",
    "        l2.append(i)\n",
    "    elif type(i)==float:\n",
    "        l3.append(i)\n",
    "    else:\n",
    "        l4.append(i)\n",
    "print(\"list of all string \",l1)\n",
    "print(\"list of all int \",l2)\n",
    "print(\"list of all float \",l3)\n",
    "print(\"list of all Boolean values \",l4)"
   ]
  },
  {
   "cell_type": "markdown",
   "id": "168d3b19",
   "metadata": {},
   "source": [
    "# Q2. Python code for factorial using function . "
   ]
  },
  {
   "cell_type": "code",
   "execution_count": 3,
   "id": "03e76720",
   "metadata": {},
   "outputs": [
    {
     "name": "stdout",
     "output_type": "stream",
     "text": [
      "Enter a number for factorial : 5\n",
      "120\n"
     ]
    }
   ],
   "source": [
    "n=int(input(\"Enter a number for factorial : \"))\n",
    "fact=1\n",
    "for i in range(1,n+1):\n",
    "    fact=fact*i\n",
    "print(fact)"
   ]
  },
  {
   "cell_type": "markdown",
   "id": "4b0ed964",
   "metadata": {},
   "source": [
    "# Q3.Python code for define a function integer is odd or even. "
   ]
  },
  {
   "cell_type": "code",
   "execution_count": 3,
   "id": "f02f3f1b",
   "metadata": {},
   "outputs": [
    {
     "name": "stdout",
     "output_type": "stream",
     "text": [
      "8 is even\n",
      "5 is odd\n",
      "99 is odd\n"
     ]
    }
   ],
   "source": [
    "def even_odd(*a):\n",
    "    for i in a:\n",
    "        if i%2==0:\n",
    "            print(i,\"is even\")\n",
    "        else:\n",
    "            print(i,\"is odd\")\n",
    "even_odd(8,5,99)"
   ]
  },
  {
   "cell_type": "markdown",
   "id": "876d37eb",
   "metadata": {},
   "source": [
    "# Q4. Python code for integer which is negative,positive or zero."
   ]
  },
  {
   "cell_type": "code",
   "execution_count": 4,
   "id": "f53b6d1a",
   "metadata": {},
   "outputs": [
    {
     "name": "stdout",
     "output_type": "stream",
     "text": [
      "-8 number is negative\n",
      "5 is positive\n",
      "0 number is zero\n"
     ]
    }
   ],
   "source": [
    "def positive_negative(*a):\n",
    "    for i in a:\n",
    "        if i>0:\n",
    "            print(i,\"is positive\")\n",
    "        elif i ==0:\n",
    "            print(i,\"number is zero\")\n",
    "        else:\n",
    "            print(i,\"number is negative\")\n",
    "positive_negative(-8,5,0)           "
   ]
  },
  {
   "cell_type": "code",
   "execution_count": 5,
   "id": "689c504b",
   "metadata": {},
   "outputs": [
    {
     "name": "stdout",
     "output_type": "stream",
     "text": [
      "-8 number is negative\n"
     ]
    }
   ],
   "source": [
    "def positive_negative(a):\n",
    "        if a>0:\n",
    "            print(a,\"number is positive\")\n",
    "        elif a==0:\n",
    "            print(a,\"number is zero\")\n",
    "        else:\n",
    "            print(a,\"number is negative\")\n",
    "positive_negative(-8)"
   ]
  },
  {
   "cell_type": "code",
   "execution_count": 6,
   "id": "822d4015",
   "metadata": {},
   "outputs": [
    {
     "name": "stdout",
     "output_type": "stream",
     "text": [
      "2 number is positive\n"
     ]
    }
   ],
   "source": [
    "positive_negative(2)"
   ]
  },
  {
   "cell_type": "code",
   "execution_count": 7,
   "id": "f23d86e0",
   "metadata": {},
   "outputs": [
    {
     "name": "stdout",
     "output_type": "stream",
     "text": [
      "-5 number is negative\n"
     ]
    }
   ],
   "source": [
    "positive_negative(-5)"
   ]
  },
  {
   "cell_type": "code",
   "execution_count": 8,
   "id": "2ed0ff0b",
   "metadata": {},
   "outputs": [
    {
     "name": "stdout",
     "output_type": "stream",
     "text": [
      "0 number is zero\n"
     ]
    }
   ],
   "source": [
    "positive_negative(0)"
   ]
  },
  {
   "cell_type": "code",
   "execution_count": null,
   "id": "645523a6",
   "metadata": {},
   "outputs": [],
   "source": []
  }
 ],
 "metadata": {
  "kernelspec": {
   "display_name": "Python 3 (ipykernel)",
   "language": "python",
   "name": "python3"
  },
  "language_info": {
   "codemirror_mode": {
    "name": "ipython",
    "version": 3
   },
   "file_extension": ".py",
   "mimetype": "text/x-python",
   "name": "python",
   "nbconvert_exporter": "python",
   "pygments_lexer": "ipython3",
   "version": "3.9.12"
  }
 },
 "nbformat": 4,
 "nbformat_minor": 5
}
