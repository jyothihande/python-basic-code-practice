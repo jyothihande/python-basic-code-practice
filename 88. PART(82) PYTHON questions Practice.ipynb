{
 "cells": [
  {
   "cell_type": "code",
   "execution_count": null,
   "id": "7665fa62",
   "metadata": {},
   "outputs": [],
   "source": [
    "--From list list1 get index number a number 10"
   ]
  },
  {
   "cell_type": "code",
   "execution_count": 1,
   "id": "7b81397f",
   "metadata": {},
   "outputs": [],
   "source": [
    "list1=[10,2,3,4,10,6,10,2,3]"
   ]
  },
  {
   "cell_type": "code",
   "execution_count": 2,
   "id": "1a04b48f",
   "metadata": {},
   "outputs": [
    {
     "name": "stdout",
     "output_type": "stream",
     "text": [
      "0 4 6 "
     ]
    }
   ],
   "source": [
    "for i in range(len(list1)):\n",
    "    if list1[i]==10:\n",
    "        print(i,end=\" \")"
   ]
  },
  {
   "cell_type": "code",
   "execution_count": 3,
   "id": "b0cb41d4",
   "metadata": {},
   "outputs": [
    {
     "name": "stdout",
     "output_type": "stream",
     "text": [
      "1\n"
     ]
    }
   ],
   "source": [
    "print(list1.index(2))"
   ]
  },
  {
   "cell_type": "code",
   "execution_count": 4,
   "id": "8a2e79b8",
   "metadata": {},
   "outputs": [
    {
     "name": "stdout",
     "output_type": "stream",
     "text": [
      "7\n"
     ]
    }
   ],
   "source": [
    "# list of items\n",
    "list1 = [1, 2, 3, 4, 1, 1, 1, 4, 5]\n",
    "\n",
    "# Will print index of '4' in sublist\n",
    "# having index from 4 to 8.\n",
    "print(list1.index(4, 4, 8))\n"
   ]
  },
  {
   "cell_type": "code",
   "execution_count": 5,
   "id": "433d2e0b",
   "metadata": {},
   "outputs": [
    {
     "name": "stdout",
     "output_type": "stream",
     "text": [
      "0\n",
      "3\n"
     ]
    }
   ],
   "source": [
    "# initialize a list\n",
    "my_list = [1, 2, 3, 1, 5, 4]\n",
    "\n",
    "# find length of the list\n",
    "list_size = len(my_list)\n",
    "\n",
    "# declare for loop\n",
    "for i in range(list_size):\n",
    "    if(my_list[i] == 1):\n",
    "        print(i)\n"
   ]
  },
  {
   "cell_type": "code",
   "execution_count": null,
   "id": "0b807868",
   "metadata": {},
   "outputs": [],
   "source": [
    "--count number of repeatation in a list."
   ]
  },
  {
   "cell_type": "code",
   "execution_count": 6,
   "id": "d8614deb",
   "metadata": {},
   "outputs": [],
   "source": [
    "list1=[10,2,3,4,10,6,10,2,3]"
   ]
  },
  {
   "cell_type": "code",
   "execution_count": 7,
   "id": "525b387e",
   "metadata": {},
   "outputs": [
    {
     "name": "stdout",
     "output_type": "stream",
     "text": [
      "3 2 2 1 3 1 3 2 2 "
     ]
    }
   ],
   "source": [
    "for i in list1:\n",
    "    print(list1.count(i),end=\" \")"
   ]
  },
  {
   "cell_type": "code",
   "execution_count": 8,
   "id": "c2e92194",
   "metadata": {},
   "outputs": [
    {
     "name": "stdout",
     "output_type": "stream",
     "text": [
      "{10: 3, 2: 2, 3: 2, 4: 1, 6: 1}\n"
     ]
    }
   ],
   "source": [
    "# importing the module\n",
    "import collections\n",
    "\n",
    "# initializing list\n",
    "list1=[10,2,3,4,10,6,10,2,3]\n",
    "\n",
    "# using Counter to find frequency of elements\n",
    "frequency = collections.Counter(list1)\n",
    "\n",
    "# printing the frequency\n",
    "print(dict(frequency))"
   ]
  },
  {
   "cell_type": "code",
   "execution_count": 9,
   "id": "9d66e922",
   "metadata": {},
   "outputs": [
    {
     "name": "stdout",
     "output_type": "stream",
     "text": [
      "{1: 1, 2: 2, 3: 2, 5: 1, 6: 1, 7: 1, 4: 1, 0: 1}\n"
     ]
    }
   ],
   "source": [
    "list_check = [1, 2, 3, 5, 6, 3, 2, 7, 4, 0] \n",
    "count_frequency = {}    \n",
    "for item in list_check:\n",
    "    if item in count_frequency:\n",
    "        count_frequency[item] += 1  \n",
    "    else: \n",
    "        count_frequency[item]  = 1  \n",
    "print(count_frequency) "
   ]
  },
  {
   "cell_type": "code",
   "execution_count": null,
   "id": "f9a6877c",
   "metadata": {},
   "outputs": [],
   "source": [
    "--append elements of l in list2"
   ]
  },
  {
   "cell_type": "code",
   "execution_count": 10,
   "id": "d0b27434",
   "metadata": {},
   "outputs": [],
   "source": [
    "list1=[10,2,3,4,10,6,10,2,3]\n",
    "l=[11,12,13]"
   ]
  },
  {
   "cell_type": "code",
   "execution_count": 11,
   "id": "5365e5f6",
   "metadata": {},
   "outputs": [
    {
     "data": {
      "text/plain": [
       "[10, 2, 3, 4, 10, 6, 10, 2, 3, [11, 12, 13]]"
      ]
     },
     "execution_count": 11,
     "metadata": {},
     "output_type": "execute_result"
    }
   ],
   "source": [
    "list1.append(l)  # l with [] brackets inside list1\n",
    "list1"
   ]
  },
  {
   "cell_type": "code",
   "execution_count": 12,
   "id": "e2ffec70",
   "metadata": {},
   "outputs": [
    {
     "data": {
      "text/plain": [
       "[10, 2, 3, 4, 10, 6, 10, 2, 3, [11, 12, 13], 11, 12, 13]"
      ]
     },
     "execution_count": 12,
     "metadata": {},
     "output_type": "execute_result"
    }
   ],
   "source": [
    "list1.extend(l)  # l without brackets inside list1\n",
    "list1"
   ]
  },
  {
   "cell_type": "code",
   "execution_count": 13,
   "id": "10936cf8",
   "metadata": {},
   "outputs": [
    {
     "data": {
      "text/plain": [
       "[10, 2, 555, 3, 4, 10, 6, 10, 2, 3, [11, 12, 13], 11, 12, 13]"
      ]
     },
     "execution_count": 13,
     "metadata": {},
     "output_type": "execute_result"
    }
   ],
   "source": [
    "list1.insert(2,555)\n",
    "list1"
   ]
  },
  {
   "cell_type": "code",
   "execution_count": null,
   "id": "ea699e69",
   "metadata": {},
   "outputs": [],
   "source": []
  }
 ],
 "metadata": {
  "kernelspec": {
   "display_name": "Python 3 (ipykernel)",
   "language": "python",
   "name": "python3"
  },
  "language_info": {
   "codemirror_mode": {
    "name": "ipython",
    "version": 3
   },
   "file_extension": ".py",
   "mimetype": "text/x-python",
   "name": "python",
   "nbconvert_exporter": "python",
   "pygments_lexer": "ipython3",
   "version": "3.9.12"
  }
 },
 "nbformat": 4,
 "nbformat_minor": 5
}
