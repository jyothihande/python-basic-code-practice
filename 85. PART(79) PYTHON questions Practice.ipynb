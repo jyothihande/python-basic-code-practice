{
 "cells": [
  {
   "cell_type": "markdown",
   "id": "79c2258c",
   "metadata": {},
   "source": [
    "# Q1.Python code Ways to remove numeric digits from given string\n"
   ]
  },
  {
   "cell_type": "code",
   "execution_count": 1,
   "id": "e9d3d7a9",
   "metadata": {},
   "outputs": [
    {
     "name": "stdout",
     "output_type": "stream",
     "text": [
      "initial string :  Heloo123\n",
      "final string :  Heloo\n"
     ]
    }
   ],
   "source": [
    "\n",
    "# initialising string\n",
    "ini_string = \"Heloo123\"\n",
    "\n",
    "# printing initial ini_string\n",
    "print(\"initial string : \", ini_string)\n",
    "\n",
    "# using join and isdigit\n",
    "# to remove numeric digits from string\n",
    "res = ''.join([i for i in ini_string if not i.isdigit()])\n",
    "\n",
    "# printing result\n",
    "print(\"final string : \", res)\n"
   ]
  },
  {
   "cell_type": "markdown",
   "id": "8c0549a9",
   "metadata": {},
   "source": [
    "# Q2.Python Program for Convert characters of a string to opposite case"
   ]
  },
  {
   "cell_type": "code",
   "execution_count": 3,
   "id": "745d9a88",
   "metadata": {},
   "outputs": [
    {
     "name": "stdout",
     "output_type": "stream",
     "text": [
      "hELLOcoders\n"
     ]
    }
   ],
   "source": [
    "str = \"HelloCODERS\"\n",
    "x = \"\"\n",
    "for i in str:\n",
    "    if(i.isupper()):\n",
    "        x += i.lower()\n",
    "    else:\n",
    "        x += i.upper()\n",
    "print(x)\n"
   ]
  },
  {
   "cell_type": "code",
   "execution_count": 4,
   "id": "59c025ae",
   "metadata": {},
   "outputs": [
    {
     "name": "stdout",
     "output_type": "stream",
     "text": [
      "hello CODERS\n"
     ]
    }
   ],
   "source": [
    "\n",
    "str = \"HELLO coders\"\n",
    "\n",
    "print(str.swapcase())\n"
   ]
  },
  {
   "cell_type": "markdown",
   "id": "21c54f65",
   "metadata": {},
   "source": [
    "# Q3.Python Program to Flatten a Nested List using Recursion."
   ]
  },
  {
   "cell_type": "code",
   "execution_count": 6,
   "id": "747c4090",
   "metadata": {},
   "outputs": [
    {
     "name": "stdout",
     "output_type": "stream",
     "text": [
      "Flattened list is:  [1, 2, 3, 4]\n"
     ]
    }
   ],
   "source": [
    "def flatten(S):\n",
    "    if S == []:\n",
    "        return S\n",
    "    if isinstance(S[0], list):\n",
    "        return flatten(S[0]) + flatten(S[1:])\n",
    "    return S[:1] + flatten(S[1:])\n",
    "s=[[1,2],[3,4]]\n",
    "print(\"Flattened list is: \",flatten(s))"
   ]
  },
  {
   "cell_type": "markdown",
   "id": "01e45d3b",
   "metadata": {},
   "source": [
    "# Q4.Python Program to Flatten a List without using Recursion."
   ]
  },
  {
   "cell_type": "code",
   "execution_count": 7,
   "id": "0125edc1",
   "metadata": {},
   "outputs": [
    {
     "name": "stdout",
     "output_type": "stream",
     "text": [
      "[1, 2, 3, 4, 5]\n"
     ]
    }
   ],
   "source": [
    "a=[[1,[[2]],[[[3]]]],[[4],5]]\n",
    "flatten=lambda l: sum(map(flatten,l),[]) if isinstance(l,list) else [l]\n",
    "print(flatten(a))"
   ]
  },
  {
   "cell_type": "code",
   "execution_count": null,
   "id": "1be9fa33",
   "metadata": {},
   "outputs": [],
   "source": []
  }
 ],
 "metadata": {
  "kernelspec": {
   "display_name": "Python 3 (ipykernel)",
   "language": "python",
   "name": "python3"
  },
  "language_info": {
   "codemirror_mode": {
    "name": "ipython",
    "version": 3
   },
   "file_extension": ".py",
   "mimetype": "text/x-python",
   "name": "python",
   "nbconvert_exporter": "python",
   "pygments_lexer": "ipython3",
   "version": "3.9.12"
  }
 },
 "nbformat": 4,
 "nbformat_minor": 5
}
