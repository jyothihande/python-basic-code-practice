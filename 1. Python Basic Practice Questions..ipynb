{
 "cells": [
  {
   "cell_type": "code",
   "execution_count": null,
   "id": "333be259",
   "metadata": {},
   "outputs": [],
   "source": [
    "Ques1. From given string s=\"Hello Coders\" reverse the word \"coders\" and \n",
    "then join the whole string again that is \"Hello sredoC\""
   ]
  },
  {
   "cell_type": "code",
   "execution_count": 1,
   "id": "3541fcb9",
   "metadata": {},
   "outputs": [],
   "source": [
    "s=\"Hello Coders\" # use of indexing and slicing"
   ]
  },
  {
   "cell_type": "code",
   "execution_count": 2,
   "id": "95df118e",
   "metadata": {},
   "outputs": [
    {
     "data": {
      "text/plain": [
       "'Coders'"
      ]
     },
     "execution_count": 2,
     "metadata": {},
     "output_type": "execute_result"
    }
   ],
   "source": [
    "s1=s[6:]\n",
    "s1"
   ]
  },
  {
   "cell_type": "code",
   "execution_count": 3,
   "id": "99f0a04b",
   "metadata": {},
   "outputs": [
    {
     "data": {
      "text/plain": [
       "'Coders'"
      ]
     },
     "execution_count": 3,
     "metadata": {},
     "output_type": "execute_result"
    }
   ],
   "source": [
    "s1[:-1]  # to reverse\n",
    "s1"
   ]
  },
  {
   "cell_type": "code",
   "execution_count": 6,
   "id": "ba155128",
   "metadata": {},
   "outputs": [
    {
     "data": {
      "text/plain": [
       "'Hello '"
      ]
     },
     "execution_count": 6,
     "metadata": {},
     "output_type": "execute_result"
    }
   ],
   "source": [
    "s2=s[:6]  # save it to another string\n",
    "s2"
   ]
  },
  {
   "cell_type": "code",
   "execution_count": 10,
   "id": "99e1969f",
   "metadata": {},
   "outputs": [
    {
     "data": {
      "text/plain": [
       "'Hello Coders'"
      ]
     },
     "execution_count": 10,
     "metadata": {},
     "output_type": "execute_result"
    }
   ],
   "source": [
    "x=s2+s1  # final output\n",
    "x"
   ]
  },
  {
   "cell_type": "code",
   "execution_count": null,
   "id": "c675d330",
   "metadata": {},
   "outputs": [],
   "source": [
    "Ques2. From the given string find the length of \"easy\" s=\"hiii,Python is easy.\""
   ]
  },
  {
   "cell_type": "code",
   "execution_count": 11,
   "id": "e15b57d8",
   "metadata": {},
   "outputs": [],
   "source": [
    "s=\"hiii,Python is easy.\""
   ]
  },
  {
   "cell_type": "code",
   "execution_count": 13,
   "id": "8db77ff8",
   "metadata": {},
   "outputs": [
    {
     "data": {
      "text/plain": [
       "['hiii,Python', 'is', 'easy.']"
      ]
     },
     "execution_count": 13,
     "metadata": {},
     "output_type": "execute_result"
    }
   ],
   "source": [
    "l=s.split()\n",
    "l"
   ]
  },
  {
   "cell_type": "code",
   "execution_count": 16,
   "id": "0bd1cf91",
   "metadata": {},
   "outputs": [
    {
     "data": {
      "text/plain": [
       "'easy.'"
      ]
     },
     "execution_count": 16,
     "metadata": {},
     "output_type": "execute_result"
    }
   ],
   "source": [
    "l[-1]"
   ]
  },
  {
   "cell_type": "code",
   "execution_count": 17,
   "id": "87086919",
   "metadata": {},
   "outputs": [
    {
     "data": {
      "text/plain": [
       "5"
      ]
     },
     "execution_count": 17,
     "metadata": {},
     "output_type": "execute_result"
    }
   ],
   "source": [
    "len(l[-1])   # length of easy is 5."
   ]
  },
  {
   "cell_type": "code",
   "execution_count": null,
   "id": "6b46d2af",
   "metadata": {},
   "outputs": [],
   "source": [
    "Ques3.find out the unique chracters from the given string. "
   ]
  },
  {
   "cell_type": "code",
   "execution_count": 18,
   "id": "d81cee37",
   "metadata": {},
   "outputs": [
    {
     "data": {
      "text/plain": [
       "str"
      ]
     },
     "execution_count": 18,
     "metadata": {},
     "output_type": "execute_result"
    }
   ],
   "source": [
    "s=\"notebook\"\n",
    "type(s)"
   ]
  },
  {
   "cell_type": "code",
   "execution_count": 19,
   "id": "457850c1",
   "metadata": {},
   "outputs": [
    {
     "data": {
      "text/plain": [
       "{'b', 'e', 'k', 'n', 'o', 't'}"
      ]
     },
     "execution_count": 19,
     "metadata": {},
     "output_type": "execute_result"
    }
   ],
   "source": [
    "set(s) # convert string into set to find unique arranged in ascending order"
   ]
  },
  {
   "cell_type": "code",
   "execution_count": null,
   "id": "35fc5e84",
   "metadata": {},
   "outputs": [],
   "source": [
    "Ques4.Make title in the middle with \"*\" symbol beside it and make only first letter captial"
   ]
  },
  {
   "cell_type": "code",
   "execution_count": 33,
   "id": "9a1cb9e4",
   "metadata": {},
   "outputs": [
    {
     "data": {
      "text/plain": [
       "'Python'"
      ]
     },
     "execution_count": 33,
     "metadata": {},
     "output_type": "execute_result"
    }
   ],
   "source": [
    "title=\"PYTHON\"\n",
    "t1=title.capitalize()  # use of string method\n",
    "t1"
   ]
  },
  {
   "cell_type": "code",
   "execution_count": 32,
   "id": "675a454b",
   "metadata": {},
   "outputs": [
    {
     "data": {
      "text/plain": [
       "'*****Python****'"
      ]
     },
     "execution_count": 32,
     "metadata": {},
     "output_type": "execute_result"
    }
   ],
   "source": [
    "t2=t1.center(15,\"*\")\n",
    "t2"
   ]
  },
  {
   "cell_type": "code",
   "execution_count": null,
   "id": "d2b3bd62",
   "metadata": {},
   "outputs": [],
   "source": [
    "Ques5.find the index  of \"7\" from given list and nested list:"
   ]
  },
  {
   "cell_type": "code",
   "execution_count": 34,
   "id": "dad55734",
   "metadata": {},
   "outputs": [],
   "source": [
    "t=[[1, 8, 66], [501,12,[56, 7, 63]], [200, 201, 1]]"
   ]
  },
  {
   "cell_type": "code",
   "execution_count": 35,
   "id": "50c20867",
   "metadata": {},
   "outputs": [
    {
     "data": {
      "text/plain": [
       "[501, 12, [56, 7, 63]]"
      ]
     },
     "execution_count": 35,
     "metadata": {},
     "output_type": "execute_result"
    }
   ],
   "source": [
    "t[1]"
   ]
  },
  {
   "cell_type": "code",
   "execution_count": 37,
   "id": "c579608e",
   "metadata": {},
   "outputs": [
    {
     "data": {
      "text/plain": [
       "[56, 7, 63]"
      ]
     },
     "execution_count": 37,
     "metadata": {},
     "output_type": "execute_result"
    }
   ],
   "source": [
    "t[1][2]"
   ]
  },
  {
   "cell_type": "code",
   "execution_count": 38,
   "id": "26469720",
   "metadata": {},
   "outputs": [
    {
     "data": {
      "text/plain": [
       "7"
      ]
     },
     "execution_count": 38,
     "metadata": {},
     "output_type": "execute_result"
    }
   ],
   "source": [
    "t[1][2][1]  # index of 7 "
   ]
  },
  {
   "cell_type": "code",
   "execution_count": null,
   "id": "b9b5dc43",
   "metadata": {},
   "outputs": [],
   "source": [
    "Ques6.By using if else make two list of positive and negative numbers"
   ]
  },
  {
   "cell_type": "code",
   "execution_count": 83,
   "id": "736c8914",
   "metadata": {},
   "outputs": [],
   "source": [
    "positive_numbers=[]\n",
    "negative_numbers=[]"
   ]
  },
  {
   "cell_type": "code",
   "execution_count": 92,
   "id": "31af2f76",
   "metadata": {},
   "outputs": [
    {
     "name": "stdout",
     "output_type": "stream",
     "text": [
      "ENTER a number = -36\n",
      "Number is negative\n"
     ]
    }
   ],
   "source": [
    "a=int(input(\"ENTER a number = \"))\n",
    "if a>0:\n",
    "    positive_numbers.append(a)\n",
    "    print(\"Number is positive\")\n",
    "elif a==0:\n",
    "    print(\"Number is Zero\")\n",
    "else:\n",
    "    negative_numbers.append(a)\n",
    "    print(\"Number is negative\")"
   ]
  },
  {
   "cell_type": "code",
   "execution_count": 88,
   "id": "a9744558",
   "metadata": {},
   "outputs": [
    {
     "data": {
      "text/plain": [
       "[518, 87]"
      ]
     },
     "execution_count": 88,
     "metadata": {},
     "output_type": "execute_result"
    }
   ],
   "source": [
    "positive_numbers"
   ]
  },
  {
   "cell_type": "code",
   "execution_count": 93,
   "id": "8ec17a15",
   "metadata": {},
   "outputs": [
    {
     "data": {
      "text/plain": [
       "[-96, -36]"
      ]
     },
     "execution_count": 93,
     "metadata": {},
     "output_type": "execute_result"
    }
   ],
   "source": [
    "negative_numbers"
   ]
  },
  {
   "cell_type": "code",
   "execution_count": null,
   "id": "0d4a7faf",
   "metadata": {},
   "outputs": [],
   "source": [
    "Ques7.make a list of even and odd numbers."
   ]
  },
  {
   "cell_type": "code",
   "execution_count": 1,
   "id": "66e58d98",
   "metadata": {},
   "outputs": [],
   "source": [
    "even=[]\n",
    "odd=[]"
   ]
  },
  {
   "cell_type": "code",
   "execution_count": 9,
   "id": "4e8875f7",
   "metadata": {},
   "outputs": [
    {
     "name": "stdout",
     "output_type": "stream",
     "text": [
      "enter a number =21213\n",
      "Number is odd\n"
     ]
    }
   ],
   "source": [
    "a=int(input(\"enter a number =\"))\n",
    "if a%2==0:\n",
    "    print(\"Number is even\")\n",
    "    even.append(a)\n",
    "else:\n",
    "    print(\"Number is odd\")\n",
    "    odd.append(a)"
   ]
  },
  {
   "cell_type": "code",
   "execution_count": 10,
   "id": "7deff522",
   "metadata": {},
   "outputs": [
    {
     "data": {
      "text/plain": [
       "[5843, 21213]"
      ]
     },
     "execution_count": 10,
     "metadata": {},
     "output_type": "execute_result"
    }
   ],
   "source": [
    "odd"
   ]
  },
  {
   "cell_type": "code",
   "execution_count": 6,
   "id": "6feb4396",
   "metadata": {},
   "outputs": [
    {
     "data": {
      "text/plain": [
       "[52, 58]"
      ]
     },
     "execution_count": 6,
     "metadata": {},
     "output_type": "execute_result"
    }
   ],
   "source": [
    "even"
   ]
  },
  {
   "cell_type": "code",
   "execution_count": null,
   "id": "77121fba",
   "metadata": {},
   "outputs": [],
   "source": [
    "Ques8.Varify wether enter age is correct or out of range:"
   ]
  },
  {
   "cell_type": "code",
   "execution_count": 12,
   "id": "b469aa1a",
   "metadata": {},
   "outputs": [
    {
     "name": "stdout",
     "output_type": "stream",
     "text": [
      "Enter Your Age =582\n",
      "PLEASE ENTER CORRECT AGE\n"
     ]
    }
   ],
   "source": [
    "age=input(\"Enter Your Age =\")\n",
    "if len(age)==1 or len(age)==2:\n",
    "    print(\"Age verified\")\n",
    "else:\n",
    "    print(\"PLEASE ENTER CORRECT AGE\")"
   ]
  },
  {
   "cell_type": "code",
   "execution_count": null,
   "id": "573c1543",
   "metadata": {},
   "outputs": [],
   "source": [
    "Ques9.Write code for factorial using for loop:"
   ]
  },
  {
   "cell_type": "code",
   "execution_count": 14,
   "id": "a51a8a46",
   "metadata": {},
   "outputs": [
    {
     "name": "stdout",
     "output_type": "stream",
     "text": [
      "enter the number for factorial: 5\n",
      "120\n"
     ]
    }
   ],
   "source": [
    "e=int(input(\"enter the number for factorial: \"))\n",
    "fact=1\n",
    "\n",
    "for i in range(1,e+1):\n",
    "    fact=fact*i\n",
    "print(fact)"
   ]
  },
  {
   "cell_type": "code",
   "execution_count": null,
   "id": "f49bfedc",
   "metadata": {},
   "outputs": [],
   "source": [
    "Ques10. get output only  uppercase from string."
   ]
  },
  {
   "cell_type": "code",
   "execution_count": 29,
   "id": "d37eaa9e",
   "metadata": {},
   "outputs": [],
   "source": [
    "s=\"HaPPYBirthDAY\""
   ]
  },
  {
   "cell_type": "code",
   "execution_count": 32,
   "id": "04febf43",
   "metadata": {},
   "outputs": [
    {
     "name": "stdout",
     "output_type": "stream",
     "text": [
      "H P P Y B D A Y "
     ]
    }
   ],
   "source": [
    "for i in s:\n",
    "    if i.isupper()==True:\n",
    "        print(i,end=\" \")"
   ]
  },
  {
   "cell_type": "code",
   "execution_count": null,
   "id": "d13b57af",
   "metadata": {},
   "outputs": [],
   "source": []
  }
 ],
 "metadata": {
  "kernelspec": {
   "display_name": "Python 3 (ipykernel)",
   "language": "python",
   "name": "python3"
  },
  "language_info": {
   "codemirror_mode": {
    "name": "ipython",
    "version": 3
   },
   "file_extension": ".py",
   "mimetype": "text/x-python",
   "name": "python",
   "nbconvert_exporter": "python",
   "pygments_lexer": "ipython3",
   "version": "3.9.12"
  }
 },
 "nbformat": 4,
 "nbformat_minor": 5
}
