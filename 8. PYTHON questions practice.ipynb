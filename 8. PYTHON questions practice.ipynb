{
 "cells": [
  {
   "cell_type": "markdown",
   "id": "05ece6cf",
   "metadata": {},
   "source": [
    "# 1. Create a list of squared integers from a given list of integers:"
   ]
  },
  {
   "cell_type": "code",
   "execution_count": 1,
   "id": "633673fb",
   "metadata": {},
   "outputs": [],
   "source": [
    "l=[1,2,3]"
   ]
  },
  {
   "cell_type": "code",
   "execution_count": 2,
   "id": "6c6d8768",
   "metadata": {},
   "outputs": [
    {
     "data": {
      "text/plain": [
       "3"
      ]
     },
     "execution_count": 2,
     "metadata": {},
     "output_type": "execute_result"
    }
   ],
   "source": [
    "l[2]"
   ]
  },
  {
   "cell_type": "code",
   "execution_count": 3,
   "id": "cfcee9a2",
   "metadata": {},
   "outputs": [
    {
     "data": {
      "text/plain": [
       "9"
      ]
     },
     "execution_count": 3,
     "metadata": {},
     "output_type": "execute_result"
    }
   ],
   "source": [
    "l[2]**2"
   ]
  },
  {
   "cell_type": "code",
   "execution_count": 4,
   "id": "065ac802",
   "metadata": {},
   "outputs": [
    {
     "name": "stdout",
     "output_type": "stream",
     "text": [
      "[1, 4, 9]\n"
     ]
    }
   ],
   "source": [
    "l=[1,2,3]\n",
    "l1=[]\n",
    "for i in l:\n",
    "    i = (i**2)\n",
    "    l1.append(i)\n",
    "print(l1)"
   ]
  },
  {
   "cell_type": "code",
   "execution_count": 5,
   "id": "93b6fb89",
   "metadata": {},
   "outputs": [
    {
     "data": {
      "text/plain": [
       "[1, 4, 9]"
      ]
     },
     "execution_count": 5,
     "metadata": {},
     "output_type": "execute_result"
    }
   ],
   "source": [
    "l1  # where l[2]**2 = 9"
   ]
  },
  {
   "cell_type": "markdown",
   "id": "6f4ab5be",
   "metadata": {},
   "source": [
    "# 2. Create a list of even numbers from a given list of integers."
   ]
  },
  {
   "cell_type": "code",
   "execution_count": 6,
   "id": "61356a58",
   "metadata": {},
   "outputs": [
    {
     "name": "stdout",
     "output_type": "stream",
     "text": [
      "[44, 18, 538]\n"
     ]
    }
   ],
   "source": [
    "l=[1,25,44,18,538,91] # list of integers\n",
    "l1=[]  # list of even numbers \n",
    "for i in l:\n",
    "    if i%2==0:\n",
    "        l1.append(i)\n",
    "print(l1)"
   ]
  },
  {
   "cell_type": "code",
   "execution_count": 7,
   "id": "b61ff426",
   "metadata": {},
   "outputs": [
    {
     "data": {
      "text/plain": [
       "[44, 18, 538]"
      ]
     },
     "execution_count": 7,
     "metadata": {},
     "output_type": "execute_result"
    }
   ],
   "source": [
    "l1  # list of even numbers"
   ]
  },
  {
   "cell_type": "markdown",
   "id": "5395a738",
   "metadata": {},
   "source": [
    "# 3. Create a list of vowels from a given string."
   ]
  },
  {
   "cell_type": "code",
   "execution_count": 8,
   "id": "1a3318da",
   "metadata": {},
   "outputs": [],
   "source": [
    "string=\"Hello India...\"\n",
    "s1=[] # vowels are a , e,i,o,u"
   ]
  },
  {
   "cell_type": "code",
   "execution_count": 9,
   "id": "18a784fa",
   "metadata": {},
   "outputs": [
    {
     "name": "stdout",
     "output_type": "stream",
     "text": [
      "['e', 'o', 'i', 'a'] are the vowels in a given string.\n"
     ]
    }
   ],
   "source": [
    "for i in string:\n",
    "    if i=='a' or i=='e'or i=='i'or i=='o' or i=='u':\n",
    "        s1.append(i)\n",
    "print(s1,\"are the vowels in a given string.\")       "
   ]
  },
  {
   "cell_type": "code",
   "execution_count": 10,
   "id": "24944f21",
   "metadata": {},
   "outputs": [
    {
     "data": {
      "text/plain": [
       "['e', 'o', 'i', 'a']"
      ]
     },
     "execution_count": 10,
     "metadata": {},
     "output_type": "execute_result"
    }
   ],
   "source": [
    "s1"
   ]
  },
  {
   "cell_type": "markdown",
   "id": "1753d901",
   "metadata": {},
   "source": [
    "# 4. Create a list of all the words in a given sentence."
   ]
  },
  {
   "cell_type": "code",
   "execution_count": 11,
   "id": "4cecf346",
   "metadata": {},
   "outputs": [],
   "source": [
    "sentence=\"Hello...coders! you all are Welcome.\""
   ]
  },
  {
   "cell_type": "code",
   "execution_count": 12,
   "id": "d2c5bd32",
   "metadata": {},
   "outputs": [],
   "source": [
    "s1=sentence.split()"
   ]
  },
  {
   "cell_type": "code",
   "execution_count": 13,
   "id": "55cd18b2",
   "metadata": {},
   "outputs": [
    {
     "data": {
      "text/plain": [
       "['Hello...coders!', 'you', 'all', 'are', 'Welcome.']"
      ]
     },
     "execution_count": 13,
     "metadata": {},
     "output_type": "execute_result"
    }
   ],
   "source": [
    "s1"
   ]
  },
  {
   "cell_type": "code",
   "execution_count": 14,
   "id": "51e7f23c",
   "metadata": {},
   "outputs": [
    {
     "data": {
      "text/plain": [
       "list"
      ]
     },
     "execution_count": 14,
     "metadata": {},
     "output_type": "execute_result"
    }
   ],
   "source": [
    "type(s1)"
   ]
  },
  {
   "cell_type": "markdown",
   "id": "e6ae4c88",
   "metadata": {},
   "source": [
    "# 5. Create a list of all the positive numbers from a given list of integers."
   ]
  },
  {
   "cell_type": "code",
   "execution_count": 15,
   "id": "956416f9",
   "metadata": {},
   "outputs": [
    {
     "name": "stdout",
     "output_type": "stream",
     "text": [
      "[25, 18, 91]\n"
     ]
    }
   ],
   "source": [
    "l=[-1,25,-44,18,-538,91,0] # list of integers\n",
    "l1=[]  # list of positive numbers \n",
    "for i in l:\n",
    "    if i>0:\n",
    "        l1.append(i)\n",
    "print(l1)"
   ]
  },
  {
   "cell_type": "code",
   "execution_count": 16,
   "id": "1bcae89d",
   "metadata": {},
   "outputs": [
    {
     "data": {
      "text/plain": [
       "[25, 18, 91]"
      ]
     },
     "execution_count": 16,
     "metadata": {},
     "output_type": "execute_result"
    }
   ],
   "source": [
    "l1 # list of all positive numbers"
   ]
  },
  {
   "cell_type": "markdown",
   "id": "7203a6fa",
   "metadata": {},
   "source": [
    "# 6. Create a list of all the uppercase characters from a given string."
   ]
  },
  {
   "cell_type": "code",
   "execution_count": 17,
   "id": "0f3bc89f",
   "metadata": {},
   "outputs": [
    {
     "name": "stdout",
     "output_type": "stream",
     "text": [
      "['L', 'E', 'P', 'D', 'S']\n"
     ]
    }
   ],
   "source": [
    "string=\"LEarn Python Data Science\"\n",
    "s1=[]\n",
    "for i in string:\n",
    "    if i.isupper()==True:\n",
    "        s1.append(i)  \n",
    "print(s1)"
   ]
  },
  {
   "cell_type": "code",
   "execution_count": null,
   "id": "72e0c2f3",
   "metadata": {},
   "outputs": [],
   "source": []
  }
 ],
 "metadata": {
  "kernelspec": {
   "display_name": "Python 3 (ipykernel)",
   "language": "python",
   "name": "python3"
  },
  "language_info": {
   "codemirror_mode": {
    "name": "ipython",
    "version": 3
   },
   "file_extension": ".py",
   "mimetype": "text/x-python",
   "name": "python",
   "nbconvert_exporter": "python",
   "pygments_lexer": "ipython3",
   "version": "3.9.12"
  }
 },
 "nbformat": 4,
 "nbformat_minor": 5
}
