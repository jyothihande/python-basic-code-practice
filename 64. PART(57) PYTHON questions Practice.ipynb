{
 "cells": [
  {
   "cell_type": "markdown",
   "id": "8512d355",
   "metadata": {},
   "source": [
    "# Q1.Python Program to Print First 10 Natural Numbers in Reverse."
   ]
  },
  {
   "cell_type": "code",
   "execution_count": 1,
   "id": "9a29384d",
   "metadata": {},
   "outputs": [
    {
     "name": "stdout",
     "output_type": "stream",
     "text": [
      "The First 10 Natural Numbers in Reverse\n",
      "10\n",
      "9\n",
      "8\n",
      "7\n",
      "6\n",
      "5\n",
      "4\n",
      "3\n",
      "2\n",
      "1\n"
     ]
    }
   ],
   "source": [
    "print(\"The First 10 Natural Numbers in Reverse\")\n",
    "\n",
    "for i in range(10, 0, -1):\n",
    "    print(i)"
   ]
  },
  {
   "cell_type": "code",
   "execution_count": 3,
   "id": "037f49cc",
   "metadata": {},
   "outputs": [
    {
     "name": "stdout",
     "output_type": "stream",
     "text": [
      "The reversed numbers are : 10 9 8 7 6 5 4 3 2 1 0 "
     ]
    }
   ],
   "source": [
    "\n",
    "# Initializing number from which\n",
    "# iteration begins\n",
    "N = 10\n",
    "\n",
    "# using reversed() to perform the back iteration\n",
    "print (\"The reversed numbers are : \", end = \"\")\n",
    "for num in reversed(range(N + 1)) :\n",
    "    print(num, end = \" \")\n"
   ]
  },
  {
   "cell_type": "markdown",
   "id": "3b24fd7b",
   "metadata": {},
   "source": [
    "# Q2.Create a loop that counts all even numbers to 10."
   ]
  },
  {
   "cell_type": "code",
   "execution_count": 6,
   "id": "732b54d9",
   "metadata": {},
   "outputs": [
    {
     "name": "stdout",
     "output_type": "stream",
     "text": [
      "0 2 4 6 8 10 "
     ]
    }
   ],
   "source": [
    "for even_numbers in range(0,11,2):\n",
    "#here inside range function first no denotes starting,\n",
    "#second denotes end and\n",
    "#third denotes the interval\n",
    "   print(even_numbers,end=' ')\n"
   ]
  },
  {
   "cell_type": "markdown",
   "id": "78d59c7d",
   "metadata": {},
   "source": [
    "# Q3.Python Program to Check If Two Numbers are Amicable Numbers or Not."
   ]
  },
  {
   "cell_type": "code",
   "execution_count": 7,
   "id": "9bc8e40a",
   "metadata": {},
   "outputs": [
    {
     "name": "stdout",
     "output_type": "stream",
     "text": [
      "Enter number 1: 1\n",
      "Enter number 2: 2\n",
      "Not Amicable!\n"
     ]
    }
   ],
   "source": [
    "x=int(input('Enter number 1: '))\n",
    "y=int(input('Enter number 2: '))\n",
    "sum1=0\n",
    "sum2=0\n",
    "for i in range(1,x):\n",
    "    if x%i==0:\n",
    "        sum1+=i\n",
    "for j in range(1,y):\n",
    "    if y%j==0:\n",
    "        sum2+=j\n",
    "if(sum1==y and sum2==x):\n",
    "    print('Amicable!')\n",
    "else:\n",
    "    print('Not Amicable!')"
   ]
  },
  {
   "cell_type": "markdown",
   "id": "cad982e9",
   "metadata": {},
   "source": [
    "# Q4.Python Program to Find the Factorial of a Number Without Recursion."
   ]
  },
  {
   "cell_type": "code",
   "execution_count": 8,
   "id": "d8c6b730",
   "metadata": {},
   "outputs": [
    {
     "name": "stdout",
     "output_type": "stream",
     "text": [
      "Enter number:5\n",
      "Factorial of the number is: \n",
      "120\n"
     ]
    }
   ],
   "source": [
    "n=int(input(\"Enter number:\"))\n",
    "fact=1\n",
    "while(n>0):\n",
    "    fact=fact*n\n",
    "    n=n-1\n",
    "print(\"Factorial of the number is: \")\n",
    "print(fact)"
   ]
  },
  {
   "cell_type": "markdown",
   "id": "b24ba2a0",
   "metadata": {},
   "source": [
    "# Q5.Factorial in Python using Recursion."
   ]
  },
  {
   "cell_type": "code",
   "execution_count": 9,
   "id": "3a21292a",
   "metadata": {},
   "outputs": [
    {
     "name": "stdout",
     "output_type": "stream",
     "text": [
      "Enter number:5\n",
      "Factorial of a Number is:\n",
      "120\n"
     ]
    }
   ],
   "source": [
    " def factorial(n):\n",
    "    if(n <= 1):\n",
    "        return 1\n",
    "    else:\n",
    "        return(n*factorial(n-1))\n",
    "n = int(input(\"Enter number:\"))\n",
    "print(\"Factorial of a Number is:\")\n",
    "print(factorial(n))"
   ]
  },
  {
   "cell_type": "code",
   "execution_count": null,
   "id": "6f01e9cb",
   "metadata": {},
   "outputs": [],
   "source": []
  }
 ],
 "metadata": {
  "kernelspec": {
   "display_name": "Python 3 (ipykernel)",
   "language": "python",
   "name": "python3"
  },
  "language_info": {
   "codemirror_mode": {
    "name": "ipython",
    "version": 3
   },
   "file_extension": ".py",
   "mimetype": "text/x-python",
   "name": "python",
   "nbconvert_exporter": "python",
   "pygments_lexer": "ipython3",
   "version": "3.9.12"
  }
 },
 "nbformat": 4,
 "nbformat_minor": 5
}
