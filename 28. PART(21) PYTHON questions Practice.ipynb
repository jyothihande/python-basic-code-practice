{
 "cells": [
  {
   "cell_type": "markdown",
   "id": "182eddf1",
   "metadata": {},
   "source": [
    "# Q1.Python Program to Print Star, Pyramid, Number Patterns."
   ]
  },
  {
   "cell_type": "markdown",
   "id": "541c1aeb",
   "metadata": {},
   "source": [
    "# -- Print Pyramid Pattern of Stars (*)"
   ]
  },
  {
   "cell_type": "code",
   "execution_count": 14,
   "id": "c6b22f3f",
   "metadata": {},
   "outputs": [
    {
     "name": "stdout",
     "output_type": "stream",
     "text": [
      "Half Pyramid Pattern of Stars (*):\n",
      "* \n",
      "* * \n",
      "* * * \n",
      "* * * * \n",
      "* * * * * \n"
     ]
    }
   ],
   "source": [
    "print(\"Half Pyramid Pattern of Stars (*):\")\n",
    "for i in range(5):\n",
    "    for j in range(i+1):\n",
    "        print(\"* \", end=\"\")\n",
    "    print()"
   ]
  },
  {
   "cell_type": "code",
   "execution_count": 10,
   "id": "8ec17838",
   "metadata": {},
   "outputs": [
    {
     "name": "stdout",
     "output_type": "stream",
     "text": [
      "0 1 2 3 4 "
     ]
    }
   ],
   "source": [
    "for i in range(5):\n",
    "    print(i,end=\"\")"
   ]
  },
  {
   "cell_type": "code",
   "execution_count": 11,
   "id": "c852dce8",
   "metadata": {},
   "outputs": [
    {
     "name": "stdout",
     "output_type": "stream",
     "text": [
      "Inverted Half Pyramid of Stars (*):\n",
      "* * * * * \n",
      "* * * * \n",
      "* * * \n",
      "* * \n",
      "* \n"
     ]
    }
   ],
   "source": [
    "print(\"Inverted Half Pyramid of Stars (*):\")\n",
    "for i in range(5):\n",
    "    for j in range(i, 5):\n",
    "        print(\"* \", end=\"\")\n",
    "    print()"
   ]
  },
  {
   "cell_type": "code",
   "execution_count": 12,
   "id": "42ff70d8",
   "metadata": {},
   "outputs": [
    {
     "name": "stdout",
     "output_type": "stream",
     "text": [
      "Full Pyramid Pattern of Stars (*): \n",
      "      * \n",
      "     * * \n",
      "    * * * \n",
      "   * * * * \n",
      "  * * * * * \n"
     ]
    }
   ],
   "source": [
    "print(\"Full Pyramid Pattern of Stars (*): \")\n",
    "for i in range(5):\n",
    "    for s in range(-6, -i):\n",
    "        print(\" \", end=\"\")\n",
    "    for j in range(i+1):\n",
    "        print(\"* \", end=\"\")\n",
    "    print()"
   ]
  },
  {
   "cell_type": "code",
   "execution_count": 15,
   "id": "6d5bebc8",
   "metadata": {},
   "outputs": [
    {
     "name": "stdout",
     "output_type": "stream",
     "text": [
      "Inverted Full Pyramid of Stars (*): \n",
      "* * * * * \n",
      " * * * * \n",
      "  * * * \n",
      "   * * \n",
      "    * \n"
     ]
    }
   ],
   "source": [
    "print(\"Inverted Full Pyramid of Stars (*): \")\n",
    "for i in range(5):\n",
    "    for s in range(i):\n",
    "        print(\" \", end=\"\")\n",
    "    for j in range(i, 5):\n",
    "        print(\"* \", end=\"\")\n",
    "    print()"
   ]
  },
  {
   "cell_type": "markdown",
   "id": "2a89bbe0",
   "metadata": {},
   "source": [
    "# Q2.Python Program to Print Floyd's Triangle."
   ]
  },
  {
   "cell_type": "code",
   "execution_count": null,
   "id": "593da6d6",
   "metadata": {},
   "outputs": [],
   "source": [
    " A Floyd's triangle is a right-angled triangle formed with natural numbers."
   ]
  },
  {
   "cell_type": "code",
   "execution_count": 18,
   "id": "5aa3bfd5",
   "metadata": {},
   "outputs": [
    {
     "name": "stdout",
     "output_type": "stream",
     "text": [
      "1 \n",
      "2 3 \n",
      "4 5 6 \n",
      "7 8 9 10 \n",
      "11 12 13 14 15 \n",
      "16 17 18 19 20 21 \n",
      "22 23 24 25 26 27 28 \n"
     ]
    }
   ],
   "source": [
    "num = 1\n",
    "for i in range(7):\n",
    "    for j in range(i+1):\n",
    "        print(num, end=\" \")\n",
    "        num = num+1\n",
    "    print()"
   ]
  },
  {
   "cell_type": "markdown",
   "id": "e7d7c8b5",
   "metadata": {},
   "source": [
    "# Q3.Python Program to Find Factorial of a Number"
   ]
  },
  {
   "cell_type": "code",
   "execution_count": null,
   "id": "9150899c",
   "metadata": {},
   "outputs": [],
   "source": [
    "5! = 5*4*3*2*1\n",
    "   = 120"
   ]
  },
  {
   "cell_type": "code",
   "execution_count": 31,
   "id": "b6cd0c54",
   "metadata": {},
   "outputs": [
    {
     "data": {
      "text/plain": [
       "24"
      ]
     },
     "execution_count": 31,
     "metadata": {},
     "output_type": "execute_result"
    }
   ],
   "source": [
    "import math\n",
    "math.factorial(4)"
   ]
  },
  {
   "cell_type": "code",
   "execution_count": 34,
   "id": "f7497628",
   "metadata": {},
   "outputs": [
    {
     "name": "stdout",
     "output_type": "stream",
     "text": [
      "Enter the number whose factorial you want to find: 3\n",
      "The factorial of the number is: \n",
      "6\n"
     ]
    }
   ],
   "source": [
    "import math\n",
    "n=int(input(\"Enter the number whose factorial you want to find: \"))\n",
    "print (\"The factorial of the number is: \")\n",
    "print (math.factorial(3))"
   ]
  },
  {
   "cell_type": "code",
   "execution_count": 35,
   "id": "01bba513",
   "metadata": {},
   "outputs": [
    {
     "name": "stdout",
     "output_type": "stream",
     "text": [
      "Enter a number: 5\n",
      "Factorial of the given number is:  120\n"
     ]
    }
   ],
   "source": [
    "n=int(input(\"Enter a number: \"))\n",
    "factorial = 1\n",
    "if n >= 1:\n",
    "    for i in range (1, n+1):\n",
    "        factorial = factorial*i\n",
    "print (\"Factorial of the given number is: \", factorial)"
   ]
  },
  {
   "cell_type": "markdown",
   "id": "335a4987",
   "metadata": {},
   "source": [
    "# Q4.Python Program to Find Factors of a Number."
   ]
  },
  {
   "cell_type": "code",
   "execution_count": 36,
   "id": "8825e42f",
   "metadata": {},
   "outputs": [
    {
     "name": "stdout",
     "output_type": "stream",
     "text": [
      "enter a number10\n",
      "Factors of 10 = [1, 2, 5, 10]\n"
     ]
    }
   ],
   "source": [
    "num=int(input(\"enter a number\"))\n",
    "factors=[]\n",
    "for i in range(1,num+1):\n",
    "    if num%i==0:\n",
    "        factors.append(i)\n",
    "\n",
    "print (\"Factors of {} = {}\".format(num,factors))"
   ]
  },
  {
   "cell_type": "markdown",
   "id": "5ff76f39",
   "metadata": {},
   "source": [
    "# Q5.Python Program to Check Prime Number."
   ]
  },
  {
   "cell_type": "code",
   "execution_count": 40,
   "id": "33b4241b",
   "metadata": {},
   "outputs": [
    {
     "name": "stdout",
     "output_type": "stream",
     "text": [
      "11 is a prime number\n"
     ]
    }
   ],
   "source": [
    "num = 11\n",
    "# If given number is greater than 1\n",
    "if num > 1:\n",
    "    # Iterate from 2 to n / 2\n",
    "    for i in range(2, int(num/2)+1):\n",
    "        # If num is divisible by any number between\n",
    "        # 2 and n / 2, it is not prime\n",
    "        if (num % i) == 0:\n",
    "            print(num, \"is not a prime number\")\n",
    "            break\n",
    "        else:\n",
    "            print(num, \"is a prime number\")\n",
    "            break\n",
    "else:\n",
    "    print(num, \"is not a prime number\")\n"
   ]
  },
  {
   "cell_type": "code",
   "execution_count": null,
   "id": "a88bfac4",
   "metadata": {},
   "outputs": [],
   "source": []
  }
 ],
 "metadata": {
  "kernelspec": {
   "display_name": "Python 3 (ipykernel)",
   "language": "python",
   "name": "python3"
  },
  "language_info": {
   "codemirror_mode": {
    "name": "ipython",
    "version": 3
   },
   "file_extension": ".py",
   "mimetype": "text/x-python",
   "name": "python",
   "nbconvert_exporter": "python",
   "pygments_lexer": "ipython3",
   "version": "3.9.12"
  }
 },
 "nbformat": 4,
 "nbformat_minor": 5
}
