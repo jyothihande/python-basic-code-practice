{
 "cells": [
  {
   "cell_type": "markdown",
   "id": "4648f688",
   "metadata": {},
   "source": [
    "# Q1.Python Program to Create a Class which Performs Basic Calculator Operations."
   ]
  },
  {
   "cell_type": "code",
   "execution_count": 1,
   "id": "df5b6802",
   "metadata": {},
   "outputs": [
    {
     "name": "stdout",
     "output_type": "stream",
     "text": [
      "Enter first number: 4\n",
      "Enter second number: 5\n",
      "0. Exit\n",
      "1. Add\n",
      "2. Subtraction\n",
      "3. Multiplication\n",
      "4. Division\n",
      "Enter choice: 3\n",
      "Result:  20\n"
     ]
    }
   ],
   "source": [
    "class cal():\n",
    "    def __init__(self,a,b):\n",
    "        self.a=a\n",
    "        self.b=b\n",
    "    def add(self):\n",
    "        return self.a+self.b\n",
    "    def mul(self):\n",
    "        return self.a*self.b\n",
    "    def div(self):\n",
    "        return self.a/self.b\n",
    "    def sub(self):\n",
    "        return self.a-self.b\n",
    "a=int(input(\"Enter first number: \"))\n",
    "b=int(input(\"Enter second number: \"))\n",
    "obj=cal(a,b)\n",
    "choice=1\n",
    "while choice!=0:\n",
    "    print(\"0. Exit\")\n",
    "    print(\"1. Add\")\n",
    "    print(\"2. Subtraction\")\n",
    "    print(\"3. Multiplication\")\n",
    "    print(\"4. Division\")\n",
    "    choice=int(input(\"Enter choice: \"))\n",
    "    if choice==1:\n",
    "        print(\"Result: \",obj.add())\n",
    "    elif choice==2:\n",
    "        print(\"Result: \",obj.sub())\n",
    "    elif choice==3:\n",
    "        print(\"Result: \",obj.mul())\n",
    "    elif choice==4:\n",
    "        print(\"Result: \",round(obj.div(),2))\n",
    "    elif choice==0:\n",
    "        print(\"Exiting!\")\n",
    "    else:\n",
    "        print(\"Invalid choice!!\")\n",
    "    break"
   ]
  },
  {
   "cell_type": "markdown",
   "id": "39ebca1d",
   "metadata": {},
   "source": [
    "# Q2.Python Program to Swap Two Numbers without using Third Variable."
   ]
  },
  {
   "cell_type": "code",
   "execution_count": 2,
   "id": "2f2f00fb",
   "metadata": {},
   "outputs": [
    {
     "name": "stdout",
     "output_type": "stream",
     "text": [
      "Enter value of first variable: 5\n",
      "Enter value of second variable: 4\n",
      "a is: 4  b is: 5\n"
     ]
    }
   ],
   "source": [
    "a=int(input(\"Enter value of first variable: \"))\n",
    "b=int(input(\"Enter value of second variable: \"))\n",
    "a=a+b\n",
    "b=a-b\n",
    "a=a-b\n",
    "print(\"a is:\",a,\" b is:\",b)"
   ]
  },
  {
   "cell_type": "markdown",
   "id": "ebc2f5f8",
   "metadata": {},
   "source": [
    "# Q3.Python Program to Print Sum of Negative Numbers,Positive Even Numbers and Positive Odd numbers in a List"
   ]
  },
  {
   "cell_type": "code",
   "execution_count": 4,
   "id": "ded7402f",
   "metadata": {},
   "outputs": [
    {
     "name": "stdout",
     "output_type": "stream",
     "text": [
      "Enter the number of elements to be in the list:5\n",
      "Element: -2\n",
      "Element: -5\n",
      "Element: -7\n",
      "Element: 3\n",
      "Element: 4\n",
      "Sum of all positive even numbers: 4\n",
      "Sum of all positive odd numbers: 3\n",
      "Sum of all negative numbers: -14\n"
     ]
    }
   ],
   "source": [
    "n=int(input(\"Enter the number of elements to be in the list:\"))\n",
    "b=[]\n",
    "for i in range(0,n):\n",
    "    a=int(input(\"Element: \"))\n",
    "    b.append(a)\n",
    "sum1=0\n",
    "sum2=0\n",
    "sum3=0\n",
    "for j in b:\n",
    "    if(j>0):\n",
    "        if(j%2==0):\n",
    "            sum1=sum1+j\n",
    "        else:\n",
    "            sum2=sum2+j\n",
    "    else:\n",
    "        sum3=sum3+j\n",
    "print(\"Sum of all positive even numbers:\",sum1)\n",
    "print(\"Sum of all positive odd numbers:\",sum2)\n",
    "print(\"Sum of all negative numbers:\",sum3)"
   ]
  },
  {
   "cell_type": "markdown",
   "id": "580ffc27",
   "metadata": {},
   "source": [
    "# Q4.Python Program to Remove Duplicates from a List."
   ]
  },
  {
   "cell_type": "code",
   "execution_count": 5,
   "id": "ac8cdff8",
   "metadata": {},
   "outputs": [
    {
     "name": "stdout",
     "output_type": "stream",
     "text": [
      "Enter the number of elements in list:4\n",
      "Enter element1:14\n",
      "Enter element2:51\n",
      "Enter element3:24\n",
      "Enter element4:78\n",
      "Non-duplicate items:\n",
      "[14, 51, 24, 78]\n"
     ]
    }
   ],
   "source": [
    "a=[]\n",
    "n= int(input(\"Enter the number of elements in list:\"))\n",
    "for x in range(0,n):\n",
    "    element=int(input(\"Enter element\" + str(x+1) + \":\"))\n",
    "    a.append(element)\n",
    "b = set()\n",
    "unique = []\n",
    "for x in a:\n",
    "    if x not in b:\n",
    "        unique.append(x)\n",
    "        b.add(x)\n",
    "print(\"Non-duplicate items:\")\n",
    "print(unique)"
   ]
  },
  {
   "cell_type": "code",
   "execution_count": null,
   "id": "ae93924b",
   "metadata": {},
   "outputs": [],
   "source": []
  }
 ],
 "metadata": {
  "kernelspec": {
   "display_name": "Python 3 (ipykernel)",
   "language": "python",
   "name": "python3"
  },
  "language_info": {
   "codemirror_mode": {
    "name": "ipython",
    "version": 3
   },
   "file_extension": ".py",
   "mimetype": "text/x-python",
   "name": "python",
   "nbconvert_exporter": "python",
   "pygments_lexer": "ipython3",
   "version": "3.9.12"
  }
 },
 "nbformat": 4,
 "nbformat_minor": 5
}
