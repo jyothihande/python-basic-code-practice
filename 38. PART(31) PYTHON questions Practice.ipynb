{
 "cells": [
  {
   "cell_type": "markdown",
   "id": "f1a9c637",
   "metadata": {},
   "source": [
    "# PYTHON INTERVIEW QUESTION PRACTICE :"
   ]
  },
  {
   "cell_type": "markdown",
   "id": "7daee236",
   "metadata": {},
   "source": [
    "# Q1.Let list1 = ['s', 'r', 'a', 's'] and list2 = ['a', 'a', 'n', 'h'], what is the output of [\"\".join([i, j]) for i, j in zip(list1, list2)]?"
   ]
  },
  {
   "cell_type": "code",
   "execution_count": 1,
   "id": "ecb1a23f",
   "metadata": {},
   "outputs": [
    {
     "data": {
      "text/plain": [
       "['sa', 'ra', 'an', 'sh']"
      ]
     },
     "execution_count": 1,
     "metadata": {},
     "output_type": "execute_result"
    }
   ],
   "source": [
    "list1 = ['s', 'r', 'a', 's']\n",
    "list2 = ['a', 'a', 'n', 'h']\n",
    "[\"\".join([i, j]) for i, j in zip(list1, list2)]"
   ]
  },
  {
   "cell_type": "markdown",
   "id": "d91f655c",
   "metadata": {},
   "source": [
    "# Q2.What is the output of the below code?"
   ]
  },
  {
   "cell_type": "code",
   "execution_count": 22,
   "id": "58fe1a31",
   "metadata": {},
   "outputs": [
    {
     "name": "stdout",
     "output_type": "stream",
     "text": [
      "3\n"
     ]
    }
   ],
   "source": [
    "main_dict={}\n",
    "def insert_item(item):\n",
    "    if item in main_dict:\n",
    "        main_dict[item] += 1\n",
    "    else:\n",
    "        main_dict[item] = 1\n",
    "#Driver code\n",
    "insert_item('Key1')\n",
    "insert_item('Key2')\n",
    "insert_item('Key2')\n",
    "insert_item('Key3')\n",
    "insert_item('Key1')\n",
    "print (len(main_dict))"
   ]
  },
  {
   "cell_type": "code",
   "execution_count": 23,
   "id": "8167fbbd",
   "metadata": {},
   "outputs": [
    {
     "name": "stdout",
     "output_type": "stream",
     "text": [
      "XYZ PQR\n"
     ]
    }
   ],
   "source": [
    "class Person:\n",
    "    def __init__(self, first_name, last_name):\n",
    "        self.first_name = first_name\n",
    "        self.last_name = last_name\n",
    "\n",
    "first_name = \"XYZ\"\n",
    "person = Person(first_name, \"ABC\")\n",
    "first_name = \"LMN\"\n",
    "person.last_name = \"PQR\"\n",
    "print(person.first_name, person.last_name)"
   ]
  },
  {
   "cell_type": "markdown",
   "id": "703abf46",
   "metadata": {},
   "source": [
    "# Q3.Write a Program to add two integers >0 without using the plus operator."
   ]
  },
  {
   "cell_type": "code",
   "execution_count": 24,
   "id": "29c7d798",
   "metadata": {},
   "outputs": [
    {
     "name": "stdout",
     "output_type": "stream",
     "text": [
      "12\n"
     ]
    }
   ],
   "source": [
    "def add_nums(num1, num2):\n",
    "    while num2 != 0:\n",
    "        data = num1 & num2\n",
    "        num1 = num1 ^ num2\n",
    "        num2 = data << 1\n",
    "    return num1\n",
    "print(add_nums(2, 10))"
   ]
  },
  {
   "cell_type": "markdown",
   "id": "5adeb372",
   "metadata": {},
   "source": [
    "# Q4.Python code Append multiple lists at once."
   ]
  },
  {
   "cell_type": "code",
   "execution_count": 25,
   "id": "094f18c2",
   "metadata": {},
   "outputs": [
    {
     "name": "stdout",
     "output_type": "stream",
     "text": [
      "The original list 1 is : [1, 3, 5, 5, 4]\n",
      "The original list 2 is : [4, 6, 2, 8, 10]\n",
      "The original list 3 is : [7, 5, 2, 9, 11]\n",
      "The extended and modified list is : [1, 3, 5, 5, 4, 4, 6, 2, 8, 10, 7, 5, 2, 9, 11]\n"
     ]
    }
   ],
   "source": [
    "# initializing lists\n",
    "test_list1 = [1, 3, 5, 5, 4]\n",
    "test_list2 = [4, 6, 2, 8, 10]\n",
    "test_list3 = [7, 5, 2, 9, 11]\n",
    "\n",
    "# printing original lists\n",
    "print (\"The original list 1 is : \" + str(test_list1))\n",
    "print (\"The original list 2 is : \" + str(test_list2))\n",
    "print (\"The original list 3 is : \" + str(test_list3))\n",
    "\n",
    "#using list comprehension\n",
    "[test_list1.extend(l) for l in (test_list2,test_list3)]\n",
    "\n",
    "print (\"The extended and modified list is : \" + str(test_list1))\n"
   ]
  },
  {
   "cell_type": "code",
   "execution_count": null,
   "id": "1bcc1baa",
   "metadata": {},
   "outputs": [],
   "source": []
  }
 ],
 "metadata": {
  "kernelspec": {
   "display_name": "Python 3 (ipykernel)",
   "language": "python",
   "name": "python3"
  },
  "language_info": {
   "codemirror_mode": {
    "name": "ipython",
    "version": 3
   },
   "file_extension": ".py",
   "mimetype": "text/x-python",
   "name": "python",
   "nbconvert_exporter": "python",
   "pygments_lexer": "ipython3",
   "version": "3.9.12"
  }
 },
 "nbformat": 4,
 "nbformat_minor": 5
}
