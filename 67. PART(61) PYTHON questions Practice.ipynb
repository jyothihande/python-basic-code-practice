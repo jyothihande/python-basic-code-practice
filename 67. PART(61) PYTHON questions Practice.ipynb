{
 "cells": [
  {
   "cell_type": "markdown",
   "id": "42b36b19",
   "metadata": {},
   "source": [
    "# Q1.Python Program to Find the Area of a Rectangle Using Classes."
   ]
  },
  {
   "cell_type": "code",
   "execution_count": 1,
   "id": "0fb58376",
   "metadata": {},
   "outputs": [
    {
     "name": "stdout",
     "output_type": "stream",
     "text": [
      "Enter length of rectangle: 5\n",
      "Enter breadth of rectangle: 3\n",
      "Area of rectangle: 15\n",
      "\n"
     ]
    }
   ],
   "source": [
    "class rectangle():\n",
    "    def __init__(self,breadth,length):\n",
    "        self.breadth=breadth\n",
    "        self.length=length\n",
    "    def area(self):\n",
    "        return self.breadth*self.length\n",
    "a=int(input(\"Enter length of rectangle: \"))\n",
    "b=int(input(\"Enter breadth of rectangle: \"))\n",
    "obj=rectangle(a,b)\n",
    "print(\"Area of rectangle:\",obj.area())\n",
    " \n",
    "print()"
   ]
  },
  {
   "cell_type": "markdown",
   "id": "79fbb85a",
   "metadata": {},
   "source": [
    "# Q2.Python Program to Check Prime Number."
   ]
  },
  {
   "cell_type": "code",
   "execution_count": 2,
   "id": "94658400",
   "metadata": {},
   "outputs": [
    {
     "name": "stdout",
     "output_type": "stream",
     "text": [
      "Enter number: 5\n",
      "Number is prime\n"
     ]
    }
   ],
   "source": [
    "a=int(input(\"Enter number: \"))\n",
    "k=0\n",
    "for i in range(2,a//2+1):\n",
    "    if(a%i==0):\n",
    "        k=k+1\n",
    "if(k<=0):\n",
    "    print(\"Number is prime\")\n",
    "else:\n",
    "    print(\"Number isn't prime\")"
   ]
  },
  {
   "cell_type": "markdown",
   "id": "75ca26b5",
   "metadata": {},
   "source": [
    "# Q3.Python Program to Check whether a Number is Prime or Not using Recursion."
   ]
  },
  {
   "cell_type": "code",
   "execution_count": 3,
   "id": "15c7e85a",
   "metadata": {},
   "outputs": [
    {
     "name": "stdout",
     "output_type": "stream",
     "text": [
      "Enter number: 8\n",
      "Number not prime\n"
     ]
    },
    {
     "data": {
      "text/plain": [
       "False"
      ]
     },
     "execution_count": 3,
     "metadata": {},
     "output_type": "execute_result"
    }
   ],
   "source": [
    "def check(n, div = None):\n",
    "    if div is None:\n",
    "        div = n - 1\n",
    "    while div >= 2:\n",
    "        if n % div == 0:\n",
    "            print(\"Number not prime\")\n",
    "            return False\n",
    "        else:\n",
    "            return check(n, div-1)\n",
    "    else:\n",
    "        print(\"Number is prime\")\n",
    "        return 'True'\n",
    "n=int(input(\"Enter number: \"))\n",
    "check(n)"
   ]
  },
  {
   "cell_type": "markdown",
   "id": "85b121c4",
   "metadata": {},
   "source": [
    "# Q4.String Palindrome Program in Python."
   ]
  },
  {
   "cell_type": "code",
   "execution_count": 5,
   "id": "96e57d87",
   "metadata": {},
   "outputs": [
    {
     "name": "stdout",
     "output_type": "stream",
     "text": [
      "Enter string:hello\n",
      "The string isn't a palindrome\n"
     ]
    }
   ],
   "source": [
    "string=input(\"Enter string:\")\n",
    "if(string==string[::-1]):\n",
    "      print(\"The string is a palindrome\")\n",
    "else:\n",
    "      print(\"The string isn't a palindrome\")"
   ]
  },
  {
   "cell_type": "code",
   "execution_count": 6,
   "id": "5c519589",
   "metadata": {},
   "outputs": [
    {
     "name": "stdout",
     "output_type": "stream",
     "text": [
      "Enter string:POP\n",
      "The string is a palindrome\n"
     ]
    }
   ],
   "source": [
    "string=input(\"Enter string:\")\n",
    "if(string==string[::-1]):\n",
    "      print(\"The string is a palindrome\")\n",
    "else:\n",
    "      print(\"The string isn't a palindrome\")"
   ]
  },
  {
   "cell_type": "code",
   "execution_count": null,
   "id": "16633dc8",
   "metadata": {},
   "outputs": [],
   "source": []
  }
 ],
 "metadata": {
  "kernelspec": {
   "display_name": "Python 3 (ipykernel)",
   "language": "python",
   "name": "python3"
  },
  "language_info": {
   "codemirror_mode": {
    "name": "ipython",
    "version": 3
   },
   "file_extension": ".py",
   "mimetype": "text/x-python",
   "name": "python",
   "nbconvert_exporter": "python",
   "pygments_lexer": "ipython3",
   "version": "3.9.12"
  }
 },
 "nbformat": 4,
 "nbformat_minor": 5
}
