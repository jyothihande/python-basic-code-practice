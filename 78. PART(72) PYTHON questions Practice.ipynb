{
 "cells": [
  {
   "cell_type": "markdown",
   "id": "9d0270cf",
   "metadata": {},
   "source": [
    "# Q1.Recursive Python3 program to find sum of digits of a  number"
   ]
  },
  {
   "cell_type": "code",
   "execution_count": 1,
   "id": "4d6cf9ef",
   "metadata": {},
   "outputs": [
    {
     "name": "stdout",
     "output_type": "stream",
     "text": [
      "Sum of digits in 12345 is 15\n"
     ]
    }
   ],
   "source": [
    "\n",
    "def sum_of_digit( n ):\n",
    "    if n == 0:\n",
    "        return 0\n",
    "    return (n % 10 + sum_of_digit(int(n / 10)))\n",
    "\n",
    "# Driven code to check above\n",
    "num = 12345\n",
    "result = sum_of_digit(num)\n",
    "print(\"Sum of digits in\",num,\"is\", result)"
   ]
  },
  {
   "cell_type": "markdown",
   "id": "df5addae",
   "metadata": {},
   "source": [
    "# Q2.Python Program to Find the Sum of Elements in a List using Recursion."
   ]
  },
  {
   "cell_type": "code",
   "execution_count": 2,
   "id": "b2b27ddd",
   "metadata": {},
   "outputs": [
    {
     "name": "stdout",
     "output_type": "stream",
     "text": [
      "Enter the number of elements for list:4\n",
      "Enter element:10\n",
      "Enter element:41\n",
      "Enter element:2\n",
      "Enter element:5\n",
      "The list is:\n",
      "[10, 41, 2, 5]\n",
      "Sum of items in list:\n",
      "58\n"
     ]
    }
   ],
   "source": [
    "def sum_arr(arr,size):\n",
    "    if (size == 0):\n",
    "        return 0\n",
    "    else:\n",
    "        return arr[size-1] + sum_arr(arr,size-1)\n",
    "n=int(input(\"Enter the number of elements for list:\"))\n",
    "a=[]\n",
    "for i in range(0,n):\n",
    "    element=int(input(\"Enter element:\"))\n",
    "    a.append(element)\n",
    "print(\"The list is:\")\n",
    "print(a)\n",
    "print(\"Sum of items in list:\")\n",
    "b=sum_arr(a,n)\n",
    "print(b)"
   ]
  },
  {
   "cell_type": "markdown",
   "id": "ba3731ee",
   "metadata": {},
   "source": [
    "# Q3.Python Program to Find Product of Two Numbers using Recursion."
   ]
  },
  {
   "cell_type": "code",
   "execution_count": 5,
   "id": "74ab6fd2",
   "metadata": {},
   "outputs": [
    {
     "name": "stdout",
     "output_type": "stream",
     "text": [
      "Enter first number: 15\n",
      "Enter second number: 12\n",
      "Product is:  180\n"
     ]
    }
   ],
   "source": [
    "def product(a,b):\n",
    "    if(a<b):\n",
    "        return product(b,a)\n",
    "    elif(b!=0):\n",
    "        return(a+product(a,b-1))\n",
    "    else:\n",
    "        return 0\n",
    "a=int(input(\"Enter first number: \"))\n",
    "b=int(input(\"Enter second number: \"))\n",
    "print(\"Product is: \",product(a,b))"
   ]
  },
  {
   "cell_type": "code",
   "execution_count": null,
   "id": "da75aba0",
   "metadata": {},
   "outputs": [],
   "source": []
  }
 ],
 "metadata": {
  "kernelspec": {
   "display_name": "Python 3 (ipykernel)",
   "language": "python",
   "name": "python3"
  },
  "language_info": {
   "codemirror_mode": {
    "name": "ipython",
    "version": 3
   },
   "file_extension": ".py",
   "mimetype": "text/x-python",
   "name": "python",
   "nbconvert_exporter": "python",
   "pygments_lexer": "ipython3",
   "version": "3.9.12"
  }
 },
 "nbformat": 4,
 "nbformat_minor": 5
}
