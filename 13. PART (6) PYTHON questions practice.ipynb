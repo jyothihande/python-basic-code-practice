{
 "cells": [
  {
   "cell_type": "markdown",
   "id": "c046bf68",
   "metadata": {},
   "source": [
    "# BASIC PYTHON QUESTIONS  PRACTICE:\n",
    "**Explaination is provided."
   ]
  },
  {
   "cell_type": "markdown",
   "id": "4d5534eb",
   "metadata": {},
   "source": [
    "# Q1."
   ]
  },
  {
   "cell_type": "code",
   "execution_count": 1,
   "id": "bf679e12",
   "metadata": {},
   "outputs": [
    {
     "name": "stdout",
     "output_type": "stream",
     "text": [
      "<class 'type'>\n"
     ]
    }
   ],
   "source": [
    "print (type(type(int)))"
   ]
  },
  {
   "cell_type": "code",
   "execution_count": 2,
   "id": "dd0e250d",
   "metadata": {},
   "outputs": [
    {
     "name": "stdout",
     "output_type": "stream",
     "text": [
      "<class 'type'>\n"
     ]
    }
   ],
   "source": [
    "print (type(type(str))"
   ]
  },
  {
   "cell_type": "code",
   "execution_count": null,
   "id": "3da61568",
   "metadata": {},
   "outputs": [],
   "source": [
    "Explanation: \n",
    "The type() function returns the class of the argument the object belongs to. \n",
    "Thus, type(int) returns which is of the type ‘type’ object."
   ]
  },
  {
   "cell_type": "markdown",
   "id": "3e65fe42",
   "metadata": {},
   "source": [
    "# Q2."
   ]
  },
  {
   "cell_type": "code",
   "execution_count": 6,
   "id": "823c9fcb",
   "metadata": {},
   "outputs": [
    {
     "name": "stdout",
     "output_type": "stream",
     "text": [
      "48\n"
     ]
    }
   ],
   "source": [
    "y = 8\n",
    "z = lambda x : x * y\n",
    "print (z(6))"
   ]
  },
  {
   "cell_type": "code",
   "execution_count": null,
   "id": "ab037f11",
   "metadata": {},
   "outputs": [],
   "source": [
    "Explanation: \n",
    "lambdas are concise functions and thus, result = 6 * 8"
   ]
  },
  {
   "cell_type": "markdown",
   "id": "4b46cd22",
   "metadata": {},
   "source": [
    "# Q3.Suppose list1 is [3, 4, 5, 20, 5, 25, 1, 3], what is list1 after list1.pop(1)?"
   ]
  },
  {
   "cell_type": "code",
   "execution_count": 12,
   "id": "43812cde",
   "metadata": {},
   "outputs": [],
   "source": [
    "list1 = [3, 4, 5, 20, 5, 25, 1, 3]"
   ]
  },
  {
   "cell_type": "code",
   "execution_count": 13,
   "id": "7281eabe",
   "metadata": {},
   "outputs": [
    {
     "data": {
      "text/plain": [
       "3"
      ]
     },
     "execution_count": 13,
     "metadata": {},
     "output_type": "execute_result"
    }
   ],
   "source": [
    "list1.pop()"
   ]
  },
  {
   "cell_type": "code",
   "execution_count": 14,
   "id": "baa98a62",
   "metadata": {},
   "outputs": [
    {
     "data": {
      "text/plain": [
       "4"
      ]
     },
     "execution_count": 14,
     "metadata": {},
     "output_type": "execute_result"
    }
   ],
   "source": [
    "list1.pop(1)"
   ]
  },
  {
   "cell_type": "code",
   "execution_count": 15,
   "id": "c042d52c",
   "metadata": {},
   "outputs": [
    {
     "data": {
      "text/plain": [
       "[3, 5, 20, 5, 25, 1]"
      ]
     },
     "execution_count": 15,
     "metadata": {},
     "output_type": "execute_result"
    }
   ],
   "source": [
    "list1"
   ]
  },
  {
   "cell_type": "code",
   "execution_count": null,
   "id": "4daced0f",
   "metadata": {},
   "outputs": [],
   "source": [
    "Explanation: \n",
    "pop(i) removes the ith index element from the list"
   ]
  },
  {
   "cell_type": "markdown",
   "id": "c5f11f8d",
   "metadata": {},
   "source": [
    "# Q.4.What does ~~~~~~ 5 evaluate to?\n"
   ]
  },
  {
   "cell_type": "code",
   "execution_count": 16,
   "id": "c383c774",
   "metadata": {},
   "outputs": [
    {
     "data": {
      "text/plain": [
       "-6"
      ]
     },
     "execution_count": 16,
     "metadata": {},
     "output_type": "execute_result"
    }
   ],
   "source": [
    "~5"
   ]
  },
  {
   "cell_type": "code",
   "execution_count": 17,
   "id": "3a54d8dd",
   "metadata": {},
   "outputs": [
    {
     "data": {
      "text/plain": [
       "5"
      ]
     },
     "execution_count": 17,
     "metadata": {},
     "output_type": "execute_result"
    }
   ],
   "source": [
    "~~5"
   ]
  },
  {
   "cell_type": "code",
   "execution_count": 18,
   "id": "66de6119",
   "metadata": {},
   "outputs": [
    {
     "data": {
      "text/plain": [
       "-6"
      ]
     },
     "execution_count": 18,
     "metadata": {},
     "output_type": "execute_result"
    }
   ],
   "source": [
    "~~~5"
   ]
  },
  {
   "cell_type": "code",
   "execution_count": 19,
   "id": "47c8ab5a",
   "metadata": {},
   "outputs": [
    {
     "data": {
      "text/plain": [
       "5"
      ]
     },
     "execution_count": 19,
     "metadata": {},
     "output_type": "execute_result"
    }
   ],
   "source": [
    "~~~~~~5"
   ]
  },
  {
   "cell_type": "code",
   "execution_count": null,
   "id": "2f0d7853",
   "metadata": {},
   "outputs": [],
   "source": [
    "Explaination:\n",
    "~x is equivalent to -(x+1)."
   ]
  },
  {
   "cell_type": "markdown",
   "id": "a5cf91f0",
   "metadata": {},
   "source": [
    "# Q.5:Find the output of the following program:\n",
    "a = {i: i * i for i in range(6)} \n",
    "print (a) "
   ]
  },
  {
   "cell_type": "code",
   "execution_count": 20,
   "id": "a71eeb31",
   "metadata": {},
   "outputs": [
    {
     "name": "stdout",
     "output_type": "stream",
     "text": [
      "{0: 0, 1: 1, 2: 4, 3: 9, 4: 16, 5: 25}\n"
     ]
    }
   ],
   "source": [
    "a = {i: i * i for i in range(6)} \n",
    "print (a) "
   ]
  },
  {
   "cell_type": "code",
   "execution_count": null,
   "id": "66ecf5bd",
   "metadata": {},
   "outputs": [],
   "source": [
    "Explanation: \n",
    "The above piece of code written in curly braces generate the whole Dictionary."
   ]
  },
  {
   "cell_type": "markdown",
   "id": "0cece86d",
   "metadata": {},
   "source": [
    "# Q6. CHECK output:"
   ]
  },
  {
   "cell_type": "code",
   "execution_count": 22,
   "id": "7cccbac5",
   "metadata": {},
   "outputs": [
    {
     "name": "stdout",
     "output_type": "stream",
     "text": [
      "8\n"
     ]
    }
   ],
   "source": [
    "def myfunc(a):\n",
    "    a = a + 2\n",
    "    a = a * 2\n",
    "    return a\n",
    " \n",
    "print (myfunc(2))"
   ]
  },
  {
   "cell_type": "markdown",
   "id": "f9ce6526",
   "metadata": {},
   "source": [
    "# Q7.What is the output of the expression : "
   ]
  },
  {
   "cell_type": "code",
   "execution_count": 23,
   "id": "d908b86f",
   "metadata": {},
   "outputs": [
    {
     "data": {
      "text/plain": [
       "3"
      ]
     },
     "execution_count": 23,
     "metadata": {},
     "output_type": "execute_result"
    }
   ],
   "source": [
    "3*1**3"
   ]
  },
  {
   "cell_type": "code",
   "execution_count": null,
   "id": "93ca55ce",
   "metadata": {},
   "outputs": [],
   "source": [
    "Explanation: \n",
    "Precedence of ** is higher than that of 3,\n",
    "thus first 1**3 will be executed and the result will be multiplied by 3."
   ]
  },
  {
   "cell_type": "markdown",
   "id": "0d4d2833",
   "metadata": {},
   "source": [
    "# Q8."
   ]
  },
  {
   "cell_type": "code",
   "execution_count": 24,
   "id": "14780332",
   "metadata": {
    "scrolled": true
   },
   "outputs": [
    {
     "name": "stdout",
     "output_type": "stream",
     "text": [
      "0.33\n"
     ]
    }
   ],
   "source": [
    "print ('{0:.2}'.format(1.0 / 3))"
   ]
  },
  {
   "cell_type": "code",
   "execution_count": null,
   "id": "127c6acd",
   "metadata": {},
   "outputs": [],
   "source": [
    "Explanation: \n",
    ".2 defines the precision of the floating point number."
   ]
  },
  {
   "cell_type": "code",
   "execution_count": 25,
   "id": "c58c3e7d",
   "metadata": {},
   "outputs": [
    {
     "name": "stdout",
     "output_type": "stream",
     "text": [
      "33.333333%\n"
     ]
    }
   ],
   "source": [
    "print ('{0:-2%}'.format(1.0 / 3))"
   ]
  },
  {
   "cell_type": "code",
   "execution_count": null,
   "id": "493f112e",
   "metadata": {},
   "outputs": [],
   "source": [
    "Explanation: \n",
    "The % converts the 0.33 to percentage with respect to 1.0"
   ]
  }
 ],
 "metadata": {
  "kernelspec": {
   "display_name": "Python 3 (ipykernel)",
   "language": "python",
   "name": "python3"
  },
  "language_info": {
   "codemirror_mode": {
    "name": "ipython",
    "version": 3
   },
   "file_extension": ".py",
   "mimetype": "text/x-python",
   "name": "python",
   "nbconvert_exporter": "python",
   "pygments_lexer": "ipython3",
   "version": "3.9.12"
  }
 },
 "nbformat": 4,
 "nbformat_minor": 5
}
