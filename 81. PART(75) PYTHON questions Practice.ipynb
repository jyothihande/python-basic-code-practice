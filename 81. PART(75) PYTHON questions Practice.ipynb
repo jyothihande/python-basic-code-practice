{
 "cells": [
  {
   "cell_type": "markdown",
   "id": "d9503fb7",
   "metadata": {},
   "source": [
    "# Q1.Sum of First N Natural Numbers in Python."
   ]
  },
  {
   "cell_type": "code",
   "execution_count": 3,
   "id": "dd9f75ec",
   "metadata": {},
   "outputs": [
    {
     "name": "stdout",
     "output_type": "stream",
     "text": [
      "Enter a number: 16\n",
      "The sum of first n natural numbers is 136\n"
     ]
    }
   ],
   "source": [
    "n=int(input(\"Enter a number: \"))\n",
    "sum1 = 0\n",
    "while(n > 0):\n",
    "    sum1=sum1+n\n",
    "    n=n-1\n",
    "print(\"The sum of first n natural numbers is\",sum1)"
   ]
  },
  {
   "cell_type": "markdown",
   "id": "257c1eb9",
   "metadata": {},
   "source": [
    "# Q2.Python Program to Check If Two Numbers are Amicable Numbers or Not."
   ]
  },
  {
   "cell_type": "code",
   "execution_count": 4,
   "id": "dadd48da",
   "metadata": {},
   "outputs": [
    {
     "name": "stdout",
     "output_type": "stream",
     "text": [
      "Enter number 1: 54\n",
      "Enter number 2: 12\n",
      "Not Amicable!\n"
     ]
    }
   ],
   "source": [
    "x=int(input('Enter number 1: '))\n",
    "y=int(input('Enter number 2: '))\n",
    "sum1=0\n",
    "sum2=0\n",
    "for i in range(1,x):\n",
    "    if x%i==0:\n",
    "        sum1+=i\n",
    "for j in range(1,y):\n",
    "    if y%j==0:\n",
    "        sum2+=j\n",
    "if(sum1==y and sum2==x):\n",
    "    print('Amicable!')\n",
    "else:\n",
    "    print('Not Amicable!')"
   ]
  },
  {
   "cell_type": "markdown",
   "id": "21096c6f",
   "metadata": {},
   "source": [
    "# Q3.Python Program to Find Product of Two Numbers using Recursion."
   ]
  },
  {
   "cell_type": "code",
   "execution_count": 5,
   "id": "b82118d2",
   "metadata": {},
   "outputs": [
    {
     "name": "stdout",
     "output_type": "stream",
     "text": [
      "Enter first number: 4\n",
      "Enter second number: 6\n",
      "Product is:  24\n"
     ]
    }
   ],
   "source": [
    "def product(a,b):\n",
    "    if(a<b):\n",
    "        return product(b,a)\n",
    "    elif(b!=0):\n",
    "        return(a+product(a,b-1))\n",
    "    else:\n",
    "        return 0\n",
    "a=int(input(\"Enter first number: \"))\n",
    "b=int(input(\"Enter second number: \"))\n",
    "print(\"Product is: \",product(a,b))"
   ]
  },
  {
   "cell_type": "markdown",
   "id": "42e8e044",
   "metadata": {},
   "source": [
    "# Q4.Python Program to Find Whether a Number is a Power of Two."
   ]
  },
  {
   "cell_type": "code",
   "execution_count": 6,
   "id": "292835e1",
   "metadata": {},
   "outputs": [
    {
     "name": "stdout",
     "output_type": "stream",
     "text": [
      "Enter a number: 5\n",
      "5 is not a power of two.\n"
     ]
    }
   ],
   "source": [
    "def is_power_of_two(n):\n",
    "    \"\"\"Return True if n is a power of two.\"\"\"\n",
    "    if n <= 0:\n",
    "        return False\n",
    "    else:\n",
    "        return n & (n - 1) == 0\n",
    " \n",
    " \n",
    "n = int(input('Enter a number: '))\n",
    " \n",
    "if is_power_of_two(n):\n",
    "    print('{} is a power of two.'.format(n))\n",
    "else:\n",
    "    print('{} is not a power of two.'.format(n))"
   ]
  },
  {
   "cell_type": "code",
   "execution_count": null,
   "id": "b815b843",
   "metadata": {},
   "outputs": [],
   "source": []
  }
 ],
 "metadata": {
  "kernelspec": {
   "display_name": "Python 3 (ipykernel)",
   "language": "python",
   "name": "python3"
  },
  "language_info": {
   "codemirror_mode": {
    "name": "ipython",
    "version": 3
   },
   "file_extension": ".py",
   "mimetype": "text/x-python",
   "name": "python",
   "nbconvert_exporter": "python",
   "pygments_lexer": "ipython3",
   "version": "3.9.12"
  }
 },
 "nbformat": 4,
 "nbformat_minor": 5
}
