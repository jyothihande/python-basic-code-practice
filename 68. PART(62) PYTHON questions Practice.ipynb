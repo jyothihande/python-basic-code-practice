{
 "cells": [
  {
   "cell_type": "markdown",
   "id": "1319737e",
   "metadata": {},
   "source": [
    "# Q1.Python Program to Create a New String Made up of First and Last 2 Characters."
   ]
  },
  {
   "cell_type": "code",
   "execution_count": 4,
   "id": "5268273a",
   "metadata": {},
   "outputs": [
    {
     "name": "stdout",
     "output_type": "stream",
     "text": [
      "Enter string:Education\n",
      "Newly formed string is:\n",
      "Edon\n"
     ]
    }
   ],
   "source": [
    "string=input(\"Enter string:\")\n",
    "count=0\n",
    "for i in string:\n",
    "      count=count+1\n",
    "new=string[0:2]+string[count-2:count]\n",
    "print(\"Newly formed string is:\")\n",
    "print(new)"
   ]
  },
  {
   "cell_type": "markdown",
   "id": "2486c1fc",
   "metadata": {},
   "source": [
    "# Q2.Python Program to Count the Number of Digits and Letters in a String."
   ]
  },
  {
   "cell_type": "code",
   "execution_count": 15,
   "id": "5282c892",
   "metadata": {},
   "outputs": [
    {
     "name": "stdout",
     "output_type": "stream",
     "text": [
      "Enter string:Hello123\n",
      "The number of digits is:\n",
      "3\n",
      "The number of characters is:\n",
      "5\n"
     ]
    }
   ],
   "source": [
    "string=input(\"Enter string:\")\n",
    "count1=0\n",
    "count2=0\n",
    "for i in string:\n",
    "    if(i.isdigit()):\n",
    "        count1=count1+1\n",
    "    else:\n",
    "        count2=count2+1\n",
    "            \n",
    "print(\"The number of digits is:\")\n",
    "print(count1)\n",
    "print(\"The number of characters is:\")\n",
    "print(count2)"
   ]
  },
  {
   "cell_type": "markdown",
   "id": "0c4cbe65",
   "metadata": {},
   "source": [
    "# Q3.Python Program that Displays Letters that are not Common in Two Strings."
   ]
  },
  {
   "cell_type": "code",
   "execution_count": 17,
   "id": "7fd658ee",
   "metadata": {},
   "outputs": [
    {
     "name": "stdout",
     "output_type": "stream",
     "text": [
      "Enter first string:Hello\n",
      "Enter second string:Mello\n",
      "The letters are:\n",
      "H\n",
      "M\n"
     ]
    }
   ],
   "source": [
    "s1=input(\"Enter first string:\")\n",
    "s2=input(\"Enter second string:\")\n",
    "a=list(set(s1)^set(s2))\n",
    "print(\"The letters are:\")\n",
    "for i in a:\n",
    "    print(i)"
   ]
  },
  {
   "cell_type": "code",
   "execution_count": null,
   "id": "d67864d4",
   "metadata": {},
   "outputs": [],
   "source": []
  }
 ],
 "metadata": {
  "kernelspec": {
   "display_name": "Python 3 (ipykernel)",
   "language": "python",
   "name": "python3"
  },
  "language_info": {
   "codemirror_mode": {
    "name": "ipython",
    "version": 3
   },
   "file_extension": ".py",
   "mimetype": "text/x-python",
   "name": "python",
   "nbconvert_exporter": "python",
   "pygments_lexer": "ipython3",
   "version": "3.9.12"
  }
 },
 "nbformat": 4,
 "nbformat_minor": 5
}
