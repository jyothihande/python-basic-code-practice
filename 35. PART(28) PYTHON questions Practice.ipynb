{
 "cells": [
  {
   "cell_type": "markdown",
   "id": "6d3f55c6",
   "metadata": {},
   "source": [
    "# Q1.Reverse Words in a Given String in Python."
   ]
  },
  {
   "cell_type": "code",
   "execution_count": 1,
   "id": "f032a8e7",
   "metadata": {},
   "outputs": [
    {
     "data": {
      "text/plain": [
       "'ecneicsatad nraeL'"
      ]
     },
     "execution_count": 1,
     "metadata": {},
     "output_type": "execute_result"
    }
   ],
   "source": [
    "string=\"Learn datascience\"\n",
    "s_reverse=string[::-1]\n",
    "s_reverse"
   ]
  },
  {
   "cell_type": "code",
   "execution_count": 2,
   "id": "538ca6b1",
   "metadata": {},
   "outputs": [],
   "source": [
    "s=string.split()\n",
    "s\n",
    "l=[]"
   ]
  },
  {
   "cell_type": "code",
   "execution_count": 3,
   "id": "86fdcbfb",
   "metadata": {},
   "outputs": [
    {
     "data": {
      "text/plain": [
       "['datascience', 'Learn']"
      ]
     },
     "execution_count": 3,
     "metadata": {},
     "output_type": "execute_result"
    }
   ],
   "source": [
    "s=s[::-1]\n",
    "s"
   ]
  },
  {
   "cell_type": "code",
   "execution_count": 4,
   "id": "140beca5",
   "metadata": {},
   "outputs": [
    {
     "name": "stdout",
     "output_type": "stream",
     "text": [
      "datascience Learn\n"
     ]
    }
   ],
   "source": [
    "for i in s:\n",
    "    # appending reversed words to l\n",
    "    l.append(i)\n",
    "# printing reverse words\n",
    "print(\" \".join(l))\n"
   ]
  },
  {
   "cell_type": "code",
   "execution_count": 5,
   "id": "3f6e02d2",
   "metadata": {},
   "outputs": [
    {
     "name": "stdout",
     "output_type": "stream",
     "text": [
      "code practice coders\n"
     ]
    }
   ],
   "source": [
    "# To reverse words in a given string\n",
    "\n",
    "# input string\n",
    "string = \"coders practice code\"\n",
    "# reversing words in a given string\n",
    "s = string.split()[::-1]\n",
    "l = []\n",
    "for i in s:\n",
    "    # appending reversed words to l\n",
    "    l.append(i)\n",
    "# printing reverse words\n",
    "print(\" \".join(l))\n"
   ]
  },
  {
   "cell_type": "markdown",
   "id": "5ab6f6de",
   "metadata": {},
   "source": [
    "# Q2.How to Remove nth Letters From a String in Python."
   ]
  },
  {
   "cell_type": "code",
   "execution_count": 6,
   "id": "88a88e54",
   "metadata": {},
   "outputs": [
    {
     "data": {
      "text/plain": [
       "'coders practice code'"
      ]
     },
     "execution_count": 6,
     "metadata": {},
     "output_type": "execute_result"
    }
   ],
   "source": [
    "string"
   ]
  },
  {
   "cell_type": "code",
   "execution_count": 7,
   "id": "07a2fa3b",
   "metadata": {},
   "outputs": [],
   "source": [
    "new_str = string[:2]+ string[3:]"
   ]
  },
  {
   "cell_type": "code",
   "execution_count": 8,
   "id": "62841bb4",
   "metadata": {},
   "outputs": [
    {
     "data": {
      "text/plain": [
       "'coers practice code'"
      ]
     },
     "execution_count": 8,
     "metadata": {},
     "output_type": "execute_result"
    }
   ],
   "source": [
    "new_str"
   ]
  },
  {
   "cell_type": "markdown",
   "id": "472c5bdc",
   "metadata": {},
   "source": [
    "# Q3.Minimum of two numbers in Python."
   ]
  },
  {
   "cell_type": "code",
   "execution_count": 9,
   "id": "cdd2d437",
   "metadata": {},
   "outputs": [
    {
     "name": "stdout",
     "output_type": "stream",
     "text": [
      "2\n"
     ]
    }
   ],
   "source": [
    "# Python program to find the\n",
    "# minimum of two numbers\n",
    "\n",
    "\n",
    "def minimum(a, b):\n",
    "    if a <= b:\n",
    "        return a\n",
    "    else:\n",
    "        return b\n",
    "\n",
    "# Driver code\n",
    "a = 2\n",
    "b = 4\n",
    "print(minimum(a, b))\n"
   ]
  },
  {
   "cell_type": "code",
   "execution_count": 10,
   "id": "b0001c40",
   "metadata": {},
   "outputs": [
    {
     "name": "stdout",
     "output_type": "stream",
     "text": [
      "2\n"
     ]
    }
   ],
   "source": [
    "# Python program to find the\n",
    "# minimum of two numbers\n",
    "\n",
    "\n",
    "a = 2\n",
    "b = 4\n",
    "\n",
    "minimum = min(a, b)\n",
    "print(minimum)\n"
   ]
  },
  {
   "cell_type": "code",
   "execution_count": 11,
   "id": "ab3b3e75",
   "metadata": {},
   "outputs": [
    {
     "name": "stdout",
     "output_type": "stream",
     "text": [
      "2\n"
     ]
    }
   ],
   "source": [
    "from functools import reduce\n",
    "\n",
    "a = 2\n",
    "b = 4\n",
    "minimum = reduce(lambda x, y: x if x < y else y, [a, b])\n",
    "print(minimum)\n"
   ]
  },
  {
   "cell_type": "code",
   "execution_count": null,
   "id": "1af8455d",
   "metadata": {},
   "outputs": [],
   "source": []
  }
 ],
 "metadata": {
  "kernelspec": {
   "display_name": "Python 3 (ipykernel)",
   "language": "python",
   "name": "python3"
  },
  "language_info": {
   "codemirror_mode": {
    "name": "ipython",
    "version": 3
   },
   "file_extension": ".py",
   "mimetype": "text/x-python",
   "name": "python",
   "nbconvert_exporter": "python",
   "pygments_lexer": "ipython3",
   "version": "3.9.12"
  }
 },
 "nbformat": 4,
 "nbformat_minor": 5
}
