{
 "cells": [
  {
   "cell_type": "code",
   "execution_count": null,
   "id": "b1ec3e9c",
   "metadata": {},
   "outputs": [],
   "source": [
    "Q1.print output of multiplication Table of entered number using for loop."
   ]
  },
  {
   "cell_type": "code",
   "execution_count": 1,
   "id": "578e28fd",
   "metadata": {},
   "outputs": [
    {
     "name": "stdout",
     "output_type": "stream",
     "text": [
      "Enter a number for multiplication = 6\n",
      "6 x 1 = 6\n",
      "6 x 2 = 12\n",
      "6 x 3 = 18\n",
      "6 x 4 = 24\n",
      "6 x 5 = 30\n",
      "6 x 6 = 36\n",
      "6 x 7 = 42\n",
      "6 x 8 = 48\n",
      "6 x 9 = 54\n",
      "6 x 10 = 60\n"
     ]
    }
   ],
   "source": [
    "a=int(input(\"Enter a number for multiplication = \"))\n",
    "for i in range(1,11):\n",
    "    print(a,\"x\",i,\"=\",a*i)\n",
    "    "
   ]
  },
  {
   "cell_type": "code",
   "execution_count": null,
   "id": "1f008b61",
   "metadata": {},
   "outputs": [],
   "source": [
    "Q2.Get output number of repeatation of a letter in a string."
   ]
  },
  {
   "cell_type": "code",
   "execution_count": 2,
   "id": "e92e3d31",
   "metadata": {},
   "outputs": [
    {
     "name": "stdout",
     "output_type": "stream",
     "text": [
      "e : 2\n",
      "w : 2\n",
      "l : 4\n",
      "o : 2\n",
      "  : 1\n",
      "H : 1\n",
      "f : 1\n"
     ]
    }
   ],
   "source": [
    "s=\"Hellow fellow\"\n",
    "set(s)\n",
    "for i in set(s):\n",
    "    print(i,\":\",s.count(i))"
   ]
  },
  {
   "cell_type": "code",
   "execution_count": null,
   "id": "64e4b538",
   "metadata": {},
   "outputs": [],
   "source": [
    "Q3.Find FACTORIAL OF given number:"
   ]
  },
  {
   "cell_type": "code",
   "execution_count": 3,
   "id": "fe0de1d5",
   "metadata": {
    "scrolled": true
   },
   "outputs": [
    {
     "name": "stdout",
     "output_type": "stream",
     "text": [
      "Enter a number to get factorial = 7\n",
      "5040\n"
     ]
    }
   ],
   "source": [
    "n = int(input(\"Enter a number to get factorial = \"))\n",
    "fact = 1\n",
    "for i in range(1,n+1):\n",
    "    fact = fact*i\n",
    "print(fact)"
   ]
  },
  {
   "cell_type": "code",
   "execution_count": null,
   "id": "a1d49085",
   "metadata": {},
   "outputs": [],
   "source": [
    "Q4.find out number of students scores above 40 from a list of studens with index as roll number."
   ]
  },
  {
   "cell_type": "code",
   "execution_count": 4,
   "id": "58825aa9",
   "metadata": {},
   "outputs": [],
   "source": [
    "l=[12,51,18,89,36,45,74,67,35,21,35]"
   ]
  },
  {
   "cell_type": "code",
   "execution_count": 5,
   "id": "8cd39c2c",
   "metadata": {},
   "outputs": [
    {
     "name": "stdout",
     "output_type": "stream",
     "text": [
      "51 : pass\n",
      "89 : pass\n",
      "45 : pass\n",
      "74 : pass\n",
      "67 : pass\n"
     ]
    }
   ],
   "source": [
    "for i in l:\n",
    "    if i >= 40:\n",
    "        print(i,\":\",\"pass\")"
   ]
  },
  {
   "cell_type": "code",
   "execution_count": null,
   "id": "1933bb64",
   "metadata": {},
   "outputs": [],
   "source": [
    "Q5.sort string and int value filled by the customers."
   ]
  },
  {
   "cell_type": "code",
   "execution_count": 6,
   "id": "243f825f",
   "metadata": {},
   "outputs": [],
   "source": [
    "l=[10,56,84,37,\"48\",\"25\",65,\"78\"]"
   ]
  },
  {
   "cell_type": "code",
   "execution_count": 7,
   "id": "ed836932",
   "metadata": {},
   "outputs": [],
   "source": [
    "i=0\n",
    "string_list=[]\n",
    "int_list=[]"
   ]
  },
  {
   "cell_type": "code",
   "execution_count": 8,
   "id": "8e410b0e",
   "metadata": {},
   "outputs": [
    {
     "name": "stdout",
     "output_type": "stream",
     "text": [
      "['48', '25', '78'] wrong data\n",
      "[10, 56, 84, 37, 65] correct data\n"
     ]
    }
   ],
   "source": [
    "while i<len(l):\n",
    "    if type(l[i])==int:\n",
    "        int_list.append(l[i])\n",
    "    else:\n",
    "        string_list.append(l[i])\n",
    "    i+=1\n",
    "print(string_list,\"wrong data\")\n",
    "print(int_list,\"correct data\")\n",
    "        "
   ]
  },
  {
   "cell_type": "code",
   "execution_count": null,
   "id": "f5b10a8c",
   "metadata": {},
   "outputs": [],
   "source": [
    "Q6.Factorial using While Loop:"
   ]
  },
  {
   "cell_type": "code",
   "execution_count": 9,
   "id": "0b5fb5b0",
   "metadata": {},
   "outputs": [],
   "source": [
    "def factorial(n):\n",
    "    num = 1\n",
    "    while n >= 1:\n",
    "        num = num * n\n",
    "        n = n - 1\n",
    "    return num"
   ]
  },
  {
   "cell_type": "code",
   "execution_count": 10,
   "id": "183f61e6",
   "metadata": {},
   "outputs": [
    {
     "name": "stdout",
     "output_type": "stream",
     "text": [
      "120\n"
     ]
    }
   ],
   "source": [
    "f = factorial(5)\n",
    "print(f)"
   ]
  },
  {
   "cell_type": "code",
   "execution_count": 11,
   "id": "903f2635",
   "metadata": {},
   "outputs": [
    {
     "data": {
      "text/plain": [
       "720"
      ]
     },
     "execution_count": 11,
     "metadata": {},
     "output_type": "execute_result"
    }
   ],
   "source": [
    "factorial(6)"
   ]
  },
  {
   "cell_type": "code",
   "execution_count": null,
   "id": "50da1ffe",
   "metadata": {},
   "outputs": [],
   "source": [
    "Q7.Find total expense of n number of employees A B C using \"Function\""
   ]
  },
  {
   "cell_type": "code",
   "execution_count": 12,
   "id": "f25f82bd",
   "metadata": {},
   "outputs": [],
   "source": [
    "A=[3520,500,2300,1000,1800]\n",
    "B=[4500,1000,1200,4000,300]\n",
    "C=[1300,4520,3620,1000,4520]"
   ]
  },
  {
   "cell_type": "code",
   "execution_count": 13,
   "id": "42e52d01",
   "metadata": {},
   "outputs": [],
   "source": [
    "def expense(name):\n",
    "    total_expense=0\n",
    "    for i in name:\n",
    "        total_expense=total_expense+i\n",
    "    print(total_expense)"
   ]
  },
  {
   "cell_type": "code",
   "execution_count": 14,
   "id": "f6c4dabc",
   "metadata": {},
   "outputs": [
    {
     "name": "stdout",
     "output_type": "stream",
     "text": [
      "9120\n"
     ]
    }
   ],
   "source": [
    "expense(A)"
   ]
  },
  {
   "cell_type": "code",
   "execution_count": 15,
   "id": "771ea6cb",
   "metadata": {},
   "outputs": [
    {
     "name": "stdout",
     "output_type": "stream",
     "text": [
      "11000\n"
     ]
    }
   ],
   "source": [
    "expense(B)"
   ]
  },
  {
   "cell_type": "code",
   "execution_count": 16,
   "id": "d1b95e94",
   "metadata": {},
   "outputs": [
    {
     "name": "stdout",
     "output_type": "stream",
     "text": [
      "14960\n"
     ]
    }
   ],
   "source": [
    "expense(C)"
   ]
  },
  {
   "cell_type": "code",
   "execution_count": null,
   "id": "0ffaad79",
   "metadata": {},
   "outputs": [],
   "source": [
    "Q8.Get output only captital letters and its count:"
   ]
  },
  {
   "cell_type": "code",
   "execution_count": 22,
   "id": "1c866539",
   "metadata": {},
   "outputs": [
    {
     "name": "stdout",
     "output_type": "stream",
     "text": [
      "E : 2 times\n",
      "D : 1 times\n",
      "L : 2 times\n",
      "W : 1 times\n",
      "P : 2 times\n",
      "U : 1 times\n",
      "R : 1 times\n"
     ]
    }
   ],
   "source": [
    "s=\"WeLL DonE,sUPPERb\"\n",
    "set(s)\n",
    "for i in set(s) :\n",
    "    if i.isupper()==True:\n",
    "        print(i,\":\",s.count(i),\"times\")"
   ]
  },
  {
   "cell_type": "code",
   "execution_count": null,
   "id": "bfcb5f10",
   "metadata": {},
   "outputs": [],
   "source": [
    "Q9.find marks below 40 which is fail:"
   ]
  },
  {
   "cell_type": "code",
   "execution_count": 23,
   "id": "c6fcfb32",
   "metadata": {},
   "outputs": [],
   "source": [
    "marks=[12,51,18,89,36,45,74,67,35,21,35]"
   ]
  },
  {
   "cell_type": "code",
   "execution_count": 29,
   "id": "48cf26b3",
   "metadata": {},
   "outputs": [
    {
     "name": "stdout",
     "output_type": "stream",
     "text": [
      "12 : fail in maths\n",
      "18 : fail in maths\n",
      "36 : fail in maths\n",
      "35 : fail in maths\n",
      "21 : fail in maths\n",
      "35 : fail in maths\n"
     ]
    }
   ],
   "source": [
    "for i in marks:\n",
    "    if i < 40:\n",
    "        print(i,\":\",\"fail in maths\")"
   ]
  }
 ],
 "metadata": {
  "kernelspec": {
   "display_name": "Python 3 (ipykernel)",
   "language": "python",
   "name": "python3"
  },
  "language_info": {
   "codemirror_mode": {
    "name": "ipython",
    "version": 3
   },
   "file_extension": ".py",
   "mimetype": "text/x-python",
   "name": "python",
   "nbconvert_exporter": "python",
   "pygments_lexer": "ipython3",
   "version": "3.9.12"
  }
 },
 "nbformat": 4,
 "nbformat_minor": 5
}
