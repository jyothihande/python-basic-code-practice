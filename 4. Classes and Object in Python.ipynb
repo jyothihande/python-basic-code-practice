{
 "cells": [
  {
   "cell_type": "code",
   "execution_count": null,
   "id": "01d1c609",
   "metadata": {},
   "outputs": [],
   "source": [
    "Q 1. Create a class where a persons age is updated to orginal date of birth:\n",
    "ENCAPSULATION EXAMPLE :"
   ]
  },
  {
   "cell_type": "code",
   "execution_count": 1,
   "id": "46763956",
   "metadata": {},
   "outputs": [],
   "source": [
    "class Person_age:\n",
    "    def __init__(self,name,age,DOB,contact):\n",
    "        self.name=name\n",
    "        self.age=age\n",
    "        self.DOB=DOB\n",
    "        self.contact=contact\n",
    "        print(\"these are personal details\")\n",
    "    def data(self):\n",
    "        print(\"Person's name = \",self.name)\n",
    "        print(\"Person's age = \",self.age)\n",
    "        print(\"Person's Date of birth = \",self.DOB)\n",
    "        print(\"Person's contact = \",self.contact)\n",
    "    def new_DOB(self,dd_mm_yyyy):\n",
    "        self.DOB=dd_mm_yyyy \n",
    "        print(\"correct DOB is \",self.DOB)\n",
    "    "
   ]
  },
  {
   "cell_type": "code",
   "execution_count": 2,
   "id": "d08189d5",
   "metadata": {},
   "outputs": [
    {
     "name": "stdout",
     "output_type": "stream",
     "text": [
      "these are personal details\n"
     ]
    }
   ],
   "source": [
    "age=Person_age(\"Katrina\",34,'24/08/1992',9758712354)"
   ]
  },
  {
   "cell_type": "code",
   "execution_count": 3,
   "id": "fcb5d7b0",
   "metadata": {},
   "outputs": [
    {
     "name": "stdout",
     "output_type": "stream",
     "text": [
      "Person's name =  Katrina\n",
      "Person's age =  34\n",
      "Person's Date of birth =  24/08/1992\n",
      "Person's contact =  9758712354\n"
     ]
    }
   ],
   "source": [
    "age.data()"
   ]
  },
  {
   "cell_type": "code",
   "execution_count": 4,
   "id": "eb1998af",
   "metadata": {},
   "outputs": [
    {
     "name": "stdout",
     "output_type": "stream",
     "text": [
      "correct DOB is  24/08/1889\n"
     ]
    }
   ],
   "source": [
    "age.new_DOB('24/08/1889')"
   ]
  },
  {
   "cell_type": "code",
   "execution_count": 5,
   "id": "69968efb",
   "metadata": {},
   "outputs": [
    {
     "name": "stdout",
     "output_type": "stream",
     "text": [
      "Person's name =  Katrina\n",
      "Person's age =  34\n",
      "Person's Date of birth =  24/08/1889\n",
      "Person's contact =  9758712354\n"
     ]
    }
   ],
   "source": [
    "age.data()"
   ]
  },
  {
   "cell_type": "code",
   "execution_count": null,
   "id": "6dec3310",
   "metadata": {},
   "outputs": [],
   "source": [
    "Q 2. GET scores and percentage of a student from student class:"
   ]
  },
  {
   "cell_type": "code",
   "execution_count": 6,
   "id": "e5946f24",
   "metadata": {},
   "outputs": [
    {
     "name": "stdout",
     "output_type": "stream",
     "text": [
      "Total Subjects of a student and score are given\n"
     ]
    }
   ],
   "source": [
    "class Student:\n",
    "    def __init__(self,English,Hindi,Science,Maths):\n",
    "        self.English=English\n",
    "        self.Hindi=Hindi\n",
    "        self.Science=Science\n",
    "        self.Maths=Maths\n",
    "        print(\"Total Subjects of a student and score are given\")\n",
    "    def score(self):\n",
    "        print(\"English score : \",self.English)\n",
    "        print(\"Hindi score : \",self.Hindi)\n",
    "        print(\"Science score : \",self.Science)\n",
    "        print(\"Maths score : \",self.Maths)\n",
    "        print(\"Percentage of a student : \",((self.English + self.Hindi + self.Science + self.Maths)/400)*100,\"% percentage\")\n",
    "info=Student(56,75,68,71)       "
   ]
  },
  {
   "cell_type": "code",
   "execution_count": 7,
   "id": "d1906793",
   "metadata": {},
   "outputs": [
    {
     "name": "stdout",
     "output_type": "stream",
     "text": [
      "English score :  56\n",
      "Hindi score :  75\n",
      "Science score :  68\n",
      "Maths score :  71\n",
      "Percentage of a student :  67.5 % percentage\n"
     ]
    }
   ],
   "source": [
    "info.score()"
   ]
  },
  {
   "cell_type": "code",
   "execution_count": 8,
   "id": "e193dcb3",
   "metadata": {},
   "outputs": [
    {
     "data": {
      "text/plain": [
       "56"
      ]
     },
     "execution_count": 8,
     "metadata": {},
     "output_type": "execute_result"
    }
   ],
   "source": [
    "info.English"
   ]
  },
  {
   "cell_type": "code",
   "execution_count": null,
   "id": "69038148",
   "metadata": {},
   "outputs": [],
   "source": [
    "3.Multiple Inheritance\n",
    "A+B --> C"
   ]
  },
  {
   "cell_type": "code",
   "execution_count": 9,
   "id": "eb9cdb72",
   "metadata": {},
   "outputs": [],
   "source": [
    "class Positive_numbers:\n",
    "    def __init__(self,positive_integers):\n",
    "        self.positive_integers=positive_integers\n",
    "    def info(self):\n",
    "        print(\"positives numbers are: \",self.positive_integers)"
   ]
  },
  {
   "cell_type": "code",
   "execution_count": 10,
   "id": "3681e62e",
   "metadata": {},
   "outputs": [],
   "source": [
    "class Negative_numbers:\n",
    "    def __init__(self,negative_integers):\n",
    "        self.negative_integers=negative_integers\n",
    "    def info(self):\n",
    "        print(\"negative numbers are: \",self.negative_integers)"
   ]
  },
  {
   "cell_type": "code",
   "execution_count": 11,
   "id": "696f9d1f",
   "metadata": {},
   "outputs": [],
   "source": [
    "class Integers(Positive_numbers,Negative_numbers):\n",
    "    def __init__(self,positive_integers,negative_integers,zero):\n",
    "        Positive_numbers.__init__(self,positive_integers)\n",
    "        Negative_numbers.__init__(self,negative_integers)\n",
    "        self.zero=zero\n",
    "    def info(self):\n",
    "        Positive_numbers.info(self)\n",
    "        Negative_numbers.info(self)\n",
    "        print(self.zero,\"is also a integer\")\n",
    "        print(\"set of intergers is \",self.zero,self.positive_integers,self.negative_integers)\n",
    "              "
   ]
  },
  {
   "cell_type": "code",
   "execution_count": 12,
   "id": "b081ab95",
   "metadata": {},
   "outputs": [],
   "source": [
    "i=Integers(2,-2,0)"
   ]
  },
  {
   "cell_type": "code",
   "execution_count": 13,
   "id": "17bc99f0",
   "metadata": {},
   "outputs": [
    {
     "name": "stdout",
     "output_type": "stream",
     "text": [
      "positives numbers are:  2\n",
      "negative numbers are:  -2\n",
      "0 is also a integer\n",
      "set of intergers is  0 2 -2\n"
     ]
    }
   ],
   "source": [
    "i.info()"
   ]
  },
  {
   "cell_type": "code",
   "execution_count": null,
   "id": "e7e1eebc",
   "metadata": {},
   "outputs": [],
   "source": []
  }
 ],
 "metadata": {
  "kernelspec": {
   "display_name": "Python 3 (ipykernel)",
   "language": "python",
   "name": "python3"
  },
  "language_info": {
   "codemirror_mode": {
    "name": "ipython",
    "version": 3
   },
   "file_extension": ".py",
   "mimetype": "text/x-python",
   "name": "python",
   "nbconvert_exporter": "python",
   "pygments_lexer": "ipython3",
   "version": "3.9.12"
  }
 },
 "nbformat": 4,
 "nbformat_minor": 5
}
