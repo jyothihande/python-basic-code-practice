{
 "cells": [
  {
   "cell_type": "markdown",
   "id": "f4385300",
   "metadata": {},
   "source": [
    "# Q1.Python Program to Check Leap Year."
   ]
  },
  {
   "cell_type": "code",
   "execution_count": 1,
   "id": "24ea246e",
   "metadata": {},
   "outputs": [
    {
     "name": "stdout",
     "output_type": "stream",
     "text": [
      "2000 is a leap year\n"
     ]
    }
   ],
   "source": [
    "\n",
    "year = 2000\n",
    "# divided by 100 means century year (ending with 00)\n",
    "# century year divided by 400 is leap year\n",
    "if (year % 400 == 0) and (year % 100 == 0):\n",
    "    print(\"{0} is a leap year\".format(year))\n",
    "elif (year % 4 ==0) and (year % 100 != 0):\n",
    "    print(\"{0} is a leap year\".format(year))\n",
    "else:\n",
    "    print(\"{0} is not a leap year\".format(year))"
   ]
  },
  {
   "cell_type": "markdown",
   "id": "0b8e290d",
   "metadata": {},
   "source": [
    "# Q2.Python Program to Generate a Random Number."
   ]
  },
  {
   "cell_type": "code",
   "execution_count": 2,
   "id": "363aaf66",
   "metadata": {},
   "outputs": [
    {
     "name": "stdout",
     "output_type": "stream",
     "text": [
      "5\n"
     ]
    }
   ],
   "source": [
    "# Program to generate a random number between 0 and 9\n",
    "\n",
    "# importing the random module\n",
    "import random\n",
    "\n",
    "print(random.randint(0,9))\n"
   ]
  },
  {
   "cell_type": "markdown",
   "id": "e367d455",
   "metadata": {},
   "source": [
    "# Q3.Python Program to Randomly Select an Element From the List."
   ]
  },
  {
   "cell_type": "code",
   "execution_count": 3,
   "id": "770855e5",
   "metadata": {},
   "outputs": [
    {
     "name": "stdout",
     "output_type": "stream",
     "text": [
      "d\n"
     ]
    }
   ],
   "source": [
    "import random\n",
    " # Using random module\n",
    "my_list = [1, 'a', 32, 'c', 'd', 31]\n",
    "print(random.choice(my_list))"
   ]
  },
  {
   "cell_type": "code",
   "execution_count": 4,
   "id": "c80312e4",
   "metadata": {},
   "outputs": [
    {
     "name": "stdout",
     "output_type": "stream",
     "text": [
      "a\n"
     ]
    }
   ],
   "source": [
    "import secrets\n",
    "  #Using secrets module\n",
    "my_list = [1, 'a', 32, 'c', 'd', 31]\n",
    "print(secrets.choice(my_list))"
   ]
  },
  {
   "cell_type": "markdown",
   "id": "bf3c2083",
   "metadata": {},
   "source": [
    "# Q4.Python Program to Get the Last Element of the List."
   ]
  },
  {
   "cell_type": "code",
   "execution_count": 5,
   "id": "0f8cd854",
   "metadata": {},
   "outputs": [
    {
     "name": "stdout",
     "output_type": "stream",
     "text": [
      "e\n"
     ]
    }
   ],
   "source": [
    "my_list = ['a', 'b', 'c', 'd', 'e']  #Using negative indexing\n",
    "\n",
    "# print the last element\n",
    "print(my_list[-1])"
   ]
  },
  {
   "cell_type": "code",
   "execution_count": null,
   "id": "94244431",
   "metadata": {},
   "outputs": [],
   "source": []
  }
 ],
 "metadata": {
  "kernelspec": {
   "display_name": "Python 3 (ipykernel)",
   "language": "python",
   "name": "python3"
  },
  "language_info": {
   "codemirror_mode": {
    "name": "ipython",
    "version": 3
   },
   "file_extension": ".py",
   "mimetype": "text/x-python",
   "name": "python",
   "nbconvert_exporter": "python",
   "pygments_lexer": "ipython3",
   "version": "3.9.12"
  }
 },
 "nbformat": 4,
 "nbformat_minor": 5
}
