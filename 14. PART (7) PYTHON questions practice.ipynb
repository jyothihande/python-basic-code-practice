{
 "cells": [
  {
   "cell_type": "markdown",
   "id": "c653b8b6",
   "metadata": {},
   "source": [
    "# BASIC PYTHON QUESTIONS  PRACTICE:\n",
    "**Explaination is provided."
   ]
  },
  {
   "cell_type": "markdown",
   "id": "0fca2d48",
   "metadata": {},
   "source": [
    "# Q1.What will be the output of the following code snippet?"
   ]
  },
  {
   "cell_type": "code",
   "execution_count": 1,
   "id": "26c99ebd",
   "metadata": {},
   "outputs": [
    {
     "name": "stdout",
     "output_type": "stream",
     "text": [
      "0 3 6 9 12 15 "
     ]
    }
   ],
   "source": [
    "count = 0\n",
    "while(True):\n",
    "    if count % 3 == 0:\n",
    "        print(count, end = \" \")\n",
    "    if(count > 15):\n",
    "            break;\n",
    "    count += 1"
   ]
  },
  {
   "cell_type": "markdown",
   "id": "570e0cbf",
   "metadata": {},
   "source": [
    "# Q2.What will be the output of the following code snippet?"
   ]
  },
  {
   "cell_type": "code",
   "execution_count": 2,
   "id": "d661b3ee",
   "metadata": {},
   "outputs": [
    {
     "name": "stdout",
     "output_type": "stream",
     "text": [
      "10\n"
     ]
    }
   ],
   "source": [
    "def solve(a, b):\n",
    "    return b if a == 0 else solve(b % a, a)\n",
    "print(solve(20, 50))"
   ]
  },
  {
   "cell_type": "markdown",
   "id": "1a068339",
   "metadata": {},
   "source": [
    "# Q3.What will be the output of the following code snippet?"
   ]
  },
  {
   "cell_type": "code",
   "execution_count": 3,
   "id": "cd6850a3",
   "metadata": {},
   "outputs": [
    {
     "name": "stdout",
     "output_type": "stream",
     "text": [
      "3 1\n",
      "1 3\n"
     ]
    }
   ],
   "source": [
    "a = 3\n",
    "b = 1 \n",
    "print(a, b)\n",
    "a, b = b, a  #swaps 2 numbers in Python. \n",
    "print(a, b)"
   ]
  },
  {
   "cell_type": "markdown",
   "id": "a9aa3358",
   "metadata": {},
   "source": [
    "# Q4. What will be the output of the following code"
   ]
  },
  {
   "cell_type": "code",
   "execution_count": 4,
   "id": "6a7d5650",
   "metadata": {
    "scrolled": true
   },
   "outputs": [
    {
     "name": "stdout",
     "output_type": "stream",
     "text": [
      "['Monday', 'Tuesday']\n"
     ]
    }
   ],
   "source": [
    "example = [\"Sunday\", \"Monday\", \"Tuesday\", \"Wednesday\"]\n",
    "print(example[-3:-1])"
   ]
  },
  {
   "cell_type": "markdown",
   "id": "a5be1db1",
   "metadata": {},
   "source": [
    "# Q5.What will be the type of the variable sorted_numbers in the below code snippet?"
   ]
  },
  {
   "cell_type": "code",
   "execution_count": 5,
   "id": "d7d578f1",
   "metadata": {},
   "outputs": [
    {
     "name": "stdout",
     "output_type": "stream",
     "text": [
      "[2, 4, 7, 19, 22, 45, 72, 89]\n"
     ]
    }
   ],
   "source": [
    "numbers = (4, 7, 19, 2, 89, 45, 72, 22)\n",
    "sorted_numbers = sorted(numbers)\n",
    "print(sorted_numbers)  # output is list type."
   ]
  },
  {
   "cell_type": "code",
   "execution_count": 6,
   "id": "524b5a79",
   "metadata": {},
   "outputs": [
    {
     "name": "stdout",
     "output_type": "stream",
     "text": [
      "<class 'filter'>\n"
     ]
    }
   ],
   "source": [
    "numbers = (4, 7, 19, 2, 89, 45, 72, 22)\n",
    "sorted_numbers = sorted(numbers)\n",
    "even = lambda a: a % 2 == 0\n",
    "even_numbers = filter(even, sorted_numbers)\n",
    "print(type(even_numbers))  # The filter function returns an object of type “filter”."
   ]
  },
  {
   "cell_type": "markdown",
   "id": "c761ed25",
   "metadata": {},
   "source": [
    "# Q6. What will be the output "
   ]
  },
  {
   "cell_type": "code",
   "execution_count": 7,
   "id": "afbb7b10",
   "metadata": {},
   "outputs": [
    {
     "name": "stdout",
     "output_type": "stream",
     "text": [
      "[7, 19, 45, 89]\n"
     ]
    }
   ],
   "source": [
    "numbers = (4, 7, 19, 2, 89, 45, 72, 22)\n",
    "sorted_numbers = sorted(numbers)\n",
    "odd_numbers = [x for x in sorted_numbers if x % 2 != 0]\n",
    "print(odd_numbers)"
   ]
  },
  {
   "cell_type": "code",
   "execution_count": 8,
   "id": "df97ea7b",
   "metadata": {},
   "outputs": [
    {
     "name": "stdout",
     "output_type": "stream",
     "text": [
      "{'first': 'sunday', 'second': 'monday', 1: 3, 2: 4}\n"
     ]
    }
   ],
   "source": [
    "dict1 = {'first' : 'sunday', 'second' : 'monday'}\n",
    "dict2 = {1: 3, 2: 4}\n",
    "dict1.update(dict2)\n",
    "print(dict1)"
   ]
  },
  {
   "cell_type": "code",
   "execution_count": null,
   "id": "aa46f20c",
   "metadata": {},
   "outputs": [],
   "source": [
    "#The update function in python merges the contents of 2 dictionaries and \n",
    "#stores them in the invoking dictionary."
   ]
  },
  {
   "cell_type": "markdown",
   "id": "3cc18a8e",
   "metadata": {},
   "source": [
    "# Q7. What will be the output"
   ]
  },
  {
   "cell_type": "code",
   "execution_count": 9,
   "id": "992b48d2",
   "metadata": {},
   "outputs": [
    {
     "name": "stdout",
     "output_type": "stream",
     "text": [
      "pYtHoN PrOgRaMmInG\n"
     ]
    }
   ],
   "source": [
    "word = \"Python Programming\"\n",
    "n = len(word)\n",
    "word1 = word.upper()\n",
    "word2 = word.lower()\n",
    "converted_word = \"\"\n",
    "for i in range(n):\n",
    "    if i % 2 == 0:\n",
    "        converted_word += word2[i]\n",
    "    else:\n",
    "        converted_word += word1[i]\n",
    "print(converted_word)"
   ]
  },
  {
   "cell_type": "code",
   "execution_count": 10,
   "id": "a279d3a0",
   "metadata": {},
   "outputs": [
    {
     "name": "stdout",
     "output_type": "stream",
     "text": [
      "20\n"
     ]
    }
   ],
   "source": [
    "a = \"4, 5\"\n",
    "nums = a.split(',')\n",
    "x, y = nums\n",
    "int_prod = int(x) * int(y)\n",
    "print(int_prod)"
   ]
  },
  {
   "cell_type": "markdown",
   "id": "c8a518c4",
   "metadata": {},
   "source": [
    "# Q8. What will be the output"
   ]
  },
  {
   "cell_type": "code",
   "execution_count": 11,
   "id": "768e35df",
   "metadata": {},
   "outputs": [
    {
     "name": "stdout",
     "output_type": "stream",
     "text": [
      "[0, 1, 4, 9, 16]\n"
     ]
    }
   ],
   "source": [
    "square = lambda x: x ** 2\n",
    "a = []\n",
    "for i in range(5):\n",
    "    a.append(square(i))\n",
    "print(a)"
   ]
  },
  {
   "cell_type": "code",
   "execution_count": 12,
   "id": "e2b83c18",
   "metadata": {},
   "outputs": [
    {
     "name": "stdout",
     "output_type": "stream",
     "text": [
      "2 3 -3 3.3\n"
     ]
    }
   ],
   "source": [
    "from math import *\n",
    "a = 2.19\n",
    "b = 3.999999\n",
    "c = -3.30\n",
    "print(int(a), floor(b), ceil(c), fabs(c))"
   ]
  },
  {
   "cell_type": "code",
   "execution_count": 13,
   "id": "766604a0",
   "metadata": {},
   "outputs": [
    {
     "ename": "TypeError",
     "evalue": "unsupported operand type(s) for +: 'set' and 'set'",
     "output_type": "error",
     "traceback": [
      "\u001b[1;31m---------------------------------------------------------------------------\u001b[0m",
      "\u001b[1;31mTypeError\u001b[0m                                 Traceback (most recent call last)",
      "Input \u001b[1;32mIn [13]\u001b[0m, in \u001b[0;36m<cell line: 4>\u001b[1;34m()\u001b[0m\n\u001b[0;32m      2\u001b[0m set1 \u001b[38;5;241m=\u001b[39m {\u001b[38;5;241m1\u001b[39m, \u001b[38;5;241m3\u001b[39m, \u001b[38;5;241m5\u001b[39m}\n\u001b[0;32m      3\u001b[0m set2 \u001b[38;5;241m=\u001b[39m {\u001b[38;5;241m2\u001b[39m, \u001b[38;5;241m4\u001b[39m, \u001b[38;5;241m6\u001b[39m}\n\u001b[1;32m----> 4\u001b[0m \u001b[38;5;28mprint\u001b[39m(\u001b[38;5;28mlen\u001b[39m(\u001b[43mset1\u001b[49m\u001b[43m \u001b[49m\u001b[38;5;241;43m+\u001b[39;49m\u001b[43m \u001b[49m\u001b[43mset2\u001b[49m))\n",
      "\u001b[1;31mTypeError\u001b[0m: unsupported operand type(s) for +: 'set' and 'set'"
     ]
    }
   ],
   "source": [
    "#The code will give an error since + operator is not overloaded for sets in Python.\n",
    "set1 = {1, 3, 5}\n",
    "set2 = {2, 4, 6}\n",
    "print(len(set1 + set2))  # two set  can not be added"
   ]
  },
  {
   "cell_type": "code",
   "execution_count": 78,
   "id": "36ecc6f2",
   "metadata": {},
   "outputs": [
    {
     "name": "stdout",
     "output_type": "stream",
     "text": [
      "{1, 3, 5, 6}\n"
     ]
    }
   ],
   "source": [
    "s1 = {1, 2, 3, 4, 5}\n",
    "s2 = {2, 4, 6}\n",
    "print(s1 ^ s2)"
   ]
  },
  {
   "cell_type": "code",
   "execution_count": null,
   "id": "36f0f4cc",
   "metadata": {},
   "outputs": [],
   "source": [
    "The ^ operator in sets will return a set containing common of elements of its operand sets."
   ]
  },
  {
   "cell_type": "markdown",
   "id": "98d1b753",
   "metadata": {},
   "source": [
    "# Q.9"
   ]
  },
  {
   "cell_type": "code",
   "execution_count": 14,
   "id": "bb1ad6db",
   "metadata": {},
   "outputs": [
    {
     "name": "stdout",
     "output_type": "stream",
     "text": [
      "['abc', [0], 1]\n"
     ]
    }
   ],
   "source": [
    "a = [[], \"abc\", [0], 1, 0]\n",
    "print(list(filter(bool, a)))"
   ]
  },
  {
   "cell_type": "markdown",
   "id": "8c852b06",
   "metadata": {},
   "source": [
    "# Q10.What will be the result of the following expression in Python “2 ** 3 + 5 ** 2"
   ]
  },
  {
   "cell_type": "code",
   "execution_count": 15,
   "id": "303de77f",
   "metadata": {},
   "outputs": [
    {
     "data": {
      "text/plain": [
       "33"
      ]
     },
     "execution_count": 15,
     "metadata": {},
     "output_type": "execute_result"
    }
   ],
   "source": [
    "2 ** 3 + 5 ** 2"
   ]
  },
  {
   "cell_type": "code",
   "execution_count": null,
   "id": "2729b997",
   "metadata": {},
   "outputs": [],
   "source": [
    "The above expression will be evaluated as 2^3 + 5^2 = 8 + 25 = 33."
   ]
  }
 ],
 "metadata": {
  "kernelspec": {
   "display_name": "Python 3 (ipykernel)",
   "language": "python",
   "name": "python3"
  },
  "language_info": {
   "codemirror_mode": {
    "name": "ipython",
    "version": 3
   },
   "file_extension": ".py",
   "mimetype": "text/x-python",
   "name": "python",
   "nbconvert_exporter": "python",
   "pygments_lexer": "ipython3",
   "version": "3.9.12"
  }
 },
 "nbformat": 4,
 "nbformat_minor": 5
}
