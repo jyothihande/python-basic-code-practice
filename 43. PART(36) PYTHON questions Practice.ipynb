{
 "cells": [
  {
   "cell_type": "markdown",
   "id": "7a0979d3",
   "metadata": {},
   "source": [
    "# Q1.Python Math: Calculate the area of a parallelogram."
   ]
  },
  {
   "cell_type": "code",
   "execution_count": 1,
   "id": "63a8feda",
   "metadata": {},
   "outputs": [
    {
     "name": "stdout",
     "output_type": "stream",
     "text": [
      "Length of base: 4\n",
      "Measurement of height: 6\n",
      "Area is:  24.0\n"
     ]
    }
   ],
   "source": [
    "base = float(input('Length of base: '))\n",
    "height = float(input('Measurement of height: '))\n",
    "area = base * height  # formula for area parallelogram.\n",
    "print(\"Area is: \", area)"
   ]
  },
  {
   "cell_type": "markdown",
   "id": "c5c93d4b",
   "metadata": {},
   "source": [
    "# Q2.Python Math: Print a complex number and its real and imaginary parts."
   ]
  },
  {
   "cell_type": "code",
   "execution_count": 2,
   "id": "ddf71c95",
   "metadata": {},
   "outputs": [
    {
     "data": {
      "text/plain": [
       "(2+3j)"
      ]
     },
     "execution_count": 2,
     "metadata": {},
     "output_type": "execute_result"
    }
   ],
   "source": [
    "complx = complex(2,3)\n",
    "complx"
   ]
  },
  {
   "cell_type": "code",
   "execution_count": 7,
   "id": "e59487d1",
   "metadata": {},
   "outputs": [
    {
     "name": "stdout",
     "output_type": "stream",
     "text": [
      "Complex Number - Imaginary part: 3.0\n",
      "Complex Number - Real part:  2.0\n"
     ]
    }
   ],
   "source": [
    "print(\"Complex Number - Imaginary part:\",complx.imag)\n",
    "print(\"Complex Number - Real part: \",complx.real)"
   ]
  },
  {
   "cell_type": "markdown",
   "id": "6aa85e16",
   "metadata": {},
   "source": [
    "# Q3.Write a Python program to add, subtract, multiply, and divide two complex numbers."
   ]
  },
  {
   "cell_type": "code",
   "execution_count": 8,
   "id": "516c2f10",
   "metadata": {},
   "outputs": [
    {
     "name": "stdout",
     "output_type": "stream",
     "text": [
      "Addition of two complex numbers :  (7-4j)\n",
      "Subtraction of two complex numbers :  (1+10j)\n",
      "Multiplication of two complex numbers :  (33-19j)\n",
      "Division of two complex numbers :  (-0.15517241379310348+0.6379310344827587j)\n"
     ]
    }
   ],
   "source": [
    "print(\"Addition of two complex numbers : \",(4+3j)+(3-7j))\n",
    "print(\"Subtraction of two complex numbers : \",(4+3j)-(3-7j))\n",
    "print(\"Multiplication of two complex numbers : \",(4+3j)*(3-7j))\n",
    "print(\"Division of two complex numbers : \",(4+3j)/(3-7j))\n"
   ]
  },
  {
   "cell_type": "markdown",
   "id": "3e8681ae",
   "metadata": {},
   "source": [
    "# Q4.Python Math: Find the Maximum and minimum numbers from the specified decimal numbers."
   ]
  },
  {
   "cell_type": "code",
   "execution_count": 9,
   "id": "25c45f1e",
   "metadata": {},
   "outputs": [
    {
     "name": "stdout",
     "output_type": "stream",
     "text": [
      "Maximum:  7.25\n",
      "Minimum:  0.04\n"
     ]
    }
   ],
   "source": [
    "from decimal import *\n",
    "data = list(map(Decimal, '2.45 2.69 2.45 3.45 2.00 0.04 7.25'.split()))\n",
    "print(\"Maximum: \", max(data))\n",
    "print(\"Minimum: \", min(data))"
   ]
  },
  {
   "cell_type": "markdown",
   "id": "e3c25185",
   "metadata": {},
   "source": [
    "# Q5.Python Math: Add, subtract, multiply and divide two fractions."
   ]
  },
  {
   "cell_type": "code",
   "execution_count": 10,
   "id": "7c1dec60",
   "metadata": {},
   "outputs": [
    {
     "name": "stdout",
     "output_type": "stream",
     "text": [
      "2/3 + 3/7 = 23/21\n",
      "2/3 - 3/7 = 5/21\n",
      "2/3 * 3/7 = 2/7\n",
      "2/3 / 3/7 = 14/9\n"
     ]
    }
   ],
   "source": [
    "import fractions\n",
    "\n",
    "f1 = fractions.Fraction(2, 3)\n",
    "f2 = fractions.Fraction(3, 7)\n",
    "\n",
    "print('{} + {} = {}'.format(f1, f2, f1 + f2))\n",
    "print('{} - {} = {}'.format(f1, f2, f1 - f2))\n",
    "print('{} * {} = {}'.format(f1, f2, f1 * f2))\n",
    "print('{} / {} = {}'.format(f1, f2, f1 / f2))"
   ]
  },
  {
   "cell_type": "markdown",
   "id": "02b69173",
   "metadata": {},
   "source": [
    "# Q6.Python Math: Generate random integers in a specific numerical range."
   ]
  },
  {
   "cell_type": "code",
   "execution_count": 11,
   "id": "a21ce08d",
   "metadata": {},
   "outputs": [
    {
     "name": "stdout",
     "output_type": "stream",
     "text": [
      "52 73 30 72 45 18 "
     ]
    }
   ],
   "source": [
    "import random\n",
    "\n",
    "for x in range(6):\n",
    "    print(random.randrange(x, 100), end=' ')"
   ]
  },
  {
   "cell_type": "markdown",
   "id": "b65d5197",
   "metadata": {},
   "source": [
    "# Q7.Python Math: Get a single random element from a specified string."
   ]
  },
  {
   "cell_type": "code",
   "execution_count": 13,
   "id": "1bd8c116",
   "metadata": {},
   "outputs": [
    {
     "name": "stdout",
     "output_type": "stream",
     "text": [
      "e\n"
     ]
    }
   ],
   "source": [
    "import random\n",
    "print(random.choice('data science coders'))"
   ]
  },
  {
   "cell_type": "code",
   "execution_count": null,
   "id": "5dc2762b",
   "metadata": {},
   "outputs": [],
   "source": []
  }
 ],
 "metadata": {
  "kernelspec": {
   "display_name": "Python 3 (ipykernel)",
   "language": "python",
   "name": "python3"
  },
  "language_info": {
   "codemirror_mode": {
    "name": "ipython",
    "version": 3
   },
   "file_extension": ".py",
   "mimetype": "text/x-python",
   "name": "python",
   "nbconvert_exporter": "python",
   "pygments_lexer": "ipython3",
   "version": "3.9.12"
  }
 },
 "nbformat": 4,
 "nbformat_minor": 5
}
