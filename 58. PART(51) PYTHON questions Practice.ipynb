{
 "cells": [
  {
   "cell_type": "markdown",
   "id": "705d339a",
   "metadata": {},
   "source": [
    "# Q1.Python program to find sum of elements in list."
   ]
  },
  {
   "cell_type": "code",
   "execution_count": 2,
   "id": "fe541d3e",
   "metadata": {},
   "outputs": [
    {
     "name": "stdout",
     "output_type": "stream",
     "text": [
      "Sum of all elements in given list:  10.3\n"
     ]
    }
   ],
   "source": [
    "# Python program to find sum of elements in list\n",
    "\n",
    "total = 0\n",
    "\n",
    "# creating a list\n",
    "list1 = [1,2.3,3,4]\n",
    "\n",
    "# Iterate each element in list\n",
    "# and add them in variable total\n",
    "for ele in range(0, len(list1)):\n",
    "    total = total + list1[ele]\n",
    "\n",
    "# printing total value\n",
    "print(\"Sum of all elements in given list: \", total)\n"
   ]
  },
  {
   "cell_type": "markdown",
   "id": "4976cf40",
   "metadata": {},
   "source": [
    "# Q2.Python program to print all negative numbers in a range."
   ]
  },
  {
   "cell_type": "code",
   "execution_count": 6,
   "id": "6e1df7d8",
   "metadata": {},
   "outputs": [
    {
     "name": "stdout",
     "output_type": "stream",
     "text": [
      "Enter the start of range: -5\n",
      "Enter the end of range: 6\n",
      "-5 -4 -3 -2 -1 "
     ]
    }
   ],
   "source": [
    "# Python program to print negative Numbers in given range\n",
    "\n",
    "start = int(input(\"Enter the start of range: \"))\n",
    "end = int(input(\"Enter the end of range: \"))\n",
    "# iterating each number in list\n",
    "for num in range(start, end + 1):\n",
    "    if num < 0:\n",
    "        print(num, end = \" \")"
   ]
  },
  {
   "cell_type": "markdown",
   "id": "01325bf3",
   "metadata": {},
   "source": [
    "# Q3.Python | Find maximum length sub-list in a nested list."
   ]
  },
  {
   "cell_type": "code",
   "execution_count": 7,
   "id": "dd98bc95",
   "metadata": {},
   "outputs": [
    {
     "name": "stdout",
     "output_type": "stream",
     "text": [
      "(['A', 'B', 'C'], 3)\n"
     ]
    }
   ],
   "source": [
    "# Python3 program to Find maximum\n",
    "# length list in a nested list\n",
    "\n",
    "def FindMaxLength(lst):\n",
    "    maxList = max((x) for x in lst)\n",
    "    maxLength = max(len(x) for x in lst )\n",
    "    return maxList, maxLength\n",
    "# Driver Code\n",
    "lst = [['A'], ['A', 'B'], ['A', 'B', 'C']]\n",
    "print(FindMaxLength(lst))\n"
   ]
  },
  {
   "cell_type": "code",
   "execution_count": 8,
   "id": "44bb94b2",
   "metadata": {},
   "outputs": [
    {
     "name": "stdout",
     "output_type": "stream",
     "text": [
      "(['A', 'B', 'C'], 3)\n"
     ]
    }
   ],
   "source": [
    "# Python3 program to Find maximum\n",
    "# length list in a nested list\n",
    "\n",
    "def FindMaxLength(lst):\n",
    "    maxList = max(lst, key = len)\n",
    "    maxLength = max(map(len, lst))\n",
    "    return maxList, maxLength\n",
    "\n",
    "# Driver Code\n",
    "lst = [['A'], ['A', 'B'], ['A', 'B', 'C'], ]\n",
    "print(FindMaxLength(lst))\n"
   ]
  },
  {
   "cell_type": "markdown",
   "id": "bba76df0",
   "metadata": {},
   "source": [
    "# Q4.Python | Append multiple lists at once."
   ]
  },
  {
   "cell_type": "code",
   "execution_count": 12,
   "id": "de329af6",
   "metadata": {},
   "outputs": [
    {
     "name": "stdout",
     "output_type": "stream",
     "text": [
      "The original list 1 is : [1, 3, 5, 5, 4]\n",
      "The original list 2 is : [4, 6, 2, 8, 10]\n",
      "The original list 3 is : [7, 5, 2, 9, 11]\n",
      "The extended and modified list is: [1, 3, 5, 5, 4, 4, 6, 2, 8, 10, 7, 5, 2, 9, 11]\n"
     ]
    }
   ],
   "source": [
    "#Initializing three lists\n",
    "test_list1 = [1, 3, 5, 5, 4]\n",
    "test_list2 = [4, 6, 2, 8, 10]\n",
    "test_list3 = [7, 5, 2, 9, 11]\n",
    "\n",
    "# printing original lists\n",
    "print (\"The original list 1 is : \" + str(test_list1))\n",
    "print (\"The original list 2 is : \" + str(test_list2))\n",
    "print (\"The original list 3 is : \" + str(test_list3))\n",
    "\n",
    "#Loop over the other two lists and append each element to the first list\n",
    "for l in (test_list2, test_list3):\n",
    "    for element in l:\n",
    "        test_list1.append(element)\n",
    "\n",
    "#Print the extended and modified list\n",
    "print(\"The extended and modified list is:\", test_list1)\n"
   ]
  },
  {
   "cell_type": "code",
   "execution_count": 9,
   "id": "8f638c5e",
   "metadata": {},
   "outputs": [
    {
     "name": "stdout",
     "output_type": "stream",
     "text": [
      "The original list 1 is : [1, 3, 5, 5, 4]\n",
      "The original list 2 is : [4, 6, 2, 8, 10]\n",
      "The original list 3 is : [7, 5, 2, 9, 11]\n",
      "The extended and modified list is : [1, 3, 5, 5, 4, 4, 6, 2, 8, 10, 7, 5, 2, 9, 11]\n"
     ]
    }
   ],
   "source": [
    "# initializing lists\n",
    "test_list1 = [1, 3, 5, 5, 4]\n",
    "test_list2 = [4, 6, 2, 8, 10]\n",
    "test_list3 = [7, 5, 2, 9, 11]\n",
    "\n",
    "# printing original lists\n",
    "print (\"The original list 1 is : \" + str(test_list1))\n",
    "print (\"The original list 2 is : \" + str(test_list2))\n",
    "print (\"The original list 3 is : \" + str(test_list3))\n",
    "\n",
    "#using list comprehension\n",
    "[test_list1.extend(l) for l in (test_list2,test_list3)]\n",
    "\n",
    "print (\"The extended and modified list is : \" + str(test_list1))\n"
   ]
  },
  {
   "cell_type": "code",
   "execution_count": 10,
   "id": "8b44da7b",
   "metadata": {},
   "outputs": [
    {
     "name": "stdout",
     "output_type": "stream",
     "text": [
      "The original list 1 is : [1, 3, 5, 5, 4]\n",
      "The original list 2 is : [4, 6, 2, 8, 10]\n",
      "The original list 3 is : [7, 5, 2, 9, 11]\n",
      "The extended and modified list is : [1, 3, 5, 5, 4, 4, 6, 2, 8, 10, 7, 5, 2, 9, 11]\n"
     ]
    }
   ],
   "source": [
    "# initializing lists\n",
    "test_list1 = [1, 3, 5, 5, 4]\n",
    "test_list2 = [4, 6, 2, 8, 10]\n",
    "test_list3 = [7, 5, 2, 9, 11]\n",
    "\n",
    "# printing original lists\n",
    "print (\"The original list 1 is : \" + str(test_list1))\n",
    "print (\"The original list 2 is : \" + str(test_list2))\n",
    "print (\"The original list 3 is : \" + str(test_list3))\n",
    "\n",
    "# using + operator\n",
    "# adding multiple list at once\n",
    "test_list1 = test_list1 + test_list2 + test_list3\n",
    "\n",
    "# printing result\n",
    "print (\"The extended and modified list is : \" + str(test_list1))\n"
   ]
  },
  {
   "cell_type": "code",
   "execution_count": 11,
   "id": "1daa3eb6",
   "metadata": {},
   "outputs": [
    {
     "name": "stdout",
     "output_type": "stream",
     "text": [
      "The original list 1 is : [1, 3, 5, 5, 4]\n",
      "The original list 2 is : [4, 6, 2, 8, 10]\n",
      "The original list 3 is : [7, 5, 2, 9, 11]\n",
      "The extended and modified list is : [1, 3, 5, 5, 4, 4, 6, 2, 8, 10, 7, 5, 2, 9, 11]\n"
     ]
    }
   ],
   "source": [
    "from itertools import chain\n",
    "\n",
    "# initializing lists\n",
    "test_list1 = [1, 3, 5, 5, 4]\n",
    "test_list2 = [4, 6, 2, 8, 10]\n",
    "test_list3 = [7, 5, 2, 9, 11]\n",
    "\n",
    "# printing original lists\n",
    "print (\"The original list 1 is : \" + str(test_list1))\n",
    "print (\"The original list 2 is : \" + str(test_list2))\n",
    "print (\"The original list 3 is : \" + str(test_list3))\n",
    "\n",
    "# using itertools.chain()\n",
    "# adding multiple list at once\n",
    "test_list1 = list(chain(test_list1, test_list2, test_list3))\n",
    "\n",
    "\n",
    "# printing result\n",
    "print (\"The extended and modified list is : \" + str(test_list1))\n"
   ]
  },
  {
   "cell_type": "code",
   "execution_count": null,
   "id": "67b73534",
   "metadata": {},
   "outputs": [],
   "source": []
  }
 ],
 "metadata": {
  "kernelspec": {
   "display_name": "Python 3 (ipykernel)",
   "language": "python",
   "name": "python3"
  },
  "language_info": {
   "codemirror_mode": {
    "name": "ipython",
    "version": 3
   },
   "file_extension": ".py",
   "mimetype": "text/x-python",
   "name": "python",
   "nbconvert_exporter": "python",
   "pygments_lexer": "ipython3",
   "version": "3.9.12"
  }
 },
 "nbformat": 4,
 "nbformat_minor": 5
}
