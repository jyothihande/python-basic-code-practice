{
 "cells": [
  {
   "cell_type": "markdown",
   "id": "ee371628",
   "metadata": {},
   "source": [
    "# Q1.Python program to find sum of elements in list."
   ]
  },
  {
   "cell_type": "code",
   "execution_count": 1,
   "id": "670be3c7",
   "metadata": {},
   "outputs": [
    {
     "name": "stdout",
     "output_type": "stream",
     "text": [
      "Sum of all elements in given list:  74\n"
     ]
    }
   ],
   "source": [
    "total = 0\n",
    "\n",
    "# creating a list\n",
    "list1 = [11, 5, 17, 18, 23]\n",
    "\n",
    "# Iterate each element in list\n",
    "# and add them in variable total\n",
    "for ele in range(0, len(list1)):\n",
    "    total = total + list1[ele]\n",
    "\n",
    "# printing total value\n",
    "print(\"Sum of all elements in given list: \", total)\n"
   ]
  },
  {
   "cell_type": "markdown",
   "id": "c96ac8fd",
   "metadata": {},
   "source": [
    "# Q2.Python Difference between two lists."
   ]
  },
  {
   "cell_type": "code",
   "execution_count": 3,
   "id": "94928817",
   "metadata": {},
   "outputs": [
    {
     "name": "stdout",
     "output_type": "stream",
     "text": [
      "[10, 15, 20, 30]\n"
     ]
    }
   ],
   "source": [
    "list1 = [10, 15, 20, 25, 30, 35, 40]\n",
    "list2 = [25, 40, 35]\n",
    "\n",
    "output = []\n",
    "for element in list1:\n",
    "    if element not in list2:\n",
    "        output.append(element)\n",
    "\n",
    "print(output)\n"
   ]
  },
  {
   "cell_type": "markdown",
   "id": "82bcf898",
   "metadata": {},
   "source": [
    "# Q3.Python code Check if two lists are identical."
   ]
  },
  {
   "cell_type": "code",
   "execution_count": 4,
   "id": "e7b1b16b",
   "metadata": {},
   "outputs": [
    {
     "name": "stdout",
     "output_type": "stream",
     "text": [
      "The first list is : [1, 2, 4, 3, 5]\n",
      "The second list is : [1, 2, 4, 3, 5]\n",
      "The lists are identical\n"
     ]
    }
   ],
   "source": [
    "# initializing lists\n",
    "test_list1 = [1, 2, 4, 3, 5]\n",
    "test_list2 = [1, 2, 4, 3, 5]\n",
    "\n",
    "# printing lists\n",
    "print(\"The first list is : \" + str(test_list1))\n",
    "print(\"The second list is : \" + str(test_list2))\n",
    "\n",
    "# sorting both the lists\n",
    "test_list1.sort()\n",
    "test_list2.sort()\n",
    "\n",
    "# using == to check if\n",
    "# lists are equal\n",
    "if test_list1 == test_list2:\n",
    "    print(\"The lists are identical\")\n",
    "else:\n",
    "    print(\"The lists are not identical\")\n"
   ]
  },
  {
   "cell_type": "code",
   "execution_count": null,
   "id": "ba23d61a",
   "metadata": {},
   "outputs": [],
   "source": []
  }
 ],
 "metadata": {
  "kernelspec": {
   "display_name": "Python 3 (ipykernel)",
   "language": "python",
   "name": "python3"
  },
  "language_info": {
   "codemirror_mode": {
    "name": "ipython",
    "version": 3
   },
   "file_extension": ".py",
   "mimetype": "text/x-python",
   "name": "python",
   "nbconvert_exporter": "python",
   "pygments_lexer": "ipython3",
   "version": "3.9.12"
  }
 },
 "nbformat": 4,
 "nbformat_minor": 5
}
