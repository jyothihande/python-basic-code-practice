{
 "cells": [
  {
   "cell_type": "markdown",
   "id": "38c77168",
   "metadata": {},
   "source": [
    "# Q1.Python Program that Displays which Letters are in First String but not in Second."
   ]
  },
  {
   "cell_type": "code",
   "execution_count": 1,
   "id": "3ef3fed8",
   "metadata": {},
   "outputs": [
    {
     "name": "stdout",
     "output_type": "stream",
     "text": [
      "Enter first string:Hello\n",
      "Enter second string:Data science\n",
      "The letters are:\n",
      "l\n",
      "H\n",
      "o\n"
     ]
    }
   ],
   "source": [
    "s1=input(\"Enter first string:\")\n",
    "s2=input(\"Enter second string:\")\n",
    "a=list(set(s1)-set(s2))\n",
    "print(\"The letters are:\")\n",
    "for i in a:\n",
    "    print(i)"
   ]
  },
  {
   "cell_type": "markdown",
   "id": "96c8357d",
   "metadata": {},
   "source": [
    "# Q2.Python Program to Find Common Characters in Two Strings."
   ]
  },
  {
   "cell_type": "code",
   "execution_count": 3,
   "id": "54a50c8c",
   "metadata": {},
   "outputs": [
    {
     "name": "stdout",
     "output_type": "stream",
     "text": [
      "Enter first string:123HELLO\n",
      "Enter second string:BYE456\n",
      "The common letters are:\n",
      "E\n"
     ]
    }
   ],
   "source": [
    "s1=input(\"Enter first string:\")\n",
    "s2=input(\"Enter second string:\")\n",
    "a=list(set(s1)&set(s2))\n",
    "print(\"The common letters are:\")\n",
    "for i in a:\n",
    "    print(i)"
   ]
  },
  {
   "cell_type": "markdown",
   "id": "5edb2591",
   "metadata": {},
   "source": [
    "# Q3.Python Program to Count the Number of Vowels in a String."
   ]
  },
  {
   "cell_type": "code",
   "execution_count": 5,
   "id": "15698d07",
   "metadata": {},
   "outputs": [
    {
     "name": "stdout",
     "output_type": "stream",
     "text": [
      "Enter string:Data science\n",
      "Number of vowels are:\n",
      "5\n"
     ]
    }
   ],
   "source": [
    "string=input(\"Enter string:\")\n",
    "vowels=0\n",
    "for i in string:\n",
    "      if(i=='a' or i=='e' or i=='i' or i=='o' or i=='u' or i=='A' or i=='E' or i=='I' or i=='O' or i=='U'):\n",
    "            vowels=vowels+1\n",
    "print(\"Number of vowels are:\")\n",
    "print(vowels)"
   ]
  },
  {
   "cell_type": "markdown",
   "id": "ecf76a4d",
   "metadata": {},
   "source": [
    "# Q4.Python Program to Replace Every Blank Space with Hyphen in a String."
   ]
  },
  {
   "cell_type": "code",
   "execution_count": 9,
   "id": "5ef6903a",
   "metadata": {},
   "outputs": [
    {
     "name": "stdout",
     "output_type": "stream",
     "text": [
      "Enter string:Hello coders\n",
      "Modified string:\n",
      "Hello-coders\n"
     ]
    }
   ],
   "source": [
    "string=input(\"Enter string:\")\n",
    "string=string.replace(' ','-')\n",
    "print(\"Modified string:\")\n",
    "print(string)"
   ]
  },
  {
   "cell_type": "code",
   "execution_count": null,
   "id": "c409fdbc",
   "metadata": {},
   "outputs": [],
   "source": []
  }
 ],
 "metadata": {
  "kernelspec": {
   "display_name": "Python 3 (ipykernel)",
   "language": "python",
   "name": "python3"
  },
  "language_info": {
   "codemirror_mode": {
    "name": "ipython",
    "version": 3
   },
   "file_extension": ".py",
   "mimetype": "text/x-python",
   "name": "python",
   "nbconvert_exporter": "python",
   "pygments_lexer": "ipython3",
   "version": "3.9.12"
  }
 },
 "nbformat": 4,
 "nbformat_minor": 5
}
