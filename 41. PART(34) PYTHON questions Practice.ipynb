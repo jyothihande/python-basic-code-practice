{
 "cells": [
  {
   "cell_type": "markdown",
   "id": "17303038",
   "metadata": {},
   "source": [
    "# Q1.Write a code for permeter and areas of a various shapes."
   ]
  },
  {
   "cell_type": "code",
   "execution_count": null,
   "id": "26b72df8",
   "metadata": {},
   "outputs": [],
   "source": [
    "1.Rectangle\n",
    "Area of Rectangle = length * breadth\n",
    "\n",
    "Perimeter of Rectangle = 2 (length + breadth)\n",
    "\n",
    "2.square\n",
    "Area of Square = side * side\n",
    "\n",
    "Perimeter of Square = 4*side\n",
    "\n",
    "3.circle\n",
    "Area of circle= pie*radius**2\n",
    "\n",
    "Perimter of circle= 2*pie*radius\n"
   ]
  },
  {
   "cell_type": "markdown",
   "id": "8bc03500",
   "metadata": {},
   "source": [
    "# AREA AND PERIMETER OF RECTANGLE"
   ]
  },
  {
   "cell_type": "code",
   "execution_count": 8,
   "id": "50bfa471",
   "metadata": {},
   "outputs": [
    {
     "name": "stdout",
     "output_type": "stream",
     "text": [
      "enter length of a side: 6\n",
      "enter breadth of a side: 4\n",
      "Area of a Rectangle: 6 * 4 = 24\n",
      "Perimeter of a Rectangle:  2 * 6 + 4 = 20\n"
     ]
    }
   ],
   "source": [
    "length=int(input(\"enter length of a side: \"))\n",
    "breadth=int(input(\"enter breadth of a side: \"))\n",
    "print(\"Area of a Rectangle:\",length ,\"*\",breadth,\"=\",length*breadth)\n",
    "print(\"Perimeter of a Rectangle: \",\"2 *\",length,\"+\",breadth,\"=\",int(2)*(length+breadth))"
   ]
  },
  {
   "cell_type": "code",
   "execution_count": 16,
   "id": "a8611640",
   "metadata": {},
   "outputs": [
    {
     "data": {
      "text/plain": [
       "(15, 'Area of a Rectangle')"
      ]
     },
     "execution_count": 16,
     "metadata": {},
     "output_type": "execute_result"
    }
   ],
   "source": [
    "def Area(side1,side2):\n",
    "    return(side1*side2,\"Area of a Rectangle\")\n",
    "Area(5,3)"
   ]
  },
  {
   "cell_type": "code",
   "execution_count": 17,
   "id": "f000140f",
   "metadata": {},
   "outputs": [
    {
     "data": {
      "text/plain": [
       "(16, 'Perimeter of a Rectangle')"
      ]
     },
     "execution_count": 17,
     "metadata": {},
     "output_type": "execute_result"
    }
   ],
   "source": [
    "def Perimeter(length,breadth):\n",
    "    return(int(2)*(length+breadth),\"Perimeter of a Rectangle\")\n",
    "Perimeter(5,3)"
   ]
  },
  {
   "cell_type": "markdown",
   "id": "da35db51",
   "metadata": {},
   "source": [
    "# AREA AND PERMITER OF SQUARE"
   ]
  },
  {
   "cell_type": "code",
   "execution_count": 13,
   "id": "c1731b24",
   "metadata": {},
   "outputs": [
    {
     "name": "stdout",
     "output_type": "stream",
     "text": [
      "enter length of a side: 6\n",
      "Area of a square =  6 * 6 = 36\n",
      "Perimeter of a square=  6 + 6 + 6 + 6 = 24\n"
     ]
    }
   ],
   "source": [
    "side=int(input(\"enter length of a side: \"))\n",
    "print(\"Area of a square = \",side,\"*\",side,\"=\", side * side)\n",
    "print(\"Perimeter of a square= \",side,\"+\",side,\"+\",side,\"+\",side,\"=\", side+side+side+side)"
   ]
  },
  {
   "cell_type": "code",
   "execution_count": 14,
   "id": "0b513f05",
   "metadata": {},
   "outputs": [
    {
     "data": {
      "text/plain": [
       "(25, 'Area of a square')"
      ]
     },
     "execution_count": 14,
     "metadata": {},
     "output_type": "execute_result"
    }
   ],
   "source": [
    "def Area(side):\n",
    "    return(side*side,\"Area of a square\")\n",
    "Area(5)"
   ]
  },
  {
   "cell_type": "code",
   "execution_count": 15,
   "id": "db5e0fa7",
   "metadata": {},
   "outputs": [
    {
     "data": {
      "text/plain": [
       "(20, 'Permiter of a square')"
      ]
     },
     "execution_count": 15,
     "metadata": {},
     "output_type": "execute_result"
    }
   ],
   "source": [
    "def Perimeter(side):\n",
    "    return(side+side+side+side,\"Permiter of a square\")\n",
    "Perimeter(5)"
   ]
  },
  {
   "cell_type": "markdown",
   "id": "8a4cc77d",
   "metadata": {},
   "source": [
    "# AREA AND PERMITER OF CIRCLE"
   ]
  },
  {
   "cell_type": "code",
   "execution_count": null,
   "id": "70de06ec",
   "metadata": {},
   "outputs": [],
   "source": [
    "circumference of a circle = 2πr"
   ]
  },
  {
   "cell_type": "code",
   "execution_count": 18,
   "id": "4f082ea0",
   "metadata": {},
   "outputs": [
    {
     "name": "stdout",
     "output_type": "stream",
     "text": [
      "enter radius of a circle: 6\n",
      "circumference of a circle = 37.68\n"
     ]
    }
   ],
   "source": [
    "radius=int(input(\"enter radius of a circle: \"))\n",
    "pie=3.14\n",
    "print(\"circumference of a circle =\",2*pie*radius)"
   ]
  },
  {
   "cell_type": "code",
   "execution_count": 19,
   "id": "c7cf57b0",
   "metadata": {},
   "outputs": [],
   "source": [
    "def findCircum(radius):\n",
    "    return 2 * 3.14 * radius"
   ]
  },
  {
   "cell_type": "code",
   "execution_count": 20,
   "id": "bcab7ac7",
   "metadata": {},
   "outputs": [
    {
     "data": {
      "text/plain": [
       "25.12"
      ]
     },
     "execution_count": 20,
     "metadata": {},
     "output_type": "execute_result"
    }
   ],
   "source": [
    "findCircum(4)"
   ]
  },
  {
   "cell_type": "code",
   "execution_count": 21,
   "id": "f11cd8e2",
   "metadata": {},
   "outputs": [
    {
     "data": {
      "text/plain": [
       "31.400000000000002"
      ]
     },
     "execution_count": 21,
     "metadata": {},
     "output_type": "execute_result"
    }
   ],
   "source": [
    "findCircum(5)"
   ]
  },
  {
   "cell_type": "code",
   "execution_count": null,
   "id": "86f81767",
   "metadata": {},
   "outputs": [],
   "source": [
    "Area of circle= pie*radius**2"
   ]
  },
  {
   "cell_type": "code",
   "execution_count": 22,
   "id": "ee283461",
   "metadata": {},
   "outputs": [],
   "source": [
    "import math"
   ]
  },
  {
   "cell_type": "code",
   "execution_count": 24,
   "id": "3150c713",
   "metadata": {},
   "outputs": [
    {
     "data": {
      "text/plain": [
       "3.141592653589793"
      ]
     },
     "execution_count": 24,
     "metadata": {},
     "output_type": "execute_result"
    }
   ],
   "source": [
    "pie= math.pi\n",
    "pie"
   ]
  },
  {
   "cell_type": "code",
   "execution_count": 26,
   "id": "f6bd4907",
   "metadata": {},
   "outputs": [
    {
     "name": "stdout",
     "output_type": "stream",
     "text": [
      "enter radius of a circle: 6\n",
      "Area of a circle = 113.09733552923255\n"
     ]
    }
   ],
   "source": [
    "radius=int(input(\"enter radius of a circle: \"))\n",
    "print(\"Area of a circle =\",pie*(radius**2))"
   ]
  },
  {
   "cell_type": "markdown",
   "id": "09fb33c7",
   "metadata": {},
   "source": [
    "# AREA AND PERMITER OF TRIANGLE"
   ]
  },
  {
   "cell_type": "code",
   "execution_count": 41,
   "id": "5c11b7e0",
   "metadata": {},
   "outputs": [
    {
     "name": "stdout",
     "output_type": "stream",
     "text": [
      "Enter the Length of First Side: 5\n",
      "Enter the Length of Second Side: 2\n",
      "Enter the Length of Third Side: 1\n",
      "Perimeter =  8\n"
     ]
    }
   ],
   "source": [
    "a = int(input(\"Enter the Length of First Side: \"))\n",
    "b = int(input(\"Enter the Length of Second Side: \"))\n",
    "c = int(input(\"Enter the Length of Third Side: \"))\n",
    "print(\"Perimeter = \",a+b+c)"
   ]
  },
  {
   "cell_type": "code",
   "execution_count": 40,
   "id": "842db4cf",
   "metadata": {},
   "outputs": [
    {
     "name": "stdout",
     "output_type": "stream",
     "text": [
      "10\n"
     ]
    }
   ],
   "source": [
    "# Function to find perimeter\n",
    "def findPerimeter(a, b, c):\n",
    "    return (a + b + c)  # Calculate the perimeter\n",
    "# Driver Code\n",
    "a = 2\n",
    "b = 3\n",
    "c = 5\n",
    "print(findPerimeter(a, b, c))"
   ]
  },
  {
   "cell_type": "code",
   "execution_count": null,
   "id": "56786ca6",
   "metadata": {},
   "outputs": [],
   "source": [
    "***********      AREA OF Triangle:    *********"
   ]
  },
  {
   "cell_type": "code",
   "execution_count": 43,
   "id": "fed7f053",
   "metadata": {},
   "outputs": [
    {
     "name": "stdout",
     "output_type": "stream",
     "text": [
      "Enter the Length of First Side: 3\n",
      "Enter the Length of Second Side: 4\n",
      "Area of a triangle 6.0\n"
     ]
    }
   ],
   "source": [
    "Base=int(input(\"Enter the Length of First Side: \"))\n",
    "height=int(input(\"Enter the Length of Second Side: \"))\n",
    "print(\"Area of a triangle\" ,1/2*Base*height)"
   ]
  },
  {
   "cell_type": "code",
   "execution_count": 45,
   "id": "40fb2a2f",
   "metadata": {},
   "outputs": [
    {
     "name": "stdout",
     "output_type": "stream",
     "text": [
      "6.0\n"
     ]
    }
   ],
   "source": [
    "# Function to find Area\n",
    "def findArea(Base,height):\n",
    "    return (1/2*Base*height)  # Calculate the perimeter\n",
    "# Driver Code\n",
    "Base=3\n",
    "height=4\n",
    "print(findArea(Base,height))"
   ]
  },
  {
   "cell_type": "markdown",
   "id": "9fd36404",
   "metadata": {},
   "source": [
    "# AREA AND PERMITER OF SEMI CIRCLE"
   ]
  },
  {
   "cell_type": "code",
   "execution_count": 50,
   "id": "6ae58f45",
   "metadata": {},
   "outputs": [
    {
     "name": "stdout",
     "output_type": "stream",
     "text": [
      "enter radius of a circle: 4\n",
      "circumference of a circle = 25.12\n"
     ]
    }
   ],
   "source": [
    "radius=int(input(\"enter radius of a circle: \"))\n",
    "pie=3.14\n",
    "print(\"Area of a circle =\",((1/2)*(pie*radius**2)))"
   ]
  },
  {
   "cell_type": "code",
   "execution_count": null,
   "id": "ce7fed1c",
   "metadata": {},
   "outputs": [],
   "source": [
    "Perimeter of a semi circle = (pie + 2)radius"
   ]
  },
  {
   "cell_type": "code",
   "execution_count": 53,
   "id": "27c6c73d",
   "metadata": {},
   "outputs": [
    {
     "name": "stdout",
     "output_type": "stream",
     "text": [
      "enter radius of a circle: 4\n",
      "Perimeter of a circle = 20.560000000000002\n"
     ]
    }
   ],
   "source": [
    "radius=int(input(\"enter radius of a circle: \"))\n",
    "pie=3.14\n",
    "print(\"Perimeter of a circle =\",(pie+2)*radius)"
   ]
  },
  {
   "cell_type": "code",
   "execution_count": null,
   "id": "e34eb460",
   "metadata": {},
   "outputs": [],
   "source": []
  }
 ],
 "metadata": {
  "kernelspec": {
   "display_name": "Python 3 (ipykernel)",
   "language": "python",
   "name": "python3"
  },
  "language_info": {
   "codemirror_mode": {
    "name": "ipython",
    "version": 3
   },
   "file_extension": ".py",
   "mimetype": "text/x-python",
   "name": "python",
   "nbconvert_exporter": "python",
   "pygments_lexer": "ipython3",
   "version": "3.9.12"
  }
 },
 "nbformat": 4,
 "nbformat_minor": 5
}
