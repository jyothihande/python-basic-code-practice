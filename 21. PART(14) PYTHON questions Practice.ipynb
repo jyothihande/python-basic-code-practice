{
 "cells": [
  {
   "cell_type": "markdown",
   "id": "7917ecdf",
   "metadata": {},
   "source": [
    "# Q1. Python code to Check Leap Year or Not."
   ]
  },
  {
   "cell_type": "code",
   "execution_count": null,
   "id": "96997115",
   "metadata": {},
   "outputs": [],
   "source": [
    "Explaination:Any year can be called as a leap year, only if:\n",
    "either it is divided by 4, but not by 100\n",
    "or it is divided by 400"
   ]
  },
  {
   "cell_type": "code",
   "execution_count": 1,
   "id": "7eeb0f54",
   "metadata": {},
   "outputs": [
    {
     "name": "stdout",
     "output_type": "stream",
     "text": [
      "Enter year to check leap year or not : 2005\n",
      "2005 is not Leap Year\n"
     ]
    }
   ],
   "source": [
    "year=int(input(\"Enter year to check leap year or not : \"))\n",
    "if year%4==0 and year%100!=0:\n",
    "    print(year,\"is Leap Year\")\n",
    "elif year%400==0:\n",
    "    print(year,\"is Leap Year\")\n",
    "else:\n",
    "    print(year,\"is not Leap Year\")"
   ]
  },
  {
   "cell_type": "markdown",
   "id": "13f2895a",
   "metadata": {},
   "source": [
    "# CODE USING FUNCTION:"
   ]
  },
  {
   "cell_type": "code",
   "execution_count": 2,
   "id": "ee0394e8",
   "metadata": {},
   "outputs": [
    {
     "name": "stdout",
     "output_type": "stream",
     "text": [
      "2023 is not Leap Year\n"
     ]
    }
   ],
   "source": [
    "def check_leapyear(year):\n",
    "    if year%4==0 and year%100!=0:\n",
    "        print(year,\"is Leap Year\")\n",
    "    elif year%400==0:\n",
    "        print(year,\"is Leap Year\")\n",
    "    else:\n",
    "        print(year,\"is not Leap Year\")\n",
    "check_leapyear(2023)"
   ]
  },
  {
   "cell_type": "code",
   "execution_count": 3,
   "id": "a3608c46",
   "metadata": {},
   "outputs": [
    {
     "name": "stdout",
     "output_type": "stream",
     "text": [
      "2004 is Leap Year\n"
     ]
    }
   ],
   "source": [
    "check_leapyear(2004)"
   ]
  },
  {
   "cell_type": "markdown",
   "id": "94dcb63b",
   "metadata": {},
   "source": [
    "# Q2.Python Program to Perform Addition Subtraction Multiplication Division."
   ]
  },
  {
   "cell_type": "code",
   "execution_count": 4,
   "id": "845b7096",
   "metadata": {},
   "outputs": [
    {
     "name": "stdout",
     "output_type": "stream",
     "text": [
      "Enter First Number: \n",
      "25\n",
      "Enter Second Number: \n",
      "3\n",
      "\n",
      "Addition Result =  28\n",
      "Subtraction Result =  22\n",
      "Multiplication Result =  75\n",
      "Division Result =  8.333333333333334\n"
     ]
    }
   ],
   "source": [
    "print(\"Enter First Number: \")\n",
    "first = int(input())\n",
    "print(\"Enter Second Number: \")\n",
    "second = int(input())\n",
    "res = first + second\n",
    "print(\"\\nAddition Result = \", res)\n",
    "res = first-second\n",
    "print(\"Subtraction Result = \", res)\n",
    "res = first*second\n",
    "print(\"Multiplication Result = \", res)\n",
    "res = first/second\n",
    "print(\"Division Result = \", res)"
   ]
  },
  {
   "cell_type": "markdown",
   "id": "5b8a1c90",
   "metadata": {},
   "source": [
    "# Q3. Python Program to Check Prime Number."
   ]
  },
  {
   "cell_type": "code",
   "execution_count": null,
   "id": "de231ceb",
   "metadata": {},
   "outputs": [],
   "source": [
    "Explaination:Any natural number say x can be called as a Prime number, \n",
    "if it is greater than 1 and is not a product of two smaller natural numbers.\n",
    "For example, 2, 3, 5, 7, 11, 13 etc. are all prime numbers"
   ]
  },
  {
   "cell_type": "code",
   "execution_count": 15,
   "id": "03aa6094",
   "metadata": {},
   "outputs": [],
   "source": [
    "prime_num=[]"
   ]
  },
  {
   "cell_type": "code",
   "execution_count": 22,
   "id": "b78bfb4c",
   "metadata": {},
   "outputs": [
    {
     "name": "stdout",
     "output_type": "stream",
     "text": [
      "Enter the Number: 10\n",
      "10 is not a prime number\n",
      "[5, 7]\n"
     ]
    }
   ],
   "source": [
    "num = int(input(\"Enter the Number: \"))\n",
    "for i in range(2,int(num/2)+1):\n",
    "    if (num%i)==0 :\n",
    "        print(num, \"is not a prime number\")\n",
    "        break\n",
    "    else:\n",
    "        print(num, \"is a prime number\")\n",
    "        prime_num.append(num)\n",
    "        break\n",
    "print(prime_num)"
   ]
  },
  {
   "cell_type": "code",
   "execution_count": null,
   "id": "532bdedc",
   "metadata": {},
   "outputs": [],
   "source": []
  }
 ],
 "metadata": {
  "kernelspec": {
   "display_name": "Python 3 (ipykernel)",
   "language": "python",
   "name": "python3"
  },
  "language_info": {
   "codemirror_mode": {
    "name": "ipython",
    "version": 3
   },
   "file_extension": ".py",
   "mimetype": "text/x-python",
   "name": "python",
   "nbconvert_exporter": "python",
   "pygments_lexer": "ipython3",
   "version": "3.9.12"
  }
 },
 "nbformat": 4,
 "nbformat_minor": 5
}
