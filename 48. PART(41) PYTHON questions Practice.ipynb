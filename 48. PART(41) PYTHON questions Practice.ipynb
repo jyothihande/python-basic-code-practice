{
 "cells": [
  {
   "cell_type": "markdown",
   "id": "8480b696",
   "metadata": {},
   "source": [
    "# Q1.Python Program to Check Whether a String is Palindrome or Not"
   ]
  },
  {
   "cell_type": "code",
   "execution_count": 1,
   "id": "0e963b7a",
   "metadata": {},
   "outputs": [
    {
     "name": "stdout",
     "output_type": "stream",
     "text": [
      "The string is not a palindrome.\n"
     ]
    }
   ],
   "source": [
    "# Program to check if a string is palindrome or not\n",
    "\n",
    "my_str = 'HELLO'\n",
    "\n",
    "# make it suitable for caseless comparison\n",
    "my_str = my_str.casefold()\n",
    "\n",
    "# reverse the string\n",
    "rev_str = reversed(my_str)\n",
    "\n",
    "# check if the string is equal to its reverse\n",
    "if list(my_str) == list(rev_str):\n",
    "    print(\"The string is a palindrome.\")\n",
    "else:\n",
    "    print(\"The string is not a palindrome.\")\n"
   ]
  },
  {
   "cell_type": "markdown",
   "id": "d3c7b18b",
   "metadata": {},
   "source": [
    "# Q2.Python Program to Delete an Element From a Dictionary."
   ]
  },
  {
   "cell_type": "code",
   "execution_count": 2,
   "id": "be3b4ad7",
   "metadata": {},
   "outputs": [
    {
     "name": "stdout",
     "output_type": "stream",
     "text": [
      "{21: 'b', 14: 'c'}\n"
     ]
    }
   ],
   "source": [
    "my_dict = {31: 'a', 21: 'b', 14: 'c'}\n",
    "\n",
    "del my_dict[31]\n",
    "\n",
    "print(my_dict)"
   ]
  },
  {
   "cell_type": "markdown",
   "id": "1b06c7d9",
   "metadata": {},
   "source": [
    "# Q3.Python Program to Reverse a Number."
   ]
  },
  {
   "cell_type": "code",
   "execution_count": 5,
   "id": "53dee329",
   "metadata": {},
   "outputs": [
    {
     "name": "stdout",
     "output_type": "stream",
     "text": [
      "Reversed Number: 4321\n"
     ]
    }
   ],
   "source": [
    "num = 1234\n",
    "reversed_num = 0\n",
    "\n",
    "while num != 0:\n",
    "    digit = num % 10\n",
    "    reversed_num = reversed_num * 10 + digit\n",
    "    num //= 10\n",
    "\n",
    "print(\"Reversed Number: \" + str(reversed_num))"
   ]
  },
  {
   "cell_type": "code",
   "execution_count": 6,
   "id": "8f12f793",
   "metadata": {},
   "outputs": [
    {
     "name": "stdout",
     "output_type": "stream",
     "text": [
      "654321\n"
     ]
    }
   ],
   "source": [
    "num = 123456\n",
    "print(str(num)[::-1])"
   ]
  },
  {
   "cell_type": "markdown",
   "id": "bcce20d2",
   "metadata": {},
   "source": [
    "# Q4.Python Program to Check If Two Strings are Anagram."
   ]
  },
  {
   "cell_type": "code",
   "execution_count": 7,
   "id": "b0cb85f0",
   "metadata": {},
   "outputs": [
    {
     "name": "stdout",
     "output_type": "stream",
     "text": [
      "race and care are anagram.\n"
     ]
    }
   ],
   "source": [
    "str1 = \"Race\"\n",
    "str2 = \"Care\"\n",
    "\n",
    "# convert both the strings into lowercase\n",
    "str1 = str1.lower()\n",
    "str2 = str2.lower()\n",
    "\n",
    "# check if length is same\n",
    "if(len(str1) == len(str2)):\n",
    "\n",
    "    # sort the strings\n",
    "    sorted_str1 = sorted(str1)\n",
    "    sorted_str2 = sorted(str2)\n",
    "\n",
    "    # if sorted char arrays are same\n",
    "    if(sorted_str1 == sorted_str2):\n",
    "        print(str1 + \" and \" + str2 + \" are anagram.\")\n",
    "    else:\n",
    "        print(str1 + \" and \" + str2 + \" are not anagram.\")\n",
    "\n",
    "else:\n",
    "    print(str1 + \" and \" + str2 + \" are not anagram.\")"
   ]
  },
  {
   "cell_type": "code",
   "execution_count": null,
   "id": "3d122418",
   "metadata": {},
   "outputs": [],
   "source": []
  }
 ],
 "metadata": {
  "kernelspec": {
   "display_name": "Python 3 (ipykernel)",
   "language": "python",
   "name": "python3"
  },
  "language_info": {
   "codemirror_mode": {
    "name": "ipython",
    "version": 3
   },
   "file_extension": ".py",
   "mimetype": "text/x-python",
   "name": "python",
   "nbconvert_exporter": "python",
   "pygments_lexer": "ipython3",
   "version": "3.9.12"
  }
 },
 "nbformat": 4,
 "nbformat_minor": 5
}
