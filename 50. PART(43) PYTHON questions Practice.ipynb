{
 "cells": [
  {
   "cell_type": "markdown",
   "id": "97fec671",
   "metadata": {},
   "source": [
    "# Q1.Python Program to Check If Two Strings are Anagram."
   ]
  },
  {
   "cell_type": "code",
   "execution_count": 3,
   "id": "0272e745",
   "metadata": {},
   "outputs": [
    {
     "name": "stdout",
     "output_type": "stream",
     "text": [
      "race and care are anagram.\n"
     ]
    }
   ],
   "source": [
    "str1 = \"Race\"\n",
    "str2 = \"Care\"\n",
    "\n",
    "# convert both the strings into lowercase\n",
    "str1 = str1.lower()\n",
    "str2 = str2.lower()\n",
    "\n",
    "# check if length is same\n",
    "if(len(str1) == len(str2)):\n",
    "\n",
    "    # sort the strings\n",
    "    sorted_str1 = sorted(str1)\n",
    "    sorted_str2 = sorted(str2)\n",
    "\n",
    "    # if sorted char arrays are same\n",
    "    if(sorted_str1 == sorted_str2):\n",
    "        print(str1 + \" and \" + str2 + \" are anagram.\")\n",
    "    else:\n",
    "        print(str1 + \" and \" + str2 + \" are not anagram.\")\n",
    "\n",
    "else:\n",
    "    print(str1 + \" and \" + str2 + \" are not anagram.\")"
   ]
  },
  {
   "cell_type": "markdown",
   "id": "a7697e71",
   "metadata": {},
   "source": [
    "# Q2.Python Program to Count the Number of Digits Present In a Number."
   ]
  },
  {
   "cell_type": "code",
   "execution_count": 4,
   "id": "bb5458b1",
   "metadata": {},
   "outputs": [
    {
     "name": "stdout",
     "output_type": "stream",
     "text": [
      "Number of digits: 4\n"
     ]
    }
   ],
   "source": [
    "num = 3452\n",
    "count = 0\n",
    "\n",
    "while num != 0:\n",
    "    num //= 10\n",
    "    count += 1\n",
    "\n",
    "print(\"Number of digits: \" + str(count))"
   ]
  },
  {
   "cell_type": "code",
   "execution_count": 5,
   "id": "651a7326",
   "metadata": {},
   "outputs": [
    {
     "name": "stdout",
     "output_type": "stream",
     "text": [
      "6\n"
     ]
    }
   ],
   "source": [
    "num = 123456\n",
    "print(len(str(num)))"
   ]
  },
  {
   "cell_type": "markdown",
   "id": "bb82710b",
   "metadata": {},
   "source": [
    "# Q3.Python Program to Compute the Power of a Number."
   ]
  },
  {
   "cell_type": "code",
   "execution_count": 6,
   "id": "3de4cc1c",
   "metadata": {},
   "outputs": [
    {
     "name": "stdout",
     "output_type": "stream",
     "text": [
      "Answer = 81\n"
     ]
    }
   ],
   "source": [
    "base = 3\n",
    "exponent = 4\n",
    "\n",
    "result = 1\n",
    "\n",
    "while exponent != 0:\n",
    "    result *= base\n",
    "    exponent-=1\n",
    "\n",
    "print(\"Answer = \" + str(result))"
   ]
  },
  {
   "cell_type": "code",
   "execution_count": 7,
   "id": "492fb918",
   "metadata": {},
   "outputs": [
    {
     "name": "stdout",
     "output_type": "stream",
     "text": [
      "Answer = 0.012345679012345678\n"
     ]
    }
   ],
   "source": [
    "base = 3\n",
    "exponent = -4\n",
    "\n",
    "result = pow(base, exponent)\n",
    "\n",
    "print(\"Answer = \" + str(result))"
   ]
  },
  {
   "cell_type": "markdown",
   "id": "9d2c31bc",
   "metadata": {},
   "source": [
    "# Q4.Python Program to Reverse a Number."
   ]
  },
  {
   "cell_type": "code",
   "execution_count": 8,
   "id": "cf4f353d",
   "metadata": {},
   "outputs": [
    {
     "name": "stdout",
     "output_type": "stream",
     "text": [
      "Reversed Number: 4321\n"
     ]
    }
   ],
   "source": [
    "num = 1234\n",
    "reversed_num = 0\n",
    "\n",
    "while num != 0:\n",
    "    digit = num % 10\n",
    "    reversed_num = reversed_num * 10 + digit\n",
    "    num //= 10\n",
    "\n",
    "print(\"Reversed Number: \" + str(reversed_num))  #Reverse a Number using a while loop"
   ]
  },
  {
   "cell_type": "code",
   "execution_count": 9,
   "id": "983c8b1b",
   "metadata": {},
   "outputs": [
    {
     "name": "stdout",
     "output_type": "stream",
     "text": [
      "654321\n"
     ]
    }
   ],
   "source": [
    "num = 123456\n",
    "print(str(num)[::-1])    # Using String slicing"
   ]
  },
  {
   "cell_type": "code",
   "execution_count": null,
   "id": "42ab2dd8",
   "metadata": {},
   "outputs": [],
   "source": []
  }
 ],
 "metadata": {
  "kernelspec": {
   "display_name": "Python 3 (ipykernel)",
   "language": "python",
   "name": "python3"
  },
  "language_info": {
   "codemirror_mode": {
    "name": "ipython",
    "version": 3
   },
   "file_extension": ".py",
   "mimetype": "text/x-python",
   "name": "python",
   "nbconvert_exporter": "python",
   "pygments_lexer": "ipython3",
   "version": "3.9.12"
  }
 },
 "nbformat": 4,
 "nbformat_minor": 5
}
