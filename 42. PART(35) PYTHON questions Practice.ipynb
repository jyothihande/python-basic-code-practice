{
 "cells": [
  {
   "cell_type": "markdown",
   "id": "738bd287",
   "metadata": {},
   "source": [
    "# Q1.Python Program for cube sum of first n natural numbers."
   ]
  },
  {
   "cell_type": "code",
   "execution_count": 2,
   "id": "7747088e",
   "metadata": {},
   "outputs": [
    {
     "name": "stdout",
     "output_type": "stream",
     "text": [
      "0 x 0 x 0 = 0\n",
      "1 x 1 x 1 = 1\n",
      "2 x 2 x 2 = 8\n",
      "3 x 3 x 3 = 27\n",
      "4 x 4 x 4 = 64\n",
      "5 x 5 x 5 = 125\n",
      "6 x 6 x 6 = 216\n",
      "7 x 7 x 7 = 343\n",
      "8 x 8 x 8 = 512\n",
      "9 x 9 x 9 = 729\n",
      "10 x 10 x 10 = 1000\n"
     ]
    }
   ],
   "source": [
    "for i in range(11): \n",
    "    print(i,\"x\",i,\"x\",i,\"=\",i*i*i)  # cube of a number"
   ]
  },
  {
   "cell_type": "markdown",
   "id": "fcc5a056",
   "metadata": {},
   "source": [
    "# Q2.Python Program for Sum of squares of first n natural numbers."
   ]
  },
  {
   "cell_type": "code",
   "execution_count": null,
   "id": "2039d35b",
   "metadata": {},
   "outputs": [],
   "source": [
    "12 + 22 + 32 + 42\n",
    "= 1 + 4 + 9 + 16\n",
    "= 30"
   ]
  },
  {
   "cell_type": "code",
   "execution_count": 3,
   "id": "4cc08b21",
   "metadata": {},
   "outputs": [
    {
     "name": "stdout",
     "output_type": "stream",
     "text": [
      "30\n"
     ]
    }
   ],
   "source": [
    "def squaresum(n):\n",
    "    sum = 0\n",
    "    for i in range(1, n+1):\n",
    "        sum = sum + (i * i)\n",
    " \n",
    "    return sum\n",
    "n = 4\n",
    "print(squaresum(n))"
   ]
  },
  {
   "cell_type": "code",
   "execution_count": 23,
   "id": "8d9aaf18",
   "metadata": {},
   "outputs": [
    {
     "name": "stdout",
     "output_type": "stream",
     "text": [
      "0 0\n",
      "1 1\n",
      "2 5\n",
      "3 14\n",
      "4 30\n"
     ]
    }
   ],
   "source": [
    "sum=0\n",
    "for i in range(5):\n",
    "    sum=sum+i*i\n",
    "    print(i,sum)    "
   ]
  },
  {
   "cell_type": "code",
   "execution_count": 24,
   "id": "d4ddce26",
   "metadata": {},
   "outputs": [
    {
     "name": "stdout",
     "output_type": "stream",
     "text": [
      "The sum of squares of first 4 natural numbers is 30\n"
     ]
    }
   ],
   "source": [
    "n = 4\n",
    "sum = 0\n",
    "for i in range(1, n+1):\n",
    "    sum += i**2\n",
    "\n",
    "print(\"The sum of squares of first\", n, \"natural numbers is\", sum)"
   ]
  },
  {
   "cell_type": "markdown",
   "id": "86f6dbb0",
   "metadata": {},
   "source": [
    "# Q3.Python Program for Difference between Sums of Odd and Even Digits."
   ]
  },
  {
   "cell_type": "code",
   "execution_count": 39,
   "id": "b1411128",
   "metadata": {},
   "outputs": [
    {
     "name": "stdout",
     "output_type": "stream",
     "text": [
      "30 even number sum\n",
      "25 odd numbers sum\n",
      "5 diffrence bet even sum and odd sum\n"
     ]
    }
   ],
   "source": [
    "sum_even=0\n",
    "sum_odd=0\n",
    "for i in range(11):\n",
    "    if i%2==0:\n",
    "        sum_even=sum_even+i\n",
    "    else:\n",
    "        sum_odd=sum_odd+i\n",
    "print(sum_even,\"even number sum\")\n",
    "print(sum_odd,\"odd numbers sum\")\n",
    "print(sum_even-sum_odd,\"diffrence bet even sum and odd sum\")"
   ]
  },
  {
   "cell_type": "markdown",
   "id": "fc598263",
   "metadata": {},
   "source": [
    "# Q4.Python Program to Find the Factorial of a Number."
   ]
  },
  {
   "cell_type": "code",
   "execution_count": 87,
   "id": "7b39595b",
   "metadata": {},
   "outputs": [
    {
     "name": "stdout",
     "output_type": "stream",
     "text": [
      "1\n",
      "2\n",
      "3\n",
      "4\n",
      "6\n",
      "12\n"
     ]
    }
   ],
   "source": [
    "num=12\n",
    "for i in range(1,13):\n",
    "    if num%i==0:\n",
    "        sum=sum+i\n",
    "        print(i)  # Factors of 12."
   ]
  }
 ],
 "metadata": {
  "kernelspec": {
   "display_name": "Python 3 (ipykernel)",
   "language": "python",
   "name": "python3"
  },
  "language_info": {
   "codemirror_mode": {
    "name": "ipython",
    "version": 3
   },
   "file_extension": ".py",
   "mimetype": "text/x-python",
   "name": "python",
   "nbconvert_exporter": "python",
   "pygments_lexer": "ipython3",
   "version": "3.9.12"
  }
 },
 "nbformat": 4,
 "nbformat_minor": 5
}
