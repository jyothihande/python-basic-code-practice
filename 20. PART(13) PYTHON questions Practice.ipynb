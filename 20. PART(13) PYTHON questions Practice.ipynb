{
 "cells": [
  {
   "cell_type": "markdown",
   "id": "0012bd35",
   "metadata": {},
   "source": [
    "# Q1.Define a function for 4 list with diff data types from single list."
   ]
  },
  {
   "cell_type": "code",
   "execution_count": 1,
   "id": "822de708",
   "metadata": {},
   "outputs": [],
   "source": [
    "l1=[]\n",
    "l2=[]\n",
    "l3=[]\n",
    "l4=[]"
   ]
  },
  {
   "cell_type": "code",
   "execution_count": 2,
   "id": "4038ed6e",
   "metadata": {},
   "outputs": [
    {
     "name": "stdout",
     "output_type": "stream",
     "text": [
      "1 element of list is int\n",
      "5.3 element of list is float\n",
      "68 element of list is int\n",
      "true element of list is string\n",
      "False element of list is Boolean\n",
      "True element of list is Boolean\n",
      "Python element of list is string\n",
      "['true', 'Python'] [1, 68] [5.3] [False, True]\n"
     ]
    }
   ],
   "source": [
    "def new_list(list1):\n",
    "    for a in list1:\n",
    "        if type(a)==str:\n",
    "            print(a,\"element of list is string\")\n",
    "            l1.append(a)\n",
    "        elif type(a)==int:\n",
    "            l2.append(a)\n",
    "            print(a,\"element of list is int\")\n",
    "        elif type(a)==float:\n",
    "            l3.append(a)\n",
    "            print(a,\"element of list is float\")\n",
    "        else:\n",
    "            l4.append(a)\n",
    "            print(a,\"element of list is Boolean\")\n",
    "\n",
    "new_list([1,5.3,68,\"true\",False,True,\"Python\"]) \n",
    "print(l1,l2,l3,l4)"
   ]
  },
  {
   "cell_type": "markdown",
   "id": "55955b6f",
   "metadata": {},
   "source": [
    "# Q2. Python: Calculate the sum of three given numbers, if the values are equal then return thrice of their sum."
   ]
  },
  {
   "cell_type": "code",
   "execution_count": 3,
   "id": "80e02636",
   "metadata": {},
   "outputs": [
    {
     "name": "stdout",
     "output_type": "stream",
     "text": [
      "sum of a,b,c is 6\n",
      "thrice of sum is  18\n"
     ]
    },
    {
     "data": {
      "text/plain": [
       "18"
      ]
     },
     "execution_count": 3,
     "metadata": {},
     "output_type": "execute_result"
    }
   ],
   "source": [
    "def sum_thrice(a,b,c):\n",
    "    sum=a+b+c\n",
    "    if a==b==c:\n",
    "        print(\"sum of a,b,c is\",sum)\n",
    "        sum = sum*3\n",
    "        print(\"thrice of sum is \",sum)\n",
    "        return sum\n",
    "sum_thrice(2,2,2)"
   ]
  },
  {
   "cell_type": "markdown",
   "id": "e616338d",
   "metadata": {},
   "source": [
    "# Q3. Write a Python program that returns a list of even and odd numbers till range 100."
   ]
  },
  {
   "cell_type": "code",
   "execution_count": 4,
   "id": "46087455",
   "metadata": {},
   "outputs": [],
   "source": [
    "list_even=[]\n",
    "list_odd=[]"
   ]
  },
  {
   "cell_type": "code",
   "execution_count": 5,
   "id": "6d526d2e",
   "metadata": {},
   "outputs": [
    {
     "name": "stdout",
     "output_type": "stream",
     "text": [
      "List of all even numbers [2, 4, 6, 8, 10, 12, 14, 16, 18, 20, 22, 24, 26, 28, 30, 32, 34, 36, 38, 40, 42, 44, 46, 48, 50, 52, 54, 56, 58, 60, 62, 64, 66, 68, 70, 72, 74, 76, 78, 80, 82, 84, 86, 88, 90, 92, 94, 96, 98, 100]\n",
      "List of all odd numbers [1, 3, 5, 7, 9, 11, 13, 15, 17, 19, 21, 23, 25, 27, 29, 31, 33, 35, 37, 39, 41, 43, 45, 47, 49, 51, 53, 55, 57, 59, 61, 63, 65, 67, 69, 71, 73, 75, 77, 79, 81, 83, 85, 87, 89, 91, 93, 95, 97, 99]\n"
     ]
    }
   ],
   "source": [
    "for i in range(1,101):\n",
    "    if i%2== 0:\n",
    "        list_even.append(i)\n",
    "    else:\n",
    "        list_odd.append(i)\n",
    "print(\"List of all even numbers\",list_even)\n",
    "print(\"List of all odd numbers\",list_odd)"
   ]
  },
  {
   "cell_type": "code",
   "execution_count": 6,
   "id": "ffe4fa6d",
   "metadata": {},
   "outputs": [
    {
     "name": "stdout",
     "output_type": "stream",
     "text": [
      "8 is even\n",
      "5 is odd\n",
      "99 is odd\n",
      "[8] even list [5, 99] odd list\n"
     ]
    }
   ],
   "source": [
    "list1=[]\n",
    "list2=[]\n",
    "def even_odd(*a):\n",
    "    for i in a:\n",
    "        if i%2==0:\n",
    "            print(i,\"is even\")\n",
    "            list1.append(i)\n",
    "        else:\n",
    "            print(i,\"is odd\")\n",
    "            list2.append(i)\n",
    "even_odd(8,5,99)\n",
    "print(list1,\"even list\",list2,\"odd list\")"
   ]
  },
  {
   "cell_type": "markdown",
   "id": "f3768051",
   "metadata": {},
   "source": [
    "# Q4. Write a Python program to test whether a passed letter is a vowel or not."
   ]
  },
  {
   "cell_type": "code",
   "execution_count": 7,
   "id": "fbf79f04",
   "metadata": {},
   "outputs": [
    {
     "name": "stdout",
     "output_type": "stream",
     "text": [
      "o is a vowel.\n",
      "p is consonants.\n"
     ]
    }
   ],
   "source": [
    "def vowel_or_consonant(x):\n",
    "    if (x == 'a' or x == 'e' or x == 'i' or x == 'o' or x == 'u'):\n",
    "        print(x,\"is a vowel.\")\n",
    "    else:\n",
    "        print(x,\"is consonants.\")\n",
    "vowel_or_consonant(\"o\")\n",
    "vowel_or_consonant(\"p\")"
   ]
  },
  {
   "cell_type": "markdown",
   "id": "c0d1eb53",
   "metadata": {},
   "source": [
    "# Q5. Write a Python program to count the number 4 in a given list."
   ]
  },
  {
   "cell_type": "code",
   "execution_count": 8,
   "id": "0797b806",
   "metadata": {},
   "outputs": [
    {
     "data": {
      "text/plain": [
       "4"
      ]
     },
     "execution_count": 8,
     "metadata": {},
     "output_type": "execute_result"
    }
   ],
   "source": [
    "def count_4(i):\n",
    "    list1=[54,8,1,5,3,4,8,4,2,4,4]\n",
    "    count=0\n",
    "    for i in list1:\n",
    "        if i == 4:\n",
    "            count=count+1\n",
    "    return(count)\n",
    "count_4('4')"
   ]
  },
  {
   "cell_type": "code",
   "execution_count": 9,
   "id": "29aedada",
   "metadata": {},
   "outputs": [
    {
     "name": "stdout",
     "output_type": "stream",
     "text": [
      "number of 4 are 3\n"
     ]
    }
   ],
   "source": [
    "list1=[54,8,1,5,4,2,4,5,4]\n",
    "count=0\n",
    "for i in list1:\n",
    "    if i == 4:\n",
    "        count=count+1\n",
    "print(\"number of 4 are\",count)"
   ]
  },
  {
   "cell_type": "code",
   "execution_count": null,
   "id": "24c14b9f",
   "metadata": {},
   "outputs": [],
   "source": []
  }
 ],
 "metadata": {
  "kernelspec": {
   "display_name": "Python 3 (ipykernel)",
   "language": "python",
   "name": "python3"
  },
  "language_info": {
   "codemirror_mode": {
    "name": "ipython",
    "version": 3
   },
   "file_extension": ".py",
   "mimetype": "text/x-python",
   "name": "python",
   "nbconvert_exporter": "python",
   "pygments_lexer": "ipython3",
   "version": "3.9.12"
  }
 },
 "nbformat": 4,
 "nbformat_minor": 5
}
