{
 "cells": [
  {
   "cell_type": "markdown",
   "id": "255ad761",
   "metadata": {},
   "source": [
    "# Q1.Python program to find smallest number among three."
   ]
  },
  {
   "cell_type": "code",
   "execution_count": 2,
   "id": "aca74e7b",
   "metadata": {},
   "outputs": [
    {
     "name": "stdout",
     "output_type": "stream",
     "text": [
      "1 is smallest\n"
     ]
    }
   ],
   "source": [
    "def smallest_of_three(a,b,c):\n",
    "    if a<b and a<c:\n",
    "        print(a,\"is smallest\")\n",
    "    elif b<a and b<c:\n",
    "        print(b,\"is smallest\")\n",
    "    else:\n",
    "        print(c,\"is smallest\")\n",
    "smallest_of_three(1,2,3)"
   ]
  },
  {
   "cell_type": "code",
   "execution_count": 3,
   "id": "c4cfd512",
   "metadata": {},
   "outputs": [
    {
     "name": "stdout",
     "output_type": "stream",
     "text": [
      "-3 is smallest\n"
     ]
    }
   ],
   "source": [
    "smallest_of_three(-1,-2,-3)"
   ]
  },
  {
   "cell_type": "code",
   "execution_count": 5,
   "id": "b3603b56",
   "metadata": {},
   "outputs": [
    {
     "name": "stdout",
     "output_type": "stream",
     "text": [
      "Enter the value for a :4\n",
      "Enter the value for b :-2\n",
      "Enter the value for c :3\n",
      "b is smallest\n"
     ]
    }
   ],
   "source": [
    "a = int(input(\"Enter the value for a :\"))\n",
    "b = int(input(\"Enter the value for b :\"))\n",
    "c = int(input(\"Enter the value for c :\"))\n",
    "#comparing integer ‘a’ with other two integer\n",
    "if a<=b and a<=c:\n",
    "    print(\"a is smallest\")\n",
    "#comparing integer ‘b’ with other two integer\n",
    "elif b<=a and b<=c:\n",
    "    print(\"b is smallest\")\n",
    "#comparing integer ‘c’ with other two integer\n",
    "elif c<=a and c<=b:\n",
    "    print(\"c is smallest\")"
   ]
  },
  {
   "cell_type": "markdown",
   "id": "30928b55",
   "metadata": {},
   "source": [
    "# Q2.Python program to find L.C.M. of two numbers ."
   ]
  },
  {
   "cell_type": "code",
   "execution_count": 1,
   "id": "e69ec459",
   "metadata": {},
   "outputs": [
    {
     "name": "stdout",
     "output_type": "stream",
     "text": [
      "Enter first number: 5\n",
      "Enter second number: -7\n",
      "LCM of 5 and -7 = 35\n"
     ]
    }
   ],
   "source": [
    "num1 = int(input(\"Enter first number: \"))\n",
    "num2 = int(input(\"Enter second number: \"))\n",
    "if num1 > num2:\n",
    "    greater = num1\n",
    "else:\n",
    "    greater = num2\n",
    "while(True):\n",
    "    if((greater % num1 == 0) and (greater % num2 == 0)):\n",
    "        lcm = greater\n",
    "        break\n",
    "    greater += 1\n",
    "print(\"LCM of\",num1,\"and\",num2,\"=\",greater)"
   ]
  },
  {
   "cell_type": "markdown",
   "id": "ccae543f",
   "metadata": {},
   "source": [
    "# Q3.Python Program to Remove Punctuations From a String."
   ]
  },
  {
   "cell_type": "code",
   "execution_count": 4,
   "id": "5d4f1050",
   "metadata": {},
   "outputs": [
    {
     "name": "stdout",
     "output_type": "stream",
     "text": [
      "Hellohe saidwhats upand went\n"
     ]
    }
   ],
   "source": [
    "# define punctuation\n",
    "punctuations = '''!()-[]{};:'\"\\,<>./?@#$%^&*_~'''\n",
    "\n",
    "my_str = \"\"\"\"Hello!!!,he said,\"whats up?\"and went.\"\"\"\n",
    "\n",
    "# To take input from the user\n",
    "# my_str = input(\"Enter a string: \")\n",
    "\n",
    "# remove punctuation from the string\n",
    "no_punct = \"\"\n",
    "for char in my_str:\n",
    "    if char not in punctuations:\n",
    "        no_punct = no_punct + char\n",
    "\n",
    "# display the unpunctuated string\n",
    "print(no_punct)\n"
   ]
  },
  {
   "cell_type": "markdown",
   "id": "b5026a66",
   "metadata": {},
   "source": [
    "# Q4.Python Program to Check Whether a String is Palindrome or Not."
   ]
  },
  {
   "cell_type": "code",
   "execution_count": 6,
   "id": "6ecfcaa0",
   "metadata": {},
   "outputs": [
    {
     "name": "stdout",
     "output_type": "stream",
     "text": [
      "The string is a palindrome.\n"
     ]
    }
   ],
   "source": [
    "# Program to check if a string is palindrome or not\n",
    "\n",
    "my_str = 'MADAM'\n",
    "\n",
    "# make it suitable for caseless comparison\n",
    "my_str = my_str.casefold()\n",
    "\n",
    "# reverse the string\n",
    "rev_str = reversed(my_str)\n",
    "\n",
    "# check if the string is equal to its reverse\n",
    "if list(my_str) == list(rev_str):\n",
    "    print(\"The string is a palindrome.\")\n",
    "else:\n",
    "    print(\"The string is not a palindrome.\")\n"
   ]
  },
  {
   "cell_type": "code",
   "execution_count": null,
   "id": "14451feb",
   "metadata": {},
   "outputs": [],
   "source": []
  }
 ],
 "metadata": {
  "kernelspec": {
   "display_name": "Python 3 (ipykernel)",
   "language": "python",
   "name": "python3"
  },
  "language_info": {
   "codemirror_mode": {
    "name": "ipython",
    "version": 3
   },
   "file_extension": ".py",
   "mimetype": "text/x-python",
   "name": "python",
   "nbconvert_exporter": "python",
   "pygments_lexer": "ipython3",
   "version": "3.9.12"
  }
 },
 "nbformat": 4,
 "nbformat_minor": 5
}
