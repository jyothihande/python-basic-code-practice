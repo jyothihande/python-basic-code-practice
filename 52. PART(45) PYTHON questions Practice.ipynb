{
 "cells": [
  {
   "cell_type": "markdown",
   "id": "53d6c1d7",
   "metadata": {},
   "source": [
    "# Q1.Python Program to Split a List Into Evenly Sized."
   ]
  },
  {
   "cell_type": "code",
   "execution_count": null,
   "id": "e6307878",
   "metadata": {},
   "outputs": [],
   "source": [
    "Using numpy"
   ]
  },
  {
   "cell_type": "code",
   "execution_count": 1,
   "id": "b478e557",
   "metadata": {},
   "outputs": [
    {
     "name": "stdout",
     "output_type": "stream",
     "text": [
      "[array([1, 2]), array([3, 4]), array([5, 6]), array([7, 8]), array([9])]\n"
     ]
    }
   ],
   "source": [
    "import numpy as np\n",
    "\n",
    "my_list = [1,2,3,4,5,6,7,8,9]\n",
    "print(np.array_split(my_list, 5))"
   ]
  },
  {
   "cell_type": "code",
   "execution_count": 2,
   "id": "c2a392b3",
   "metadata": {},
   "outputs": [
    {
     "name": "stdout",
     "output_type": "stream",
     "text": [
      "[[1, 2], [3, 4], [5, 6], [7, 8], [9]]\n"
     ]
    }
   ],
   "source": [
    "def split(list_a, chunk_size):\n",
    "    for i in range(0, len(list_a), chunk_size):\n",
    "        yield list_a[i:i + chunk_size]\n",
    "\n",
    "chunk_size = 2\n",
    "my_list = [1,2,3,4,5,6,7,8,9]\n",
    "print(list(split(my_list, chunk_size)))"
   ]
  },
  {
   "cell_type": "markdown",
   "id": "7ab53953",
   "metadata": {},
   "source": [
    "# Q2.Python Program to Concatenate Two Lists."
   ]
  },
  {
   "cell_type": "code",
   "execution_count": 3,
   "id": "ab17fef5",
   "metadata": {},
   "outputs": [
    {
     "name": "stdout",
     "output_type": "stream",
     "text": [
      "[1, 'a', 3, 4, 5]\n"
     ]
    }
   ],
   "source": [
    "list_1 = [1, 'a']\n",
    "list_2 = [3, 4, 5]\n",
    "\n",
    "list_joined = list_1 + list_2  #Using + operator\n",
    "print(list_joined)"
   ]
  },
  {
   "cell_type": "code",
   "execution_count": 4,
   "id": "d2cddfbf",
   "metadata": {},
   "outputs": [
    {
     "name": "stdout",
     "output_type": "stream",
     "text": [
      "[1, 2, 3, 'a']\n"
     ]
    }
   ],
   "source": [
    "list_1 = [1, 'a']\n",
    "list_2 = [1, 2, 3]\n",
    "\n",
    "list_joined = list(set(list_1 + list_2))#With unique values\n",
    "print(list_joined)"
   ]
  },
  {
   "cell_type": "code",
   "execution_count": 5,
   "id": "fb616e4c",
   "metadata": {},
   "outputs": [
    {
     "name": "stdout",
     "output_type": "stream",
     "text": [
      "[1, 2, 3, 1, 'a']\n"
     ]
    }
   ],
   "source": [
    "list_1 = [1, 'a']\n",
    "list_2 = [1, 2, 3]\n",
    "\n",
    "list_2.extend(list_1) #Using extend()\n",
    "print(list_2)"
   ]
  },
  {
   "cell_type": "markdown",
   "id": "31bbe870",
   "metadata": {},
   "source": [
    "# Q3.Python Program to Flatten a Nested List."
   ]
  },
  {
   "cell_type": "code",
   "execution_count": 6,
   "id": "93a5125d",
   "metadata": {},
   "outputs": [
    {
     "name": "stdout",
     "output_type": "stream",
     "text": [
      "[1, 2, 3, 4, 5, 6, 7]\n"
     ]
    }
   ],
   "source": [
    "my_list = [[1], [2, 3], [4, 5, 6, 7]]\n",
    "\n",
    "flat_list = [num for sublist in my_list for num in sublist]\n",
    "print(flat_list)"
   ]
  },
  {
   "cell_type": "code",
   "execution_count": 7,
   "id": "5f32ebcd",
   "metadata": {},
   "outputs": [
    {
     "name": "stdout",
     "output_type": "stream",
     "text": [
      "[1, 2, 3, 4, 5, 6, 7]\n"
     ]
    }
   ],
   "source": [
    "my_list = [[1], [2, 3], [4, 5, 6, 7]]\n",
    "\n",
    "flat_list = []\n",
    "for sublist in my_list:\n",
    "    for num in sublist:\n",
    "        flat_list.append(num)\n",
    "\n",
    "print(flat_list)"
   ]
  },
  {
   "cell_type": "code",
   "execution_count": 8,
   "id": "214b5798",
   "metadata": {},
   "outputs": [
    {
     "name": "stdout",
     "output_type": "stream",
     "text": [
      "[1, 2, 3, 4, 5, 6, 7]\n"
     ]
    }
   ],
   "source": [
    "import itertools\n",
    "\n",
    "my_list = [[1], [2, 3], [4, 5, 6, 7]]\n",
    "\n",
    "flat_list = list(itertools.chain(*my_list))\n",
    "print(flat_list)"
   ]
  },
  {
   "cell_type": "code",
   "execution_count": 9,
   "id": "d3fbc7d8",
   "metadata": {},
   "outputs": [
    {
     "name": "stdout",
     "output_type": "stream",
     "text": [
      "[1, 2, 3, 4, 5, 6, 7]\n"
     ]
    }
   ],
   "source": [
    "my_list = [[1], [2, 3], [4, 5, 6, 7]]\n",
    "\n",
    "flat_list = sum(my_list, [])\n",
    "print(flat_list)"
   ]
  },
  {
   "cell_type": "code",
   "execution_count": null,
   "id": "f34cef3f",
   "metadata": {},
   "outputs": [],
   "source": []
  }
 ],
 "metadata": {
  "kernelspec": {
   "display_name": "Python 3 (ipykernel)",
   "language": "python",
   "name": "python3"
  },
  "language_info": {
   "codemirror_mode": {
    "name": "ipython",
    "version": 3
   },
   "file_extension": ".py",
   "mimetype": "text/x-python",
   "name": "python",
   "nbconvert_exporter": "python",
   "pygments_lexer": "ipython3",
   "version": "3.9.12"
  }
 },
 "nbformat": 4,
 "nbformat_minor": 5
}
