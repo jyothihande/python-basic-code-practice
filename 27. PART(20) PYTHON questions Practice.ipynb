{
 "cells": [
  {
   "cell_type": "markdown",
   "id": "3afe1f52",
   "metadata": {},
   "source": [
    "# Q1.Python Program to Calculate Circumference of Circle."
   ]
  },
  {
   "cell_type": "code",
   "execution_count": null,
   "id": "685e310a",
   "metadata": {},
   "outputs": [],
   "source": [
    "circumference of a circle = 2πr"
   ]
  },
  {
   "cell_type": "code",
   "execution_count": 1,
   "id": "54320089",
   "metadata": {},
   "outputs": [
    {
     "name": "stdout",
     "output_type": "stream",
     "text": [
      "enter radius of a circle: 4\n",
      "circumference of a circle = 25.12\n"
     ]
    }
   ],
   "source": [
    "radius=int(input(\"enter radius of a circle: \"))\n",
    "pie=3.14\n",
    "print(\"circumference of a circle =\",2*pie*radius)"
   ]
  },
  {
   "cell_type": "code",
   "execution_count": 2,
   "id": "2eb51c0e",
   "metadata": {},
   "outputs": [],
   "source": [
    "def findCircum(radius):\n",
    "    return 2 * 3.14 * radius"
   ]
  },
  {
   "cell_type": "code",
   "execution_count": 3,
   "id": "9b299749",
   "metadata": {},
   "outputs": [
    {
     "data": {
      "text/plain": [
       "25.12"
      ]
     },
     "execution_count": 3,
     "metadata": {},
     "output_type": "execute_result"
    }
   ],
   "source": [
    "findCircum(4)"
   ]
  },
  {
   "cell_type": "code",
   "execution_count": 4,
   "id": "eb3ff7cc",
   "metadata": {},
   "outputs": [
    {
     "data": {
      "text/plain": [
       "31.400000000000002"
      ]
     },
     "execution_count": 4,
     "metadata": {},
     "output_type": "execute_result"
    }
   ],
   "source": [
    "findCircum(5)"
   ]
  },
  {
   "cell_type": "markdown",
   "id": "c670635f",
   "metadata": {},
   "source": [
    "# Q2.Python Program to Find Perimeter of Triangle."
   ]
  },
  {
   "cell_type": "code",
   "execution_count": 5,
   "id": "8edfee80",
   "metadata": {},
   "outputs": [
    {
     "name": "stdout",
     "output_type": "stream",
     "text": [
      "Enter the Length of First Side: 5\n",
      "Enter the Length of Second Side: 7\n",
      "Enter the Length of Third Side: 1\n",
      "Perimeter =  13\n"
     ]
    }
   ],
   "source": [
    "a = int(input(\"Enter the Length of First Side: \"))\n",
    "b = int(input(\"Enter the Length of Second Side: \"))\n",
    "c = int(input(\"Enter the Length of Third Side: \"))\n",
    "\n",
    "p = a+b+c\n",
    "print(\"Perimeter = \", p)"
   ]
  },
  {
   "cell_type": "markdown",
   "id": "b8cbd6d4",
   "metadata": {},
   "source": [
    "# Q3.Python Program to Display Powers of 2."
   ]
  },
  {
   "cell_type": "code",
   "execution_count": 6,
   "id": "f1cc63a4",
   "metadata": {},
   "outputs": [
    {
     "name": "stdout",
     "output_type": "stream",
     "text": [
      "Enter the Total Number of Terms: 5\n",
      "2 raised to the power  0  is  1\n",
      "2 raised to the power  1  is  2\n",
      "2 raised to the power  2  is  4\n",
      "2 raised to the power  3  is  8\n",
      "2 raised to the power  4  is  16\n"
     ]
    }
   ],
   "source": [
    "total = int(input(\"Enter the Total Number of Terms: \"))\n",
    "\n",
    "for i in range(total):\n",
    "    print(\"2 raised to the power \", i, \" is \", 2 ** i)"
   ]
  },
  {
   "cell_type": "code",
   "execution_count": null,
   "id": "cd02519c",
   "metadata": {},
   "outputs": [],
   "source": []
  }
 ],
 "metadata": {
  "kernelspec": {
   "display_name": "Python 3 (ipykernel)",
   "language": "python",
   "name": "python3"
  },
  "language_info": {
   "codemirror_mode": {
    "name": "ipython",
    "version": 3
   },
   "file_extension": ".py",
   "mimetype": "text/x-python",
   "name": "python",
   "nbconvert_exporter": "python",
   "pygments_lexer": "ipython3",
   "version": "3.9.12"
  }
 },
 "nbformat": 4,
 "nbformat_minor": 5
}
