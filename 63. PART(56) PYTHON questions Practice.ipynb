{
 "cells": [
  {
   "cell_type": "markdown",
   "id": "a6c1dab5",
   "metadata": {},
   "source": [
    "# Q1.Python program to count Even and Odd numbers in a List."
   ]
  },
  {
   "cell_type": "code",
   "execution_count": 1,
   "id": "decd53a3",
   "metadata": {},
   "outputs": [
    {
     "name": "stdout",
     "output_type": "stream",
     "text": [
      "Even numbers in the list:  3\n",
      "Odd numbers in the list:  4\n"
     ]
    }
   ],
   "source": [
    "# Python program to count Even\n",
    "# and Odd numbers in a List\n",
    "\n",
    "# list of numbers\n",
    "list1 = [10, 21, 4, 45, 66, 93, 1]\n",
    "\n",
    "even_count, odd_count = 0, 0\n",
    "\n",
    "# iterating each number in list\n",
    "for num in list1:\n",
    "    if num % 2 == 0:\n",
    "        even_count += 1\n",
    "    else:\n",
    "        odd_count += 1\n",
    "\n",
    "print(\"Even numbers in the list: \", even_count)\n",
    "print(\"Odd numbers in the list: \", odd_count)\n"
   ]
  },
  {
   "cell_type": "code",
   "execution_count": 2,
   "id": "44d6b626",
   "metadata": {},
   "outputs": [
    {
     "name": "stdout",
     "output_type": "stream",
     "text": [
      "Even numbers in the list:  3\n",
      "Odd numbers in the list:  4\n"
     ]
    }
   ],
   "source": [
    "# list of numbers\n",
    "list1 = [10, 21, 4, 45, 66, 93, 11]\n",
    "\n",
    "odd_count = len(list(filter(lambda x: (x%2 != 0) , list1)))\n",
    "\n",
    "# we can also do len(list1) - odd_count\n",
    "even_count = len(list(filter(lambda x: (x%2 == 0) , list1)))\n",
    "\n",
    "print(\"Even numbers in the list: \", even_count)\n",
    "print(\"Odd numbers in the list: \", odd_count)\n"
   ]
  },
  {
   "cell_type": "markdown",
   "id": "0c8c6801",
   "metadata": {},
   "source": [
    "# Q2.Python Program to print duplicates from a list of integers."
   ]
  },
  {
   "cell_type": "code",
   "execution_count": 3,
   "id": "3b7e74e6",
   "metadata": {},
   "outputs": [
    {
     "name": "stdout",
     "output_type": "stream",
     "text": [
      "[1, 2, 5, 9]\n"
     ]
    }
   ],
   "source": [
    "lis = [1, 2, 1, 2, 3, 4, 5, 1, 1, 2, 5, 6, 7, 8, 9, 9]\n",
    "x = []\n",
    "y = []\n",
    "for i in lis:\n",
    "    if i not in x:\n",
    "        x.append(i)\n",
    "for i in x:\n",
    "    if lis.count(i) > 1:\n",
    "        y.append(i)\n",
    "print(y)\n"
   ]
  },
  {
   "cell_type": "markdown",
   "id": "8a5f0192",
   "metadata": {},
   "source": [
    "# Q3.Python Program to Find the Prime Factors of a Number."
   ]
  },
  {
   "cell_type": "code",
   "execution_count": 4,
   "id": "9a964c5a",
   "metadata": {},
   "outputs": [
    {
     "name": "stdout",
     "output_type": "stream",
     "text": [
      "Enter an integer:12\n",
      "Factors are:\n",
      "2\n",
      "3\n"
     ]
    }
   ],
   "source": [
    "n=int(input(\"Enter an integer:\"))\n",
    "print(\"Factors are:\")\n",
    "i=1\n",
    "while(i<=n):\n",
    "    k=0\n",
    "    if(n%i==0):\n",
    "        j=1\n",
    "        while(j<=i):\n",
    "            if(i%j==0):\n",
    "                k=k+1\n",
    "            j=j+1\n",
    "        if(k==2):\n",
    "            print(i)\n",
    "    i=i+1"
   ]
  },
  {
   "cell_type": "markdown",
   "id": "898c67a0",
   "metadata": {},
   "source": [
    "# Q4.Sum of Digits Program in Python."
   ]
  },
  {
   "cell_type": "code",
   "execution_count": 5,
   "id": "99249e5f",
   "metadata": {},
   "outputs": [
    {
     "name": "stdout",
     "output_type": "stream",
     "text": [
      "Enter a number:1234\n",
      "The total sum of digits is: 10\n"
     ]
    }
   ],
   "source": [
    "n=int(input(\"Enter a number:\"))\n",
    "tot=0\n",
    "while(n>0):\n",
    "    dig=n%10\n",
    "    tot=tot+dig\n",
    "    n=n//10\n",
    "print(\"The total sum of digits is:\",tot)"
   ]
  },
  {
   "cell_type": "code",
   "execution_count": 7,
   "id": "4c61b323",
   "metadata": {},
   "outputs": [
    {
     "name": "stdout",
     "output_type": "stream",
     "text": [
      "15\n"
     ]
    }
   ],
   "source": [
    "\n",
    "# Function to get sum of digits\n",
    "def getSum(n):\n",
    "    sum = 0\n",
    "    for digit in str(n):\n",
    "        sum += int(digit)\n",
    "    return sum\n",
    "\n",
    "n = 12345\n",
    "print(getSum(n))\n"
   ]
  },
  {
   "cell_type": "code",
   "execution_count": null,
   "id": "99f46b7f",
   "metadata": {},
   "outputs": [],
   "source": []
  }
 ],
 "metadata": {
  "kernelspec": {
   "display_name": "Python 3 (ipykernel)",
   "language": "python",
   "name": "python3"
  },
  "language_info": {
   "codemirror_mode": {
    "name": "ipython",
    "version": 3
   },
   "file_extension": ".py",
   "mimetype": "text/x-python",
   "name": "python",
   "nbconvert_exporter": "python",
   "pygments_lexer": "ipython3",
   "version": "3.9.12"
  }
 },
 "nbformat": 4,
 "nbformat_minor": 5
}
