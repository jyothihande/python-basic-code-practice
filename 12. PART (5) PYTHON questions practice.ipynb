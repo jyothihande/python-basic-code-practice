{
 "cells": [
  {
   "cell_type": "code",
   "execution_count": null,
   "id": "ad5dd338",
   "metadata": {},
   "outputs": [],
   "source": [
    "# 23.    print string with particular pattern\n",
    "    \n",
    "Twinkle, twinkle, little star,\n",
    "\tHow I wonder what you are! \n",
    "\t\tUp above the world so high,   \t\t\n",
    "\t\tLike a diamond in the sky. \n",
    "Twinkle, twinkle, little star, \n",
    "\tHow I wonder what you are!\n",
    " "
   ]
  },
  {
   "cell_type": "code",
   "execution_count": 3,
   "id": "a61f06cd",
   "metadata": {},
   "outputs": [
    {
     "name": "stdout",
     "output_type": "stream",
     "text": [
      "Twinkle, twinkle, little star,\n",
      "\t How I wonder what you are! \n",
      "\t\t Up above the world so high, \n",
      "\t\t Like a diamond in the sky.\n",
      " Twinkle, twinkle, little star, \n",
      "\t How I wonder what you are!\n"
     ]
    }
   ],
   "source": [
    "print(\"Twinkle, twinkle, little star,\\n\\t How I wonder what you are! \\n\\t\\t Up above the world so high, \\n\\t\\t Like a diamond in the sky.\\n Twinkle, twinkle, little star, \\n\\t How I wonder what you are!\")"
   ]
  },
  {
   "cell_type": "markdown",
   "id": "b174111c",
   "metadata": {},
   "source": [
    "# 24. Write a Python program to find out what version of Python you are using."
   ]
  },
  {
   "cell_type": "code",
   "execution_count": 4,
   "id": "f4df4d72",
   "metadata": {},
   "outputs": [
    {
     "name": "stdout",
     "output_type": "stream",
     "text": [
      "Python version\n",
      "3.9.12 (main, Apr  4 2022, 05:22:27) [MSC v.1916 64 bit (AMD64)]\n",
      "Version info.\n",
      "sys.version_info(major=3, minor=9, micro=12, releaselevel='final', serial=0)\n"
     ]
    }
   ],
   "source": [
    "import sys  # import lib from python\n",
    "print(\"Python version\")\n",
    "print (sys.version)\n",
    "print(\"Version info.\")\n",
    "print (sys.version_info)"
   ]
  },
  {
   "cell_type": "code",
   "execution_count": 5,
   "id": "2b525222",
   "metadata": {},
   "outputs": [
    {
     "data": {
      "text/plain": [
       "'3.9.12 (main, Apr  4 2022, 05:22:27) [MSC v.1916 64 bit (AMD64)]'"
      ]
     },
     "execution_count": 5,
     "metadata": {},
     "output_type": "execute_result"
    }
   ],
   "source": [
    "sys.version"
   ]
  },
  {
   "cell_type": "markdown",
   "id": "cd5fb620",
   "metadata": {},
   "source": [
    "# 25.Write a Python program that calculates the area of a circle based on the radius entered by the user."
   ]
  },
  {
   "cell_type": "code",
   "execution_count": 6,
   "id": "6ab63340",
   "metadata": {},
   "outputs": [
    {
     "name": "stdout",
     "output_type": "stream",
     "text": [
      "enter  value of a : 5\n",
      "area_of_circle = 78.5\n"
     ]
    }
   ],
   "source": [
    "radius = int(input(\"enter  value of a : \"))\n",
    "piee = 3.14\n",
    "print(\"area_of_circle =\" ,piee*(radius*radius))"
   ]
  },
  {
   "cell_type": "code",
   "execution_count": 7,
   "id": "61194fc9",
   "metadata": {},
   "outputs": [
    {
     "name": "stdout",
     "output_type": "stream",
     "text": [
      "enter  value of a : 1.1\n",
      "area_of_circle = 3.7994000000000008\n"
     ]
    }
   ],
   "source": [
    "radius = float(input(\"enter  value of a : \"))\n",
    "piee = 3.14\n",
    "print(\"area_of_circle =\" ,piee*(radius*radius))"
   ]
  },
  {
   "cell_type": "code",
   "execution_count": 8,
   "id": "d588c0b9",
   "metadata": {},
   "outputs": [
    {
     "name": "stdout",
     "output_type": "stream",
     "text": [
      "enter  value of a : 6.3\n",
      "area_of_circle = 124.6266\n"
     ]
    }
   ],
   "source": [
    "radius = float(input(\"enter  value of a : \"))\n",
    "piee = 3.14\n",
    "print(\"area_of_circle =\" ,piee*(radius**2))"
   ]
  },
  {
   "cell_type": "markdown",
   "id": "50d90bd4",
   "metadata": {},
   "source": [
    "# 26. Write a Python program that accepts the user's first and last name and prints them in reverse order with a space between them."
   ]
  },
  {
   "cell_type": "code",
   "execution_count": 9,
   "id": "f0544e05",
   "metadata": {},
   "outputs": [
    {
     "name": "stdout",
     "output_type": "stream",
     "text": [
      "first name is : KUMAR\n",
      "last name is : SONU\n",
      "UNOS RAMUK\n"
     ]
    }
   ],
   "source": [
    "first_name =input(\"first name is : \")\n",
    "last_name = input(\"last name is : \")\n",
    "print(last_name[-1::-1] +\" \"+ first_name[-1::-1])"
   ]
  },
  {
   "cell_type": "code",
   "execution_count": null,
   "id": "2f5e1f53",
   "metadata": {},
   "outputs": [],
   "source": []
  }
 ],
 "metadata": {
  "kernelspec": {
   "display_name": "Python 3 (ipykernel)",
   "language": "python",
   "name": "python3"
  },
  "language_info": {
   "codemirror_mode": {
    "name": "ipython",
    "version": 3
   },
   "file_extension": ".py",
   "mimetype": "text/x-python",
   "name": "python",
   "nbconvert_exporter": "python",
   "pygments_lexer": "ipython3",
   "version": "3.9.12"
  }
 },
 "nbformat": 4,
 "nbformat_minor": 5
}
