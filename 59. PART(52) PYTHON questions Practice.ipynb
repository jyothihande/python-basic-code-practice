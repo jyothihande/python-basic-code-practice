{
 "cells": [
  {
   "cell_type": "markdown",
   "id": "a73c5795",
   "metadata": {},
   "source": [
    "# Q1.Python code to Shift last element to first position in list."
   ]
  },
  {
   "cell_type": "code",
   "execution_count": 1,
   "id": "82929481",
   "metadata": {},
   "outputs": [
    {
     "name": "stdout",
     "output_type": "stream",
     "text": [
      "Original list:\n",
      "[1, 2, 3, 4, 5, 6, 7]\n",
      "Shift last element to first position and first element to last position of the said list:\n",
      "[7, 2, 3, 4, 5, 6, 1]\n"
     ]
    }
   ],
   "source": [
    "def shift_first_last(lst):\n",
    "    x = lst.pop(0)\n",
    "    y = lst.pop()\n",
    "    lst.insert(0, y)\n",
    "    lst.insert(len(lst), x)\n",
    "    return lst\n",
    "\n",
    "nums = [1,2,3,4,5,6,7]\n",
    "print(\"Original list:\")\n",
    "print(nums)\n",
    "print(\"Shift last element to first position and first element to last position of the said list:\")\n",
    "print(shift_first_last(nums))\n"
   ]
  },
  {
   "cell_type": "code",
   "execution_count": 2,
   "id": "b375514d",
   "metadata": {},
   "outputs": [
    {
     "name": "stdout",
     "output_type": "stream",
     "text": [
      "\n",
      "Original list:\n",
      "['s', 'd', 'f', 'd', 's', 's', 'd', 'f']\n",
      "Shift last element to first position and first element to last position of the said list:\n",
      "['f', 'd', 'f', 'd', 's', 's', 'd', 's']\n"
     ]
    }
   ],
   "source": [
    "chars = ['s','d','f','d','s','s','d','f']\n",
    "print(\"\\nOriginal list:\")\n",
    "print(chars)\n",
    "print(\"Shift last element to first position and first element to last position of the said list:\")\n",
    "print(shift_first_last(chars))"
   ]
  },
  {
   "cell_type": "code",
   "execution_count": 3,
   "id": "d14f81c9",
   "metadata": {},
   "outputs": [
    {
     "name": "stdout",
     "output_type": "stream",
     "text": [
      "The original list is : [1, 4, 5, 6, 7, 8, 9, 12]\n",
      "The list after shift is : [12, 1, 4, 5, 6, 7, 8, 9]\n"
     ]
    }
   ],
   "source": [
    "# Python3 code to demonstrate\n",
    "# shift last element to first\n",
    "# using list slicing and \"+\" operator\n",
    "\n",
    "# initializing list\n",
    "test_list = [1, 4, 5, 6, 7, 8, 9, 12]\n",
    "\n",
    "# printing the original list\n",
    "print (\"The original list is : \" + str(test_list))\n",
    "\n",
    "# using list slicing and \"+\" operator\n",
    "# shift last element to first\n",
    "test_list = test_list[-1:] + test_list[:-1]\n",
    "\n",
    "print (\"The list after shift is : \" + str(test_list))\n"
   ]
  },
  {
   "cell_type": "markdown",
   "id": "9d23e3cd",
   "metadata": {},
   "source": [
    "# Q2.Write a Python program to find the specified number of largest products from two given lists, multiplying an element from each list."
   ]
  },
  {
   "cell_type": "code",
   "execution_count": 10,
   "id": "90b79d2b",
   "metadata": {},
   "outputs": [
    {
     "name": "stdout",
     "output_type": "stream",
     "text": [
      "Original lists:\n",
      "[1, 2, 3, 4, 5, 6]\n",
      "[3, 6, 8, 9, 10, 6] \n",
      "\n",
      "3 Number of largest products from the said two lists:\n",
      "[60, 54, 50]\n",
      "4 Number of largest products from the said two lists:\n",
      "[60, 54, 50, 48]\n"
     ]
    }
   ],
   "source": [
    "def top_product(nums1, nums2, N):\n",
    "    result = sorted([x*y for x in nums1 for y in nums2], reverse=True)[:N]\n",
    "    return result\n",
    "nums1 = [1, 2, 3, 4, 5, 6]\n",
    "nums2 = [3, 6, 8, 9, 10, 6]\n",
    "print(\"Original lists:\")\n",
    "print(nums1)\n",
    "print(nums2,\"\\n\")\n",
    "N = 3\n",
    "print(N,\"Number of largest products from the said two lists:\")\n",
    "print(top_product(nums1, nums2, N))\n",
    "N = 4\n",
    "print(N,\"Number of largest products from the said two lists:\")\n",
    "print(top_product(nums1, nums2, N))"
   ]
  },
  {
   "cell_type": "markdown",
   "id": "809cf2bc",
   "metadata": {},
   "source": [
    "# Q3.multiply all numbers in list."
   ]
  },
  {
   "cell_type": "code",
   "execution_count": 5,
   "id": "f7dcfd20",
   "metadata": {},
   "outputs": [
    {
     "name": "stdout",
     "output_type": "stream",
     "text": [
      "[1, 2, 4, 3]\n",
      "product: \n",
      "24\n"
     ]
    }
   ],
   "source": [
    "#multiply all numbers in list\n",
    "\n",
    "#function\n",
    "def mul_list(list) :\n",
    "     \n",
    "    # Multiply elements one by one\n",
    "    product = 1\n",
    "    for i in list:\n",
    "         product = product * i\n",
    "    return product\n",
    "     \n",
    "\n",
    "list1 = [1, 2, 4, 3]\n",
    "print(list1)\n",
    "print(\"product: \") \n",
    "print(mul_list(list1))"
   ]
  },
  {
   "cell_type": "code",
   "execution_count": 7,
   "id": "968069e1",
   "metadata": {},
   "outputs": [
    {
     "name": "stdout",
     "output_type": "stream",
     "text": [
      "[3, 2, 5, 10]\n",
      "product: \n",
      "300\n"
     ]
    }
   ],
   "source": [
    "#multiply all numbers in list\n",
    "#import math module\n",
    "import math\n",
    "def mul_list(list):\n",
    "     return math.prod(list)\n",
    "     \n",
    "\n",
    "list1 = [3, 2, 5,10]\n",
    "print(list1)\n",
    "print(\"product: \") \n",
    "print(mul_list(list1))"
   ]
  },
  {
   "cell_type": "code",
   "execution_count": 9,
   "id": "f327c418",
   "metadata": {},
   "outputs": [
    {
     "name": "stdout",
     "output_type": "stream",
     "text": [
      "[3, 2, 5, 10]\n",
      "product: \n",
      "300\n"
     ]
    }
   ],
   "source": [
    "#multiply all numbers in list\n",
    "#import numpy module\n",
    "import numpy\n",
    "def mul_list(list):\n",
    "     return numpy.prod(list)\n",
    "     \n",
    "\n",
    "list1 = [3, 2, 5,10]\n",
    "print(list1)\n",
    "print(\"product: \") \n",
    "print(mul_list(list1))"
   ]
  },
  {
   "cell_type": "markdown",
   "id": "fc7edba4",
   "metadata": {},
   "source": [
    "# Q4.Write a Python program to find the maximum and minimum values of the three given lists."
   ]
  },
  {
   "cell_type": "code",
   "execution_count": 11,
   "id": "1beffac7",
   "metadata": {},
   "outputs": [
    {
     "name": "stdout",
     "output_type": "stream",
     "text": [
      "Original lists:\n",
      "[2, 3, 5, 8, 7, 2, 3]\n",
      "[4, 3, 9, 0, 4, 3, 9]\n",
      "[2, 1, 5, 6, 5, 5, 4]\n",
      "Maximum value of the said three lists:\n",
      "9\n",
      "Minimum value of the said three lists:\n",
      "0\n"
     ]
    }
   ],
   "source": [
    "nums1 = [2,3,5,8,7,2,3]\n",
    "nums2 = [4,3,9,0,4,3,9]\n",
    "nums3 = [2,1,5,6,5,5,4]\n",
    "print(\"Original lists:\")\n",
    "print(nums1)\n",
    "print(nums2)\n",
    "print(nums3)\n",
    "print(\"Maximum value of the said three lists:\")\n",
    "print(max(nums1+nums2+nums3))\n",
    "print(\"Minimum value of the said three lists:\")\n",
    "print(min(nums1+nums2+nums3)) "
   ]
  },
  {
   "cell_type": "code",
   "execution_count": null,
   "id": "b1bf548d",
   "metadata": {},
   "outputs": [],
   "source": []
  }
 ],
 "metadata": {
  "kernelspec": {
   "display_name": "Python 3 (ipykernel)",
   "language": "python",
   "name": "python3"
  },
  "language_info": {
   "codemirror_mode": {
    "name": "ipython",
    "version": 3
   },
   "file_extension": ".py",
   "mimetype": "text/x-python",
   "name": "python",
   "nbconvert_exporter": "python",
   "pygments_lexer": "ipython3",
   "version": "3.9.12"
  }
 },
 "nbformat": 4,
 "nbformat_minor": 5
}
